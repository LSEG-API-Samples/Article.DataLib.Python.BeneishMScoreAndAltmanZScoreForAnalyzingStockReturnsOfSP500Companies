{
 "cells": [
  {
   "cell_type": "markdown",
   "metadata": {},
   "source": [
    "# Beneish's M-Score and Altman's Z-Score for analyzing stock returns of the companies listed in the S&amp;P500\n",
    "\n",
    "## Abstract\n",
    "\n",
    "This paper aims to study the stock returns of companies that are likely to have manipulated their earnings and that are in a difficult financial situation (higher probability of bankruptcy). To that aim, the Beneish m-score and the Altman Z-Score models are employed for the companies listed in the S&P500 using the data obtained from the LSEG [Data Library for Python](https://developers.lseg.com/en/api-catalog/lseg-data-platform/lseg-data-library-for-python) (Data Library version 2, aka LSEG Data Library) from 2010 to 2025.\n",
    "\n",
    "Using the original cut-offs defined by the creators of the respective ratios, the results show that those companies that are mor likely to have manipulated their earning obtain an average of 207 basis points (BPS) less every year, while those that have a higher chance of bankruptcy obtain an average of 132 less BPS each year. However, when combining the two models the results obtained are an average of 862 BPS each.\n",
    "\n",
    "In addition, by using the quintiles across each sector every year, the results obtained show that those companies in the fifth quintile of their sector’s m-score and in the first quintile of their sector’s z-score produce an average of 308 BPS less each year. Thus the z-score and the m-score can be useful for selecting better performing stocks.\n"
   ]
  },
  {
   "cell_type": "markdown",
   "metadata": {},
   "source": [
    "<h2> 1. Introduction </h2>"
   ]
  },
  {
   "cell_type": "markdown",
   "metadata": {},
   "source": [
    "&nbsp;&nbsp;&nbsp;&nbsp;&nbsp;&nbsp;During the last few years there has been an increase in the questioning of the usefulness of financial statements for investors. The publication of the book <em>The End of Accounting (2016) </em> supported the existence of a downtrend in the usefulness of financial statements. Although other authors have supported the need of improvement in terms of reporting standards (Papa, 2018), they still defend a less extreme position or even support the growing utility of reporting ESG factors as a possible solution (Dreyer CFA, 2020).The flexibility of accounting standards is a double edge sword that gives managers a better position for manipulating earnings through different accounting choices. \n",
    "<br>\n",
    "<br>\n",
    "&nbsp;&nbsp;&nbsp;&nbsp;&nbsp;&nbsp;In this paper, the usefullness of financial analysis is analyzed by screening the stocks using the z-score and the m-score and studying the stock prices. Those companies with low probability of having manipulated earnings and low probability of bankruptcy are considered for a long position whereas those with high probabilities are considered for a short position.\n"
   ]
  },
  {
   "cell_type": "markdown",
   "metadata": {},
   "source": [
    "<h2> 2. Literature Review </h2>"
   ]
  },
  {
   "cell_type": "markdown",
   "metadata": {},
   "source": [
    "<h3> Beneish M-Score </h3>"
   ]
  },
  {
   "cell_type": "markdown",
   "metadata": {},
   "source": [
    "&nbsp;&nbsp;&nbsp;&nbsp;&nbsp;&nbsp;The Beneish m-score model (Beneish et al., 1999) is a quantitative model of eight variables obtained from financial statements that estimates the probability of earnings management for a given financial statement. The eight variables and the m-score are defined as follows:"
   ]
  },
  {
   "cell_type": "markdown",
   "metadata": {},
   "source": [
    "\n",
    "$ \\large{\\text{Days Sales in Receivables Index (DSRI) }} = \\huge{\\frac{\\frac{Receivables_t}{Sales_t}}{\\frac{Receivables_{t-1}}{Sales_{t-1}}}} $"
   ]
  },
  {
   "cell_type": "markdown",
   "metadata": {},
   "source": [
    "<br>\n",
    "<strong>To calculate the DSRI we define the following function</strong>"
   ]
  },
  {
   "cell_type": "code",
   "execution_count": 1,
   "metadata": {},
   "outputs": [],
   "source": [
    "def DSRI(df):\n",
    "    return (df[\"receivables\"] / df[\"sales\"]) / (df[\"receivables_t2\"] / df[\"sales_t2\"])"
   ]
  },
  {
   "cell_type": "markdown",
   "metadata": {},
   "source": [
    "\n",
    "$ \\large{\\text{Gross Margin Index (GMI) }}= \\LARGE{\\frac{\\text{Gross margin}_{t-1}}{\\text{Gross margin}_t}} $\n"
   ]
  },
  {
   "cell_type": "markdown",
   "metadata": {},
   "source": [
    "<br>\n",
    "<strong>To calculate the GMI we define the following function</strong>"
   ]
  },
  {
   "cell_type": "code",
   "execution_count": 2,
   "metadata": {},
   "outputs": [],
   "source": [
    "def GMI(df):\n",
    "    return (df[\"sales_t2\"] - df[\"cogs_t2\"]) / (df[\"sales\"] - df[\"cogs\"])"
   ]
  },
  {
   "cell_type": "markdown",
   "metadata": {},
   "source": [
    "\n",
    "$\\large{\\text{Asset Quality Index (AQI) }} = \\huge{\\frac{1 - \\frac{\\text{Property plant and equipment}_t + \\text{ Current assets}_t}{\\text{Total assets}_t}}{1-\\frac{\\text{Property plant and equipment}_{t-1} + \\text{ Current assets}_{t-1}}{\\text{Total assets}_{t-1}}}} $"
   ]
  },
  {
   "cell_type": "markdown",
   "metadata": {},
   "source": [
    "<br>\n",
    "<strong>To calculate the AQI we define the following function</strong>"
   ]
  },
  {
   "cell_type": "code",
   "execution_count": 3,
   "metadata": {},
   "outputs": [],
   "source": [
    "def AQI(df):\n",
    "    AQI_t1 = (1 - (df[\"ppe\"] + df[\"current_assets\"]) / df[\"total_assets\"])\n",
    "    AQI_t2 = (1 - (df[\"ppe_t2\"] + df[\"current_assets_t2\"]) / df[\"total_assets_t2\"])\n",
    "    return AQI_t1 / AQI_t2"
   ]
  },
  {
   "cell_type": "markdown",
   "metadata": {},
   "source": [
    "\n",
    "$\\large{\\text{Sales Growth Index (SGI) }} = \\LARGE{\\frac{Sales_t}{Sales_{t-1}}} $"
   ]
  },
  {
   "cell_type": "markdown",
   "metadata": {},
   "source": [
    "<br>\n",
    "<strong>To calculate the SGI we define the following function</strong>"
   ]
  },
  {
   "cell_type": "code",
   "execution_count": 4,
   "metadata": {},
   "outputs": [],
   "source": [
    "def SGI(df):\n",
    "    return (df[\"sales\"] / df[\"sales_t2\"])"
   ]
  },
  {
   "cell_type": "markdown",
   "metadata": {},
   "source": [
    "\n",
    "$\\large{\\text{Depreciation Index (DEPI) }} =  \\huge{\\frac{\\frac{Depreciation_{t-1} + \\text{ Property plant and equipment}_{t-1}}{Depreciation_{t-1}}}{\\frac{Depreciation_t + \\text{ Property plant and equipment}_t}{Depreciation_t}}} $"
   ]
  },
  {
   "cell_type": "markdown",
   "metadata": {},
   "source": [
    "<br>\n",
    "<strong>To calculate the DEPI we define the following function</strong>"
   ]
  },
  {
   "cell_type": "code",
   "execution_count": 5,
   "metadata": {},
   "outputs": [],
   "source": [
    "def DEPI(df):\n",
    "    DEPI_t1 = (df[\"depreciation\"] / (df[\"depreciation\"] + df[\"ppe\"]))\n",
    "    DEPI_t2 = (df[\"depreciation_t2\"] / (df[\"depreciation_t2\"] + df[\"ppe_t2\"]))\n",
    "    return DEPI_t1 / DEPI_t2"
   ]
  },
  {
   "cell_type": "markdown",
   "metadata": {},
   "source": [
    "\n",
    "$\\large{\\text{Sales General and Administrative Expenses Index (SGAI) }}= \\huge{\\frac{\\frac{\\text{Sales, general, and administrative expenses}_t}{Sales_t}}{\\frac{\\text{Sales, general, and administrative expenses}_{t-1}}{Sales_{t-1}}}} $"
   ]
  },
  {
   "cell_type": "markdown",
   "metadata": {},
   "source": [
    "<br>\n",
    "<strong>To calculate the SGAI we define the following function</strong>"
   ]
  },
  {
   "cell_type": "code",
   "execution_count": 6,
   "metadata": {},
   "outputs": [],
   "source": [
    "def SGAI(df):\n",
    "    return (df[\"sga\"] / df[\"sales\"]) / (df[\"sga_t2\"] / df[\"sales_t2\"])"
   ]
  },
  {
   "cell_type": "markdown",
   "metadata": {},
   "source": [
    "\n",
    "$\\large{\\text{Leverage Index (LVGI) }} = \\LARGE{\\frac{Leverage_t}{Leverage_{t-1}}} $"
   ]
  },
  {
   "cell_type": "markdown",
   "metadata": {},
   "source": [
    "<br>\n",
    "<strong>To calculate the LVGI we define the following function</strong>"
   ]
  },
  {
   "cell_type": "code",
   "execution_count": 7,
   "metadata": {},
   "outputs": [],
   "source": [
    "def LVGI(df):\n",
    "    return (df[\"debt\"] / df[\"total_assets\"]) / (df[\"debt_t2\"] / df[\"total_assets_t2\"])"
   ]
  },
  {
   "cell_type": "markdown",
   "metadata": {},
   "source": [
    "\n",
    "$\\large{\\text{Total Accruals to Total Assets (TATA) }} = \\LARGE{\\frac{\\text{Inc. before extr. items} - \\text{ Cash from operations}}{\\text{Total assets}}} $"
   ]
  },
  {
   "cell_type": "markdown",
   "metadata": {},
   "source": [
    "<br>\n",
    "<strong>To calculate the TATA we define the following function</strong>"
   ]
  },
  {
   "cell_type": "code",
   "execution_count": 8,
   "metadata": {},
   "outputs": [],
   "source": [
    "def TATA(df):\n",
    "    return (df[\"inc\"] - df[\"ncf\"]) / df[\"total_assets\"]"
   ]
  },
  {
   "cell_type": "markdown",
   "metadata": {},
   "source": [
    "\n",
    "$\\large{\\text{M-Score }}= \\large{–4.84 + 0.920 (DSRI) + 0.528 (GMI) + 0.404 (AQI) + 0.892 (SGI) + 0.115 (DEPI) }$\n",
    "\n",
    "&nbsp;&nbsp;&nbsp;&nbsp;&nbsp;&nbsp;&nbsp;&nbsp;&nbsp;&nbsp;&nbsp;&nbsp;&nbsp;&nbsp;&nbsp;&nbsp;&nbsp;&nbsp;&nbsp;&nbsp;&nbsp;&nbsp;&nbsp;&nbsp;&nbsp;&nbsp;&nbsp;&nbsp;&nbsp;&nbsp;\n",
    "$\\large{-0.172 (SGAI) + 4.679 (TATA) – 0.327 (LVGI)}$\n",
    "\n",
    "**The companies whose m-score are higher than -1.78 are considered likely to have manipulated their earnings, while those under -2.22 are considered that have fairer reports.**"
   ]
  },
  {
   "cell_type": "markdown",
   "metadata": {},
   "source": [
    "**To calculate the M-Score we define the following function**"
   ]
  },
  {
   "cell_type": "code",
   "execution_count": 9,
   "metadata": {},
   "outputs": [],
   "source": [
    "def get_m_score(df):\n",
    "    df[\"m-score\"] = -4.84 + 0.92 * DSRI(df) + \\\n",
    "                    0.528 * GMI(df) + \\\n",
    "                    0.404 * AQI(df) + \\\n",
    "                    0.892 * SGI(df) + \\\n",
    "                    0.115 * DEPI(df) + \\\n",
    "                   -0.172 * SGAI(df) + \\\n",
    "                    4.679 * TATA(df) + \\\n",
    "                   -0.327 * LVGI(df)"
   ]
  },
  {
   "cell_type": "markdown",
   "metadata": {},
   "source": [
    "<br>\n",
    "&nbsp;&nbsp;&nbsp;&nbsp;&nbsp;&nbsp;There is sounding literature studying the Beneish m-score model for analyzing manipulations of earnings of companies. This model proved effective for Polish listed companies, excluding the financial sector, since 2010 (Hołda, 2020), for companies in Turkey from 2005 to 2017 (Özcan, 2018), for companies sanctioned and fined by the Financial Services Authority between 2012 and 2016 (Alfian and Triani, n.d.) and for Malaysian companies from 1996 to 2014 (Kamal, Salleh and Ahmad, 2016). \n",
    "<br>\n",
    "<br>\n",
    "&nbsp;&nbsp;&nbsp;&nbsp;&nbsp;&nbsp;Furthermore, years after its publication, the Beneish m-model still classifies multiple stocks listed on different markets as likely to have manipulated earnings. Manufacturing and trading companies listed on the Ghana Stock Exchange from 2008 to 2017 were very likely to engage in earnings management (Anning and Adusei, 2020). In addition, the z-score showed good results in predicting the manipulation of financial statements. Furthermore, for companies listed on the Ghana Stock Exchange from 2011 to 2016 it was found that big companies as well as small companies engaged in earnings management (Adu-Gyamfi, 2020). 55 % of the companies listed on the Bucharest Stock Exchange from 1998 to 2017 were likely to have managed their earnings based on the m-score, and reviewing the m-score for companies across other countries it is concluded that 67% of the companies reviewed have manipulated at least half of their financial statements (Mihalcea, 2020). In addition, that paper showed that on average those companies which are likely to have manipulated their earning exhibited better results for their reported ratios.\n",
    "<br>\n",
    "<br>"
   ]
  },
  {
   "cell_type": "markdown",
   "metadata": {},
   "source": [
    "<h3> Altman Z-Score </h3>"
   ]
  },
  {
   "cell_type": "markdown",
   "metadata": {},
   "source": [
    "&nbsp;&nbsp;&nbsp;&nbsp;&nbsp;&nbsp;The Altman z-score model (Altman, 1968) is a quantitative model of five variables for predicting the probability of bankruptcy of a company. The z-score is defined as follows:"
   ]
  },
  {
   "cell_type": "markdown",
   "metadata": {},
   "source": [
    "$\\large{\\text{Z-Score }} = \\Large{1.2 (\\frac{\\text{Net working capital}}{\\text{Total assets}}) + 1.4 (\\frac{\\text{Retained earnings}}{\\text{Total assets}}) + 3.3 (\\frac{\\text{EBIT}}{\\text{Total assets}})}$\n",
    "<br>\n",
    "<br>\n",
    "&nbsp;&nbsp;&nbsp;&nbsp;&nbsp;&nbsp;&nbsp;&nbsp;&nbsp;&nbsp;&nbsp;&nbsp;&nbsp;&nbsp;&nbsp;&nbsp;&nbsp;&nbsp;&nbsp;&nbsp;&nbsp;&nbsp;&nbsp;&nbsp;&nbsp;&nbsp;&nbsp;&nbsp;&nbsp;&nbsp;\n",
    "$\\Large{+ 0.6 (\\frac{\\text{Market value of equity}}{\\text{Book value of liabilities}}) + 1.0 (\\frac{\\text{Sales}}{\\text{Total assets}})} $\n",
    "<br>\n",
    "<br>\n",
    "<br>\n",
    "<strong>&nbsp;&nbsp;&nbsp;&nbsp;&nbsp;&nbsp;Companies with a Z-score over 3 are considered having a low risk of bankruptcy while those under 1.81 have a higher risk. </strong>"
   ]
  },
  {
   "cell_type": "markdown",
   "metadata": {},
   "source": [
    "<br>\n",
    "<strong>&nbsp;&nbsp;&nbsp;&nbsp;&nbsp;&nbsp;To calculate the M-Score we define the following function</strong>"
   ]
  },
  {
   "cell_type": "code",
   "execution_count": 10,
   "metadata": {},
   "outputs": [],
   "source": [
    "def get_z_score(df):\n",
    "    df[\"z-score\"] = 1.2 * df['working_capital_to_assets'] + \\\n",
    "                    1.4 * df['retained_to_assets'] + \\\n",
    "                    3.3 * df['ebit_to_assets'] + \\\n",
    "                    0.6 * df['market_cap_to_liabilities'] + \\\n",
    "                    1.0 * df['asset_turnover']"
   ]
  },
  {
   "cell_type": "markdown",
   "metadata": {},
   "source": [
    "&nbsp;&nbsp;&nbsp;&nbsp;&nbsp;&nbsp;For companies listed in the Kuwaiti Stock Market, excluding banking and insurance companies, the combination of the m-score along with the z-score resulted in higher precision of classifying financial frauds (Akra and Chaya, 2020). For companies on selected sectors in Iran both models proved effective from 2009 to 2016 (Taherinia and Talebi, n.d.).\n",
    "<br>\n",
    "<br> \n",
    "&nbsp;&nbsp;&nbsp;&nbsp;&nbsp;&nbsp;Although still supporting the effectiveness of the z-score and the m-score, for auditor’s fraud detection gap on the Gulf Cooperation Council companies from 2015 to 2017, the Dechow F-score was superior for detecting fraud (Hakami et al., 2020)."
   ]
  },
  {
   "cell_type": "markdown",
   "metadata": {},
   "source": [
    "<h2> 3. Model definition, data and analysis </h2>"
   ]
  },
  {
   "cell_type": "markdown",
   "metadata": {},
   "source": [
    "&nbsp;&nbsp;&nbsp;&nbsp;&nbsp;&nbsp;The companies analyzed are the constituents of the S&P 500 at the start of each year since 1995 to the end of 2020. For each year, the m-score and the z-score are calculated using the latest financial statements.\n",
    "<br>\n",
    "<br>\n",
    "&nbsp;&nbsp;&nbsp;&nbsp;&nbsp;&nbsp;The companies whose m-score is higher than -1.78 and a z-score lower than 1.81 are companies likely to have manipulated their earnings and which also have a higher probability of bankruptcy. On the opposite side, companies whose m-score is lower than -2.22 and z-score is higher than 3 are considered companies with fairer earnings reports and low probability of bankruptcy."
   ]
  },
  {
   "cell_type": "markdown",
   "metadata": {},
   "source": [
    "<h3> Assumptions</h3>"
   ]
  },
  {
   "cell_type": "markdown",
   "metadata": {},
   "source": [
    "•\tThe companies with missing data for calculations are ignored. \n",
    "<br>\n",
    "<br>\n",
    "•\tThe returns of each company are those obtained during the following fiscal year, hence for some companies there is a lag depending on the date of publication of their latest financial statements and the stock price might have already reflected these financial statements. \n",
    "<br>\n",
    "<br>\n",
    "•\tFor certain companies, whose reporting dates are during the start of the year following their fiscal year end, the results include the period during which the financial statement was not available yet.\n",
    "\n",
    "To start with we need to make some imports"
   ]
  },
  {
   "cell_type": "code",
   "execution_count": 12,
   "metadata": {},
   "outputs": [],
   "source": [
    "import lseg.data as ld\n",
    "import pandas as pd \n",
    "import numpy as np\n",
    "import plotly.express as px\n",
    "import plotly.graph_objects as go\n",
    "import plotly as pyo\n",
    "import warnings\n",
    "warnings.filterwarnings('ignore')"
   ]
  },
  {
   "cell_type": "markdown",
   "metadata": {},
   "source": [
    "The next step is to open a session defined in a **lseg-data.config.json** configuration file in the same location as notebook file.\n",
    "\n",
    "You should save a json file **lseg-data.config.json** having your Workspace App Key as follows:\n",
    "\n",
    "```json\n",
    "{\n",
    "    \"logs\": {\n",
    "        \"level\": \"debug\",\n",
    "        \"transports\": {\n",
    "            \"console\": {\n",
    "                \"enabled\": false\n",
    "            },\n",
    "            \"file\": {\n",
    "                \"enabled\": false,\n",
    "                \"name\": \"lseg-data-lib.log\"\n",
    "            }\n",
    "        }\n",
    "    },\n",
    "    \"sessions\": {\n",
    "        \"default\": \"desktop.workspace\",\n",
    "        \"desktop\": {\n",
    "            \"workspace\": {\n",
    "                \"app-key\": \"YOUR APP KEY GOES HERE!\"\n",
    "            }\n",
    "        }\n",
    "    }\n",
    "}\n",
    "```\n",
    "This file should be readily available (e.g. in the current working directory) for the next steps.\n",
    "\n",
    "Please note that the LSEG Workspace desktop application integrates the API proxy that acts as an interface between the Data library and the Workspace Platform. For this reason, the  Workspace application must be running when you use the Data library with Desktop Session. "
   ]
  },
  {
   "cell_type": "code",
   "execution_count": null,
   "metadata": {},
   "outputs": [
    {
     "data": {
      "text/plain": [
       "<lseg.data.session.Definition object at 0x1efbff7f890 {name='workspace'}>"
      ]
     },
     "execution_count": 13,
     "metadata": {},
     "output_type": "execute_result"
    }
   ],
   "source": [
    "ld.open_session(config_name='./lseg-data.config.json')\n",
    "#ld.open_session(config_name='./lseg-data.devrel.config.json')"
   ]
  },
  {
   "cell_type": "markdown",
   "metadata": {},
   "source": [
    "Next, I am configuring the library to use Delivery platform's Datagrid backend to minimize workload to the Workspace platform."
   ]
  },
  {
   "cell_type": "code",
   "execution_count": 14,
   "metadata": {},
   "outputs": [],
   "source": [
    "config = ld.get_config()\n",
    "config.set_param(\"apis.data.datagrid.underlying-platform\", \"rdp\")"
   ]
  },
  {
   "cell_type": "markdown",
   "metadata": {},
   "source": [
    "We define the elements we want to analyze."
   ]
  },
  {
   "cell_type": "code",
   "execution_count": 15,
   "metadata": {},
   "outputs": [],
   "source": [
    "chain = '0#.SPX' # Constituents of the SPX"
   ]
  },
  {
   "cell_type": "markdown",
   "metadata": {},
   "source": [
    "We define the dates for our study, as we need data from financial statements reported during the previous two years our first date is 1993, and our last date is 2020 because we need the returns up to the last date."
   ]
  },
  {
   "cell_type": "code",
   "execution_count": null,
   "metadata": {},
   "outputs": [],
   "source": [
    "\n",
    "dates = pd.date_range(\"2010\", \"2025\", freq = \"YS\")"
   ]
  },
  {
   "cell_type": "markdown",
   "metadata": {},
   "source": [
    "We define the fields needed for our study."
   ]
  },
  {
   "cell_type": "code",
   "execution_count": null,
   "metadata": {},
   "outputs": [],
   "source": [
    "fields = [\n",
    "    \"TR.TotalReturn52Wk\",  # 52 Week Returns\n",
    "    \"TR.GICSSector\"        # GICS Sector\n",
    "]\n",
    "\n",
    "beneish_fields = [\n",
    "    \"TR.F.LoansRcvblTot\",            # Receivables\n",
    "    \"TR.F.TotRevBizActiv\",           # Sales\n",
    "    \"TR.F.COGSTot\",                  # Costs of goods sold\n",
    "    \"TR.F.PPEGrossTot\",              # Property plant and equipment\n",
    "    \"TR.F.TotCurrAssets\",            # Current assets\n",
    "    \"TR.F.TotAssets\",                # Total assets\n",
    "    \"TR.F.DeprTot\",                  # Depreciation\n",
    "    \"TR.F.SGATot\",                   # Sales General and Administrative Expenses \n",
    "    \"TR.F.IncBefDiscOpsExordItems\",  # Income before discontinued operations and extraordinary items\n",
    "    \"TR.F.NetCashFlowOp\",            # Net cash flow from operating activities\n",
    "    \"TR.F.DebtTot\"                   # Total debt\n",
    "]\n",
    "\n",
    "altman_fields = [\n",
    "    \"TR.F.WkgCaptoTotAssets\",        # Working capital to total assets\n",
    "    \"TR.F.RetainedEarntoTotAssets\",  # Retained earnings to total assets\n",
    "    \"TR.F.EBITToTotAssets\",          # EBIT to total assets\n",
    "    \"TR.F.MktCapToTotLiab\",          # Market value of equity to liabilities\n",
    "    \"TR.F.AssetTurnover\"             # Asset turnover\n",
    "]\n",
    "\n",
    "model_fields = beneish_fields + altman_fields"
   ]
  },
  {
   "cell_type": "markdown",
   "metadata": {},
   "source": [
    "We want to create two dictionaries to store the limit values of the first and the fifth quantile for the z-score and for the m-score."
   ]
  },
  {
   "cell_type": "code",
   "execution_count": 18,
   "metadata": {},
   "outputs": [],
   "source": [
    "score_columns = [\"z-score\", \"m-score\"]\n",
    "\n",
    "long_quantiles = {date:{column:{} for column in score_columns} for date in dates}\n",
    "short_quantiles = {date:{column:{} for column in score_columns} for date in dates}"
   ]
  },
  {
   "cell_type": "markdown",
   "metadata": {},
   "source": [
    "We want to create two dictionaries to rename the columns of the dataframe that we will create, the second dictionary called columns_t2 appends \"_t2\" at the end of each column to distinguish them from the other columns."
   ]
  },
  {
   "cell_type": "code",
   "execution_count": 52,
   "metadata": {},
   "outputs": [],
   "source": [
    "columns = {\n",
    "    \"Loans & Receivables - Total\": \"receivables\",\n",
    "    \"Revenue from Business Activities - Total\": \"sales\",\n",
    "    \"Cost of Revenues - Total\": \"cogs\",\n",
    "    \"Property Plant & Equipment - Gross - Total\": \"ppe\",\n",
    "    \"Total Current Assets\": \"current_assets\",\n",
    "    \"Total Assets\": \"total_assets\",\n",
    "    \"Depreciation - Total\": \"depreciation\",\n",
    "    \"Selling General & Administrative Expenses - Total\": \"sga\",\n",
    "    \"Income before Discontinued Operations & Extraordinary Items\": \"inc\",\n",
    "    \"Net Cash Flow from Operating Activities\": \"ncf\",\n",
    "    \"Debt - Total\": \"debt\",\n",
    "    \"Working Capital to Total Assets\": \"working_capital_to_assets\",\n",
    "    \"Retained Earnings - Total to Total Assets\": \"retained_to_assets\",\n",
    "    \"Earnings before Interest & Taxes (EBIT) to Total Assets\": \"ebit_to_assets\",\n",
    "    \"Market Capitalization to Total Liabilities\": \"market_cap_to_liabilities\",\n",
    "    \"Asset Turnover\": \"asset_turnover\"\n",
    "}\n",
    "\n",
    "columns_t2 = {x: f\"{y}_t2\" for x, y in columns.items()}"
   ]
  },
  {
   "cell_type": "markdown",
   "metadata": {},
   "source": [
    "We create an empty dataframe to store all the results in a single dataframe object."
   ]
  },
  {
   "cell_type": "code",
   "execution_count": 20,
   "metadata": {},
   "outputs": [],
   "source": [
    "full_df = pd.DataFrame()"
   ]
  },
  {
   "cell_type": "markdown",
   "metadata": {},
   "source": [
    "We are iterating over each year from 2010 to 2025, we create the parameters to get the financial statements two years ago, then one year ago and then to obtain the following year return for the companies constituents of the S&P500 at the start of that year.\n",
    "\n",
    "We create dataframes with data obtained from eikon and we store only the results and ignore the errors, after that, we drop the missing values, rename the columns and set the index to the instruments. We join the dataframes and we store only the instruments where all parameters are available. Then, we store that year as a column and compute the z-score and the m-score for the joined dataframe and drop the strange values.\n",
    "\n",
    "Finally, we store the values of the quintiles in our dictionaries for each sector and for each year. In addition, we store that year results in our previously created dataframe and we print the date to view the progress of our loop."
   ]
  },
  {
   "cell_type": "code",
   "execution_count": null,
   "metadata": {},
   "outputs": [
    {
     "name": "stdout",
     "output_type": "stream",
     "text": [
      "2012-01-01 00:00:00\n",
      "2013-01-01 00:00:00\n",
      "2014-01-01 00:00:00\n",
      "2015-01-01 00:00:00\n",
      "2016-01-01 00:00:00\n",
      "2017-01-01 00:00:00\n",
      "2018-01-01 00:00:00\n",
      "2019-01-01 00:00:00\n",
      "2020-01-01 00:00:00\n",
      "2021-01-01 00:00:00\n",
      "2022-01-01 00:00:00\n",
      "2023-01-01 00:00:00\n",
      "2024-01-01 00:00:00\n"
     ]
    }
   ],
   "source": [
    "# This step takes some minutes to complete, if the connection is lost in between it is possible to change the dates variable\n",
    "# Setting the starting date in the dates variables to the year before the last year printed allows it to continue \n",
    "# However, the starting date in the dates variable should be changed again to 1993 for later use\n",
    "import time \n",
    "\n",
    "for i, date in enumerate(dates[2:-1],2):\n",
    "    \n",
    "    # Dates conversion to obtain the data from eikon\n",
    "    \n",
    "    date_0 = date.to_period('D')\n",
    "    date_1 = dates[i-1].to_period('D')\n",
    "    date_2 = dates[i-2].to_period('D')\n",
    "    date_end = dates[i+1].to_period('D')\n",
    "    \n",
    "    # Creation of parameters to get data for selected years from eikon\n",
    "    \n",
    "    parameters_t2 = {'SDate': f\"{date_2}\", 'EDate': f\"{date_1}\", 'FRQ': 'FY'}\n",
    "    parameters_t1 = {'SDate': f\"{date_1}\", 'EDate': f\"{date_0}\", 'FRQ': 'FY'}\n",
    "    parameters_last = {'SDate': f\"{date_end}\"}\n",
    "    \n",
    "    # Here we obtain the data and store it in dataframes, get_data returns a tuple containing (dataframe, errores)\n",
    "    # we are only interested in the dataframe so we ignore the errors\n",
    "    \n",
    "    df_t2 = ld.get_data(universe= f\"{chain}({date_0})\", fields= model_fields, parameters= parameters_t2)\n",
    "    df_t1 = ld.get_data(universe= f\"{chain}({date_0})\", fields= model_fields, parameters= parameters_t1)\n",
    "    rets = ld.get_data(universe= f\"{chain}({date_0})\", fields= fields, parameters=parameters_last)\n",
    "    # We drop the instruments with missing rows, rename the columns and set the index to that instrument\n",
    "    \n",
    "    df_t1 = df_t1.dropna().rename(columns = columns).set_index('Instrument')\n",
    "    df_t2 = df_t2.dropna().rename(columns = columns_t2).set_index('Instrument')\n",
    "    rets = rets.dropna().rename(columns = {\n",
    "        '52 Week Total Return': 'returns',\n",
    "        'GICS Sector Name': 'sector'\n",
    "    }).set_index('Instrument')\n",
    "    \n",
    "    # We join the dataframes and store the year as a column\n",
    "    \n",
    "    df = rets.join(df_t1, how = \"inner\").join(df_t2, how = \"inner\") \n",
    "    df[\"date\"] = date.to_period('Y')\n",
    "\n",
    "    # We compute the z-score, the m-score and drop the strange values\n",
    "    \n",
    "    get_z_score(df)\n",
    "    get_m_score(df)\n",
    "    df = df.replace([np.inf, -np.inf, \"\"], np.nan).dropna()\n",
    "\n",
    "    # We fill our dictionaries with the data of the first and the fifth quintile\n",
    "    \n",
    "    for column in score_columns:\n",
    "        for sector in df[\"sector\"].unique(): \n",
    "            long_quantiles[date][column][sector] = df[df[\"sector\"] == sector][column].quantile(0.8)\n",
    "            short_quantiles[date][column][sector] = df[df[\"sector\"] == sector][column].quantile(0.2)    \n",
    "    \n",
    "    # Finally we store the data in our previously created dataframe and print the date to view the progress\n",
    "    \n",
    "    #full_df = full_df.append(df, ignore_index = True)\n",
    "    full_df = pd.concat([full_df, df], ignore_index= True)\n",
    "    print(date)\n",
    "    #sleep for 5 seconds\n",
    "    time.sleep(5)"
   ]
  },
  {
   "cell_type": "code",
   "execution_count": 22,
   "metadata": {},
   "outputs": [],
   "source": [
    "full_df.fillna(0,inplace=True)"
   ]
  },
  {
   "cell_type": "markdown",
   "metadata": {},
   "source": [
    "We already have all the data required for our study so now we are going to plot it to observe the distribution for the m-score and the z-score across sectors or dates using plotly.express.\n",
    "\n",
    "\n",
    "First, we create a function to plot the selected score across sectors, for visualization purposes we will limit the values of the m-score between -5 and 0 and the z-score between -10 and 15."
   ]
  },
  {
   "cell_type": "code",
   "execution_count": 23,
   "metadata": {},
   "outputs": [],
   "source": [
    "# We define the auxiliary functions to limit the extreme values\n",
    "\n",
    "def to_z_range(num):\n",
    "    upper = 15\n",
    "    lower = -10\n",
    "    if num > upper: return upper\n",
    "    elif num < lower: return lower\n",
    "    else: return num\n",
    "\n",
    "def to_m_range(num):\n",
    "    upper = 0\n",
    "    lower = -5\n",
    "    if num > upper: return upper\n",
    "    elif num < lower: return lower\n",
    "    else: return num    \n",
    "\n",
    "# We define a function with two parameters to plot the m-score or the z-score and across sectors or dates\n",
    "    \n",
    "def plot_score(m_score = True, sectors = True, title = \"\"):\n",
    "\n",
    "    # We create some variables to make the neccesary changes depending on the selected parameters\n",
    "    \n",
    "    col = \"m-score\" if m_score else \"z-score\"\n",
    "    fun = to_m_range if m_score else to_z_range\n",
    "    title = \"M-Score\" if m_score else \"Z-Score\"\n",
    "    across = \"sector\" if sectors else \"date\"\n",
    "    height = 1000 if sectors else 1500\n",
    "\n",
    "    # We define a boxplot, set the colors to the sector and plot the m-score in the y-axis \n",
    "\n",
    "    fig = px.box(\n",
    "        color = full_df[across] if sectors else None,\n",
    "        y = None if sectors else full_df[across].astype(str),\n",
    "        x = full_df[col].apply(fun), \n",
    "        template = \"plotly_white\",\n",
    "        orientation = 'h',\n",
    "        width = 1000, \n",
    "        height= height\n",
    "    )\n",
    "\n",
    "    # We style the titles and fonts for our plot\n",
    "\n",
    "    fig.update_layout(\n",
    "        title = title,\n",
    "        xaxis_title = title,\n",
    "        yaxis_title = across.capitalize(),\n",
    "        legend_title = across.capitalize(),\n",
    "        legend_traceorder = \"reversed\",\n",
    "        font = dict(size = 18),\n",
    "    )\n",
    "\n",
    "    # We dont want to plot all the extreme values as only one point\n",
    "\n",
    "    fig.update_traces(jitter = 1)\n",
    "\n",
    "    # Finally we show the plot\n",
    "\n",
    "    fig.show()"
   ]
  },
  {
   "cell_type": "markdown",
   "metadata": {},
   "source": [
    "First we will plot the m-score across the different sectors."
   ]
  },
  {
   "cell_type": "code",
   "execution_count": 24,
   "metadata": {},
   "outputs": [
    {
     "data": {
      "application/vnd.plotly.v1+json": {
       "config": {
        "plotlyServerURL": "https://chart-studio.plotly.com"
       },
       "data": [
        {
         "alignmentgroup": "True",
         "hovertemplate": "color=Industrials<br>x=%{x}<extra></extra>",
         "jitter": 1,
         "legendgroup": "Industrials",
         "marker": {
          "color": "#636efa"
         },
         "name": "Industrials",
         "notched": false,
         "offsetgroup": "Industrials",
         "orientation": "h",
         "showlegend": true,
         "type": "box",
         "x": {
          "bdata": "7+KyuMOQBcCdosuQ8oEAwAAAAAAAABTAqV95FRvLBcBdc/RmhJYBwHYHt3HB9gTAZenjy6eiB8Bd+pL/SqUEwAAAAAAAAAAA6b+tsFNXBMD7lEFsZJAEwMh+pV2GvgTAeacHknLtBMDYmYHQEZsGwCpYpZS1PgLAeUDdWi0s/789xSkwgK4DwICbGqwTjQXAed51FyxcCMBb2fpqowAEwLZvrnMnAgfAplxZfY/0B8BuML8wa5IEwGRvpfosdwzAjWv8HuAtB8DY9v865PUDwI0NFuTCuwnA/n+gkmeeBsBuPoxIfIUGwG/vL+gTHwDAnchv5h+jBcByhZ2DKKYFwOUbZmBxJgLA4Gz95C5ABMDeS5pDrPoIwFygqHgULgLA2xQrBNva9r+QdiXvWFINwIKrr85BsAPAWHNB/7FN1b8UtUw211QFwGBWebGJkwXA97SteplbA8B1yuKANEgFwPM6SXdT3QXAQrOvJxfJAsB7T4yLQ+kDwOMollIf4ALAxopUS3hMBsCXcIeqQakHwP9R3zk2vgTAWEIx2NoPAsCyWHsyCDUEwLOl0UzFqQPABL8rihV3BcAW9xEJfoQAwNFgDWuhYgzAJGO/mIHtA8C8G8O9dqoEwL9QuZLmqwXA1vF7Q7DZA8CZ3+iYCYgCwOQ+BNTWLwPAiqDR4rbYB8DxDAzX24oIwAAPOWMLwATAHmWw1iNFBMC/7ZwBkPUEwLJghV8q3QfA+EGrZZecBsDlbkAeeqv/vyU7Ikgc7gXAycTBBzFDBsDSVgYag7wDwFC6q0hBmgfAMIqEXZzlBMAl8TTEctQCwKcque68+QTAtkBrr4DABMAFI+7HZKQGwNWFaDa5OwbAFPwu0PPbBMDg2yGMeQwFwOE5MH+ZtwTAfs3MLmBFA8A4QxwDURUFwCNbflFMFAbAaodLjbRIBMCvkAnlVR8EwBWZzot5SgPAdZQbVBj4BMCGc9Z4v/0DwMyMRJFlSADA1Xit/neTBsDp3PAGrX4EwBZ4h9RjCgXASrRgMtpKB8DM9Q1JxOIEwBhaa5Hx5wTAIrvU2f0TA8BEQSy88KMEwHImHE5cXAbAriGzsxZYAsDUR7YxYqIEwEigOtWe/gPA5S+vecc8BcDt+87flEn3v1R3k9gJUwXAtCCE+ThFBMAZQxLuzrQFwJGDP9x4ZgbANASTI9zCCsDkTePhd30EwG4CE4oV7wTAYpuuEfO8B8DqLzQdvZQKwFhmcT40ZAXAlUnMVV9PBMAVfKgifcYEwAAAAAAAABTA8wxwj5M1BMCXKuGFv9oBwP4KPbgg5wbAUdVlPAEbCMCPQc4SIrgEwD+wA72QugXAaJYJbIOhB8B3But2IjcDwPuUdZ4f/v2/lhS1IhQrBMBlJAf5O6EEwBAEWDVHUQTAhv4GMERMAcBGynz2SQwFwFxOmxKwvgTAwGruNGQ7B8CB9SMd0s0FwJXSbC3PQwTAUMka7UfEB8CWiyMwoX4HwAPH87VBuwXAC7sIJvLWBMBPp14YVfQDwL4slADw9ATAhJanW2HZBcADedcVzZEEwFgc7tHMvATAz0ldAPQIBMBbT7d18f0DwF8Ae5LNpQPAZGsdzxQUBMDvK66mip4FwPJMKg+KeQXAzys/tPWMB8BrYe+uJZ0DwBJ8WSdKnQTACWWmj5W1A8CGwWcYY1oGwC9QSD++zATA8XHYR78JCsAegFlzgS4FwGTbA0aLZQfAFL6iw/v0BMDA8i5yDXUEwFuueVZlZQTAgPtRkRqPBcDdTsykcqUEwC1Dq5lBbAHA81wf5tdAAcDQ/Dgh9YsFwIOYzzG17ATAVfBBFREYCMCSasJyfv8DwE4XJZjrNgXAssHvnvTS6r9lIu+xNvoAwFhesxsGtATA9tDRhKmXBsB2rwXLwa8EwAAAAAAAABTA6h7wLy8SBcCqVqzveWsDwHe3kFvA5wXA+RdHXazDBMAsp4VUl34IwAth8vOSwwLAYVf4ITwKBMA8o4SKZ+gEwOKYq6w2DgXAOCI/XNjEB8CJ3cvQAEMEwMGC4HaHAQXAiJQO6mYMBMALG0HSqwsFwDW62S3cFADAAAAAAAAAFMBgNzWp0NgDwBqstyPVHgbAXxKTJwPYBcAFlNjg0McFwIM/1lbjSgbAcJjr15O6B8BogNHV+XcFwJJ5ixjNdQvA5HtKeIJBBcAy4d0+/cYDwNJJAUXrGwXAZTzXMLGMBMAPnldwSogEwHY5BxovawPAbJ94kAEDBcAKhZ2VCo4GwAZie8E5SwXA8DkOvSsQBsB7q1lH7b8EwB5fwrIFXgfAMGB9MbjTE8C5pmGDmcUGwIHbrtKgOwbADpfWYSmZA8D6X9yIhlkEwBuVSrCv7AfAUhb3kbwAA8DNLAUGZ4QDwCDXTSbjPgfAEpu/IAaiCcBgMREmLMkDwFDL98SY5gXAtr7WO+loDcBICgBzIOEEwDCWnEW8CwTAr/+FaZ0nBMDb9/ob3hQGwJwRAFdrIQbAV4SJA9plA8AAAAAAAAAAAP8nqL3CVgXAUo715ppA/79yFQvYg2IEwEZX7jbZOQPAnEUdjXHOBMDnUmNNitj8v8qE+YdcyAXA4/wb8IFjBMBcrO2x7rIEwPGIcb8sUQHA6Pf0xuPuBMBWSmn4OOQGwMQf2IBPlgHAcZcjZTCZAcAOecxpdCEFwOy4WmAZXAbACluARAktBcA7rdDiCakFwIk0la97NgTAkjgpSbgwA8AtjPAHzwEGwDyQ73lkkATAp1TBqmQ5BsCftx+duyUKwKzDFtua1wTAuzdSu01LB8CjVG01TX8FwASOeLOchgPA/IqvBy5fAMAemO6MOoQDwM+mkGBg9wPAXu2qzZUeBMAmdw7hSPwEwLdaPeWNggbAn4yHOfPwBcDjYyK139UBwPkvUWP4dgXAAAAAAAAAAAC/JhciTDcFwPcB9ko8zw/APC19ytOIAsBUNOMzxhIEwEIPVE0nQAXA89afUxXNAsAIS7QxKnMFwPhPFxnKUf2/gieVIJKQA8Day3oXuigFwMkrQJj4BwTAP3PmDAyPCMBuubJ3GjwDwBPQYyZe0Pe/7mwz+KijBMCQUGKmZLsDwFZfjkPHZwbA6KKUa2SqBMCQb0VQZuAFwAeM8mg6ygTAzPrCVBo9AcB8m2Cr9YEDwDeMvUjg1wPAdogvUnqCAMCk0w4Hn9wDwMKqR3bSTgTAqBzauRmNBMC5grmvrMwDwOZD1N+fVwTA+Or6j6NEBMCIcn9GHp8FwKO0vBn0BgXAv0DvUVWrAsAlciF7s8oCwJw2kTjsGATAwcBAS37KA8AeTbEnkMMGwDes93uEZgTAeJ8Kb7oeBMAvgopBI6IEwFJID+cBdgTA8C5OfKgpAsDtFp0gA70FwBb/pon9EwXA+jV04cTqAsBKtSKzR1sFwO5FFW5aHwXA2mCCfkNGAsCL1r/GJXYDwCVtH4FPnwHAlDroFIX9BcB8tQon5XsHwOWPgIzNQgTA3YNOm63DAsCbBJN8bZAEwPG977b4hwTAmTyZ+6jsBcDkq442tCcFwBkK9osQSQXAxwqHqSidBcBD9fih2o0GwFujtPXO8wTAqFr9pLrTBcC0t9t9Mn4FwBBMgc8YagjAAAAAAAAA+P/5NKVou3Ptvwz58suWIATALkyYPrAIBcCAvt30smkDwEU9zks5mAHARFiUFdglBcD0wadtMwwFwIXuS3W5/QXAuVAw1IcIB8AEGOV3gBIHwADSKqX9BwTAevYDIRSXA8DV7Db9nMkEwG+vzOY2SAXA1js2QlpmBMCFY8VdUaEEwJzw+qkTdgTAngVww5uBBMCWnrGODIQEwHEy/BuymQbAqQo/4RJVBsAKcMjyFA4FwBbH+IVWwQXATCJwF6NTBcAgwSswd/wFwE9LOg12SQbAAcSW1dUWBcACECU21KsHwGz6DLf2OwPAsqHCTjBsBMAsKI+JPRsGwErGeBRlqgTAbQPPnso+B8AyPCepbioDwAWJbManUgTAAAAAAAAAFMCMthfbeyUEwNCoE7fIwwXAu8vZS5n7BcAhbOWWJ9YEwCDEQ0e1TQXApXcXTI6xBcAq9C7HMxAIwEz88pgMngTA3fg0JOtABMDyfCW+4GMGwOW7SeINeADAzz8SUis1BMBXdTyVHQcEwNcp3+MFFAbAytJyeUNUBcBRZOKMHaYAwJ7C38KbnQXAth06t21qA8AEJZpf+d4DwHetQ4apigfAkHRxyFZKBsBBjEWL0cUJwCKCBnrp8wXApiZ8YxPDB8Bh9+FBuLP8v7wFNyIiTgTARWZ0rJVNBsC9Va3j6YEEwDVC9RqCLwbAOqtoLxe05b8vAHV3GSoFwISnKBqFwhHAQm5OTpHPA8CCUANzrzQEwKnaU6wF8QDASng0Bk2iBMDyrt4Ei+YBwJnAOX5ZOgXAo1X2BVLmBMAJjR96zooBwF4WmFB2SgTA9eUtJ7K6BcCGgRG4MxMEwHvYtt0r8gTAWwtdtQ1RBsAg9G8LWNkGwIDTZJxXiQDAXgeAUZpNAMAtS3VNHA4FwFwNMuOx8QPAv6F/fPNPBcCUaQ7jAcwIwM6NEGwlKwPA3xZ9Tc2KBcBLNaKfzhEFwFQx7fIvy/u/jgwLXmwxBsAUM8H7SlYFwLpUNgo1vQfA0dN8Ivb4AsBLim3CUloFwOAtYGBFNgLAsT090WoqAsAv/79TuOoGwGA3s+z0EAfAq0PntvixBsClg+SFgW0HwE6U7upG3QHAYA6wnacJBsCem5/HbIX8v3rCPRs6KAbAfGSCpm8vBcC+KGiXx9sCwNBPtNDrxwXAntquT8z9D8Bk6//6q0wFwJSakrk5vQXA2tLE3PwABcCJrIKF3roFwNMP1zOPuAfAKFZFw3tKA8AzjgMEK9oEwOwYl6BL5wTAqieFWanOAcBaPPglelYOwGNa2TaFagLANrkFq6wyBsDUrygooTYEwK4d7wmFZvu/VnKOrbQYBcDR3On5V2MAwIsjQZi1zwPAvprX4DJtA8AyMV4FsQYDwAgTR+Ur9wHAYE0K6GumAsB0m5eAbL4BwM4EsHOWhATAa1xta3gnAcDYvDDf/yUDwPCHrvY9YQLAghJJLIDv+7+xZnbJkSsEwEZePeB7gAPAQZQv/cH6AsCBPqPN0/P2v87ylBtHewPAmrhTZDSIAsAvhDobSuYEwMVjK3sPJwXAKIRRdrC7DMB6M4VQmg8DwLLpuqq1kwPA7mdzu5J+BcAagjjFKq8GwB8UdhTJfAPA9KE0lePzAsACIIjgtEECwKfuPULdoQLAPSk3w0/2BcBkE1dveFQAwNk5QD8zQQLA+UpLhWpLA8DQQUYJKsgEwLqyVf8K0wPAP+YOBgNkBMCeSLLKZD8FwB5dfp1siwLA0pzkw7QIA8AVOQKGIt0EwC1KgvvBhwbApA219rdyBsDU9B+CEygHwJxPPVgDYwLAx09SejnyA8BmoExc18kEwCY5+3qgpADA085mEyl/AcDMeBm8WzEDwF4bgDwN2QPANG9Vf7nLBMBmqAsti9gIwFNOC/IlQfu/IcDlGZDLBMDiLVFClKYKwKFT0VGHrATAU/otEss1DMBB0kMP4A/+v3Oct6V6OgPAt/SMKYd4AsDHhvUaBrwCwEHiCvo7VgDAcMGvTx/0AsA57H7Fte4CwCCxRwqaKATAA+ax2IVhAMC/O7MxgykDwIGAm0J7nATAQmyNND1EA8BNYF2DWQ0EwFw3M7N0GQXA5qoi2/PxA8C1qNlx1SgCwJSHLmjwQgLAclaIANF2A8D2x5yFjaUEwHmVlCDefQTAEmt1JWCe+79EuNvymi0FwPgq5C9NMAbA6zxoTsAtAsAgNbFek1cEwLsUQY3eAgTAxiUHkJMRBcAsAUm7HTEFwPegMtyBWATAEnZZsVVPA8DJVVy0mgUDwO/HJCSxcgfAvN6bsotoAsBHJWfujAUDwGJjOpnDvwPAcdBP0gwDA8BqvRJmRacCwKH+z76Shw7AOckfvisABcCuxL1b2XoDwMxjLUR9PQfAjUowscSEBsAkSi0o+YwBwD8UxQSNqAPA",
          "dtype": "f8"
         },
         "x0": " ",
         "xaxis": "x",
         "y0": " ",
         "yaxis": "y"
        },
        {
         "alignmentgroup": "True",
         "hovertemplate": "color=Health Care<br>x=%{x}<extra></extra>",
         "jitter": 1,
         "legendgroup": "Health Care",
         "marker": {
          "color": "#EF553B"
         },
         "name": "Health Care",
         "notched": false,
         "offsetgroup": "Health Care",
         "orientation": "h",
         "showlegend": true,
         "type": "box",
         "x": {
          "bdata": "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",
          "dtype": "f8"
         },
         "x0": " ",
         "xaxis": "x",
         "y0": " ",
         "yaxis": "y"
        },
        {
         "alignmentgroup": "True",
         "hovertemplate": "color=Consumer Discretionary<br>x=%{x}<extra></extra>",
         "jitter": 1,
         "legendgroup": "Consumer Discretionary",
         "marker": {
          "color": "#00cc96"
         },
         "name": "Consumer Discretionary",
         "notched": false,
         "offsetgroup": "Consumer Discretionary",
         "orientation": "h",
         "showlegend": true,
         "type": "box",
         "x": {
          "bdata": "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",
          "dtype": "f8"
         },
         "x0": " ",
         "xaxis": "x",
         "y0": " ",
         "yaxis": "y"
        },
        {
         "alignmentgroup": "True",
         "hovertemplate": "color=Information Technology<br>x=%{x}<extra></extra>",
         "jitter": 1,
         "legendgroup": "Information Technology",
         "marker": {
          "color": "#ab63fa"
         },
         "name": "Information Technology",
         "notched": false,
         "offsetgroup": "Information Technology",
         "orientation": "h",
         "showlegend": true,
         "type": "box",
         "x": {
          "bdata": "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",
          "dtype": "f8"
         },
         "x0": " ",
         "xaxis": "x",
         "y0": " ",
         "yaxis": "y"
        },
        {
         "alignmentgroup": "True",
         "hovertemplate": "color=Utilities<br>x=%{x}<extra></extra>",
         "jitter": 1,
         "legendgroup": "Utilities",
         "marker": {
          "color": "#FFA15A"
         },
         "name": "Utilities",
         "notched": false,
         "offsetgroup": "Utilities",
         "orientation": "h",
         "showlegend": true,
         "type": "box",
         "x": {
          "bdata": "iszC0QQdAsDA8ees+8kFwBfYMrTkSwbAT6l7zJl6BMACkGQ57s8DwJz/bbuyHQfAtMA6TelGA8ClZr5xc1AGwKnh077IfwfA2VX+H8K5AMAdAZ01lnEIwOVEc/onsgPAS/3UA54RAsAJ/CeItkgEwFyMFbq2WgXAu59uybuABcBR11Jh9kkFwK5SzxAu/wnAa7ltqbYTAsAsIrvVTuUIwGLe9ZF7iAXALhBoDMvaA8CpDJgreqUDwG7/0cwHaAXAiosoCLDsB8AINYVQCJMGwO+ni01fbAXAyLO15VyLBsCYEfAULUcEwOZiORL6uwTAJxmR5bWzBcC7skS4COj9v4LCNnYj1QXAFPDjkdTHAMB2dBqpv3UHwAAAAAAAAAAAO7t3CQKrCMBLVcvAbwgGwEekTzKyfwbAf2MpxLqZBcAc8chMNIgLwP+tV7CBXQTACpsaaO/xBsD8wYEXoP0EwA1Mg+s3DAbA2MYheoaZBcBEKlXINMQGwM39A4xwEwXAvWZxw29oCMCSHVxTsb0LwEYsR8NwOQfA5OmQdLjwBcDXv5aF/mr2v5Ymd9jhgAXAmrsAp7Z3BMCASlwa9jsHwLx86vi8UAbAokJ1F0Qx678uwe0gymEFwDc3ycy1WP6/nG5z48FZBsA/5WHLk+0GwM5Eg+r46AXAXvjHMyZCBcDpoL2+lDsEwE+hWyBrxAPA1EXS3kh9BsCcsHZa2DMJwIjDYyV7uwTAjnO/buk2AsAp8fE5u5j9v+PMcHMUNQ/AaIdxBr9oBcAe5R+vt3cFwKIlY27yBwbAGgNZXE9+/79dpgkNzAwFwIdeZByCjQbAe3oesw6QBcDzUtFv6UgCwAAAAAAAAAAARVvUKQDRBcD05Rh5Ek0RwOy6LwBPLQLAtXYhD25HEMB+TpR+/TAFwKUBqzImRgjABRiEgL8LBsC7Q69hGokGwDo4NjfaPwzAWyjczH/XBsBBWgUTouwGwLVpl3tINAbAzJvYOdZSCMDkYhfbH3sDwJV9SD7b0QXAEndHghdOCcATMWzdInoFwDD9EcjLdQPAUOKR8NPpBsC4lJN3QKwPwOfUnKIufALAtosHJ0hIBcBoV0JzpfQJwAxpL+ICSAXAoxWpE95FBcCobBm8gDoHwEx5qMipLAfAzM03xxrpAsC2c+ijy+gCwJXHHXX3HwXAobH/1LahB8AxoLLM2HUDwAAAAAAAAAAAy2IHHwoMBcDbvT8hL0oOwI3+t/ZXKQTAKjfTgix7BcDISdpmqq0FwCtrNig9oQTAL8Ra2D9HBMBzHXXB9GsIwHEehPi1bAXAwFXkdLloAsAswhgagmUFwPg+6QZh5ArA5KshxD+ABsAGXTh0Wl4EwAAAAAAAABTAOPWgbQ6CDMD19reIOpINwAQLj+sOOgXAxmF3M8Lz97/fowa6r3EGwLu3B01luwXAoDpfKrQ2CsB/K4Tep0AEwPkxGpY3xADAnou38O1t1L/DNewTFFMBwMwRfwGtzQTA/iRzhj/mBcBIyyetQqAQwMahG/u/KAvAjidbDjw7BMDh9/lFEQEFwAAAAAAAABTAJytGGsukAMCPsmiTkhgFwGH7IaBkNAXAt38iBTJVA8AsL8eVD4IGwJuRKT+7tBLAP3TX7ppwBcAWgiFNil4QwG+FIJCauv+/KnylJ5s+BcALMU5TdcMEwBwBD2USQwTAHiRWavIfBsCzx+CMfukHwI/KRhX9Xvy/mXVp6QkfBMDnXDhPKP8HwN9R+V0FnwXAvMH7KVe9C8CNtE+UUTYDwNE1nply/gTAuP8sLVmEDsDey9lWg3gKwCXOCT7/bwjAwIXrnlGHAMCqeFhefZEEwHE04LSLjAPAxVX6LRPAAsBfyv/+bgcGwPttLSuxpwLAk7wv3tUDBcC6qVcr73YJwMX8kgpOrgTAsGHvmTs8A8CFoA2aipYEwF2azk/fBALAPH/hBms+/r9eN2XwURQDwDEmC03d9gPATTIoNbzLBcDb/fxeHM4FwPLDtxMIEAXAsDN5co+EAcDkFtMR/V2zv3fLuQyt3QPA9BKPnRIlBMCHNkQlaoz0vxEURiwyVQPAaaIhDGKhAsAKDlZ+L9sCwJijqr1IwgHA8X6p18qyAMDj86x5Y6kFwHhFA3RhVAPAKA7LR8W5AsAYnRLfQ6QDwJunSeHcmATA8qQ+bjzuAsCAp9ydm/P4v7eMGs5XeALActiIApx+AsBEVGx57pgGwBhX9oV9NQPA",
          "dtype": "f8"
         },
         "x0": " ",
         "xaxis": "x",
         "y0": " ",
         "yaxis": "y"
        },
        {
         "alignmentgroup": "True",
         "hovertemplate": "color=Materials<br>x=%{x}<extra></extra>",
         "jitter": 1,
         "legendgroup": "Materials",
         "marker": {
          "color": "#19d3f3"
         },
         "name": "Materials",
         "notched": false,
         "offsetgroup": "Materials",
         "orientation": "h",
         "showlegend": true,
         "type": "box",
         "x": {
          "bdata": "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",
          "dtype": "f8"
         },
         "x0": " ",
         "xaxis": "x",
         "y0": " ",
         "yaxis": "y"
        },
        {
         "alignmentgroup": "True",
         "hovertemplate": "color=Consumer Staples<br>x=%{x}<extra></extra>",
         "jitter": 1,
         "legendgroup": "Consumer Staples",
         "marker": {
          "color": "#FF6692"
         },
         "name": "Consumer Staples",
         "notched": false,
         "offsetgroup": "Consumer Staples",
         "orientation": "h",
         "showlegend": true,
         "type": "box",
         "x": {
          "bdata": "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",
          "dtype": "f8"
         },
         "x0": " ",
         "xaxis": "x",
         "y0": " ",
         "yaxis": "y"
        },
        {
         "alignmentgroup": "True",
         "hovertemplate": "color=Real Estate<br>x=%{x}<extra></extra>",
         "jitter": 1,
         "legendgroup": "Real Estate",
         "marker": {
          "color": "#B6E880"
         },
         "name": "Real Estate",
         "notched": false,
         "offsetgroup": "Real Estate",
         "orientation": "h",
         "showlegend": true,
         "type": "box",
         "x": {
          "bdata": "ykaJFsK5CcBL5JVFrqcGwKmY5locEALAfLg+MCQuB8COat51Bu4FwOD4bpkVnQPA81oq1a8XCMA1YL9jPIMDwN9b10bizQTAFM97WOlwB8DiWocm7W8IwKqv7XzsmQXAjWhh08kYA8CoPBrRUM4EwM0eKxQgggLA7e9WDgIqAMDSRSc+P+T6v0ubdGg7WQXAW47nI0+4CcAIOGLFRI4CwMQunu6Z2vi/Thd2dZcnBsDoU6zf4FgJwLL1nM3L2wTA3uytCFJNBsBc1jzX3tkFwC+0gtu4BgPAAAAAAAAAAADFT4Epk/wBwPE0saG1VQXAdlDhprURA8A359YftDEEwJz5pApdYP+/AZV4mMFbBsCf9N8VASMHwMBhBXZ9gAfAw+k7nRfWCcD/7LVNCYcEwBoGby5MRALAqgMJC+D2BsCHJCpysLcFwFnJ1uoWaP6/sHmR94D0AsDl72qsQlUEwDQdqN7MvwLA3AC8zils+b9QpVIrQLoCwA4BI5/YOQXAOG/6ohhADcA7hXLLVGUGwNo4l8lIZwfA4h7OzTjuAsC/9PrBAaUGwNTBAJIowgTAoM0k2c5aBcBwO2rXZfwFwAAAAAAAAAAAna+sz2GWAsBl2NNoYA4JwPiQRQpJvAbASvwrAdXmBsAfWr1IuKMFwNzjFiNZZgbATECjrQsmCcB5oHZ1hg4EwNhg1oUakgXAPLIOLi2JB8D+pgWhCOAHwD6FwPb2GxLAtO5uxX8OBsBZkkdCaE4MwFKuIFT38QTAh8ZKQdunAsDJ3TUl2FAEwJ/y8rTCJATATfPPC3TsBcDgn2v8jnIJwAAAAAAAAAAArYlmIAdOD8DBpNIrpEcDwM6nxV3z/AXAJqdJyqVNA8D4+V34MEQEwPM4weL2AQTAz7/Vk/4XBcAAAAAAAAAAAJ915/7VSPK/9KcnUFlaBMCJjUpRpaAAwDuCTpjy4QbA",
          "dtype": "f8"
         },
         "x0": " ",
         "xaxis": "x",
         "y0": " ",
         "yaxis": "y"
        },
        {
         "alignmentgroup": "True",
         "hovertemplate": "color=Financials<br>x=%{x}<extra></extra>",
         "jitter": 1,
         "legendgroup": "Financials",
         "marker": {
          "color": "#FF97FF"
         },
         "name": "Financials",
         "notched": false,
         "offsetgroup": "Financials",
         "orientation": "h",
         "showlegend": true,
         "type": "box",
         "x": {
          "bdata": "TvdVMq1WA8AuaF8JytkEwG9kmnLofgXAzydhNFZd9L8AAAAAAAAAACZ2YmiHegTAhf8EaxvEAMAE5TFx0y4IwF5klZmCcAPAPBsKiFxABcA1s5HvRzsGwMuicM4FyATA8tUvvs9mBsAQe9Hj4Dj0v49WUIdJuQjAaUAMZMPrBMBOD+dXsNYDwNlS48JysATAH/BB6cGcBMBoFrD/Tu0EwJ0XQ2+qKgXA70rW3AfDBMD/3ixDH1MEwMQYMh7Trf+/rGI8wPFiB8Cq9lq97HkFwOx7c4C5ZATAr2XJISkaBcAV8zKBvRYFwJHSFqQBPwXAu7c+P0g0BMCL02c4zL0BwBE0+mbpyATAx5JY1OW7BMDwkJnuFtkEwMeNYo9Q7wXAtEbmEatMAsAV0H8SudcEwFr1OTaLZg3AByyBbSWTA8CAd83Ix8oEwMARxpQhpQHAWKdCA0P8BsAnW7V9OIAGwEiL0JhM8gPA6zeGErVqA8BS5ariCdMGwD0DhP+mSgXA0XCuAAm3CcDpEZf9q/r/v3I4H4rP2AfA8dHoTWe2A8BRnhPEdXcDwBwB5U9+VQTA91a9vzxPBcCgD13L5oQDwHYg1gs+cQPAvV1qaumV9b8s/sHu06gPwGZNBqUA/QXAmS//Z2IVBMCGVXm67JgEwERj+8lRZdu/16L04YJsBcDEwrqeGY4EwHA+k4LTrATANrC6Y6V3BcBxYyYCsBoCwAAAAAAAAPj/ozu7bOnMA8Cf/8vXBogDwMZ8DU39ewTA9OgtyMYOCcCu9ScH1WoCwJOoF6InawDAq7qCUkrNBMB3QSTUfV4BwPbRwkdXgATAU4qGMCtW/r90/VqIF5z8v5YU3D0yjgHAFQF/G70wBsA0UcALb2UDwOiAHZZgpgXA4XGg8+/8BsCyEHM4QuoDwKgVh/9hbQPAcvdR4g61CMAIvMrm4VwGwH9bmubD2gXAjSdosFV/BcD65nRWiAMEwAAAAAAAABTA329/tNUpBcBO0C9hZGADwFlWxmii1gbApKUBu10lA8ABSHEAAiUGwFIqX7qlwf2/v/pjTp0GAcCDCeStNVcFwHyqMCws9wHAnnNNeC3i979nAlBKadEEwBxqwG7UCAfARMzfw4QeBsBbhWSl7aoDwJQsBTW2XAPA5W0g+IRxA8C0ytKb9hQFwAow1RZxDwbAsn9DiRuQBMDjjKzIP24FwBGjQQjUowbAK6H1fHXwA8BbZiTkSkwGwGflATeeEQTAzNAam9d6AsByfeoe2YMGwNsrAKUx+gXAsIVyDUwoBMCagEvJlskFwBMyNrgC2vO/mTWqoVVIBMA=",
          "dtype": "f8"
         },
         "x0": " ",
         "xaxis": "x",
         "y0": " ",
         "yaxis": "y"
        },
        {
         "alignmentgroup": "True",
         "hovertemplate": "color=Energy<br>x=%{x}<extra></extra>",
         "jitter": 1,
         "legendgroup": "Energy",
         "marker": {
          "color": "#FECB52"
         },
         "name": "Energy",
         "notched": false,
         "offsetgroup": "Energy",
         "orientation": "h",
         "showlegend": true,
         "type": "box",
         "x": {
          "bdata": "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",
          "dtype": "f8"
         },
         "x0": " ",
         "xaxis": "x",
         "y0": " ",
         "yaxis": "y"
        },
        {
         "alignmentgroup": "True",
         "hovertemplate": "color=Communication Services<br>x=%{x}<extra></extra>",
         "jitter": 1,
         "legendgroup": "Communication Services",
         "marker": {
          "color": "#636efa"
         },
         "name": "Communication Services",
         "notched": false,
         "offsetgroup": "Communication Services",
         "orientation": "h",
         "showlegend": true,
         "type": "box",
         "x": {
          "bdata": "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",
          "dtype": "f8"
         },
         "x0": " ",
         "xaxis": "x",
         "y0": " ",
         "yaxis": "y"
        }
       ],
       "layout": {
        "boxmode": "group",
        "font": {
         "size": 18
        },
        "height": 1000,
        "legend": {
         "title": {
          "text": "Sector"
         },
         "tracegroupgap": 0,
         "traceorder": "reversed"
        },
        "margin": {
         "t": 60
        },
        "template": {
         "data": {
          "bar": [
           {
            "error_x": {
             "color": "#2a3f5f"
            },
            "error_y": {
             "color": "#2a3f5f"
            },
            "marker": {
             "line": {
              "color": "white",
              "width": 0.5
             },
             "pattern": {
              "fillmode": "overlay",
              "size": 10,
              "solidity": 0.2
             }
            },
            "type": "bar"
           }
          ],
          "barpolar": [
           {
            "marker": {
             "line": {
              "color": "white",
              "width": 0.5
             },
             "pattern": {
              "fillmode": "overlay",
              "size": 10,
              "solidity": 0.2
             }
            },
            "type": "barpolar"
           }
          ],
          "carpet": [
           {
            "aaxis": {
             "endlinecolor": "#2a3f5f",
             "gridcolor": "#C8D4E3",
             "linecolor": "#C8D4E3",
             "minorgridcolor": "#C8D4E3",
             "startlinecolor": "#2a3f5f"
            },
            "baxis": {
             "endlinecolor": "#2a3f5f",
             "gridcolor": "#C8D4E3",
             "linecolor": "#C8D4E3",
             "minorgridcolor": "#C8D4E3",
             "startlinecolor": "#2a3f5f"
            },
            "type": "carpet"
           }
          ],
          "choropleth": [
           {
            "colorbar": {
             "outlinewidth": 0,
             "ticks": ""
            },
            "type": "choropleth"
           }
          ],
          "contour": [
           {
            "colorbar": {
             "outlinewidth": 0,
             "ticks": ""
            },
            "colorscale": [
             [
              0,
              "#0d0887"
             ],
             [
              0.1111111111111111,
              "#46039f"
             ],
             [
              0.2222222222222222,
              "#7201a8"
             ],
             [
              0.3333333333333333,
              "#9c179e"
             ],
             [
              0.4444444444444444,
              "#bd3786"
             ],
             [
              0.5555555555555556,
              "#d8576b"
             ],
             [
              0.6666666666666666,
              "#ed7953"
             ],
             [
              0.7777777777777778,
              "#fb9f3a"
             ],
             [
              0.8888888888888888,
              "#fdca26"
             ],
             [
              1,
              "#f0f921"
             ]
            ],
            "type": "contour"
           }
          ],
          "contourcarpet": [
           {
            "colorbar": {
             "outlinewidth": 0,
             "ticks": ""
            },
            "type": "contourcarpet"
           }
          ],
          "heatmap": [
           {
            "colorbar": {
             "outlinewidth": 0,
             "ticks": ""
            },
            "colorscale": [
             [
              0,
              "#0d0887"
             ],
             [
              0.1111111111111111,
              "#46039f"
             ],
             [
              0.2222222222222222,
              "#7201a8"
             ],
             [
              0.3333333333333333,
              "#9c179e"
             ],
             [
              0.4444444444444444,
              "#bd3786"
             ],
             [
              0.5555555555555556,
              "#d8576b"
             ],
             [
              0.6666666666666666,
              "#ed7953"
             ],
             [
              0.7777777777777778,
              "#fb9f3a"
             ],
             [
              0.8888888888888888,
              "#fdca26"
             ],
             [
              1,
              "#f0f921"
             ]
            ],
            "type": "heatmap"
           }
          ],
          "histogram": [
           {
            "marker": {
             "pattern": {
              "fillmode": "overlay",
              "size": 10,
              "solidity": 0.2
             }
            },
            "type": "histogram"
           }
          ],
          "histogram2d": [
           {
            "colorbar": {
             "outlinewidth": 0,
             "ticks": ""
            },
            "colorscale": [
             [
              0,
              "#0d0887"
             ],
             [
              0.1111111111111111,
              "#46039f"
             ],
             [
              0.2222222222222222,
              "#7201a8"
             ],
             [
              0.3333333333333333,
              "#9c179e"
             ],
             [
              0.4444444444444444,
              "#bd3786"
             ],
             [
              0.5555555555555556,
              "#d8576b"
             ],
             [
              0.6666666666666666,
              "#ed7953"
             ],
             [
              0.7777777777777778,
              "#fb9f3a"
             ],
             [
              0.8888888888888888,
              "#fdca26"
             ],
             [
              1,
              "#f0f921"
             ]
            ],
            "type": "histogram2d"
           }
          ],
          "histogram2dcontour": [
           {
            "colorbar": {
             "outlinewidth": 0,
             "ticks": ""
            },
            "colorscale": [
             [
              0,
              "#0d0887"
             ],
             [
              0.1111111111111111,
              "#46039f"
             ],
             [
              0.2222222222222222,
              "#7201a8"
             ],
             [
              0.3333333333333333,
              "#9c179e"
             ],
             [
              0.4444444444444444,
              "#bd3786"
             ],
             [
              0.5555555555555556,
              "#d8576b"
             ],
             [
              0.6666666666666666,
              "#ed7953"
             ],
             [
              0.7777777777777778,
              "#fb9f3a"
             ],
             [
              0.8888888888888888,
              "#fdca26"
             ],
             [
              1,
              "#f0f921"
             ]
            ],
            "type": "histogram2dcontour"
           }
          ],
          "mesh3d": [
           {
            "colorbar": {
             "outlinewidth": 0,
             "ticks": ""
            },
            "type": "mesh3d"
           }
          ],
          "parcoords": [
           {
            "line": {
             "colorbar": {
              "outlinewidth": 0,
              "ticks": ""
             }
            },
            "type": "parcoords"
           }
          ],
          "pie": [
           {
            "automargin": true,
            "type": "pie"
           }
          ],
          "scatter": [
           {
            "fillpattern": {
             "fillmode": "overlay",
             "size": 10,
             "solidity": 0.2
            },
            "type": "scatter"
           }
          ],
          "scatter3d": [
           {
            "line": {
             "colorbar": {
              "outlinewidth": 0,
              "ticks": ""
             }
            },
            "marker": {
             "colorbar": {
              "outlinewidth": 0,
              "ticks": ""
             }
            },
            "type": "scatter3d"
           }
          ],
          "scattercarpet": [
           {
            "marker": {
             "colorbar": {
              "outlinewidth": 0,
              "ticks": ""
             }
            },
            "type": "scattercarpet"
           }
          ],
          "scattergeo": [
           {
            "marker": {
             "colorbar": {
              "outlinewidth": 0,
              "ticks": ""
             }
            },
            "type": "scattergeo"
           }
          ],
          "scattergl": [
           {
            "marker": {
             "colorbar": {
              "outlinewidth": 0,
              "ticks": ""
             }
            },
            "type": "scattergl"
           }
          ],
          "scattermap": [
           {
            "marker": {
             "colorbar": {
              "outlinewidth": 0,
              "ticks": ""
             }
            },
            "type": "scattermap"
           }
          ],
          "scattermapbox": [
           {
            "marker": {
             "colorbar": {
              "outlinewidth": 0,
              "ticks": ""
             }
            },
            "type": "scattermapbox"
           }
          ],
          "scatterpolar": [
           {
            "marker": {
             "colorbar": {
              "outlinewidth": 0,
              "ticks": ""
             }
            },
            "type": "scatterpolar"
           }
          ],
          "scatterpolargl": [
           {
            "marker": {
             "colorbar": {
              "outlinewidth": 0,
              "ticks": ""
             }
            },
            "type": "scatterpolargl"
           }
          ],
          "scatterternary": [
           {
            "marker": {
             "colorbar": {
              "outlinewidth": 0,
              "ticks": ""
             }
            },
            "type": "scatterternary"
           }
          ],
          "surface": [
           {
            "colorbar": {
             "outlinewidth": 0,
             "ticks": ""
            },
            "colorscale": [
             [
              0,
              "#0d0887"
             ],
             [
              0.1111111111111111,
              "#46039f"
             ],
             [
              0.2222222222222222,
              "#7201a8"
             ],
             [
              0.3333333333333333,
              "#9c179e"
             ],
             [
              0.4444444444444444,
              "#bd3786"
             ],
             [
              0.5555555555555556,
              "#d8576b"
             ],
             [
              0.6666666666666666,
              "#ed7953"
             ],
             [
              0.7777777777777778,
              "#fb9f3a"
             ],
             [
              0.8888888888888888,
              "#fdca26"
             ],
             [
              1,
              "#f0f921"
             ]
            ],
            "type": "surface"
           }
          ],
          "table": [
           {
            "cells": {
             "fill": {
              "color": "#EBF0F8"
             },
             "line": {
              "color": "white"
             }
            },
            "header": {
             "fill": {
              "color": "#C8D4E3"
             },
             "line": {
              "color": "white"
             }
            },
            "type": "table"
           }
          ]
         },
         "layout": {
          "annotationdefaults": {
           "arrowcolor": "#2a3f5f",
           "arrowhead": 0,
           "arrowwidth": 1
          },
          "autotypenumbers": "strict",
          "coloraxis": {
           "colorbar": {
            "outlinewidth": 0,
            "ticks": ""
           }
          },
          "colorscale": {
           "diverging": [
            [
             0,
             "#8e0152"
            ],
            [
             0.1,
             "#c51b7d"
            ],
            [
             0.2,
             "#de77ae"
            ],
            [
             0.3,
             "#f1b6da"
            ],
            [
             0.4,
             "#fde0ef"
            ],
            [
             0.5,
             "#f7f7f7"
            ],
            [
             0.6,
             "#e6f5d0"
            ],
            [
             0.7,
             "#b8e186"
            ],
            [
             0.8,
             "#7fbc41"
            ],
            [
             0.9,
             "#4d9221"
            ],
            [
             1,
             "#276419"
            ]
           ],
           "sequential": [
            [
             0,
             "#0d0887"
            ],
            [
             0.1111111111111111,
             "#46039f"
            ],
            [
             0.2222222222222222,
             "#7201a8"
            ],
            [
             0.3333333333333333,
             "#9c179e"
            ],
            [
             0.4444444444444444,
             "#bd3786"
            ],
            [
             0.5555555555555556,
             "#d8576b"
            ],
            [
             0.6666666666666666,
             "#ed7953"
            ],
            [
             0.7777777777777778,
             "#fb9f3a"
            ],
            [
             0.8888888888888888,
             "#fdca26"
            ],
            [
             1,
             "#f0f921"
            ]
           ],
           "sequentialminus": [
            [
             0,
             "#0d0887"
            ],
            [
             0.1111111111111111,
             "#46039f"
            ],
            [
             0.2222222222222222,
             "#7201a8"
            ],
            [
             0.3333333333333333,
             "#9c179e"
            ],
            [
             0.4444444444444444,
             "#bd3786"
            ],
            [
             0.5555555555555556,
             "#d8576b"
            ],
            [
             0.6666666666666666,
             "#ed7953"
            ],
            [
             0.7777777777777778,
             "#fb9f3a"
            ],
            [
             0.8888888888888888,
             "#fdca26"
            ],
            [
             1,
             "#f0f921"
            ]
           ]
          },
          "colorway": [
           "#636efa",
           "#EF553B",
           "#00cc96",
           "#ab63fa",
           "#FFA15A",
           "#19d3f3",
           "#FF6692",
           "#B6E880",
           "#FF97FF",
           "#FECB52"
          ],
          "font": {
           "color": "#2a3f5f"
          },
          "geo": {
           "bgcolor": "white",
           "lakecolor": "white",
           "landcolor": "white",
           "showlakes": true,
           "showland": true,
           "subunitcolor": "#C8D4E3"
          },
          "hoverlabel": {
           "align": "left"
          },
          "hovermode": "closest",
          "mapbox": {
           "style": "light"
          },
          "paper_bgcolor": "white",
          "plot_bgcolor": "white",
          "polar": {
           "angularaxis": {
            "gridcolor": "#EBF0F8",
            "linecolor": "#EBF0F8",
            "ticks": ""
           },
           "bgcolor": "white",
           "radialaxis": {
            "gridcolor": "#EBF0F8",
            "linecolor": "#EBF0F8",
            "ticks": ""
           }
          },
          "scene": {
           "xaxis": {
            "backgroundcolor": "white",
            "gridcolor": "#DFE8F3",
            "gridwidth": 2,
            "linecolor": "#EBF0F8",
            "showbackground": true,
            "ticks": "",
            "zerolinecolor": "#EBF0F8"
           },
           "yaxis": {
            "backgroundcolor": "white",
            "gridcolor": "#DFE8F3",
            "gridwidth": 2,
            "linecolor": "#EBF0F8",
            "showbackground": true,
            "ticks": "",
            "zerolinecolor": "#EBF0F8"
           },
           "zaxis": {
            "backgroundcolor": "white",
            "gridcolor": "#DFE8F3",
            "gridwidth": 2,
            "linecolor": "#EBF0F8",
            "showbackground": true,
            "ticks": "",
            "zerolinecolor": "#EBF0F8"
           }
          },
          "shapedefaults": {
           "line": {
            "color": "#2a3f5f"
           }
          },
          "ternary": {
           "aaxis": {
            "gridcolor": "#DFE8F3",
            "linecolor": "#A2B1C6",
            "ticks": ""
           },
           "baxis": {
            "gridcolor": "#DFE8F3",
            "linecolor": "#A2B1C6",
            "ticks": ""
           },
           "bgcolor": "white",
           "caxis": {
            "gridcolor": "#DFE8F3",
            "linecolor": "#A2B1C6",
            "ticks": ""
           }
          },
          "title": {
           "x": 0.05
          },
          "xaxis": {
           "automargin": true,
           "gridcolor": "#EBF0F8",
           "linecolor": "#EBF0F8",
           "ticks": "",
           "title": {
            "standoff": 15
           },
           "zerolinecolor": "#EBF0F8",
           "zerolinewidth": 2
          },
          "yaxis": {
           "automargin": true,
           "gridcolor": "#EBF0F8",
           "linecolor": "#EBF0F8",
           "ticks": "",
           "title": {
            "standoff": 15
           },
           "zerolinecolor": "#EBF0F8",
           "zerolinewidth": 2
          }
         }
        },
        "title": {
         "text": "M-Score"
        },
        "width": 1000,
        "xaxis": {
         "anchor": "y",
         "domain": [
          0,
          1
         ],
         "title": {
          "text": "M-Score"
         }
        },
        "yaxis": {
         "anchor": "x",
         "domain": [
          0,
          1
         ],
         "title": {
          "text": "Sector"
         }
        }
       }
      }
     },
     "metadata": {},
     "output_type": "display_data"
    }
   ],
   "source": [
    "plot_score(m_score = True, sectors = True, title = \"M-Score across sectors\")"
   ]
  },
  {
   "cell_type": "markdown",
   "metadata": {},
   "source": [
    "The m-score can be further explored and we could compute other statistics, nevertheless now we are going to plot the z-score across sectors."
   ]
  },
  {
   "cell_type": "code",
   "execution_count": 26,
   "metadata": {},
   "outputs": [
    {
     "data": {
      "application/vnd.plotly.v1+json": {
       "config": {
        "plotlyServerURL": "https://chart-studio.plotly.com"
       },
       "data": [
        {
         "alignmentgroup": "True",
         "hovertemplate": "color=Industrials<br>x=%{x}<extra></extra>",
         "jitter": 1,
         "legendgroup": "Industrials",
         "marker": {
          "color": "#636efa"
         },
         "name": "Industrials",
         "notched": false,
         "offsetgroup": "Industrials",
         "orientation": "h",
         "showlegend": true,
         "type": "box",
         "x": {
          "bdata": "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",
          "dtype": "f8"
         },
         "x0": " ",
         "xaxis": "x",
         "y0": " ",
         "yaxis": "y"
        },
        {
         "alignmentgroup": "True",
         "hovertemplate": "color=Health Care<br>x=%{x}<extra></extra>",
         "jitter": 1,
         "legendgroup": "Health Care",
         "marker": {
          "color": "#EF553B"
         },
         "name": "Health Care",
         "notched": false,
         "offsetgroup": "Health Care",
         "orientation": "h",
         "showlegend": true,
         "type": "box",
         "x": {
          "bdata": "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",
          "dtype": "f8"
         },
         "x0": " ",
         "xaxis": "x",
         "y0": " ",
         "yaxis": "y"
        },
        {
         "alignmentgroup": "True",
         "hovertemplate": "color=Consumer Discretionary<br>x=%{x}<extra></extra>",
         "jitter": 1,
         "legendgroup": "Consumer Discretionary",
         "marker": {
          "color": "#00cc96"
         },
         "name": "Consumer Discretionary",
         "notched": false,
         "offsetgroup": "Consumer Discretionary",
         "orientation": "h",
         "showlegend": true,
         "type": "box",
         "x": {
          "bdata": "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",
          "dtype": "f8"
         },
         "x0": " ",
         "xaxis": "x",
         "y0": " ",
         "yaxis": "y"
        },
        {
         "alignmentgroup": "True",
         "hovertemplate": "color=Information Technology<br>x=%{x}<extra></extra>",
         "jitter": 1,
         "legendgroup": "Information Technology",
         "marker": {
          "color": "#ab63fa"
         },
         "name": "Information Technology",
         "notched": false,
         "offsetgroup": "Information Technology",
         "orientation": "h",
         "showlegend": true,
         "type": "box",
         "x": {
          "bdata": "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",
          "dtype": "f8"
         },
         "x0": " ",
         "xaxis": "x",
         "y0": " ",
         "yaxis": "y"
        },
        {
         "alignmentgroup": "True",
         "hovertemplate": "color=Utilities<br>x=%{x}<extra></extra>",
         "jitter": 1,
         "legendgroup": "Utilities",
         "marker": {
          "color": "#FFA15A"
         },
         "name": "Utilities",
         "notched": false,
         "offsetgroup": "Utilities",
         "orientation": "h",
         "showlegend": true,
         "type": "box",
         "x": {
          "bdata": "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",
          "dtype": "f8"
         },
         "x0": " ",
         "xaxis": "x",
         "y0": " ",
         "yaxis": "y"
        },
        {
         "alignmentgroup": "True",
         "hovertemplate": "color=Materials<br>x=%{x}<extra></extra>",
         "jitter": 1,
         "legendgroup": "Materials",
         "marker": {
          "color": "#19d3f3"
         },
         "name": "Materials",
         "notched": false,
         "offsetgroup": "Materials",
         "orientation": "h",
         "showlegend": true,
         "type": "box",
         "x": {
          "bdata": "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",
          "dtype": "f8"
         },
         "x0": " ",
         "xaxis": "x",
         "y0": " ",
         "yaxis": "y"
        },
        {
         "alignmentgroup": "True",
         "hovertemplate": "color=Consumer Staples<br>x=%{x}<extra></extra>",
         "jitter": 1,
         "legendgroup": "Consumer Staples",
         "marker": {
          "color": "#FF6692"
         },
         "name": "Consumer Staples",
         "notched": false,
         "offsetgroup": "Consumer Staples",
         "orientation": "h",
         "showlegend": true,
         "type": "box",
         "x": {
          "bdata": "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",
          "dtype": "f8"
         },
         "x0": " ",
         "xaxis": "x",
         "y0": " ",
         "yaxis": "y"
        },
        {
         "alignmentgroup": "True",
         "hovertemplate": "color=Real Estate<br>x=%{x}<extra></extra>",
         "jitter": 1,
         "legendgroup": "Real Estate",
         "marker": {
          "color": "#B6E880"
         },
         "name": "Real Estate",
         "notched": false,
         "offsetgroup": "Real Estate",
         "orientation": "h",
         "showlegend": true,
         "type": "box",
         "x": {
          "bdata": "AWD83GJyAkCZnPlqXyMDQGyt5JOxg/g/6VgWHh2D+T8oUg+0zKvwPxVWQTlksfY/QndapUeTAEDOWyvzJw3/P7jwVO09q/A/C5IVhZbi9T9HRFh/J5H7P6iG/Elhg+0/FqatbjZb9j/6KRiz1kUBQLOIZEmvmQBAPkBM0BaU8j8cPiHjJCX3P7a+w3/KBPg/K+z1+LN59T+gj3p8bib7P2Ki6u2v1Pc/oeWZvqmXBECzBZHKpOn/P+lzKVQDUfU/BS6HfAnMAUCiPcT3KA37PzYlUK0p1glAv/XNC4cy/j/OUzCX3Y8FQHjZJyxhsvc/BmyMGkTyAUBmyGY64kD5Px0wIoWezARAGtJYk0XC/j/CKqu2R2H/P1qugDILIPI/jItUTElOAEDed4p7Jvf3P//13GBglQhAtwQPb4t8AUABH+nBH0QDQEzWz5UxSvI/upgcCi1m/z+T+lYFrTH8P/jAmsVjIQ1ASH4FMGsmAUA/A5j+mWADQDxo67+79/I/iawu6MIK6T8m+kKZkpkCQCeYseKHcf0/YmuKKDH/C0DB5OsUt/70P3iM1U2eFfk/DQb0u/mzAkAkMOijpu7rP4pwhspsNts/ao1qbirA/T+UGXN/wIP/P2CWBJRzlvQ/GRFwU/4wAkBXutMFbJ0CQGOt7I0i7uQ/Ld65ISX56T/Of08G+r8AQD0GqzxWD/w/WfR0W8Q/9j8RGaUSJIIEQKmeTJqqa+w/tijQWSnZ4T+bOjdxl+boP9/ZcUClmQVAo+5Q1wH1+D+oXwFvvc4PQPXWO4jz9SpAzOOD6IuD+z+Ub2OVuoUHQKMiqChdlfQ/yGALD9cZ8z9m+D9oEiMEQFvHxA3xgBBAftvd7xnR8z8Qu8gzI/wLQPFBKLTWiCtA6DG6vJk78T++3tt1GHABQPo7atYSJ/0/6rW80QfF5j8EFlTuf9v4PzyWIIvnpwtA",
          "dtype": "f8"
         },
         "x0": " ",
         "xaxis": "x",
         "y0": " ",
         "yaxis": "y"
        },
        {
         "alignmentgroup": "True",
         "hovertemplate": "color=Financials<br>x=%{x}<extra></extra>",
         "jitter": 1,
         "legendgroup": "Financials",
         "marker": {
          "color": "#FF97FF"
         },
         "name": "Financials",
         "notched": false,
         "offsetgroup": "Financials",
         "orientation": "h",
         "showlegend": true,
         "type": "box",
         "x": {
          "bdata": "aEfuqSjB9T9r9b/EkMj5PzikP2DPoAZA0Q5mU5YwBkB1upYxTFUWQMrlTl7Poeo/xdM+2sfBD0DujRvtfqMDQLbvnWuPefc/wA+ryQLA9z/60v/7gbX2P/37sNTFpwVA1ipcaWc6FkA05aGnK57uP8n7FcMu2hFAuxCWckxPFkBnl8k2g2kBQI/YTLk+J/o/wjGfOsYr+j9fCekEfpz7P8vonw8fmglAfOPwOOpHF0CThfM+lE75Pyqw/Irk7A9ACH88d2tp/T+EN0Z3ijL8P2aISlr1b/8/qRVck15MAkAWuqQ9B7sLQHLhU5C9dBlAaHh5uqkZ+D/49C3mc6YXQDaTNXGLFfk/LMojUDfZ/j8hKfrM/nkDQFC6ziNnUw5AtB2Qb+xHGkAqIqBoTDL7P8zw3fMGeRJAtEJMAbSk9z/aPTG6NOn9P48hWO5BRvU/RcicOep0EEBbV6Y9sNsYQA/Gg2G5uxNAdgk9mBfH/T+VPEZeFkv6P4m/Uc9WHhFAG6bqIuo1FUA2u4UZJiAVQJ9leEbJXRVA4n/rxb0UAECryxAXiEIBQORaDex8/QBA/mvSYoOMEkD8Zi69Q9LgPzvzCQ7gXiZAaDS28I/VEkChlZ6SwBARQKoSROARF/s/no21T2DyGEA9DwUczPYbQMf4POV21/w/U1UCnD0eAUDY4CxmFhH2P4M0fko+TgFAR6wv1BfEAkBuO7k8Wb4RQD7iBpdQuyVAgAf77Fu6EUDYidT0pCkRQKgsQqL0wfo/u0MmDqybCEDpNopY2p4ZQEQ7UCP8YB1APBD92FK3/j8lfxm1UGsBQDzEVuE00QZAR1Y0yeO5/D/gc5We5T/7P+gqUHIdGANAkM30I4rOFEAkvTXm0IMCQOCkniYpSBxAM5E+cTEpHEAW+9V332j8P42BIV6CUQBAmlGK9DStB0Cc10SkTREjQDPpjzolovs/xcdwz91L+j+N62zxmz0FQPpDVuUSziNAReTqRMr4G0DD3kTnUxQDQBh48/LUex1At1J3sc5uHkA7PNdUEV3/P71A113Qqvc/jQa6UH4yAkDmqVhusPoNQPiIDAhJrRVAcfsVFIW+9D+qYhiCW3f4PwrG747vq/k/WlHKcOyoJECFbd/Inc4dQNrVSH2HTgRAtPRDvGuoC0AknfZeWzElQDOirNKNvxdAvoT3AIuC/D94weyE1PUBQHdSMQwOegtA2YXzm87fF0AQC/+w7m7fP6IcwHG/mPY/A9r+7LUk8j9P5PB8KFUiQF3Nh7bd/RdAXX0nLV46AkAtmEda/0H+P22XjNOsJQ1AjaMUPEYpHEA=",
          "dtype": "f8"
         },
         "x0": " ",
         "xaxis": "x",
         "y0": " ",
         "yaxis": "y"
        },
        {
         "alignmentgroup": "True",
         "hovertemplate": "color=Energy<br>x=%{x}<extra></extra>",
         "jitter": 1,
         "legendgroup": "Energy",
         "marker": {
          "color": "#FECB52"
         },
         "name": "Energy",
         "notched": false,
         "offsetgroup": "Energy",
         "orientation": "h",
         "showlegend": true,
         "type": "box",
         "x": {
          "bdata": "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",
          "dtype": "f8"
         },
         "x0": " ",
         "xaxis": "x",
         "y0": " ",
         "yaxis": "y"
        },
        {
         "alignmentgroup": "True",
         "hovertemplate": "color=Communication Services<br>x=%{x}<extra></extra>",
         "jitter": 1,
         "legendgroup": "Communication Services",
         "marker": {
          "color": "#636efa"
         },
         "name": "Communication Services",
         "notched": false,
         "offsetgroup": "Communication Services",
         "orientation": "h",
         "showlegend": true,
         "type": "box",
         "x": {
          "bdata": "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",
          "dtype": "f8"
         },
         "x0": " ",
         "xaxis": "x",
         "y0": " ",
         "yaxis": "y"
        }
       ],
       "layout": {
        "boxmode": "group",
        "font": {
         "size": 18
        },
        "height": 1000,
        "legend": {
         "title": {
          "text": "Sector"
         },
         "tracegroupgap": 0,
         "traceorder": "reversed"
        },
        "margin": {
         "t": 60
        },
        "template": {
         "data": {
          "bar": [
           {
            "error_x": {
             "color": "#2a3f5f"
            },
            "error_y": {
             "color": "#2a3f5f"
            },
            "marker": {
             "line": {
              "color": "white",
              "width": 0.5
             },
             "pattern": {
              "fillmode": "overlay",
              "size": 10,
              "solidity": 0.2
             }
            },
            "type": "bar"
           }
          ],
          "barpolar": [
           {
            "marker": {
             "line": {
              "color": "white",
              "width": 0.5
             },
             "pattern": {
              "fillmode": "overlay",
              "size": 10,
              "solidity": 0.2
             }
            },
            "type": "barpolar"
           }
          ],
          "carpet": [
           {
            "aaxis": {
             "endlinecolor": "#2a3f5f",
             "gridcolor": "#C8D4E3",
             "linecolor": "#C8D4E3",
             "minorgridcolor": "#C8D4E3",
             "startlinecolor": "#2a3f5f"
            },
            "baxis": {
             "endlinecolor": "#2a3f5f",
             "gridcolor": "#C8D4E3",
             "linecolor": "#C8D4E3",
             "minorgridcolor": "#C8D4E3",
             "startlinecolor": "#2a3f5f"
            },
            "type": "carpet"
           }
          ],
          "choropleth": [
           {
            "colorbar": {
             "outlinewidth": 0,
             "ticks": ""
            },
            "type": "choropleth"
           }
          ],
          "contour": [
           {
            "colorbar": {
             "outlinewidth": 0,
             "ticks": ""
            },
            "colorscale": [
             [
              0,
              "#0d0887"
             ],
             [
              0.1111111111111111,
              "#46039f"
             ],
             [
              0.2222222222222222,
              "#7201a8"
             ],
             [
              0.3333333333333333,
              "#9c179e"
             ],
             [
              0.4444444444444444,
              "#bd3786"
             ],
             [
              0.5555555555555556,
              "#d8576b"
             ],
             [
              0.6666666666666666,
              "#ed7953"
             ],
             [
              0.7777777777777778,
              "#fb9f3a"
             ],
             [
              0.8888888888888888,
              "#fdca26"
             ],
             [
              1,
              "#f0f921"
             ]
            ],
            "type": "contour"
           }
          ],
          "contourcarpet": [
           {
            "colorbar": {
             "outlinewidth": 0,
             "ticks": ""
            },
            "type": "contourcarpet"
           }
          ],
          "heatmap": [
           {
            "colorbar": {
             "outlinewidth": 0,
             "ticks": ""
            },
            "colorscale": [
             [
              0,
              "#0d0887"
             ],
             [
              0.1111111111111111,
              "#46039f"
             ],
             [
              0.2222222222222222,
              "#7201a8"
             ],
             [
              0.3333333333333333,
              "#9c179e"
             ],
             [
              0.4444444444444444,
              "#bd3786"
             ],
             [
              0.5555555555555556,
              "#d8576b"
             ],
             [
              0.6666666666666666,
              "#ed7953"
             ],
             [
              0.7777777777777778,
              "#fb9f3a"
             ],
             [
              0.8888888888888888,
              "#fdca26"
             ],
             [
              1,
              "#f0f921"
             ]
            ],
            "type": "heatmap"
           }
          ],
          "histogram": [
           {
            "marker": {
             "pattern": {
              "fillmode": "overlay",
              "size": 10,
              "solidity": 0.2
             }
            },
            "type": "histogram"
           }
          ],
          "histogram2d": [
           {
            "colorbar": {
             "outlinewidth": 0,
             "ticks": ""
            },
            "colorscale": [
             [
              0,
              "#0d0887"
             ],
             [
              0.1111111111111111,
              "#46039f"
             ],
             [
              0.2222222222222222,
              "#7201a8"
             ],
             [
              0.3333333333333333,
              "#9c179e"
             ],
             [
              0.4444444444444444,
              "#bd3786"
             ],
             [
              0.5555555555555556,
              "#d8576b"
             ],
             [
              0.6666666666666666,
              "#ed7953"
             ],
             [
              0.7777777777777778,
              "#fb9f3a"
             ],
             [
              0.8888888888888888,
              "#fdca26"
             ],
             [
              1,
              "#f0f921"
             ]
            ],
            "type": "histogram2d"
           }
          ],
          "histogram2dcontour": [
           {
            "colorbar": {
             "outlinewidth": 0,
             "ticks": ""
            },
            "colorscale": [
             [
              0,
              "#0d0887"
             ],
             [
              0.1111111111111111,
              "#46039f"
             ],
             [
              0.2222222222222222,
              "#7201a8"
             ],
             [
              0.3333333333333333,
              "#9c179e"
             ],
             [
              0.4444444444444444,
              "#bd3786"
             ],
             [
              0.5555555555555556,
              "#d8576b"
             ],
             [
              0.6666666666666666,
              "#ed7953"
             ],
             [
              0.7777777777777778,
              "#fb9f3a"
             ],
             [
              0.8888888888888888,
              "#fdca26"
             ],
             [
              1,
              "#f0f921"
             ]
            ],
            "type": "histogram2dcontour"
           }
          ],
          "mesh3d": [
           {
            "colorbar": {
             "outlinewidth": 0,
             "ticks": ""
            },
            "type": "mesh3d"
           }
          ],
          "parcoords": [
           {
            "line": {
             "colorbar": {
              "outlinewidth": 0,
              "ticks": ""
             }
            },
            "type": "parcoords"
           }
          ],
          "pie": [
           {
            "automargin": true,
            "type": "pie"
           }
          ],
          "scatter": [
           {
            "fillpattern": {
             "fillmode": "overlay",
             "size": 10,
             "solidity": 0.2
            },
            "type": "scatter"
           }
          ],
          "scatter3d": [
           {
            "line": {
             "colorbar": {
              "outlinewidth": 0,
              "ticks": ""
             }
            },
            "marker": {
             "colorbar": {
              "outlinewidth": 0,
              "ticks": ""
             }
            },
            "type": "scatter3d"
           }
          ],
          "scattercarpet": [
           {
            "marker": {
             "colorbar": {
              "outlinewidth": 0,
              "ticks": ""
             }
            },
            "type": "scattercarpet"
           }
          ],
          "scattergeo": [
           {
            "marker": {
             "colorbar": {
              "outlinewidth": 0,
              "ticks": ""
             }
            },
            "type": "scattergeo"
           }
          ],
          "scattergl": [
           {
            "marker": {
             "colorbar": {
              "outlinewidth": 0,
              "ticks": ""
             }
            },
            "type": "scattergl"
           }
          ],
          "scattermap": [
           {
            "marker": {
             "colorbar": {
              "outlinewidth": 0,
              "ticks": ""
             }
            },
            "type": "scattermap"
           }
          ],
          "scattermapbox": [
           {
            "marker": {
             "colorbar": {
              "outlinewidth": 0,
              "ticks": ""
             }
            },
            "type": "scattermapbox"
           }
          ],
          "scatterpolar": [
           {
            "marker": {
             "colorbar": {
              "outlinewidth": 0,
              "ticks": ""
             }
            },
            "type": "scatterpolar"
           }
          ],
          "scatterpolargl": [
           {
            "marker": {
             "colorbar": {
              "outlinewidth": 0,
              "ticks": ""
             }
            },
            "type": "scatterpolargl"
           }
          ],
          "scatterternary": [
           {
            "marker": {
             "colorbar": {
              "outlinewidth": 0,
              "ticks": ""
             }
            },
            "type": "scatterternary"
           }
          ],
          "surface": [
           {
            "colorbar": {
             "outlinewidth": 0,
             "ticks": ""
            },
            "colorscale": [
             [
              0,
              "#0d0887"
             ],
             [
              0.1111111111111111,
              "#46039f"
             ],
             [
              0.2222222222222222,
              "#7201a8"
             ],
             [
              0.3333333333333333,
              "#9c179e"
             ],
             [
              0.4444444444444444,
              "#bd3786"
             ],
             [
              0.5555555555555556,
              "#d8576b"
             ],
             [
              0.6666666666666666,
              "#ed7953"
             ],
             [
              0.7777777777777778,
              "#fb9f3a"
             ],
             [
              0.8888888888888888,
              "#fdca26"
             ],
             [
              1,
              "#f0f921"
             ]
            ],
            "type": "surface"
           }
          ],
          "table": [
           {
            "cells": {
             "fill": {
              "color": "#EBF0F8"
             },
             "line": {
              "color": "white"
             }
            },
            "header": {
             "fill": {
              "color": "#C8D4E3"
             },
             "line": {
              "color": "white"
             }
            },
            "type": "table"
           }
          ]
         },
         "layout": {
          "annotationdefaults": {
           "arrowcolor": "#2a3f5f",
           "arrowhead": 0,
           "arrowwidth": 1
          },
          "autotypenumbers": "strict",
          "coloraxis": {
           "colorbar": {
            "outlinewidth": 0,
            "ticks": ""
           }
          },
          "colorscale": {
           "diverging": [
            [
             0,
             "#8e0152"
            ],
            [
             0.1,
             "#c51b7d"
            ],
            [
             0.2,
             "#de77ae"
            ],
            [
             0.3,
             "#f1b6da"
            ],
            [
             0.4,
             "#fde0ef"
            ],
            [
             0.5,
             "#f7f7f7"
            ],
            [
             0.6,
             "#e6f5d0"
            ],
            [
             0.7,
             "#b8e186"
            ],
            [
             0.8,
             "#7fbc41"
            ],
            [
             0.9,
             "#4d9221"
            ],
            [
             1,
             "#276419"
            ]
           ],
           "sequential": [
            [
             0,
             "#0d0887"
            ],
            [
             0.1111111111111111,
             "#46039f"
            ],
            [
             0.2222222222222222,
             "#7201a8"
            ],
            [
             0.3333333333333333,
             "#9c179e"
            ],
            [
             0.4444444444444444,
             "#bd3786"
            ],
            [
             0.5555555555555556,
             "#d8576b"
            ],
            [
             0.6666666666666666,
             "#ed7953"
            ],
            [
             0.7777777777777778,
             "#fb9f3a"
            ],
            [
             0.8888888888888888,
             "#fdca26"
            ],
            [
             1,
             "#f0f921"
            ]
           ],
           "sequentialminus": [
            [
             0,
             "#0d0887"
            ],
            [
             0.1111111111111111,
             "#46039f"
            ],
            [
             0.2222222222222222,
             "#7201a8"
            ],
            [
             0.3333333333333333,
             "#9c179e"
            ],
            [
             0.4444444444444444,
             "#bd3786"
            ],
            [
             0.5555555555555556,
             "#d8576b"
            ],
            [
             0.6666666666666666,
             "#ed7953"
            ],
            [
             0.7777777777777778,
             "#fb9f3a"
            ],
            [
             0.8888888888888888,
             "#fdca26"
            ],
            [
             1,
             "#f0f921"
            ]
           ]
          },
          "colorway": [
           "#636efa",
           "#EF553B",
           "#00cc96",
           "#ab63fa",
           "#FFA15A",
           "#19d3f3",
           "#FF6692",
           "#B6E880",
           "#FF97FF",
           "#FECB52"
          ],
          "font": {
           "color": "#2a3f5f"
          },
          "geo": {
           "bgcolor": "white",
           "lakecolor": "white",
           "landcolor": "white",
           "showlakes": true,
           "showland": true,
           "subunitcolor": "#C8D4E3"
          },
          "hoverlabel": {
           "align": "left"
          },
          "hovermode": "closest",
          "mapbox": {
           "style": "light"
          },
          "paper_bgcolor": "white",
          "plot_bgcolor": "white",
          "polar": {
           "angularaxis": {
            "gridcolor": "#EBF0F8",
            "linecolor": "#EBF0F8",
            "ticks": ""
           },
           "bgcolor": "white",
           "radialaxis": {
            "gridcolor": "#EBF0F8",
            "linecolor": "#EBF0F8",
            "ticks": ""
           }
          },
          "scene": {
           "xaxis": {
            "backgroundcolor": "white",
            "gridcolor": "#DFE8F3",
            "gridwidth": 2,
            "linecolor": "#EBF0F8",
            "showbackground": true,
            "ticks": "",
            "zerolinecolor": "#EBF0F8"
           },
           "yaxis": {
            "backgroundcolor": "white",
            "gridcolor": "#DFE8F3",
            "gridwidth": 2,
            "linecolor": "#EBF0F8",
            "showbackground": true,
            "ticks": "",
            "zerolinecolor": "#EBF0F8"
           },
           "zaxis": {
            "backgroundcolor": "white",
            "gridcolor": "#DFE8F3",
            "gridwidth": 2,
            "linecolor": "#EBF0F8",
            "showbackground": true,
            "ticks": "",
            "zerolinecolor": "#EBF0F8"
           }
          },
          "shapedefaults": {
           "line": {
            "color": "#2a3f5f"
           }
          },
          "ternary": {
           "aaxis": {
            "gridcolor": "#DFE8F3",
            "linecolor": "#A2B1C6",
            "ticks": ""
           },
           "baxis": {
            "gridcolor": "#DFE8F3",
            "linecolor": "#A2B1C6",
            "ticks": ""
           },
           "bgcolor": "white",
           "caxis": {
            "gridcolor": "#DFE8F3",
            "linecolor": "#A2B1C6",
            "ticks": ""
           }
          },
          "title": {
           "x": 0.05
          },
          "xaxis": {
           "automargin": true,
           "gridcolor": "#EBF0F8",
           "linecolor": "#EBF0F8",
           "ticks": "",
           "title": {
            "standoff": 15
           },
           "zerolinecolor": "#EBF0F8",
           "zerolinewidth": 2
          },
          "yaxis": {
           "automargin": true,
           "gridcolor": "#EBF0F8",
           "linecolor": "#EBF0F8",
           "ticks": "",
           "title": {
            "standoff": 15
           },
           "zerolinecolor": "#EBF0F8",
           "zerolinewidth": 2
          }
         }
        },
        "title": {
         "text": "Z-Score"
        },
        "width": 1000,
        "xaxis": {
         "anchor": "y",
         "domain": [
          0,
          1
         ],
         "title": {
          "text": "Z-Score"
         }
        },
        "yaxis": {
         "anchor": "x",
         "domain": [
          0,
          1
         ],
         "title": {
          "text": "Sector"
         }
        }
       }
      }
     },
     "metadata": {},
     "output_type": "display_data"
    }
   ],
   "source": [
    "plot_score(m_score = False, sectors = True, title = \"Z-Score across sectors\")"
   ]
  },
  {
   "cell_type": "markdown",
   "metadata": {},
   "source": [
    "For the z-score the results are more varied, especially for the IT sector which has the most positive outliers. In addition, the median value of the z-score is more distributed across the sectors, particularly the utilities, the communication services and the real estate sectors exhibit a lower value, although in the original paper (Altman 1968), Altman justified lower values for the real state and the manufacturing sectors.\n",
    "\n",
    "Now we are going to plot the m-score and the z-score across the dates to get an idea of the historical change."
   ]
  },
  {
   "cell_type": "code",
   "execution_count": 27,
   "metadata": {},
   "outputs": [
    {
     "data": {
      "application/vnd.plotly.v1+json": {
       "config": {
        "plotlyServerURL": "https://chart-studio.plotly.com"
       },
       "data": [
        {
         "alignmentgroup": "True",
         "hovertemplate": "x=%{x}<br>y=%{y}<extra></extra>",
         "jitter": 1,
         "legendgroup": "",
         "marker": {
          "color": "#636efa"
         },
         "name": "",
         "notched": false,
         "offsetgroup": "",
         "orientation": "h",
         "showlegend": false,
         "type": "box",
         "x": {
          "bdata": "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",
          "dtype": "f8"
         },
         "x0": " ",
         "xaxis": "x",
         "y": [
          "2012",
          "2012",
          "2012",
          "2012",
          "2012",
          "2012",
          "2012",
          "2012",
          "2012",
          "2012",
          "2012",
          "2012",
          "2012",
          "2012",
          "2012",
          "2012",
          "2012",
          "2012",
          "2012",
          "2012",
          "2012",
          "2012",
          "2012",
          "2012",
          "2012",
          "2012",
          "2012",
          "2012",
          "2012",
          "2012",
          "2012",
          "2012",
          "2012",
          "2012",
          "2012",
          "2012",
          "2012",
          "2012",
          "2012",
          "2012",
          "2012",
          "2012",
          "2012",
          "2012",
          "2012",
          "2012",
          "2012",
          "2012",
          "2012",
          "2012",
          "2012",
          "2012",
          "2012",
          "2012",
          "2012",
          "2012",
          "2012",
          "2012",
          "2012",
          "2012",
          "2012",
          "2012",
          "2012",
          "2012",
          "2012",
          "2012",
          "2012",
          "2012",
          "2012",
          "2012",
          "2012",
          "2012",
          "2012",
          "2012",
          "2012",
          "2012",
          "2012",
          "2012",
          "2012",
          "2012",
          "2012",
          "2012",
          "2012",
          "2012",
          "2012",
          "2012",
          "2012",
          "2012",
          "2012",
          "2012",
          "2012",
          "2012",
          "2012",
          "2012",
          "2012",
          "2012",
          "2012",
          "2012",
          "2012",
          "2012",
          "2012",
          "2012",
          "2012",
          "2012",
          "2012",
          "2012",
          "2012",
          "2012",
          "2012",
          "2012",
          "2012",
          "2012",
          "2012",
          "2012",
          "2012",
          "2012",
          "2012",
          "2012",
          "2012",
          "2012",
          "2012",
          "2012",
          "2012",
          "2012",
          "2012",
          "2012",
          "2012",
          "2012",
          "2012",
          "2012",
          "2012",
          "2012",
          "2012",
          "2012",
          "2012",
          "2012",
          "2012",
          "2012",
          "2012",
          "2012",
          "2012",
          "2012",
          "2012",
          "2012",
          "2012",
          "2012",
          "2012",
          "2012",
          "2012",
          "2012",
          "2012",
          "2012",
          "2012",
          "2012",
          "2012",
          "2012",
          "2012",
          "2012",
          "2012",
          "2012",
          "2012",
          "2012",
          "2012",
          "2012",
          "2012",
          "2012",
          "2012",
          "2012",
          "2012",
          "2012",
          "2012",
          "2012",
          "2012",
          "2012",
          "2012",
          "2012",
          "2012",
          "2012",
          "2012",
          "2012",
          "2012",
          "2012",
          "2012",
          "2012",
          "2012",
          "2012",
          "2012",
          "2012",
          "2012",
          "2012",
          "2012",
          "2012",
          "2012",
          "2012",
          "2012",
          "2012",
          "2012",
          "2012",
          "2012",
          "2012",
          "2012",
          "2012",
          "2012",
          "2012",
          "2012",
          "2012",
          "2012",
          "2012",
          "2012",
          "2012",
          "2012",
          "2012",
          "2012",
          "2012",
          "2012",
          "2012",
          "2012",
          "2012",
          "2012",
          "2012",
          "2012",
          "2012",
          "2012",
          "2012",
          "2012",
          "2012",
          "2012",
          "2012",
          "2012",
          "2012",
          "2012",
          "2012",
          "2012",
          "2012",
          "2012",
          "2012",
          "2012",
          "2012",
          "2012",
          "2012",
          "2012",
          "2012",
          "2012",
          "2012",
          "2012",
          "2012",
          "2012",
          "2012",
          "2012",
          "2012",
          "2012",
          "2012",
          "2012",
          "2012",
          "2012",
          "2012",
          "2012",
          "2012",
          "2012",
          "2013",
          "2013",
          "2013",
          "2013",
          "2013",
          "2013",
          "2013",
          "2013",
          "2013",
          "2013",
          "2013",
          "2013",
          "2013",
          "2013",
          "2013",
          "2013",
          "2013",
          "2013",
          "2013",
          "2013",
          "2013",
          "2013",
          "2013",
          "2013",
          "2013",
          "2013",
          "2013",
          "2013",
          "2013",
          "2013",
          "2013",
          "2013",
          "2013",
          "2013",
          "2013",
          "2013",
          "2013",
          "2013",
          "2013",
          "2013",
          "2013",
          "2013",
          "2013",
          "2013",
          "2013",
          "2013",
          "2013",
          "2013",
          "2013",
          "2013",
          "2013",
          "2013",
          "2013",
          "2013",
          "2013",
          "2013",
          "2013",
          "2013",
          "2013",
          "2013",
          "2013",
          "2013",
          "2013",
          "2013",
          "2013",
          "2013",
          "2013",
          "2013",
          "2013",
          "2013",
          "2013",
          "2013",
          "2013",
          "2013",
          "2013",
          "2013",
          "2013",
          "2013",
          "2013",
          "2013",
          "2013",
          "2013",
          "2013",
          "2013",
          "2013",
          "2013",
          "2013",
          "2013",
          "2013",
          "2013",
          "2013",
          "2013",
          "2013",
          "2013",
          "2013",
          "2013",
          "2013",
          "2013",
          "2013",
          "2013",
          "2013",
          "2013",
          "2013",
          "2013",
          "2013",
          "2013",
          "2013",
          "2013",
          "2013",
          "2013",
          "2013",
          "2013",
          "2013",
          "2013",
          "2013",
          "2013",
          "2013",
          "2013",
          "2013",
          "2013",
          "2013",
          "2013",
          "2013",
          "2013",
          "2013",
          "2013",
          "2013",
          "2013",
          "2013",
          "2013",
          "2013",
          "2013",
          "2013",
          "2013",
          "2013",
          "2013",
          "2013",
          "2013",
          "2013",
          "2013",
          "2013",
          "2013",
          "2013",
          "2013",
          "2013",
          "2013",
          "2013",
          "2013",
          "2013",
          "2013",
          "2013",
          "2013",
          "2013",
          "2013",
          "2013",
          "2013",
          "2013",
          "2013",
          "2013",
          "2013",
          "2013",
          "2013",
          "2013",
          "2013",
          "2013",
          "2013",
          "2013",
          "2013",
          "2013",
          "2013",
          "2013",
          "2013",
          "2013",
          "2013",
          "2013",
          "2013",
          "2013",
          "2013",
          "2013",
          "2013",
          "2013",
          "2013",
          "2013",
          "2013",
          "2013",
          "2013",
          "2013",
          "2013",
          "2013",
          "2013",
          "2013",
          "2013",
          "2013",
          "2013",
          "2013",
          "2013",
          "2013",
          "2013",
          "2013",
          "2013",
          "2013",
          "2013",
          "2013",
          "2013",
          "2013",
          "2013",
          "2013",
          "2013",
          "2013",
          "2013",
          "2013",
          "2013",
          "2013",
          "2013",
          "2013",
          "2013",
          "2013",
          "2013",
          "2013",
          "2013",
          "2013",
          "2013",
          "2013",
          "2013",
          "2013",
          "2013",
          "2013",
          "2013",
          "2013",
          "2013",
          "2013",
          "2013",
          "2013",
          "2013",
          "2013",
          "2013",
          "2013",
          "2013",
          "2013",
          "2013",
          "2013",
          "2013",
          "2013",
          "2013",
          "2014",
          "2014",
          "2014",
          "2014",
          "2014",
          "2014",
          "2014",
          "2014",
          "2014",
          "2014",
          "2014",
          "2014",
          "2014",
          "2014",
          "2014",
          "2014",
          "2014",
          "2014",
          "2014",
          "2014",
          "2014",
          "2014",
          "2014",
          "2014",
          "2014",
          "2014",
          "2014",
          "2014",
          "2014",
          "2014",
          "2014",
          "2014",
          "2014",
          "2014",
          "2014",
          "2014",
          "2014",
          "2014",
          "2014",
          "2014",
          "2014",
          "2014",
          "2014",
          "2014",
          "2014",
          "2014",
          "2014",
          "2014",
          "2014",
          "2014",
          "2014",
          "2014",
          "2014",
          "2014",
          "2014",
          "2014",
          "2014",
          "2014",
          "2014",
          "2014",
          "2014",
          "2014",
          "2014",
          "2014",
          "2014",
          "2014",
          "2014",
          "2014",
          "2014",
          "2014",
          "2014",
          "2014",
          "2014",
          "2014",
          "2014",
          "2014",
          "2014",
          "2014",
          "2014",
          "2014",
          "2014",
          "2014",
          "2014",
          "2014",
          "2014",
          "2014",
          "2014",
          "2014",
          "2014",
          "2014",
          "2014",
          "2014",
          "2014",
          "2014",
          "2014",
          "2014",
          "2014",
          "2014",
          "2014",
          "2014",
          "2014",
          "2014",
          "2014",
          "2014",
          "2014",
          "2014",
          "2014",
          "2014",
          "2014",
          "2014",
          "2014",
          "2014",
          "2014",
          "2014",
          "2014",
          "2014",
          "2014",
          "2014",
          "2014",
          "2014",
          "2014",
          "2014",
          "2014",
          "2014",
          "2014",
          "2014",
          "2014",
          "2014",
          "2014",
          "2014",
          "2014",
          "2014",
          "2014",
          "2014",
          "2014",
          "2014",
          "2014",
          "2014",
          "2014",
          "2014",
          "2014",
          "2014",
          "2014",
          "2014",
          "2014",
          "2014",
          "2014",
          "2014",
          "2014",
          "2014",
          "2014",
          "2014",
          "2014",
          "2014",
          "2014",
          "2014",
          "2014",
          "2014",
          "2014",
          "2014",
          "2014",
          "2014",
          "2014",
          "2014",
          "2014",
          "2014",
          "2014",
          "2014",
          "2014",
          "2014",
          "2014",
          "2014",
          "2014",
          "2014",
          "2014",
          "2014",
          "2014",
          "2014",
          "2014",
          "2014",
          "2014",
          "2014",
          "2014",
          "2014",
          "2014",
          "2014",
          "2014",
          "2014",
          "2014",
          "2014",
          "2014",
          "2014",
          "2014",
          "2014",
          "2014",
          "2014",
          "2014",
          "2014",
          "2014",
          "2014",
          "2014",
          "2014",
          "2014",
          "2014",
          "2014",
          "2014",
          "2014",
          "2014",
          "2014",
          "2014",
          "2014",
          "2014",
          "2014",
          "2014",
          "2014",
          "2014",
          "2014",
          "2014",
          "2014",
          "2014",
          "2014",
          "2014",
          "2014",
          "2014",
          "2014",
          "2014",
          "2014",
          "2014",
          "2014",
          "2015",
          "2015",
          "2015",
          "2015",
          "2015",
          "2015",
          "2015",
          "2015",
          "2015",
          "2015",
          "2015",
          "2015",
          "2015",
          "2015",
          "2015",
          "2015",
          "2015",
          "2015",
          "2015",
          "2015",
          "2015",
          "2015",
          "2015",
          "2015",
          "2015",
          "2015",
          "2015",
          "2015",
          "2015",
          "2015",
          "2015",
          "2015",
          "2015",
          "2015",
          "2015",
          "2015",
          "2015",
          "2015",
          "2015",
          "2015",
          "2015",
          "2015",
          "2015",
          "2015",
          "2015",
          "2015",
          "2015",
          "2015",
          "2015",
          "2015",
          "2015",
          "2015",
          "2015",
          "2015",
          "2015",
          "2015",
          "2015",
          "2015",
          "2015",
          "2015",
          "2015",
          "2015",
          "2015",
          "2015",
          "2015",
          "2015",
          "2015",
          "2015",
          "2015",
          "2015",
          "2015",
          "2015",
          "2015",
          "2015",
          "2015",
          "2015",
          "2015",
          "2015",
          "2015",
          "2015",
          "2015",
          "2015",
          "2015",
          "2015",
          "2015",
          "2015",
          "2015",
          "2015",
          "2015",
          "2015",
          "2015",
          "2015",
          "2015",
          "2015",
          "2015",
          "2015",
          "2015",
          "2015",
          "2015",
          "2015",
          "2015",
          "2015",
          "2015",
          "2015",
          "2015",
          "2015",
          "2015",
          "2015",
          "2015",
          "2015",
          "2015",
          "2015",
          "2015",
          "2015",
          "2015",
          "2015",
          "2015",
          "2015",
          "2015",
          "2015",
          "2015",
          "2015",
          "2015",
          "2015",
          "2015",
          "2015",
          "2015",
          "2015",
          "2015",
          "2015",
          "2015",
          "2015",
          "2015",
          "2015",
          "2015",
          "2015",
          "2015",
          "2015",
          "2015",
          "2015",
          "2015",
          "2015",
          "2015",
          "2015",
          "2015",
          "2015",
          "2015",
          "2015",
          "2015",
          "2015",
          "2015",
          "2015",
          "2015",
          "2015",
          "2015",
          "2015",
          "2015",
          "2015",
          "2015",
          "2015",
          "2015",
          "2015",
          "2015",
          "2015",
          "2015",
          "2015",
          "2015",
          "2015",
          "2015",
          "2015",
          "2015",
          "2015",
          "2015",
          "2015",
          "2015",
          "2015",
          "2015",
          "2015",
          "2015",
          "2015",
          "2015",
          "2015",
          "2015",
          "2015",
          "2015",
          "2015",
          "2015",
          "2015",
          "2015",
          "2015",
          "2015",
          "2015",
          "2015",
          "2015",
          "2015",
          "2015",
          "2015",
          "2015",
          "2015",
          "2015",
          "2015",
          "2015",
          "2015",
          "2015",
          "2015",
          "2015",
          "2015",
          "2015",
          "2015",
          "2015",
          "2015",
          "2015",
          "2015",
          "2015",
          "2015",
          "2015",
          "2015",
          "2015",
          "2015",
          "2015",
          "2015",
          "2016",
          "2016",
          "2016",
          "2016",
          "2016",
          "2016",
          "2016",
          "2016",
          "2016",
          "2016",
          "2016",
          "2016",
          "2016",
          "2016",
          "2016",
          "2016",
          "2016",
          "2016",
          "2016",
          "2016",
          "2016",
          "2016",
          "2016",
          "2016",
          "2016",
          "2016",
          "2016",
          "2016",
          "2016",
          "2016",
          "2016",
          "2016",
          "2016",
          "2016",
          "2016",
          "2016",
          "2016",
          "2016",
          "2016",
          "2016",
          "2016",
          "2016",
          "2016",
          "2016",
          "2016",
          "2016",
          "2016",
          "2016",
          "2016",
          "2016",
          "2016",
          "2016",
          "2016",
          "2016",
          "2016",
          "2016",
          "2016",
          "2016",
          "2016",
          "2016",
          "2016",
          "2016",
          "2016",
          "2016",
          "2016",
          "2016",
          "2016",
          "2016",
          "2016",
          "2016",
          "2016",
          "2016",
          "2016",
          "2016",
          "2016",
          "2016",
          "2016",
          "2016",
          "2016",
          "2016",
          "2016",
          "2016",
          "2016",
          "2016",
          "2016",
          "2016",
          "2016",
          "2016",
          "2016",
          "2016",
          "2016",
          "2016",
          "2016",
          "2016",
          "2016",
          "2016",
          "2016",
          "2016",
          "2016",
          "2016",
          "2016",
          "2016",
          "2016",
          "2016",
          "2016",
          "2016",
          "2016",
          "2016",
          "2016",
          "2016",
          "2016",
          "2016",
          "2016",
          "2016",
          "2016",
          "2016",
          "2016",
          "2016",
          "2016",
          "2016",
          "2016",
          "2016",
          "2016",
          "2016",
          "2016",
          "2016",
          "2016",
          "2016",
          "2016",
          "2016",
          "2016",
          "2016",
          "2016",
          "2016",
          "2016",
          "2016",
          "2016",
          "2016",
          "2016",
          "2016",
          "2016",
          "2016",
          "2016",
          "2016",
          "2016",
          "2016",
          "2016",
          "2016",
          "2016",
          "2016",
          "2016",
          "2016",
          "2016",
          "2016",
          "2016",
          "2016",
          "2016",
          "2016",
          "2016",
          "2016",
          "2016",
          "2016",
          "2016",
          "2016",
          "2016",
          "2016",
          "2016",
          "2016",
          "2016",
          "2016",
          "2016",
          "2016",
          "2016",
          "2016",
          "2016",
          "2016",
          "2016",
          "2016",
          "2016",
          "2016",
          "2016",
          "2016",
          "2016",
          "2016",
          "2016",
          "2016",
          "2016",
          "2016",
          "2016",
          "2016",
          "2016",
          "2016",
          "2016",
          "2016",
          "2016",
          "2016",
          "2016",
          "2016",
          "2016",
          "2016",
          "2016",
          "2016",
          "2016",
          "2016",
          "2016",
          "2016",
          "2016",
          "2016",
          "2016",
          "2016",
          "2016",
          "2016",
          "2016",
          "2016",
          "2016",
          "2016",
          "2016",
          "2016",
          "2016",
          "2016",
          "2016",
          "2016",
          "2016",
          "2017",
          "2017",
          "2017",
          "2017",
          "2017",
          "2017",
          "2017",
          "2017",
          "2017",
          "2017",
          "2017",
          "2017",
          "2017",
          "2017",
          "2017",
          "2017",
          "2017",
          "2017",
          "2017",
          "2017",
          "2017",
          "2017",
          "2017",
          "2017",
          "2017",
          "2017",
          "2017",
          "2017",
          "2017",
          "2017",
          "2017",
          "2017",
          "2017",
          "2017",
          "2017",
          "2017",
          "2017",
          "2017",
          "2017",
          "2017",
          "2017",
          "2017",
          "2017",
          "2017",
          "2017",
          "2017",
          "2017",
          "2017",
          "2017",
          "2017",
          "2017",
          "2017",
          "2017",
          "2017",
          "2017",
          "2017",
          "2017",
          "2017",
          "2017",
          "2017",
          "2017",
          "2017",
          "2017",
          "2017",
          "2017",
          "2017",
          "2017",
          "2017",
          "2017",
          "2017",
          "2017",
          "2017",
          "2017",
          "2017",
          "2017",
          "2017",
          "2017",
          "2017",
          "2017",
          "2017",
          "2017",
          "2017",
          "2017",
          "2017",
          "2017",
          "2017",
          "2017",
          "2017",
          "2017",
          "2017",
          "2017",
          "2017",
          "2017",
          "2017",
          "2017",
          "2017",
          "2017",
          "2017",
          "2017",
          "2017",
          "2017",
          "2017",
          "2017",
          "2017",
          "2017",
          "2017",
          "2017",
          "2017",
          "2017",
          "2017",
          "2017",
          "2017",
          "2017",
          "2017",
          "2017",
          "2017",
          "2017",
          "2017",
          "2017",
          "2017",
          "2017",
          "2017",
          "2017",
          "2017",
          "2017",
          "2017",
          "2017",
          "2017",
          "2017",
          "2017",
          "2017",
          "2017",
          "2017",
          "2017",
          "2017",
          "2017",
          "2017",
          "2017",
          "2017",
          "2017",
          "2017",
          "2017",
          "2017",
          "2017",
          "2017",
          "2017",
          "2017",
          "2017",
          "2017",
          "2017",
          "2017",
          "2017",
          "2017",
          "2017",
          "2017",
          "2017",
          "2017",
          "2017",
          "2017",
          "2017",
          "2017",
          "2017",
          "2017",
          "2017",
          "2017",
          "2017",
          "2017",
          "2017",
          "2017",
          "2017",
          "2017",
          "2017",
          "2017",
          "2017",
          "2017",
          "2017",
          "2017",
          "2017",
          "2017",
          "2017",
          "2017",
          "2017",
          "2017",
          "2017",
          "2017",
          "2017",
          "2017",
          "2017",
          "2017",
          "2017",
          "2017",
          "2017",
          "2017",
          "2017",
          "2017",
          "2017",
          "2017",
          "2017",
          "2017",
          "2017",
          "2017",
          "2017",
          "2017",
          "2017",
          "2017",
          "2017",
          "2017",
          "2017",
          "2017",
          "2017",
          "2017",
          "2017",
          "2017",
          "2017",
          "2017",
          "2017",
          "2017",
          "2017",
          "2017",
          "2017",
          "2017",
          "2017",
          "2017",
          "2017",
          "2017",
          "2017",
          "2017",
          "2017",
          "2018",
          "2018",
          "2018",
          "2018",
          "2018",
          "2018",
          "2018",
          "2018",
          "2018",
          "2018",
          "2018",
          "2018",
          "2018",
          "2018",
          "2018",
          "2018",
          "2018",
          "2018",
          "2018",
          "2018",
          "2018",
          "2018",
          "2018",
          "2018",
          "2018",
          "2018",
          "2018",
          "2018",
          "2018",
          "2018",
          "2018",
          "2018",
          "2018",
          "2018",
          "2018",
          "2018",
          "2018",
          "2018",
          "2018",
          "2018",
          "2018",
          "2018",
          "2018",
          "2018",
          "2018",
          "2018",
          "2018",
          "2018",
          "2018",
          "2018",
          "2018",
          "2018",
          "2018",
          "2018",
          "2018",
          "2018",
          "2018",
          "2018",
          "2018",
          "2018",
          "2018",
          "2018",
          "2018",
          "2018",
          "2018",
          "2018",
          "2018",
          "2018",
          "2018",
          "2018",
          "2018",
          "2018",
          "2018",
          "2018",
          "2018",
          "2018",
          "2018",
          "2018",
          "2018",
          "2018",
          "2018",
          "2018",
          "2018",
          "2018",
          "2018",
          "2018",
          "2018",
          "2018",
          "2018",
          "2018",
          "2018",
          "2018",
          "2018",
          "2018",
          "2018",
          "2018",
          "2018",
          "2018",
          "2018",
          "2018",
          "2018",
          "2018",
          "2018",
          "2018",
          "2018",
          "2018",
          "2018",
          "2018",
          "2018",
          "2018",
          "2018",
          "2018",
          "2018",
          "2018",
          "2018",
          "2018",
          "2018",
          "2018",
          "2018",
          "2018",
          "2018",
          "2018",
          "2018",
          "2018",
          "2018",
          "2018",
          "2018",
          "2018",
          "2018",
          "2018",
          "2018",
          "2018",
          "2018",
          "2018",
          "2018",
          "2018",
          "2018",
          "2018",
          "2018",
          "2018",
          "2018",
          "2018",
          "2018",
          "2018",
          "2018",
          "2018",
          "2018",
          "2018",
          "2018",
          "2018",
          "2018",
          "2018",
          "2018",
          "2018",
          "2018",
          "2018",
          "2018",
          "2018",
          "2018",
          "2018",
          "2018",
          "2018",
          "2018",
          "2018",
          "2018",
          "2018",
          "2018",
          "2018",
          "2018",
          "2018",
          "2018",
          "2018",
          "2018",
          "2018",
          "2018",
          "2018",
          "2018",
          "2018",
          "2018",
          "2018",
          "2018",
          "2018",
          "2018",
          "2018",
          "2018",
          "2018",
          "2018",
          "2018",
          "2018",
          "2018",
          "2018",
          "2018",
          "2018",
          "2018",
          "2018",
          "2018",
          "2018",
          "2018",
          "2018",
          "2018",
          "2018",
          "2018",
          "2018",
          "2018",
          "2018",
          "2018",
          "2018",
          "2018",
          "2018",
          "2018",
          "2018",
          "2018",
          "2018",
          "2018",
          "2018",
          "2018",
          "2018",
          "2018",
          "2018",
          "2018",
          "2018",
          "2018",
          "2018",
          "2018",
          "2018",
          "2018",
          "2018",
          "2018",
          "2018",
          "2018",
          "2018",
          "2018",
          "2018",
          "2018",
          "2018",
          "2018",
          "2018",
          "2018",
          "2018",
          "2018",
          "2018",
          "2018",
          "2018",
          "2018",
          "2019",
          "2019",
          "2019",
          "2019",
          "2019",
          "2019",
          "2019",
          "2019",
          "2019",
          "2019",
          "2019",
          "2019",
          "2019",
          "2019",
          "2019",
          "2019",
          "2019",
          "2019",
          "2019",
          "2019",
          "2019",
          "2019",
          "2019",
          "2019",
          "2019",
          "2019",
          "2019",
          "2019",
          "2019",
          "2019",
          "2019",
          "2019",
          "2019",
          "2019",
          "2019",
          "2019",
          "2019",
          "2019",
          "2019",
          "2019",
          "2019",
          "2019",
          "2019",
          "2019",
          "2019",
          "2019",
          "2019",
          "2019",
          "2019",
          "2019",
          "2019",
          "2019",
          "2019",
          "2019",
          "2019",
          "2019",
          "2019",
          "2019",
          "2019",
          "2019",
          "2019",
          "2019",
          "2019",
          "2019",
          "2019",
          "2019",
          "2019",
          "2019",
          "2019",
          "2019",
          "2019",
          "2019",
          "2019",
          "2019",
          "2019",
          "2019",
          "2019",
          "2019",
          "2019",
          "2019",
          "2019",
          "2019",
          "2019",
          "2019",
          "2019",
          "2019",
          "2019",
          "2019",
          "2019",
          "2019",
          "2019",
          "2019",
          "2019",
          "2019",
          "2019",
          "2019",
          "2019",
          "2019",
          "2019",
          "2019",
          "2019",
          "2019",
          "2019",
          "2019",
          "2019",
          "2019",
          "2019",
          "2019",
          "2019",
          "2019",
          "2019",
          "2019",
          "2019",
          "2019",
          "2019",
          "2019",
          "2019",
          "2019",
          "2019",
          "2019",
          "2019",
          "2019",
          "2019",
          "2019",
          "2019",
          "2019",
          "2019",
          "2019",
          "2019",
          "2019",
          "2019",
          "2019",
          "2019",
          "2019",
          "2019",
          "2019",
          "2019",
          "2019",
          "2019",
          "2019",
          "2019",
          "2019",
          "2019",
          "2019",
          "2019",
          "2019",
          "2019",
          "2019",
          "2019",
          "2019",
          "2019",
          "2019",
          "2019",
          "2019",
          "2019",
          "2019",
          "2019",
          "2019",
          "2019",
          "2019",
          "2019",
          "2019",
          "2019",
          "2019",
          "2019",
          "2019",
          "2019",
          "2019",
          "2019",
          "2019",
          "2019",
          "2019",
          "2019",
          "2019",
          "2019",
          "2019",
          "2019",
          "2019",
          "2019",
          "2019",
          "2019",
          "2019",
          "2019",
          "2019",
          "2019",
          "2019",
          "2019",
          "2019",
          "2019",
          "2019",
          "2019",
          "2019",
          "2019",
          "2019",
          "2019",
          "2019",
          "2019",
          "2019",
          "2019",
          "2019",
          "2019",
          "2019",
          "2019",
          "2019",
          "2019",
          "2019",
          "2019",
          "2019",
          "2019",
          "2019",
          "2019",
          "2019",
          "2019",
          "2019",
          "2019",
          "2019",
          "2019",
          "2019",
          "2019",
          "2019",
          "2019",
          "2019",
          "2019",
          "2019",
          "2019",
          "2019",
          "2019",
          "2019",
          "2019",
          "2019",
          "2019",
          "2019",
          "2019",
          "2019",
          "2019",
          "2019",
          "2019",
          "2019",
          "2019",
          "2019",
          "2019",
          "2019",
          "2019",
          "2019",
          "2019",
          "2019",
          "2019",
          "2019",
          "2019",
          "2019",
          "2019",
          "2019",
          "2019",
          "2019",
          "2019",
          "2019",
          "2019",
          "2019",
          "2019",
          "2019",
          "2019",
          "2019",
          "2019",
          "2019",
          "2019",
          "2019",
          "2019",
          "2019",
          "2019",
          "2019",
          "2019",
          "2019",
          "2019",
          "2020",
          "2020",
          "2020",
          "2020",
          "2020",
          "2020",
          "2020",
          "2020",
          "2020",
          "2020",
          "2020",
          "2020",
          "2020",
          "2020",
          "2020",
          "2020",
          "2020",
          "2020",
          "2020",
          "2020",
          "2020",
          "2020",
          "2020",
          "2020",
          "2020",
          "2020",
          "2020",
          "2020",
          "2020",
          "2020",
          "2020",
          "2020",
          "2020",
          "2020",
          "2020",
          "2020",
          "2020",
          "2020",
          "2020",
          "2020",
          "2020",
          "2020",
          "2020",
          "2020",
          "2020",
          "2020",
          "2020",
          "2020",
          "2020",
          "2020",
          "2020",
          "2020",
          "2020",
          "2020",
          "2020",
          "2020",
          "2020",
          "2020",
          "2020",
          "2020",
          "2020",
          "2020",
          "2020",
          "2020",
          "2020",
          "2020",
          "2020",
          "2020",
          "2020",
          "2020",
          "2020",
          "2020",
          "2020",
          "2020",
          "2020",
          "2020",
          "2020",
          "2020",
          "2020",
          "2020",
          "2020",
          "2020",
          "2020",
          "2020",
          "2020",
          "2020",
          "2020",
          "2020",
          "2020",
          "2020",
          "2020",
          "2020",
          "2020",
          "2020",
          "2020",
          "2020",
          "2020",
          "2020",
          "2020",
          "2020",
          "2020",
          "2020",
          "2020",
          "2020",
          "2020",
          "2020",
          "2020",
          "2020",
          "2020",
          "2020",
          "2020",
          "2020",
          "2020",
          "2020",
          "2020",
          "2020",
          "2020",
          "2020",
          "2020",
          "2020",
          "2020",
          "2020",
          "2020",
          "2020",
          "2020",
          "2020",
          "2020",
          "2020",
          "2020",
          "2020",
          "2020",
          "2020",
          "2020",
          "2020",
          "2020",
          "2020",
          "2020",
          "2020",
          "2020",
          "2020",
          "2020",
          "2020",
          "2020",
          "2020",
          "2020",
          "2020",
          "2020",
          "2020",
          "2020",
          "2020",
          "2020",
          "2020",
          "2020",
          "2020",
          "2020",
          "2020",
          "2020",
          "2020",
          "2020",
          "2020",
          "2020",
          "2020",
          "2020",
          "2020",
          "2020",
          "2020",
          "2020",
          "2020",
          "2020",
          "2020",
          "2020",
          "2020",
          "2020",
          "2020",
          "2020",
          "2020",
          "2020",
          "2020",
          "2020",
          "2020",
          "2020",
          "2020",
          "2020",
          "2020",
          "2020",
          "2020",
          "2020",
          "2020",
          "2020",
          "2020",
          "2020",
          "2020",
          "2020",
          "2020",
          "2020",
          "2020",
          "2020",
          "2020",
          "2020",
          "2020",
          "2020",
          "2020",
          "2020",
          "2020",
          "2020",
          "2020",
          "2020",
          "2020",
          "2020",
          "2020",
          "2020",
          "2020",
          "2020",
          "2020",
          "2020",
          "2020",
          "2020",
          "2020",
          "2020",
          "2020",
          "2020",
          "2020",
          "2020",
          "2020",
          "2020",
          "2020",
          "2020",
          "2020",
          "2020",
          "2020",
          "2020",
          "2020",
          "2020",
          "2020",
          "2020",
          "2020",
          "2020",
          "2020",
          "2020",
          "2020",
          "2020",
          "2020",
          "2020",
          "2020",
          "2020",
          "2020",
          "2020",
          "2020",
          "2020",
          "2020",
          "2020",
          "2020",
          "2020",
          "2020",
          "2020",
          "2020",
          "2020",
          "2020",
          "2020",
          "2020",
          "2020",
          "2020",
          "2020",
          "2020",
          "2020",
          "2020",
          "2020",
          "2020",
          "2020",
          "2020",
          "2020",
          "2020",
          "2020",
          "2020",
          "2020",
          "2020",
          "2020",
          "2020",
          "2020",
          "2020",
          "2020",
          "2020",
          "2020",
          "2020",
          "2021",
          "2021",
          "2021",
          "2021",
          "2021",
          "2021",
          "2021",
          "2021",
          "2021",
          "2021",
          "2021",
          "2021",
          "2021",
          "2021",
          "2021",
          "2021",
          "2021",
          "2021",
          "2021",
          "2021",
          "2021",
          "2021",
          "2021",
          "2021",
          "2021",
          "2021",
          "2021",
          "2021",
          "2021",
          "2021",
          "2021",
          "2021",
          "2021",
          "2021",
          "2021",
          "2021",
          "2021",
          "2021",
          "2021",
          "2021",
          "2021",
          "2021",
          "2021",
          "2021",
          "2021",
          "2021",
          "2021",
          "2021",
          "2021",
          "2021",
          "2021",
          "2021",
          "2021",
          "2021",
          "2021",
          "2021",
          "2021",
          "2021",
          "2021",
          "2021",
          "2021",
          "2021",
          "2021",
          "2021",
          "2021",
          "2021",
          "2021",
          "2021",
          "2021",
          "2021",
          "2021",
          "2021",
          "2021",
          "2021",
          "2021",
          "2021",
          "2021",
          "2021",
          "2021",
          "2021",
          "2021",
          "2021",
          "2021",
          "2021",
          "2021",
          "2021",
          "2021",
          "2021",
          "2021",
          "2021",
          "2021",
          "2021",
          "2021",
          "2021",
          "2021",
          "2021",
          "2021",
          "2021",
          "2021",
          "2021",
          "2021",
          "2021",
          "2021",
          "2021",
          "2021",
          "2021",
          "2021",
          "2021",
          "2021",
          "2021",
          "2021",
          "2021",
          "2021",
          "2021",
          "2021",
          "2021",
          "2021",
          "2021",
          "2021",
          "2021",
          "2021",
          "2021",
          "2021",
          "2021",
          "2021",
          "2021",
          "2021",
          "2021",
          "2021",
          "2021",
          "2021",
          "2021",
          "2021",
          "2021",
          "2021",
          "2021",
          "2021",
          "2021",
          "2021",
          "2021",
          "2021",
          "2021",
          "2021",
          "2021",
          "2021",
          "2021",
          "2021",
          "2021",
          "2021",
          "2021",
          "2021",
          "2021",
          "2021",
          "2021",
          "2021",
          "2021",
          "2021",
          "2021",
          "2021",
          "2021",
          "2021",
          "2021",
          "2021",
          "2021",
          "2021",
          "2021",
          "2021",
          "2021",
          "2021",
          "2021",
          "2021",
          "2021",
          "2021",
          "2021",
          "2021",
          "2021",
          "2021",
          "2021",
          "2021",
          "2021",
          "2021",
          "2021",
          "2021",
          "2021",
          "2021",
          "2021",
          "2021",
          "2021",
          "2021",
          "2021",
          "2021",
          "2021",
          "2021",
          "2021",
          "2021",
          "2021",
          "2021",
          "2021",
          "2021",
          "2021",
          "2021",
          "2021",
          "2021",
          "2021",
          "2021",
          "2021",
          "2021",
          "2021",
          "2021",
          "2021",
          "2021",
          "2021",
          "2021",
          "2021",
          "2021",
          "2021",
          "2021",
          "2021",
          "2021",
          "2021",
          "2021",
          "2021",
          "2021",
          "2021",
          "2021",
          "2021",
          "2021",
          "2021",
          "2021",
          "2021",
          "2021",
          "2021",
          "2021",
          "2021",
          "2021",
          "2021",
          "2021",
          "2021",
          "2021",
          "2021",
          "2021",
          "2021",
          "2021",
          "2021",
          "2021",
          "2021",
          "2021",
          "2021",
          "2021",
          "2021",
          "2021",
          "2021",
          "2021",
          "2021",
          "2021",
          "2021",
          "2021",
          "2021",
          "2021",
          "2021",
          "2021",
          "2021",
          "2021",
          "2021",
          "2021",
          "2021",
          "2021",
          "2021",
          "2021",
          "2021",
          "2021",
          "2021",
          "2021",
          "2021",
          "2021",
          "2021",
          "2021",
          "2021",
          "2021",
          "2021",
          "2021",
          "2021",
          "2021",
          "2021",
          "2021",
          "2021",
          "2021",
          "2021",
          "2021",
          "2021",
          "2021",
          "2021",
          "2021",
          "2021",
          "2021",
          "2021",
          "2021",
          "2022",
          "2022",
          "2022",
          "2022",
          "2022",
          "2022",
          "2022",
          "2022",
          "2022",
          "2022",
          "2022",
          "2022",
          "2022",
          "2022",
          "2022",
          "2022",
          "2022",
          "2022",
          "2022",
          "2022",
          "2022",
          "2022",
          "2022",
          "2022",
          "2022",
          "2022",
          "2022",
          "2022",
          "2022",
          "2022",
          "2022",
          "2022",
          "2022",
          "2022",
          "2022",
          "2022",
          "2022",
          "2022",
          "2022",
          "2022",
          "2022",
          "2022",
          "2022",
          "2022",
          "2022",
          "2022",
          "2022",
          "2022",
          "2022",
          "2022",
          "2022",
          "2022",
          "2022",
          "2022",
          "2022",
          "2022",
          "2022",
          "2022",
          "2022",
          "2022",
          "2022",
          "2022",
          "2022",
          "2022",
          "2022",
          "2022",
          "2022",
          "2022",
          "2022",
          "2022",
          "2022",
          "2022",
          "2022",
          "2022",
          "2022",
          "2022",
          "2022",
          "2022",
          "2022",
          "2022",
          "2022",
          "2022",
          "2022",
          "2022",
          "2022",
          "2022",
          "2022",
          "2022",
          "2022",
          "2022",
          "2022",
          "2022",
          "2022",
          "2022",
          "2022",
          "2022",
          "2022",
          "2022",
          "2022",
          "2022",
          "2022",
          "2022",
          "2022",
          "2022",
          "2022",
          "2022",
          "2022",
          "2022",
          "2022",
          "2022",
          "2022",
          "2022",
          "2022",
          "2022",
          "2022",
          "2022",
          "2022",
          "2022",
          "2022",
          "2022",
          "2022",
          "2022",
          "2022",
          "2022",
          "2022",
          "2022",
          "2022",
          "2022",
          "2022",
          "2022",
          "2022",
          "2022",
          "2022",
          "2022",
          "2022",
          "2022",
          "2022",
          "2022",
          "2022",
          "2022",
          "2022",
          "2022",
          "2022",
          "2022",
          "2022",
          "2022",
          "2022",
          "2022",
          "2022",
          "2022",
          "2022",
          "2022",
          "2022",
          "2022",
          "2022",
          "2022",
          "2022",
          "2022",
          "2022",
          "2022",
          "2022",
          "2022",
          "2022",
          "2022",
          "2022",
          "2022",
          "2022",
          "2022",
          "2022",
          "2022",
          "2022",
          "2022",
          "2022",
          "2022",
          "2022",
          "2022",
          "2022",
          "2022",
          "2022",
          "2022",
          "2022",
          "2022",
          "2022",
          "2022",
          "2022",
          "2022",
          "2022",
          "2022",
          "2022",
          "2022",
          "2022",
          "2022",
          "2022",
          "2022",
          "2022",
          "2022",
          "2022",
          "2022",
          "2022",
          "2022",
          "2022",
          "2022",
          "2022",
          "2022",
          "2022",
          "2022",
          "2022",
          "2022",
          "2022",
          "2022",
          "2022",
          "2022",
          "2022",
          "2022",
          "2022",
          "2022",
          "2022",
          "2022",
          "2022",
          "2022",
          "2022",
          "2022",
          "2022",
          "2022",
          "2022",
          "2022",
          "2022",
          "2022",
          "2022",
          "2022",
          "2022",
          "2022",
          "2022",
          "2022",
          "2022",
          "2022",
          "2022",
          "2022",
          "2022",
          "2022",
          "2022",
          "2022",
          "2022",
          "2022",
          "2022",
          "2022",
          "2022",
          "2022",
          "2022",
          "2022",
          "2022",
          "2022",
          "2022",
          "2022",
          "2022",
          "2022",
          "2022",
          "2022",
          "2022",
          "2022",
          "2022",
          "2022",
          "2022",
          "2022",
          "2022",
          "2022",
          "2022",
          "2022",
          "2022",
          "2022",
          "2022",
          "2022",
          "2022",
          "2022",
          "2022",
          "2022",
          "2022",
          "2022",
          "2022",
          "2022",
          "2022",
          "2022",
          "2022",
          "2022",
          "2022",
          "2022",
          "2022",
          "2022",
          "2022",
          "2022",
          "2022",
          "2022",
          "2022",
          "2022",
          "2022",
          "2022",
          "2022",
          "2022",
          "2022",
          "2022",
          "2022",
          "2022",
          "2022",
          "2022",
          "2022",
          "2022",
          "2022",
          "2022",
          "2022",
          "2022",
          "2022",
          "2022",
          "2022",
          "2022",
          "2022",
          "2023",
          "2023",
          "2023",
          "2023",
          "2023",
          "2023",
          "2023",
          "2023",
          "2023",
          "2023",
          "2023",
          "2023",
          "2023",
          "2023",
          "2023",
          "2023",
          "2023",
          "2023",
          "2023",
          "2023",
          "2023",
          "2023",
          "2023",
          "2023",
          "2023",
          "2023",
          "2023",
          "2023",
          "2023",
          "2023",
          "2023",
          "2023",
          "2023",
          "2023",
          "2023",
          "2023",
          "2023",
          "2023",
          "2023",
          "2023",
          "2023",
          "2023",
          "2023",
          "2023",
          "2023",
          "2023",
          "2023",
          "2023",
          "2023",
          "2023",
          "2023",
          "2023",
          "2023",
          "2023",
          "2023",
          "2023",
          "2023",
          "2023",
          "2023",
          "2023",
          "2023",
          "2023",
          "2023",
          "2023",
          "2023",
          "2023",
          "2023",
          "2023",
          "2023",
          "2023",
          "2023",
          "2023",
          "2023",
          "2023",
          "2023",
          "2023",
          "2023",
          "2023",
          "2023",
          "2023",
          "2023",
          "2023",
          "2023",
          "2023",
          "2023",
          "2023",
          "2023",
          "2023",
          "2023",
          "2023",
          "2023",
          "2023",
          "2023",
          "2023",
          "2023",
          "2023",
          "2023",
          "2023",
          "2023",
          "2023",
          "2023",
          "2023",
          "2023",
          "2023",
          "2023",
          "2023",
          "2023",
          "2023",
          "2023",
          "2023",
          "2023",
          "2023",
          "2023",
          "2023",
          "2023",
          "2023",
          "2023",
          "2023",
          "2023",
          "2023",
          "2023",
          "2023",
          "2023",
          "2023",
          "2023",
          "2023",
          "2023",
          "2023",
          "2023",
          "2023",
          "2023",
          "2023",
          "2023",
          "2023",
          "2023",
          "2023",
          "2023",
          "2023",
          "2023",
          "2023",
          "2023",
          "2023",
          "2023",
          "2023",
          "2023",
          "2023",
          "2023",
          "2023",
          "2023",
          "2023",
          "2023",
          "2023",
          "2023",
          "2023",
          "2023",
          "2023",
          "2023",
          "2023",
          "2023",
          "2023",
          "2023",
          "2023",
          "2023",
          "2023",
          "2023",
          "2023",
          "2023",
          "2023",
          "2023",
          "2023",
          "2023",
          "2023",
          "2023",
          "2023",
          "2023",
          "2023",
          "2023",
          "2023",
          "2023",
          "2023",
          "2023",
          "2023",
          "2023",
          "2023",
          "2023",
          "2023",
          "2023",
          "2023",
          "2023",
          "2023",
          "2023",
          "2023",
          "2023",
          "2023",
          "2023",
          "2023",
          "2023",
          "2023",
          "2023",
          "2023",
          "2023",
          "2023",
          "2023",
          "2023",
          "2023",
          "2023",
          "2023",
          "2023",
          "2023",
          "2023",
          "2023",
          "2023",
          "2023",
          "2023",
          "2023",
          "2023",
          "2023",
          "2023",
          "2023",
          "2023",
          "2023",
          "2023",
          "2023",
          "2023",
          "2023",
          "2023",
          "2023",
          "2023",
          "2023",
          "2023",
          "2023",
          "2023",
          "2023",
          "2023",
          "2023",
          "2023",
          "2023",
          "2023",
          "2023",
          "2023",
          "2023",
          "2023",
          "2023",
          "2023",
          "2023",
          "2023",
          "2023",
          "2023",
          "2023",
          "2023",
          "2023",
          "2023",
          "2023",
          "2023",
          "2023",
          "2023",
          "2023",
          "2023",
          "2023",
          "2023",
          "2023",
          "2023",
          "2023",
          "2023",
          "2023",
          "2023",
          "2023",
          "2023",
          "2023",
          "2023",
          "2023",
          "2023",
          "2023",
          "2023",
          "2023",
          "2023",
          "2023",
          "2023",
          "2023",
          "2023",
          "2023",
          "2023",
          "2023",
          "2023",
          "2023",
          "2023",
          "2023",
          "2023",
          "2023",
          "2023",
          "2023",
          "2023",
          "2023",
          "2023",
          "2023",
          "2023",
          "2023",
          "2023",
          "2023",
          "2023",
          "2023",
          "2023",
          "2023",
          "2023",
          "2023",
          "2023",
          "2023",
          "2023",
          "2023",
          "2023",
          "2023",
          "2023",
          "2023",
          "2023",
          "2023",
          "2023",
          "2023",
          "2023",
          "2023",
          "2023",
          "2023",
          "2023",
          "2023",
          "2024",
          "2024",
          "2024",
          "2024",
          "2024",
          "2024",
          "2024",
          "2024",
          "2024",
          "2024",
          "2024",
          "2024",
          "2024",
          "2024",
          "2024",
          "2024",
          "2024",
          "2024",
          "2024",
          "2024",
          "2024",
          "2024",
          "2024",
          "2024",
          "2024",
          "2024",
          "2024",
          "2024",
          "2024",
          "2024",
          "2024",
          "2024",
          "2024",
          "2024",
          "2024",
          "2024",
          "2024",
          "2024",
          "2024",
          "2024",
          "2024",
          "2024",
          "2024",
          "2024",
          "2024",
          "2024",
          "2024",
          "2024",
          "2024",
          "2024",
          "2024",
          "2024",
          "2024",
          "2024",
          "2024",
          "2024",
          "2024",
          "2024",
          "2024",
          "2024",
          "2024",
          "2024",
          "2024",
          "2024",
          "2024",
          "2024",
          "2024",
          "2024",
          "2024",
          "2024",
          "2024",
          "2024",
          "2024",
          "2024",
          "2024",
          "2024",
          "2024",
          "2024",
          "2024",
          "2024",
          "2024",
          "2024",
          "2024",
          "2024",
          "2024",
          "2024",
          "2024",
          "2024",
          "2024",
          "2024",
          "2024",
          "2024",
          "2024",
          "2024",
          "2024",
          "2024",
          "2024",
          "2024",
          "2024",
          "2024",
          "2024",
          "2024",
          "2024",
          "2024",
          "2024",
          "2024",
          "2024",
          "2024",
          "2024",
          "2024",
          "2024",
          "2024",
          "2024",
          "2024",
          "2024",
          "2024",
          "2024",
          "2024",
          "2024",
          "2024",
          "2024",
          "2024",
          "2024",
          "2024",
          "2024",
          "2024",
          "2024",
          "2024",
          "2024",
          "2024",
          "2024",
          "2024",
          "2024",
          "2024",
          "2024",
          "2024",
          "2024",
          "2024",
          "2024",
          "2024",
          "2024",
          "2024",
          "2024",
          "2024",
          "2024",
          "2024",
          "2024",
          "2024",
          "2024",
          "2024",
          "2024",
          "2024",
          "2024",
          "2024",
          "2024",
          "2024",
          "2024",
          "2024",
          "2024",
          "2024",
          "2024",
          "2024",
          "2024",
          "2024",
          "2024",
          "2024",
          "2024",
          "2024",
          "2024",
          "2024",
          "2024",
          "2024",
          "2024",
          "2024",
          "2024",
          "2024",
          "2024",
          "2024",
          "2024",
          "2024",
          "2024",
          "2024",
          "2024",
          "2024",
          "2024",
          "2024",
          "2024",
          "2024",
          "2024",
          "2024",
          "2024",
          "2024",
          "2024",
          "2024",
          "2024",
          "2024",
          "2024",
          "2024",
          "2024",
          "2024",
          "2024",
          "2024",
          "2024",
          "2024",
          "2024",
          "2024",
          "2024",
          "2024",
          "2024",
          "2024",
          "2024",
          "2024",
          "2024",
          "2024",
          "2024",
          "2024",
          "2024",
          "2024",
          "2024",
          "2024",
          "2024",
          "2024",
          "2024",
          "2024",
          "2024",
          "2024",
          "2024",
          "2024",
          "2024",
          "2024",
          "2024",
          "2024",
          "2024",
          "2024",
          "2024",
          "2024",
          "2024",
          "2024",
          "2024",
          "2024",
          "2024",
          "2024",
          "2024",
          "2024",
          "2024",
          "2024",
          "2024",
          "2024",
          "2024",
          "2024",
          "2024",
          "2024",
          "2024",
          "2024",
          "2024",
          "2024",
          "2024",
          "2024",
          "2024",
          "2024",
          "2024",
          "2024",
          "2024",
          "2024",
          "2024",
          "2024",
          "2024",
          "2024",
          "2024",
          "2024",
          "2024",
          "2024",
          "2024",
          "2024",
          "2024",
          "2024",
          "2024",
          "2024",
          "2024",
          "2024",
          "2024",
          "2024",
          "2024",
          "2024",
          "2024",
          "2024",
          "2024",
          "2024",
          "2024",
          "2024",
          "2024",
          "2024",
          "2024",
          "2024",
          "2024",
          "2024",
          "2024",
          "2024",
          "2024",
          "2024",
          "2024",
          "2024",
          "2024",
          "2024",
          "2024",
          "2024",
          "2024",
          "2024",
          "2024",
          "2024",
          "2024",
          "2024",
          "2024",
          "2024",
          "2024",
          "2024",
          "2024",
          "2024",
          "2024",
          "2024",
          "2024",
          "2024",
          "2024",
          "2024",
          "2024",
          "2024"
         ],
         "y0": " ",
         "yaxis": "y"
        }
       ],
       "layout": {
        "boxmode": "group",
        "font": {
         "size": 18
        },
        "height": 1500,
        "legend": {
         "title": {
          "text": "Date"
         },
         "tracegroupgap": 0,
         "traceorder": "reversed"
        },
        "margin": {
         "t": 60
        },
        "template": {
         "data": {
          "bar": [
           {
            "error_x": {
             "color": "#2a3f5f"
            },
            "error_y": {
             "color": "#2a3f5f"
            },
            "marker": {
             "line": {
              "color": "white",
              "width": 0.5
             },
             "pattern": {
              "fillmode": "overlay",
              "size": 10,
              "solidity": 0.2
             }
            },
            "type": "bar"
           }
          ],
          "barpolar": [
           {
            "marker": {
             "line": {
              "color": "white",
              "width": 0.5
             },
             "pattern": {
              "fillmode": "overlay",
              "size": 10,
              "solidity": 0.2
             }
            },
            "type": "barpolar"
           }
          ],
          "carpet": [
           {
            "aaxis": {
             "endlinecolor": "#2a3f5f",
             "gridcolor": "#C8D4E3",
             "linecolor": "#C8D4E3",
             "minorgridcolor": "#C8D4E3",
             "startlinecolor": "#2a3f5f"
            },
            "baxis": {
             "endlinecolor": "#2a3f5f",
             "gridcolor": "#C8D4E3",
             "linecolor": "#C8D4E3",
             "minorgridcolor": "#C8D4E3",
             "startlinecolor": "#2a3f5f"
            },
            "type": "carpet"
           }
          ],
          "choropleth": [
           {
            "colorbar": {
             "outlinewidth": 0,
             "ticks": ""
            },
            "type": "choropleth"
           }
          ],
          "contour": [
           {
            "colorbar": {
             "outlinewidth": 0,
             "ticks": ""
            },
            "colorscale": [
             [
              0,
              "#0d0887"
             ],
             [
              0.1111111111111111,
              "#46039f"
             ],
             [
              0.2222222222222222,
              "#7201a8"
             ],
             [
              0.3333333333333333,
              "#9c179e"
             ],
             [
              0.4444444444444444,
              "#bd3786"
             ],
             [
              0.5555555555555556,
              "#d8576b"
             ],
             [
              0.6666666666666666,
              "#ed7953"
             ],
             [
              0.7777777777777778,
              "#fb9f3a"
             ],
             [
              0.8888888888888888,
              "#fdca26"
             ],
             [
              1,
              "#f0f921"
             ]
            ],
            "type": "contour"
           }
          ],
          "contourcarpet": [
           {
            "colorbar": {
             "outlinewidth": 0,
             "ticks": ""
            },
            "type": "contourcarpet"
           }
          ],
          "heatmap": [
           {
            "colorbar": {
             "outlinewidth": 0,
             "ticks": ""
            },
            "colorscale": [
             [
              0,
              "#0d0887"
             ],
             [
              0.1111111111111111,
              "#46039f"
             ],
             [
              0.2222222222222222,
              "#7201a8"
             ],
             [
              0.3333333333333333,
              "#9c179e"
             ],
             [
              0.4444444444444444,
              "#bd3786"
             ],
             [
              0.5555555555555556,
              "#d8576b"
             ],
             [
              0.6666666666666666,
              "#ed7953"
             ],
             [
              0.7777777777777778,
              "#fb9f3a"
             ],
             [
              0.8888888888888888,
              "#fdca26"
             ],
             [
              1,
              "#f0f921"
             ]
            ],
            "type": "heatmap"
           }
          ],
          "histogram": [
           {
            "marker": {
             "pattern": {
              "fillmode": "overlay",
              "size": 10,
              "solidity": 0.2
             }
            },
            "type": "histogram"
           }
          ],
          "histogram2d": [
           {
            "colorbar": {
             "outlinewidth": 0,
             "ticks": ""
            },
            "colorscale": [
             [
              0,
              "#0d0887"
             ],
             [
              0.1111111111111111,
              "#46039f"
             ],
             [
              0.2222222222222222,
              "#7201a8"
             ],
             [
              0.3333333333333333,
              "#9c179e"
             ],
             [
              0.4444444444444444,
              "#bd3786"
             ],
             [
              0.5555555555555556,
              "#d8576b"
             ],
             [
              0.6666666666666666,
              "#ed7953"
             ],
             [
              0.7777777777777778,
              "#fb9f3a"
             ],
             [
              0.8888888888888888,
              "#fdca26"
             ],
             [
              1,
              "#f0f921"
             ]
            ],
            "type": "histogram2d"
           }
          ],
          "histogram2dcontour": [
           {
            "colorbar": {
             "outlinewidth": 0,
             "ticks": ""
            },
            "colorscale": [
             [
              0,
              "#0d0887"
             ],
             [
              0.1111111111111111,
              "#46039f"
             ],
             [
              0.2222222222222222,
              "#7201a8"
             ],
             [
              0.3333333333333333,
              "#9c179e"
             ],
             [
              0.4444444444444444,
              "#bd3786"
             ],
             [
              0.5555555555555556,
              "#d8576b"
             ],
             [
              0.6666666666666666,
              "#ed7953"
             ],
             [
              0.7777777777777778,
              "#fb9f3a"
             ],
             [
              0.8888888888888888,
              "#fdca26"
             ],
             [
              1,
              "#f0f921"
             ]
            ],
            "type": "histogram2dcontour"
           }
          ],
          "mesh3d": [
           {
            "colorbar": {
             "outlinewidth": 0,
             "ticks": ""
            },
            "type": "mesh3d"
           }
          ],
          "parcoords": [
           {
            "line": {
             "colorbar": {
              "outlinewidth": 0,
              "ticks": ""
             }
            },
            "type": "parcoords"
           }
          ],
          "pie": [
           {
            "automargin": true,
            "type": "pie"
           }
          ],
          "scatter": [
           {
            "fillpattern": {
             "fillmode": "overlay",
             "size": 10,
             "solidity": 0.2
            },
            "type": "scatter"
           }
          ],
          "scatter3d": [
           {
            "line": {
             "colorbar": {
              "outlinewidth": 0,
              "ticks": ""
             }
            },
            "marker": {
             "colorbar": {
              "outlinewidth": 0,
              "ticks": ""
             }
            },
            "type": "scatter3d"
           }
          ],
          "scattercarpet": [
           {
            "marker": {
             "colorbar": {
              "outlinewidth": 0,
              "ticks": ""
             }
            },
            "type": "scattercarpet"
           }
          ],
          "scattergeo": [
           {
            "marker": {
             "colorbar": {
              "outlinewidth": 0,
              "ticks": ""
             }
            },
            "type": "scattergeo"
           }
          ],
          "scattergl": [
           {
            "marker": {
             "colorbar": {
              "outlinewidth": 0,
              "ticks": ""
             }
            },
            "type": "scattergl"
           }
          ],
          "scattermap": [
           {
            "marker": {
             "colorbar": {
              "outlinewidth": 0,
              "ticks": ""
             }
            },
            "type": "scattermap"
           }
          ],
          "scattermapbox": [
           {
            "marker": {
             "colorbar": {
              "outlinewidth": 0,
              "ticks": ""
             }
            },
            "type": "scattermapbox"
           }
          ],
          "scatterpolar": [
           {
            "marker": {
             "colorbar": {
              "outlinewidth": 0,
              "ticks": ""
             }
            },
            "type": "scatterpolar"
           }
          ],
          "scatterpolargl": [
           {
            "marker": {
             "colorbar": {
              "outlinewidth": 0,
              "ticks": ""
             }
            },
            "type": "scatterpolargl"
           }
          ],
          "scatterternary": [
           {
            "marker": {
             "colorbar": {
              "outlinewidth": 0,
              "ticks": ""
             }
            },
            "type": "scatterternary"
           }
          ],
          "surface": [
           {
            "colorbar": {
             "outlinewidth": 0,
             "ticks": ""
            },
            "colorscale": [
             [
              0,
              "#0d0887"
             ],
             [
              0.1111111111111111,
              "#46039f"
             ],
             [
              0.2222222222222222,
              "#7201a8"
             ],
             [
              0.3333333333333333,
              "#9c179e"
             ],
             [
              0.4444444444444444,
              "#bd3786"
             ],
             [
              0.5555555555555556,
              "#d8576b"
             ],
             [
              0.6666666666666666,
              "#ed7953"
             ],
             [
              0.7777777777777778,
              "#fb9f3a"
             ],
             [
              0.8888888888888888,
              "#fdca26"
             ],
             [
              1,
              "#f0f921"
             ]
            ],
            "type": "surface"
           }
          ],
          "table": [
           {
            "cells": {
             "fill": {
              "color": "#EBF0F8"
             },
             "line": {
              "color": "white"
             }
            },
            "header": {
             "fill": {
              "color": "#C8D4E3"
             },
             "line": {
              "color": "white"
             }
            },
            "type": "table"
           }
          ]
         },
         "layout": {
          "annotationdefaults": {
           "arrowcolor": "#2a3f5f",
           "arrowhead": 0,
           "arrowwidth": 1
          },
          "autotypenumbers": "strict",
          "coloraxis": {
           "colorbar": {
            "outlinewidth": 0,
            "ticks": ""
           }
          },
          "colorscale": {
           "diverging": [
            [
             0,
             "#8e0152"
            ],
            [
             0.1,
             "#c51b7d"
            ],
            [
             0.2,
             "#de77ae"
            ],
            [
             0.3,
             "#f1b6da"
            ],
            [
             0.4,
             "#fde0ef"
            ],
            [
             0.5,
             "#f7f7f7"
            ],
            [
             0.6,
             "#e6f5d0"
            ],
            [
             0.7,
             "#b8e186"
            ],
            [
             0.8,
             "#7fbc41"
            ],
            [
             0.9,
             "#4d9221"
            ],
            [
             1,
             "#276419"
            ]
           ],
           "sequential": [
            [
             0,
             "#0d0887"
            ],
            [
             0.1111111111111111,
             "#46039f"
            ],
            [
             0.2222222222222222,
             "#7201a8"
            ],
            [
             0.3333333333333333,
             "#9c179e"
            ],
            [
             0.4444444444444444,
             "#bd3786"
            ],
            [
             0.5555555555555556,
             "#d8576b"
            ],
            [
             0.6666666666666666,
             "#ed7953"
            ],
            [
             0.7777777777777778,
             "#fb9f3a"
            ],
            [
             0.8888888888888888,
             "#fdca26"
            ],
            [
             1,
             "#f0f921"
            ]
           ],
           "sequentialminus": [
            [
             0,
             "#0d0887"
            ],
            [
             0.1111111111111111,
             "#46039f"
            ],
            [
             0.2222222222222222,
             "#7201a8"
            ],
            [
             0.3333333333333333,
             "#9c179e"
            ],
            [
             0.4444444444444444,
             "#bd3786"
            ],
            [
             0.5555555555555556,
             "#d8576b"
            ],
            [
             0.6666666666666666,
             "#ed7953"
            ],
            [
             0.7777777777777778,
             "#fb9f3a"
            ],
            [
             0.8888888888888888,
             "#fdca26"
            ],
            [
             1,
             "#f0f921"
            ]
           ]
          },
          "colorway": [
           "#636efa",
           "#EF553B",
           "#00cc96",
           "#ab63fa",
           "#FFA15A",
           "#19d3f3",
           "#FF6692",
           "#B6E880",
           "#FF97FF",
           "#FECB52"
          ],
          "font": {
           "color": "#2a3f5f"
          },
          "geo": {
           "bgcolor": "white",
           "lakecolor": "white",
           "landcolor": "white",
           "showlakes": true,
           "showland": true,
           "subunitcolor": "#C8D4E3"
          },
          "hoverlabel": {
           "align": "left"
          },
          "hovermode": "closest",
          "mapbox": {
           "style": "light"
          },
          "paper_bgcolor": "white",
          "plot_bgcolor": "white",
          "polar": {
           "angularaxis": {
            "gridcolor": "#EBF0F8",
            "linecolor": "#EBF0F8",
            "ticks": ""
           },
           "bgcolor": "white",
           "radialaxis": {
            "gridcolor": "#EBF0F8",
            "linecolor": "#EBF0F8",
            "ticks": ""
           }
          },
          "scene": {
           "xaxis": {
            "backgroundcolor": "white",
            "gridcolor": "#DFE8F3",
            "gridwidth": 2,
            "linecolor": "#EBF0F8",
            "showbackground": true,
            "ticks": "",
            "zerolinecolor": "#EBF0F8"
           },
           "yaxis": {
            "backgroundcolor": "white",
            "gridcolor": "#DFE8F3",
            "gridwidth": 2,
            "linecolor": "#EBF0F8",
            "showbackground": true,
            "ticks": "",
            "zerolinecolor": "#EBF0F8"
           },
           "zaxis": {
            "backgroundcolor": "white",
            "gridcolor": "#DFE8F3",
            "gridwidth": 2,
            "linecolor": "#EBF0F8",
            "showbackground": true,
            "ticks": "",
            "zerolinecolor": "#EBF0F8"
           }
          },
          "shapedefaults": {
           "line": {
            "color": "#2a3f5f"
           }
          },
          "ternary": {
           "aaxis": {
            "gridcolor": "#DFE8F3",
            "linecolor": "#A2B1C6",
            "ticks": ""
           },
           "baxis": {
            "gridcolor": "#DFE8F3",
            "linecolor": "#A2B1C6",
            "ticks": ""
           },
           "bgcolor": "white",
           "caxis": {
            "gridcolor": "#DFE8F3",
            "linecolor": "#A2B1C6",
            "ticks": ""
           }
          },
          "title": {
           "x": 0.05
          },
          "xaxis": {
           "automargin": true,
           "gridcolor": "#EBF0F8",
           "linecolor": "#EBF0F8",
           "ticks": "",
           "title": {
            "standoff": 15
           },
           "zerolinecolor": "#EBF0F8",
           "zerolinewidth": 2
          },
          "yaxis": {
           "automargin": true,
           "gridcolor": "#EBF0F8",
           "linecolor": "#EBF0F8",
           "ticks": "",
           "title": {
            "standoff": 15
           },
           "zerolinecolor": "#EBF0F8",
           "zerolinewidth": 2
          }
         }
        },
        "title": {
         "text": "M-Score"
        },
        "width": 1000,
        "xaxis": {
         "anchor": "y",
         "domain": [
          0,
          1
         ],
         "title": {
          "text": "M-Score"
         }
        },
        "yaxis": {
         "anchor": "x",
         "domain": [
          0,
          1
         ],
         "title": {
          "text": "Date"
         }
        }
       }
      }
     },
     "metadata": {},
     "output_type": "display_data"
    },
    {
     "data": {
      "application/vnd.plotly.v1+json": {
       "config": {
        "plotlyServerURL": "https://chart-studio.plotly.com"
       },
       "data": [
        {
         "alignmentgroup": "True",
         "hovertemplate": "x=%{x}<br>y=%{y}<extra></extra>",
         "jitter": 1,
         "legendgroup": "",
         "marker": {
          "color": "#636efa"
         },
         "name": "",
         "notched": false,
         "offsetgroup": "",
         "orientation": "h",
         "showlegend": false,
         "type": "box",
         "x": {
          "bdata": "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",
          "dtype": "f8"
         },
         "x0": " ",
         "xaxis": "x",
         "y": [
          "2012",
          "2012",
          "2012",
          "2012",
          "2012",
          "2012",
          "2012",
          "2012",
          "2012",
          "2012",
          "2012",
          "2012",
          "2012",
          "2012",
          "2012",
          "2012",
          "2012",
          "2012",
          "2012",
          "2012",
          "2012",
          "2012",
          "2012",
          "2012",
          "2012",
          "2012",
          "2012",
          "2012",
          "2012",
          "2012",
          "2012",
          "2012",
          "2012",
          "2012",
          "2012",
          "2012",
          "2012",
          "2012",
          "2012",
          "2012",
          "2012",
          "2012",
          "2012",
          "2012",
          "2012",
          "2012",
          "2012",
          "2012",
          "2012",
          "2012",
          "2012",
          "2012",
          "2012",
          "2012",
          "2012",
          "2012",
          "2012",
          "2012",
          "2012",
          "2012",
          "2012",
          "2012",
          "2012",
          "2012",
          "2012",
          "2012",
          "2012",
          "2012",
          "2012",
          "2012",
          "2012",
          "2012",
          "2012",
          "2012",
          "2012",
          "2012",
          "2012",
          "2012",
          "2012",
          "2012",
          "2012",
          "2012",
          "2012",
          "2012",
          "2012",
          "2012",
          "2012",
          "2012",
          "2012",
          "2012",
          "2012",
          "2012",
          "2012",
          "2012",
          "2012",
          "2012",
          "2012",
          "2012",
          "2012",
          "2012",
          "2012",
          "2012",
          "2012",
          "2012",
          "2012",
          "2012",
          "2012",
          "2012",
          "2012",
          "2012",
          "2012",
          "2012",
          "2012",
          "2012",
          "2012",
          "2012",
          "2012",
          "2012",
          "2012",
          "2012",
          "2012",
          "2012",
          "2012",
          "2012",
          "2012",
          "2012",
          "2012",
          "2012",
          "2012",
          "2012",
          "2012",
          "2012",
          "2012",
          "2012",
          "2012",
          "2012",
          "2012",
          "2012",
          "2012",
          "2012",
          "2012",
          "2012",
          "2012",
          "2012",
          "2012",
          "2012",
          "2012",
          "2012",
          "2012",
          "2012",
          "2012",
          "2012",
          "2012",
          "2012",
          "2012",
          "2012",
          "2012",
          "2012",
          "2012",
          "2012",
          "2012",
          "2012",
          "2012",
          "2012",
          "2012",
          "2012",
          "2012",
          "2012",
          "2012",
          "2012",
          "2012",
          "2012",
          "2012",
          "2012",
          "2012",
          "2012",
          "2012",
          "2012",
          "2012",
          "2012",
          "2012",
          "2012",
          "2012",
          "2012",
          "2012",
          "2012",
          "2012",
          "2012",
          "2012",
          "2012",
          "2012",
          "2012",
          "2012",
          "2012",
          "2012",
          "2012",
          "2012",
          "2012",
          "2012",
          "2012",
          "2012",
          "2012",
          "2012",
          "2012",
          "2012",
          "2012",
          "2012",
          "2012",
          "2012",
          "2012",
          "2012",
          "2012",
          "2012",
          "2012",
          "2012",
          "2012",
          "2012",
          "2012",
          "2012",
          "2012",
          "2012",
          "2012",
          "2012",
          "2012",
          "2012",
          "2012",
          "2012",
          "2012",
          "2012",
          "2012",
          "2012",
          "2012",
          "2012",
          "2012",
          "2012",
          "2012",
          "2012",
          "2012",
          "2012",
          "2012",
          "2012",
          "2012",
          "2012",
          "2012",
          "2012",
          "2012",
          "2012",
          "2012",
          "2012",
          "2012",
          "2012",
          "2012",
          "2012",
          "2012",
          "2012",
          "2012",
          "2012",
          "2012",
          "2012",
          "2013",
          "2013",
          "2013",
          "2013",
          "2013",
          "2013",
          "2013",
          "2013",
          "2013",
          "2013",
          "2013",
          "2013",
          "2013",
          "2013",
          "2013",
          "2013",
          "2013",
          "2013",
          "2013",
          "2013",
          "2013",
          "2013",
          "2013",
          "2013",
          "2013",
          "2013",
          "2013",
          "2013",
          "2013",
          "2013",
          "2013",
          "2013",
          "2013",
          "2013",
          "2013",
          "2013",
          "2013",
          "2013",
          "2013",
          "2013",
          "2013",
          "2013",
          "2013",
          "2013",
          "2013",
          "2013",
          "2013",
          "2013",
          "2013",
          "2013",
          "2013",
          "2013",
          "2013",
          "2013",
          "2013",
          "2013",
          "2013",
          "2013",
          "2013",
          "2013",
          "2013",
          "2013",
          "2013",
          "2013",
          "2013",
          "2013",
          "2013",
          "2013",
          "2013",
          "2013",
          "2013",
          "2013",
          "2013",
          "2013",
          "2013",
          "2013",
          "2013",
          "2013",
          "2013",
          "2013",
          "2013",
          "2013",
          "2013",
          "2013",
          "2013",
          "2013",
          "2013",
          "2013",
          "2013",
          "2013",
          "2013",
          "2013",
          "2013",
          "2013",
          "2013",
          "2013",
          "2013",
          "2013",
          "2013",
          "2013",
          "2013",
          "2013",
          "2013",
          "2013",
          "2013",
          "2013",
          "2013",
          "2013",
          "2013",
          "2013",
          "2013",
          "2013",
          "2013",
          "2013",
          "2013",
          "2013",
          "2013",
          "2013",
          "2013",
          "2013",
          "2013",
          "2013",
          "2013",
          "2013",
          "2013",
          "2013",
          "2013",
          "2013",
          "2013",
          "2013",
          "2013",
          "2013",
          "2013",
          "2013",
          "2013",
          "2013",
          "2013",
          "2013",
          "2013",
          "2013",
          "2013",
          "2013",
          "2013",
          "2013",
          "2013",
          "2013",
          "2013",
          "2013",
          "2013",
          "2013",
          "2013",
          "2013",
          "2013",
          "2013",
          "2013",
          "2013",
          "2013",
          "2013",
          "2013",
          "2013",
          "2013",
          "2013",
          "2013",
          "2013",
          "2013",
          "2013",
          "2013",
          "2013",
          "2013",
          "2013",
          "2013",
          "2013",
          "2013",
          "2013",
          "2013",
          "2013",
          "2013",
          "2013",
          "2013",
          "2013",
          "2013",
          "2013",
          "2013",
          "2013",
          "2013",
          "2013",
          "2013",
          "2013",
          "2013",
          "2013",
          "2013",
          "2013",
          "2013",
          "2013",
          "2013",
          "2013",
          "2013",
          "2013",
          "2013",
          "2013",
          "2013",
          "2013",
          "2013",
          "2013",
          "2013",
          "2013",
          "2013",
          "2013",
          "2013",
          "2013",
          "2013",
          "2013",
          "2013",
          "2013",
          "2013",
          "2013",
          "2013",
          "2013",
          "2013",
          "2013",
          "2013",
          "2013",
          "2013",
          "2013",
          "2013",
          "2013",
          "2013",
          "2013",
          "2013",
          "2013",
          "2013",
          "2013",
          "2013",
          "2013",
          "2013",
          "2013",
          "2013",
          "2013",
          "2013",
          "2013",
          "2013",
          "2013",
          "2013",
          "2013",
          "2014",
          "2014",
          "2014",
          "2014",
          "2014",
          "2014",
          "2014",
          "2014",
          "2014",
          "2014",
          "2014",
          "2014",
          "2014",
          "2014",
          "2014",
          "2014",
          "2014",
          "2014",
          "2014",
          "2014",
          "2014",
          "2014",
          "2014",
          "2014",
          "2014",
          "2014",
          "2014",
          "2014",
          "2014",
          "2014",
          "2014",
          "2014",
          "2014",
          "2014",
          "2014",
          "2014",
          "2014",
          "2014",
          "2014",
          "2014",
          "2014",
          "2014",
          "2014",
          "2014",
          "2014",
          "2014",
          "2014",
          "2014",
          "2014",
          "2014",
          "2014",
          "2014",
          "2014",
          "2014",
          "2014",
          "2014",
          "2014",
          "2014",
          "2014",
          "2014",
          "2014",
          "2014",
          "2014",
          "2014",
          "2014",
          "2014",
          "2014",
          "2014",
          "2014",
          "2014",
          "2014",
          "2014",
          "2014",
          "2014",
          "2014",
          "2014",
          "2014",
          "2014",
          "2014",
          "2014",
          "2014",
          "2014",
          "2014",
          "2014",
          "2014",
          "2014",
          "2014",
          "2014",
          "2014",
          "2014",
          "2014",
          "2014",
          "2014",
          "2014",
          "2014",
          "2014",
          "2014",
          "2014",
          "2014",
          "2014",
          "2014",
          "2014",
          "2014",
          "2014",
          "2014",
          "2014",
          "2014",
          "2014",
          "2014",
          "2014",
          "2014",
          "2014",
          "2014",
          "2014",
          "2014",
          "2014",
          "2014",
          "2014",
          "2014",
          "2014",
          "2014",
          "2014",
          "2014",
          "2014",
          "2014",
          "2014",
          "2014",
          "2014",
          "2014",
          "2014",
          "2014",
          "2014",
          "2014",
          "2014",
          "2014",
          "2014",
          "2014",
          "2014",
          "2014",
          "2014",
          "2014",
          "2014",
          "2014",
          "2014",
          "2014",
          "2014",
          "2014",
          "2014",
          "2014",
          "2014",
          "2014",
          "2014",
          "2014",
          "2014",
          "2014",
          "2014",
          "2014",
          "2014",
          "2014",
          "2014",
          "2014",
          "2014",
          "2014",
          "2014",
          "2014",
          "2014",
          "2014",
          "2014",
          "2014",
          "2014",
          "2014",
          "2014",
          "2014",
          "2014",
          "2014",
          "2014",
          "2014",
          "2014",
          "2014",
          "2014",
          "2014",
          "2014",
          "2014",
          "2014",
          "2014",
          "2014",
          "2014",
          "2014",
          "2014",
          "2014",
          "2014",
          "2014",
          "2014",
          "2014",
          "2014",
          "2014",
          "2014",
          "2014",
          "2014",
          "2014",
          "2014",
          "2014",
          "2014",
          "2014",
          "2014",
          "2014",
          "2014",
          "2014",
          "2014",
          "2014",
          "2014",
          "2014",
          "2014",
          "2014",
          "2014",
          "2014",
          "2014",
          "2014",
          "2014",
          "2014",
          "2014",
          "2014",
          "2014",
          "2014",
          "2014",
          "2014",
          "2014",
          "2014",
          "2014",
          "2015",
          "2015",
          "2015",
          "2015",
          "2015",
          "2015",
          "2015",
          "2015",
          "2015",
          "2015",
          "2015",
          "2015",
          "2015",
          "2015",
          "2015",
          "2015",
          "2015",
          "2015",
          "2015",
          "2015",
          "2015",
          "2015",
          "2015",
          "2015",
          "2015",
          "2015",
          "2015",
          "2015",
          "2015",
          "2015",
          "2015",
          "2015",
          "2015",
          "2015",
          "2015",
          "2015",
          "2015",
          "2015",
          "2015",
          "2015",
          "2015",
          "2015",
          "2015",
          "2015",
          "2015",
          "2015",
          "2015",
          "2015",
          "2015",
          "2015",
          "2015",
          "2015",
          "2015",
          "2015",
          "2015",
          "2015",
          "2015",
          "2015",
          "2015",
          "2015",
          "2015",
          "2015",
          "2015",
          "2015",
          "2015",
          "2015",
          "2015",
          "2015",
          "2015",
          "2015",
          "2015",
          "2015",
          "2015",
          "2015",
          "2015",
          "2015",
          "2015",
          "2015",
          "2015",
          "2015",
          "2015",
          "2015",
          "2015",
          "2015",
          "2015",
          "2015",
          "2015",
          "2015",
          "2015",
          "2015",
          "2015",
          "2015",
          "2015",
          "2015",
          "2015",
          "2015",
          "2015",
          "2015",
          "2015",
          "2015",
          "2015",
          "2015",
          "2015",
          "2015",
          "2015",
          "2015",
          "2015",
          "2015",
          "2015",
          "2015",
          "2015",
          "2015",
          "2015",
          "2015",
          "2015",
          "2015",
          "2015",
          "2015",
          "2015",
          "2015",
          "2015",
          "2015",
          "2015",
          "2015",
          "2015",
          "2015",
          "2015",
          "2015",
          "2015",
          "2015",
          "2015",
          "2015",
          "2015",
          "2015",
          "2015",
          "2015",
          "2015",
          "2015",
          "2015",
          "2015",
          "2015",
          "2015",
          "2015",
          "2015",
          "2015",
          "2015",
          "2015",
          "2015",
          "2015",
          "2015",
          "2015",
          "2015",
          "2015",
          "2015",
          "2015",
          "2015",
          "2015",
          "2015",
          "2015",
          "2015",
          "2015",
          "2015",
          "2015",
          "2015",
          "2015",
          "2015",
          "2015",
          "2015",
          "2015",
          "2015",
          "2015",
          "2015",
          "2015",
          "2015",
          "2015",
          "2015",
          "2015",
          "2015",
          "2015",
          "2015",
          "2015",
          "2015",
          "2015",
          "2015",
          "2015",
          "2015",
          "2015",
          "2015",
          "2015",
          "2015",
          "2015",
          "2015",
          "2015",
          "2015",
          "2015",
          "2015",
          "2015",
          "2015",
          "2015",
          "2015",
          "2015",
          "2015",
          "2015",
          "2015",
          "2015",
          "2015",
          "2015",
          "2015",
          "2015",
          "2015",
          "2015",
          "2015",
          "2015",
          "2015",
          "2015",
          "2015",
          "2015",
          "2015",
          "2015",
          "2015",
          "2015",
          "2016",
          "2016",
          "2016",
          "2016",
          "2016",
          "2016",
          "2016",
          "2016",
          "2016",
          "2016",
          "2016",
          "2016",
          "2016",
          "2016",
          "2016",
          "2016",
          "2016",
          "2016",
          "2016",
          "2016",
          "2016",
          "2016",
          "2016",
          "2016",
          "2016",
          "2016",
          "2016",
          "2016",
          "2016",
          "2016",
          "2016",
          "2016",
          "2016",
          "2016",
          "2016",
          "2016",
          "2016",
          "2016",
          "2016",
          "2016",
          "2016",
          "2016",
          "2016",
          "2016",
          "2016",
          "2016",
          "2016",
          "2016",
          "2016",
          "2016",
          "2016",
          "2016",
          "2016",
          "2016",
          "2016",
          "2016",
          "2016",
          "2016",
          "2016",
          "2016",
          "2016",
          "2016",
          "2016",
          "2016",
          "2016",
          "2016",
          "2016",
          "2016",
          "2016",
          "2016",
          "2016",
          "2016",
          "2016",
          "2016",
          "2016",
          "2016",
          "2016",
          "2016",
          "2016",
          "2016",
          "2016",
          "2016",
          "2016",
          "2016",
          "2016",
          "2016",
          "2016",
          "2016",
          "2016",
          "2016",
          "2016",
          "2016",
          "2016",
          "2016",
          "2016",
          "2016",
          "2016",
          "2016",
          "2016",
          "2016",
          "2016",
          "2016",
          "2016",
          "2016",
          "2016",
          "2016",
          "2016",
          "2016",
          "2016",
          "2016",
          "2016",
          "2016",
          "2016",
          "2016",
          "2016",
          "2016",
          "2016",
          "2016",
          "2016",
          "2016",
          "2016",
          "2016",
          "2016",
          "2016",
          "2016",
          "2016",
          "2016",
          "2016",
          "2016",
          "2016",
          "2016",
          "2016",
          "2016",
          "2016",
          "2016",
          "2016",
          "2016",
          "2016",
          "2016",
          "2016",
          "2016",
          "2016",
          "2016",
          "2016",
          "2016",
          "2016",
          "2016",
          "2016",
          "2016",
          "2016",
          "2016",
          "2016",
          "2016",
          "2016",
          "2016",
          "2016",
          "2016",
          "2016",
          "2016",
          "2016",
          "2016",
          "2016",
          "2016",
          "2016",
          "2016",
          "2016",
          "2016",
          "2016",
          "2016",
          "2016",
          "2016",
          "2016",
          "2016",
          "2016",
          "2016",
          "2016",
          "2016",
          "2016",
          "2016",
          "2016",
          "2016",
          "2016",
          "2016",
          "2016",
          "2016",
          "2016",
          "2016",
          "2016",
          "2016",
          "2016",
          "2016",
          "2016",
          "2016",
          "2016",
          "2016",
          "2016",
          "2016",
          "2016",
          "2016",
          "2016",
          "2016",
          "2016",
          "2016",
          "2016",
          "2016",
          "2016",
          "2016",
          "2016",
          "2016",
          "2016",
          "2016",
          "2016",
          "2016",
          "2016",
          "2016",
          "2016",
          "2016",
          "2016",
          "2016",
          "2016",
          "2016",
          "2016",
          "2016",
          "2017",
          "2017",
          "2017",
          "2017",
          "2017",
          "2017",
          "2017",
          "2017",
          "2017",
          "2017",
          "2017",
          "2017",
          "2017",
          "2017",
          "2017",
          "2017",
          "2017",
          "2017",
          "2017",
          "2017",
          "2017",
          "2017",
          "2017",
          "2017",
          "2017",
          "2017",
          "2017",
          "2017",
          "2017",
          "2017",
          "2017",
          "2017",
          "2017",
          "2017",
          "2017",
          "2017",
          "2017",
          "2017",
          "2017",
          "2017",
          "2017",
          "2017",
          "2017",
          "2017",
          "2017",
          "2017",
          "2017",
          "2017",
          "2017",
          "2017",
          "2017",
          "2017",
          "2017",
          "2017",
          "2017",
          "2017",
          "2017",
          "2017",
          "2017",
          "2017",
          "2017",
          "2017",
          "2017",
          "2017",
          "2017",
          "2017",
          "2017",
          "2017",
          "2017",
          "2017",
          "2017",
          "2017",
          "2017",
          "2017",
          "2017",
          "2017",
          "2017",
          "2017",
          "2017",
          "2017",
          "2017",
          "2017",
          "2017",
          "2017",
          "2017",
          "2017",
          "2017",
          "2017",
          "2017",
          "2017",
          "2017",
          "2017",
          "2017",
          "2017",
          "2017",
          "2017",
          "2017",
          "2017",
          "2017",
          "2017",
          "2017",
          "2017",
          "2017",
          "2017",
          "2017",
          "2017",
          "2017",
          "2017",
          "2017",
          "2017",
          "2017",
          "2017",
          "2017",
          "2017",
          "2017",
          "2017",
          "2017",
          "2017",
          "2017",
          "2017",
          "2017",
          "2017",
          "2017",
          "2017",
          "2017",
          "2017",
          "2017",
          "2017",
          "2017",
          "2017",
          "2017",
          "2017",
          "2017",
          "2017",
          "2017",
          "2017",
          "2017",
          "2017",
          "2017",
          "2017",
          "2017",
          "2017",
          "2017",
          "2017",
          "2017",
          "2017",
          "2017",
          "2017",
          "2017",
          "2017",
          "2017",
          "2017",
          "2017",
          "2017",
          "2017",
          "2017",
          "2017",
          "2017",
          "2017",
          "2017",
          "2017",
          "2017",
          "2017",
          "2017",
          "2017",
          "2017",
          "2017",
          "2017",
          "2017",
          "2017",
          "2017",
          "2017",
          "2017",
          "2017",
          "2017",
          "2017",
          "2017",
          "2017",
          "2017",
          "2017",
          "2017",
          "2017",
          "2017",
          "2017",
          "2017",
          "2017",
          "2017",
          "2017",
          "2017",
          "2017",
          "2017",
          "2017",
          "2017",
          "2017",
          "2017",
          "2017",
          "2017",
          "2017",
          "2017",
          "2017",
          "2017",
          "2017",
          "2017",
          "2017",
          "2017",
          "2017",
          "2017",
          "2017",
          "2017",
          "2017",
          "2017",
          "2017",
          "2017",
          "2017",
          "2017",
          "2017",
          "2017",
          "2017",
          "2017",
          "2017",
          "2017",
          "2017",
          "2017",
          "2017",
          "2017",
          "2017",
          "2017",
          "2017",
          "2018",
          "2018",
          "2018",
          "2018",
          "2018",
          "2018",
          "2018",
          "2018",
          "2018",
          "2018",
          "2018",
          "2018",
          "2018",
          "2018",
          "2018",
          "2018",
          "2018",
          "2018",
          "2018",
          "2018",
          "2018",
          "2018",
          "2018",
          "2018",
          "2018",
          "2018",
          "2018",
          "2018",
          "2018",
          "2018",
          "2018",
          "2018",
          "2018",
          "2018",
          "2018",
          "2018",
          "2018",
          "2018",
          "2018",
          "2018",
          "2018",
          "2018",
          "2018",
          "2018",
          "2018",
          "2018",
          "2018",
          "2018",
          "2018",
          "2018",
          "2018",
          "2018",
          "2018",
          "2018",
          "2018",
          "2018",
          "2018",
          "2018",
          "2018",
          "2018",
          "2018",
          "2018",
          "2018",
          "2018",
          "2018",
          "2018",
          "2018",
          "2018",
          "2018",
          "2018",
          "2018",
          "2018",
          "2018",
          "2018",
          "2018",
          "2018",
          "2018",
          "2018",
          "2018",
          "2018",
          "2018",
          "2018",
          "2018",
          "2018",
          "2018",
          "2018",
          "2018",
          "2018",
          "2018",
          "2018",
          "2018",
          "2018",
          "2018",
          "2018",
          "2018",
          "2018",
          "2018",
          "2018",
          "2018",
          "2018",
          "2018",
          "2018",
          "2018",
          "2018",
          "2018",
          "2018",
          "2018",
          "2018",
          "2018",
          "2018",
          "2018",
          "2018",
          "2018",
          "2018",
          "2018",
          "2018",
          "2018",
          "2018",
          "2018",
          "2018",
          "2018",
          "2018",
          "2018",
          "2018",
          "2018",
          "2018",
          "2018",
          "2018",
          "2018",
          "2018",
          "2018",
          "2018",
          "2018",
          "2018",
          "2018",
          "2018",
          "2018",
          "2018",
          "2018",
          "2018",
          "2018",
          "2018",
          "2018",
          "2018",
          "2018",
          "2018",
          "2018",
          "2018",
          "2018",
          "2018",
          "2018",
          "2018",
          "2018",
          "2018",
          "2018",
          "2018",
          "2018",
          "2018",
          "2018",
          "2018",
          "2018",
          "2018",
          "2018",
          "2018",
          "2018",
          "2018",
          "2018",
          "2018",
          "2018",
          "2018",
          "2018",
          "2018",
          "2018",
          "2018",
          "2018",
          "2018",
          "2018",
          "2018",
          "2018",
          "2018",
          "2018",
          "2018",
          "2018",
          "2018",
          "2018",
          "2018",
          "2018",
          "2018",
          "2018",
          "2018",
          "2018",
          "2018",
          "2018",
          "2018",
          "2018",
          "2018",
          "2018",
          "2018",
          "2018",
          "2018",
          "2018",
          "2018",
          "2018",
          "2018",
          "2018",
          "2018",
          "2018",
          "2018",
          "2018",
          "2018",
          "2018",
          "2018",
          "2018",
          "2018",
          "2018",
          "2018",
          "2018",
          "2018",
          "2018",
          "2018",
          "2018",
          "2018",
          "2018",
          "2018",
          "2018",
          "2018",
          "2018",
          "2018",
          "2018",
          "2018",
          "2018",
          "2018",
          "2018",
          "2018",
          "2018",
          "2018",
          "2018",
          "2018",
          "2018",
          "2018",
          "2018",
          "2018",
          "2018",
          "2018",
          "2019",
          "2019",
          "2019",
          "2019",
          "2019",
          "2019",
          "2019",
          "2019",
          "2019",
          "2019",
          "2019",
          "2019",
          "2019",
          "2019",
          "2019",
          "2019",
          "2019",
          "2019",
          "2019",
          "2019",
          "2019",
          "2019",
          "2019",
          "2019",
          "2019",
          "2019",
          "2019",
          "2019",
          "2019",
          "2019",
          "2019",
          "2019",
          "2019",
          "2019",
          "2019",
          "2019",
          "2019",
          "2019",
          "2019",
          "2019",
          "2019",
          "2019",
          "2019",
          "2019",
          "2019",
          "2019",
          "2019",
          "2019",
          "2019",
          "2019",
          "2019",
          "2019",
          "2019",
          "2019",
          "2019",
          "2019",
          "2019",
          "2019",
          "2019",
          "2019",
          "2019",
          "2019",
          "2019",
          "2019",
          "2019",
          "2019",
          "2019",
          "2019",
          "2019",
          "2019",
          "2019",
          "2019",
          "2019",
          "2019",
          "2019",
          "2019",
          "2019",
          "2019",
          "2019",
          "2019",
          "2019",
          "2019",
          "2019",
          "2019",
          "2019",
          "2019",
          "2019",
          "2019",
          "2019",
          "2019",
          "2019",
          "2019",
          "2019",
          "2019",
          "2019",
          "2019",
          "2019",
          "2019",
          "2019",
          "2019",
          "2019",
          "2019",
          "2019",
          "2019",
          "2019",
          "2019",
          "2019",
          "2019",
          "2019",
          "2019",
          "2019",
          "2019",
          "2019",
          "2019",
          "2019",
          "2019",
          "2019",
          "2019",
          "2019",
          "2019",
          "2019",
          "2019",
          "2019",
          "2019",
          "2019",
          "2019",
          "2019",
          "2019",
          "2019",
          "2019",
          "2019",
          "2019",
          "2019",
          "2019",
          "2019",
          "2019",
          "2019",
          "2019",
          "2019",
          "2019",
          "2019",
          "2019",
          "2019",
          "2019",
          "2019",
          "2019",
          "2019",
          "2019",
          "2019",
          "2019",
          "2019",
          "2019",
          "2019",
          "2019",
          "2019",
          "2019",
          "2019",
          "2019",
          "2019",
          "2019",
          "2019",
          "2019",
          "2019",
          "2019",
          "2019",
          "2019",
          "2019",
          "2019",
          "2019",
          "2019",
          "2019",
          "2019",
          "2019",
          "2019",
          "2019",
          "2019",
          "2019",
          "2019",
          "2019",
          "2019",
          "2019",
          "2019",
          "2019",
          "2019",
          "2019",
          "2019",
          "2019",
          "2019",
          "2019",
          "2019",
          "2019",
          "2019",
          "2019",
          "2019",
          "2019",
          "2019",
          "2019",
          "2019",
          "2019",
          "2019",
          "2019",
          "2019",
          "2019",
          "2019",
          "2019",
          "2019",
          "2019",
          "2019",
          "2019",
          "2019",
          "2019",
          "2019",
          "2019",
          "2019",
          "2019",
          "2019",
          "2019",
          "2019",
          "2019",
          "2019",
          "2019",
          "2019",
          "2019",
          "2019",
          "2019",
          "2019",
          "2019",
          "2019",
          "2019",
          "2019",
          "2019",
          "2019",
          "2019",
          "2019",
          "2019",
          "2019",
          "2019",
          "2019",
          "2019",
          "2019",
          "2019",
          "2019",
          "2019",
          "2019",
          "2019",
          "2019",
          "2019",
          "2019",
          "2019",
          "2019",
          "2019",
          "2019",
          "2019",
          "2019",
          "2019",
          "2019",
          "2019",
          "2019",
          "2019",
          "2019",
          "2019",
          "2019",
          "2019",
          "2019",
          "2019",
          "2019",
          "2019",
          "2019",
          "2019",
          "2019",
          "2019",
          "2019",
          "2019",
          "2020",
          "2020",
          "2020",
          "2020",
          "2020",
          "2020",
          "2020",
          "2020",
          "2020",
          "2020",
          "2020",
          "2020",
          "2020",
          "2020",
          "2020",
          "2020",
          "2020",
          "2020",
          "2020",
          "2020",
          "2020",
          "2020",
          "2020",
          "2020",
          "2020",
          "2020",
          "2020",
          "2020",
          "2020",
          "2020",
          "2020",
          "2020",
          "2020",
          "2020",
          "2020",
          "2020",
          "2020",
          "2020",
          "2020",
          "2020",
          "2020",
          "2020",
          "2020",
          "2020",
          "2020",
          "2020",
          "2020",
          "2020",
          "2020",
          "2020",
          "2020",
          "2020",
          "2020",
          "2020",
          "2020",
          "2020",
          "2020",
          "2020",
          "2020",
          "2020",
          "2020",
          "2020",
          "2020",
          "2020",
          "2020",
          "2020",
          "2020",
          "2020",
          "2020",
          "2020",
          "2020",
          "2020",
          "2020",
          "2020",
          "2020",
          "2020",
          "2020",
          "2020",
          "2020",
          "2020",
          "2020",
          "2020",
          "2020",
          "2020",
          "2020",
          "2020",
          "2020",
          "2020",
          "2020",
          "2020",
          "2020",
          "2020",
          "2020",
          "2020",
          "2020",
          "2020",
          "2020",
          "2020",
          "2020",
          "2020",
          "2020",
          "2020",
          "2020",
          "2020",
          "2020",
          "2020",
          "2020",
          "2020",
          "2020",
          "2020",
          "2020",
          "2020",
          "2020",
          "2020",
          "2020",
          "2020",
          "2020",
          "2020",
          "2020",
          "2020",
          "2020",
          "2020",
          "2020",
          "2020",
          "2020",
          "2020",
          "2020",
          "2020",
          "2020",
          "2020",
          "2020",
          "2020",
          "2020",
          "2020",
          "2020",
          "2020",
          "2020",
          "2020",
          "2020",
          "2020",
          "2020",
          "2020",
          "2020",
          "2020",
          "2020",
          "2020",
          "2020",
          "2020",
          "2020",
          "2020",
          "2020",
          "2020",
          "2020",
          "2020",
          "2020",
          "2020",
          "2020",
          "2020",
          "2020",
          "2020",
          "2020",
          "2020",
          "2020",
          "2020",
          "2020",
          "2020",
          "2020",
          "2020",
          "2020",
          "2020",
          "2020",
          "2020",
          "2020",
          "2020",
          "2020",
          "2020",
          "2020",
          "2020",
          "2020",
          "2020",
          "2020",
          "2020",
          "2020",
          "2020",
          "2020",
          "2020",
          "2020",
          "2020",
          "2020",
          "2020",
          "2020",
          "2020",
          "2020",
          "2020",
          "2020",
          "2020",
          "2020",
          "2020",
          "2020",
          "2020",
          "2020",
          "2020",
          "2020",
          "2020",
          "2020",
          "2020",
          "2020",
          "2020",
          "2020",
          "2020",
          "2020",
          "2020",
          "2020",
          "2020",
          "2020",
          "2020",
          "2020",
          "2020",
          "2020",
          "2020",
          "2020",
          "2020",
          "2020",
          "2020",
          "2020",
          "2020",
          "2020",
          "2020",
          "2020",
          "2020",
          "2020",
          "2020",
          "2020",
          "2020",
          "2020",
          "2020",
          "2020",
          "2020",
          "2020",
          "2020",
          "2020",
          "2020",
          "2020",
          "2020",
          "2020",
          "2020",
          "2020",
          "2020",
          "2020",
          "2020",
          "2020",
          "2020",
          "2020",
          "2020",
          "2020",
          "2020",
          "2020",
          "2020",
          "2020",
          "2020",
          "2020",
          "2020",
          "2020",
          "2020",
          "2020",
          "2020",
          "2020",
          "2020",
          "2020",
          "2020",
          "2020",
          "2020",
          "2020",
          "2020",
          "2020",
          "2020",
          "2020",
          "2020",
          "2020",
          "2020",
          "2020",
          "2020",
          "2020",
          "2020",
          "2021",
          "2021",
          "2021",
          "2021",
          "2021",
          "2021",
          "2021",
          "2021",
          "2021",
          "2021",
          "2021",
          "2021",
          "2021",
          "2021",
          "2021",
          "2021",
          "2021",
          "2021",
          "2021",
          "2021",
          "2021",
          "2021",
          "2021",
          "2021",
          "2021",
          "2021",
          "2021",
          "2021",
          "2021",
          "2021",
          "2021",
          "2021",
          "2021",
          "2021",
          "2021",
          "2021",
          "2021",
          "2021",
          "2021",
          "2021",
          "2021",
          "2021",
          "2021",
          "2021",
          "2021",
          "2021",
          "2021",
          "2021",
          "2021",
          "2021",
          "2021",
          "2021",
          "2021",
          "2021",
          "2021",
          "2021",
          "2021",
          "2021",
          "2021",
          "2021",
          "2021",
          "2021",
          "2021",
          "2021",
          "2021",
          "2021",
          "2021",
          "2021",
          "2021",
          "2021",
          "2021",
          "2021",
          "2021",
          "2021",
          "2021",
          "2021",
          "2021",
          "2021",
          "2021",
          "2021",
          "2021",
          "2021",
          "2021",
          "2021",
          "2021",
          "2021",
          "2021",
          "2021",
          "2021",
          "2021",
          "2021",
          "2021",
          "2021",
          "2021",
          "2021",
          "2021",
          "2021",
          "2021",
          "2021",
          "2021",
          "2021",
          "2021",
          "2021",
          "2021",
          "2021",
          "2021",
          "2021",
          "2021",
          "2021",
          "2021",
          "2021",
          "2021",
          "2021",
          "2021",
          "2021",
          "2021",
          "2021",
          "2021",
          "2021",
          "2021",
          "2021",
          "2021",
          "2021",
          "2021",
          "2021",
          "2021",
          "2021",
          "2021",
          "2021",
          "2021",
          "2021",
          "2021",
          "2021",
          "2021",
          "2021",
          "2021",
          "2021",
          "2021",
          "2021",
          "2021",
          "2021",
          "2021",
          "2021",
          "2021",
          "2021",
          "2021",
          "2021",
          "2021",
          "2021",
          "2021",
          "2021",
          "2021",
          "2021",
          "2021",
          "2021",
          "2021",
          "2021",
          "2021",
          "2021",
          "2021",
          "2021",
          "2021",
          "2021",
          "2021",
          "2021",
          "2021",
          "2021",
          "2021",
          "2021",
          "2021",
          "2021",
          "2021",
          "2021",
          "2021",
          "2021",
          "2021",
          "2021",
          "2021",
          "2021",
          "2021",
          "2021",
          "2021",
          "2021",
          "2021",
          "2021",
          "2021",
          "2021",
          "2021",
          "2021",
          "2021",
          "2021",
          "2021",
          "2021",
          "2021",
          "2021",
          "2021",
          "2021",
          "2021",
          "2021",
          "2021",
          "2021",
          "2021",
          "2021",
          "2021",
          "2021",
          "2021",
          "2021",
          "2021",
          "2021",
          "2021",
          "2021",
          "2021",
          "2021",
          "2021",
          "2021",
          "2021",
          "2021",
          "2021",
          "2021",
          "2021",
          "2021",
          "2021",
          "2021",
          "2021",
          "2021",
          "2021",
          "2021",
          "2021",
          "2021",
          "2021",
          "2021",
          "2021",
          "2021",
          "2021",
          "2021",
          "2021",
          "2021",
          "2021",
          "2021",
          "2021",
          "2021",
          "2021",
          "2021",
          "2021",
          "2021",
          "2021",
          "2021",
          "2021",
          "2021",
          "2021",
          "2021",
          "2021",
          "2021",
          "2021",
          "2021",
          "2021",
          "2021",
          "2021",
          "2021",
          "2021",
          "2021",
          "2021",
          "2021",
          "2021",
          "2021",
          "2021",
          "2021",
          "2021",
          "2021",
          "2021",
          "2021",
          "2021",
          "2021",
          "2021",
          "2021",
          "2021",
          "2021",
          "2021",
          "2021",
          "2021",
          "2021",
          "2021",
          "2021",
          "2021",
          "2021",
          "2021",
          "2021",
          "2021",
          "2021",
          "2021",
          "2021",
          "2021",
          "2021",
          "2021",
          "2021",
          "2021",
          "2021",
          "2022",
          "2022",
          "2022",
          "2022",
          "2022",
          "2022",
          "2022",
          "2022",
          "2022",
          "2022",
          "2022",
          "2022",
          "2022",
          "2022",
          "2022",
          "2022",
          "2022",
          "2022",
          "2022",
          "2022",
          "2022",
          "2022",
          "2022",
          "2022",
          "2022",
          "2022",
          "2022",
          "2022",
          "2022",
          "2022",
          "2022",
          "2022",
          "2022",
          "2022",
          "2022",
          "2022",
          "2022",
          "2022",
          "2022",
          "2022",
          "2022",
          "2022",
          "2022",
          "2022",
          "2022",
          "2022",
          "2022",
          "2022",
          "2022",
          "2022",
          "2022",
          "2022",
          "2022",
          "2022",
          "2022",
          "2022",
          "2022",
          "2022",
          "2022",
          "2022",
          "2022",
          "2022",
          "2022",
          "2022",
          "2022",
          "2022",
          "2022",
          "2022",
          "2022",
          "2022",
          "2022",
          "2022",
          "2022",
          "2022",
          "2022",
          "2022",
          "2022",
          "2022",
          "2022",
          "2022",
          "2022",
          "2022",
          "2022",
          "2022",
          "2022",
          "2022",
          "2022",
          "2022",
          "2022",
          "2022",
          "2022",
          "2022",
          "2022",
          "2022",
          "2022",
          "2022",
          "2022",
          "2022",
          "2022",
          "2022",
          "2022",
          "2022",
          "2022",
          "2022",
          "2022",
          "2022",
          "2022",
          "2022",
          "2022",
          "2022",
          "2022",
          "2022",
          "2022",
          "2022",
          "2022",
          "2022",
          "2022",
          "2022",
          "2022",
          "2022",
          "2022",
          "2022",
          "2022",
          "2022",
          "2022",
          "2022",
          "2022",
          "2022",
          "2022",
          "2022",
          "2022",
          "2022",
          "2022",
          "2022",
          "2022",
          "2022",
          "2022",
          "2022",
          "2022",
          "2022",
          "2022",
          "2022",
          "2022",
          "2022",
          "2022",
          "2022",
          "2022",
          "2022",
          "2022",
          "2022",
          "2022",
          "2022",
          "2022",
          "2022",
          "2022",
          "2022",
          "2022",
          "2022",
          "2022",
          "2022",
          "2022",
          "2022",
          "2022",
          "2022",
          "2022",
          "2022",
          "2022",
          "2022",
          "2022",
          "2022",
          "2022",
          "2022",
          "2022",
          "2022",
          "2022",
          "2022",
          "2022",
          "2022",
          "2022",
          "2022",
          "2022",
          "2022",
          "2022",
          "2022",
          "2022",
          "2022",
          "2022",
          "2022",
          "2022",
          "2022",
          "2022",
          "2022",
          "2022",
          "2022",
          "2022",
          "2022",
          "2022",
          "2022",
          "2022",
          "2022",
          "2022",
          "2022",
          "2022",
          "2022",
          "2022",
          "2022",
          "2022",
          "2022",
          "2022",
          "2022",
          "2022",
          "2022",
          "2022",
          "2022",
          "2022",
          "2022",
          "2022",
          "2022",
          "2022",
          "2022",
          "2022",
          "2022",
          "2022",
          "2022",
          "2022",
          "2022",
          "2022",
          "2022",
          "2022",
          "2022",
          "2022",
          "2022",
          "2022",
          "2022",
          "2022",
          "2022",
          "2022",
          "2022",
          "2022",
          "2022",
          "2022",
          "2022",
          "2022",
          "2022",
          "2022",
          "2022",
          "2022",
          "2022",
          "2022",
          "2022",
          "2022",
          "2022",
          "2022",
          "2022",
          "2022",
          "2022",
          "2022",
          "2022",
          "2022",
          "2022",
          "2022",
          "2022",
          "2022",
          "2022",
          "2022",
          "2022",
          "2022",
          "2022",
          "2022",
          "2022",
          "2022",
          "2022",
          "2022",
          "2022",
          "2022",
          "2022",
          "2022",
          "2022",
          "2022",
          "2022",
          "2022",
          "2022",
          "2022",
          "2022",
          "2022",
          "2022",
          "2022",
          "2022",
          "2022",
          "2022",
          "2022",
          "2022",
          "2022",
          "2022",
          "2022",
          "2022",
          "2022",
          "2022",
          "2022",
          "2022",
          "2022",
          "2022",
          "2022",
          "2022",
          "2022",
          "2022",
          "2022",
          "2022",
          "2022",
          "2022",
          "2022",
          "2022",
          "2022",
          "2022",
          "2022",
          "2023",
          "2023",
          "2023",
          "2023",
          "2023",
          "2023",
          "2023",
          "2023",
          "2023",
          "2023",
          "2023",
          "2023",
          "2023",
          "2023",
          "2023",
          "2023",
          "2023",
          "2023",
          "2023",
          "2023",
          "2023",
          "2023",
          "2023",
          "2023",
          "2023",
          "2023",
          "2023",
          "2023",
          "2023",
          "2023",
          "2023",
          "2023",
          "2023",
          "2023",
          "2023",
          "2023",
          "2023",
          "2023",
          "2023",
          "2023",
          "2023",
          "2023",
          "2023",
          "2023",
          "2023",
          "2023",
          "2023",
          "2023",
          "2023",
          "2023",
          "2023",
          "2023",
          "2023",
          "2023",
          "2023",
          "2023",
          "2023",
          "2023",
          "2023",
          "2023",
          "2023",
          "2023",
          "2023",
          "2023",
          "2023",
          "2023",
          "2023",
          "2023",
          "2023",
          "2023",
          "2023",
          "2023",
          "2023",
          "2023",
          "2023",
          "2023",
          "2023",
          "2023",
          "2023",
          "2023",
          "2023",
          "2023",
          "2023",
          "2023",
          "2023",
          "2023",
          "2023",
          "2023",
          "2023",
          "2023",
          "2023",
          "2023",
          "2023",
          "2023",
          "2023",
          "2023",
          "2023",
          "2023",
          "2023",
          "2023",
          "2023",
          "2023",
          "2023",
          "2023",
          "2023",
          "2023",
          "2023",
          "2023",
          "2023",
          "2023",
          "2023",
          "2023",
          "2023",
          "2023",
          "2023",
          "2023",
          "2023",
          "2023",
          "2023",
          "2023",
          "2023",
          "2023",
          "2023",
          "2023",
          "2023",
          "2023",
          "2023",
          "2023",
          "2023",
          "2023",
          "2023",
          "2023",
          "2023",
          "2023",
          "2023",
          "2023",
          "2023",
          "2023",
          "2023",
          "2023",
          "2023",
          "2023",
          "2023",
          "2023",
          "2023",
          "2023",
          "2023",
          "2023",
          "2023",
          "2023",
          "2023",
          "2023",
          "2023",
          "2023",
          "2023",
          "2023",
          "2023",
          "2023",
          "2023",
          "2023",
          "2023",
          "2023",
          "2023",
          "2023",
          "2023",
          "2023",
          "2023",
          "2023",
          "2023",
          "2023",
          "2023",
          "2023",
          "2023",
          "2023",
          "2023",
          "2023",
          "2023",
          "2023",
          "2023",
          "2023",
          "2023",
          "2023",
          "2023",
          "2023",
          "2023",
          "2023",
          "2023",
          "2023",
          "2023",
          "2023",
          "2023",
          "2023",
          "2023",
          "2023",
          "2023",
          "2023",
          "2023",
          "2023",
          "2023",
          "2023",
          "2023",
          "2023",
          "2023",
          "2023",
          "2023",
          "2023",
          "2023",
          "2023",
          "2023",
          "2023",
          "2023",
          "2023",
          "2023",
          "2023",
          "2023",
          "2023",
          "2023",
          "2023",
          "2023",
          "2023",
          "2023",
          "2023",
          "2023",
          "2023",
          "2023",
          "2023",
          "2023",
          "2023",
          "2023",
          "2023",
          "2023",
          "2023",
          "2023",
          "2023",
          "2023",
          "2023",
          "2023",
          "2023",
          "2023",
          "2023",
          "2023",
          "2023",
          "2023",
          "2023",
          "2023",
          "2023",
          "2023",
          "2023",
          "2023",
          "2023",
          "2023",
          "2023",
          "2023",
          "2023",
          "2023",
          "2023",
          "2023",
          "2023",
          "2023",
          "2023",
          "2023",
          "2023",
          "2023",
          "2023",
          "2023",
          "2023",
          "2023",
          "2023",
          "2023",
          "2023",
          "2023",
          "2023",
          "2023",
          "2023",
          "2023",
          "2023",
          "2023",
          "2023",
          "2023",
          "2023",
          "2023",
          "2023",
          "2023",
          "2023",
          "2023",
          "2023",
          "2023",
          "2023",
          "2023",
          "2023",
          "2023",
          "2023",
          "2023",
          "2023",
          "2023",
          "2023",
          "2023",
          "2023",
          "2023",
          "2023",
          "2023",
          "2023",
          "2023",
          "2023",
          "2023",
          "2023",
          "2023",
          "2023",
          "2023",
          "2023",
          "2023",
          "2023",
          "2023",
          "2023",
          "2023",
          "2023",
          "2023",
          "2023",
          "2023",
          "2023",
          "2023",
          "2023",
          "2023",
          "2024",
          "2024",
          "2024",
          "2024",
          "2024",
          "2024",
          "2024",
          "2024",
          "2024",
          "2024",
          "2024",
          "2024",
          "2024",
          "2024",
          "2024",
          "2024",
          "2024",
          "2024",
          "2024",
          "2024",
          "2024",
          "2024",
          "2024",
          "2024",
          "2024",
          "2024",
          "2024",
          "2024",
          "2024",
          "2024",
          "2024",
          "2024",
          "2024",
          "2024",
          "2024",
          "2024",
          "2024",
          "2024",
          "2024",
          "2024",
          "2024",
          "2024",
          "2024",
          "2024",
          "2024",
          "2024",
          "2024",
          "2024",
          "2024",
          "2024",
          "2024",
          "2024",
          "2024",
          "2024",
          "2024",
          "2024",
          "2024",
          "2024",
          "2024",
          "2024",
          "2024",
          "2024",
          "2024",
          "2024",
          "2024",
          "2024",
          "2024",
          "2024",
          "2024",
          "2024",
          "2024",
          "2024",
          "2024",
          "2024",
          "2024",
          "2024",
          "2024",
          "2024",
          "2024",
          "2024",
          "2024",
          "2024",
          "2024",
          "2024",
          "2024",
          "2024",
          "2024",
          "2024",
          "2024",
          "2024",
          "2024",
          "2024",
          "2024",
          "2024",
          "2024",
          "2024",
          "2024",
          "2024",
          "2024",
          "2024",
          "2024",
          "2024",
          "2024",
          "2024",
          "2024",
          "2024",
          "2024",
          "2024",
          "2024",
          "2024",
          "2024",
          "2024",
          "2024",
          "2024",
          "2024",
          "2024",
          "2024",
          "2024",
          "2024",
          "2024",
          "2024",
          "2024",
          "2024",
          "2024",
          "2024",
          "2024",
          "2024",
          "2024",
          "2024",
          "2024",
          "2024",
          "2024",
          "2024",
          "2024",
          "2024",
          "2024",
          "2024",
          "2024",
          "2024",
          "2024",
          "2024",
          "2024",
          "2024",
          "2024",
          "2024",
          "2024",
          "2024",
          "2024",
          "2024",
          "2024",
          "2024",
          "2024",
          "2024",
          "2024",
          "2024",
          "2024",
          "2024",
          "2024",
          "2024",
          "2024",
          "2024",
          "2024",
          "2024",
          "2024",
          "2024",
          "2024",
          "2024",
          "2024",
          "2024",
          "2024",
          "2024",
          "2024",
          "2024",
          "2024",
          "2024",
          "2024",
          "2024",
          "2024",
          "2024",
          "2024",
          "2024",
          "2024",
          "2024",
          "2024",
          "2024",
          "2024",
          "2024",
          "2024",
          "2024",
          "2024",
          "2024",
          "2024",
          "2024",
          "2024",
          "2024",
          "2024",
          "2024",
          "2024",
          "2024",
          "2024",
          "2024",
          "2024",
          "2024",
          "2024",
          "2024",
          "2024",
          "2024",
          "2024",
          "2024",
          "2024",
          "2024",
          "2024",
          "2024",
          "2024",
          "2024",
          "2024",
          "2024",
          "2024",
          "2024",
          "2024",
          "2024",
          "2024",
          "2024",
          "2024",
          "2024",
          "2024",
          "2024",
          "2024",
          "2024",
          "2024",
          "2024",
          "2024",
          "2024",
          "2024",
          "2024",
          "2024",
          "2024",
          "2024",
          "2024",
          "2024",
          "2024",
          "2024",
          "2024",
          "2024",
          "2024",
          "2024",
          "2024",
          "2024",
          "2024",
          "2024",
          "2024",
          "2024",
          "2024",
          "2024",
          "2024",
          "2024",
          "2024",
          "2024",
          "2024",
          "2024",
          "2024",
          "2024",
          "2024",
          "2024",
          "2024",
          "2024",
          "2024",
          "2024",
          "2024",
          "2024",
          "2024",
          "2024",
          "2024",
          "2024",
          "2024",
          "2024",
          "2024",
          "2024",
          "2024",
          "2024",
          "2024",
          "2024",
          "2024",
          "2024",
          "2024",
          "2024",
          "2024",
          "2024",
          "2024",
          "2024",
          "2024",
          "2024",
          "2024",
          "2024",
          "2024",
          "2024",
          "2024",
          "2024",
          "2024",
          "2024",
          "2024",
          "2024",
          "2024",
          "2024",
          "2024",
          "2024",
          "2024",
          "2024",
          "2024",
          "2024",
          "2024",
          "2024",
          "2024",
          "2024",
          "2024",
          "2024",
          "2024",
          "2024",
          "2024",
          "2024",
          "2024",
          "2024",
          "2024",
          "2024",
          "2024",
          "2024"
         ],
         "y0": " ",
         "yaxis": "y"
        }
       ],
       "layout": {
        "boxmode": "group",
        "font": {
         "size": 18
        },
        "height": 1500,
        "legend": {
         "title": {
          "text": "Date"
         },
         "tracegroupgap": 0,
         "traceorder": "reversed"
        },
        "margin": {
         "t": 60
        },
        "template": {
         "data": {
          "bar": [
           {
            "error_x": {
             "color": "#2a3f5f"
            },
            "error_y": {
             "color": "#2a3f5f"
            },
            "marker": {
             "line": {
              "color": "white",
              "width": 0.5
             },
             "pattern": {
              "fillmode": "overlay",
              "size": 10,
              "solidity": 0.2
             }
            },
            "type": "bar"
           }
          ],
          "barpolar": [
           {
            "marker": {
             "line": {
              "color": "white",
              "width": 0.5
             },
             "pattern": {
              "fillmode": "overlay",
              "size": 10,
              "solidity": 0.2
             }
            },
            "type": "barpolar"
           }
          ],
          "carpet": [
           {
            "aaxis": {
             "endlinecolor": "#2a3f5f",
             "gridcolor": "#C8D4E3",
             "linecolor": "#C8D4E3",
             "minorgridcolor": "#C8D4E3",
             "startlinecolor": "#2a3f5f"
            },
            "baxis": {
             "endlinecolor": "#2a3f5f",
             "gridcolor": "#C8D4E3",
             "linecolor": "#C8D4E3",
             "minorgridcolor": "#C8D4E3",
             "startlinecolor": "#2a3f5f"
            },
            "type": "carpet"
           }
          ],
          "choropleth": [
           {
            "colorbar": {
             "outlinewidth": 0,
             "ticks": ""
            },
            "type": "choropleth"
           }
          ],
          "contour": [
           {
            "colorbar": {
             "outlinewidth": 0,
             "ticks": ""
            },
            "colorscale": [
             [
              0,
              "#0d0887"
             ],
             [
              0.1111111111111111,
              "#46039f"
             ],
             [
              0.2222222222222222,
              "#7201a8"
             ],
             [
              0.3333333333333333,
              "#9c179e"
             ],
             [
              0.4444444444444444,
              "#bd3786"
             ],
             [
              0.5555555555555556,
              "#d8576b"
             ],
             [
              0.6666666666666666,
              "#ed7953"
             ],
             [
              0.7777777777777778,
              "#fb9f3a"
             ],
             [
              0.8888888888888888,
              "#fdca26"
             ],
             [
              1,
              "#f0f921"
             ]
            ],
            "type": "contour"
           }
          ],
          "contourcarpet": [
           {
            "colorbar": {
             "outlinewidth": 0,
             "ticks": ""
            },
            "type": "contourcarpet"
           }
          ],
          "heatmap": [
           {
            "colorbar": {
             "outlinewidth": 0,
             "ticks": ""
            },
            "colorscale": [
             [
              0,
              "#0d0887"
             ],
             [
              0.1111111111111111,
              "#46039f"
             ],
             [
              0.2222222222222222,
              "#7201a8"
             ],
             [
              0.3333333333333333,
              "#9c179e"
             ],
             [
              0.4444444444444444,
              "#bd3786"
             ],
             [
              0.5555555555555556,
              "#d8576b"
             ],
             [
              0.6666666666666666,
              "#ed7953"
             ],
             [
              0.7777777777777778,
              "#fb9f3a"
             ],
             [
              0.8888888888888888,
              "#fdca26"
             ],
             [
              1,
              "#f0f921"
             ]
            ],
            "type": "heatmap"
           }
          ],
          "histogram": [
           {
            "marker": {
             "pattern": {
              "fillmode": "overlay",
              "size": 10,
              "solidity": 0.2
             }
            },
            "type": "histogram"
           }
          ],
          "histogram2d": [
           {
            "colorbar": {
             "outlinewidth": 0,
             "ticks": ""
            },
            "colorscale": [
             [
              0,
              "#0d0887"
             ],
             [
              0.1111111111111111,
              "#46039f"
             ],
             [
              0.2222222222222222,
              "#7201a8"
             ],
             [
              0.3333333333333333,
              "#9c179e"
             ],
             [
              0.4444444444444444,
              "#bd3786"
             ],
             [
              0.5555555555555556,
              "#d8576b"
             ],
             [
              0.6666666666666666,
              "#ed7953"
             ],
             [
              0.7777777777777778,
              "#fb9f3a"
             ],
             [
              0.8888888888888888,
              "#fdca26"
             ],
             [
              1,
              "#f0f921"
             ]
            ],
            "type": "histogram2d"
           }
          ],
          "histogram2dcontour": [
           {
            "colorbar": {
             "outlinewidth": 0,
             "ticks": ""
            },
            "colorscale": [
             [
              0,
              "#0d0887"
             ],
             [
              0.1111111111111111,
              "#46039f"
             ],
             [
              0.2222222222222222,
              "#7201a8"
             ],
             [
              0.3333333333333333,
              "#9c179e"
             ],
             [
              0.4444444444444444,
              "#bd3786"
             ],
             [
              0.5555555555555556,
              "#d8576b"
             ],
             [
              0.6666666666666666,
              "#ed7953"
             ],
             [
              0.7777777777777778,
              "#fb9f3a"
             ],
             [
              0.8888888888888888,
              "#fdca26"
             ],
             [
              1,
              "#f0f921"
             ]
            ],
            "type": "histogram2dcontour"
           }
          ],
          "mesh3d": [
           {
            "colorbar": {
             "outlinewidth": 0,
             "ticks": ""
            },
            "type": "mesh3d"
           }
          ],
          "parcoords": [
           {
            "line": {
             "colorbar": {
              "outlinewidth": 0,
              "ticks": ""
             }
            },
            "type": "parcoords"
           }
          ],
          "pie": [
           {
            "automargin": true,
            "type": "pie"
           }
          ],
          "scatter": [
           {
            "fillpattern": {
             "fillmode": "overlay",
             "size": 10,
             "solidity": 0.2
            },
            "type": "scatter"
           }
          ],
          "scatter3d": [
           {
            "line": {
             "colorbar": {
              "outlinewidth": 0,
              "ticks": ""
             }
            },
            "marker": {
             "colorbar": {
              "outlinewidth": 0,
              "ticks": ""
             }
            },
            "type": "scatter3d"
           }
          ],
          "scattercarpet": [
           {
            "marker": {
             "colorbar": {
              "outlinewidth": 0,
              "ticks": ""
             }
            },
            "type": "scattercarpet"
           }
          ],
          "scattergeo": [
           {
            "marker": {
             "colorbar": {
              "outlinewidth": 0,
              "ticks": ""
             }
            },
            "type": "scattergeo"
           }
          ],
          "scattergl": [
           {
            "marker": {
             "colorbar": {
              "outlinewidth": 0,
              "ticks": ""
             }
            },
            "type": "scattergl"
           }
          ],
          "scattermap": [
           {
            "marker": {
             "colorbar": {
              "outlinewidth": 0,
              "ticks": ""
             }
            },
            "type": "scattermap"
           }
          ],
          "scattermapbox": [
           {
            "marker": {
             "colorbar": {
              "outlinewidth": 0,
              "ticks": ""
             }
            },
            "type": "scattermapbox"
           }
          ],
          "scatterpolar": [
           {
            "marker": {
             "colorbar": {
              "outlinewidth": 0,
              "ticks": ""
             }
            },
            "type": "scatterpolar"
           }
          ],
          "scatterpolargl": [
           {
            "marker": {
             "colorbar": {
              "outlinewidth": 0,
              "ticks": ""
             }
            },
            "type": "scatterpolargl"
           }
          ],
          "scatterternary": [
           {
            "marker": {
             "colorbar": {
              "outlinewidth": 0,
              "ticks": ""
             }
            },
            "type": "scatterternary"
           }
          ],
          "surface": [
           {
            "colorbar": {
             "outlinewidth": 0,
             "ticks": ""
            },
            "colorscale": [
             [
              0,
              "#0d0887"
             ],
             [
              0.1111111111111111,
              "#46039f"
             ],
             [
              0.2222222222222222,
              "#7201a8"
             ],
             [
              0.3333333333333333,
              "#9c179e"
             ],
             [
              0.4444444444444444,
              "#bd3786"
             ],
             [
              0.5555555555555556,
              "#d8576b"
             ],
             [
              0.6666666666666666,
              "#ed7953"
             ],
             [
              0.7777777777777778,
              "#fb9f3a"
             ],
             [
              0.8888888888888888,
              "#fdca26"
             ],
             [
              1,
              "#f0f921"
             ]
            ],
            "type": "surface"
           }
          ],
          "table": [
           {
            "cells": {
             "fill": {
              "color": "#EBF0F8"
             },
             "line": {
              "color": "white"
             }
            },
            "header": {
             "fill": {
              "color": "#C8D4E3"
             },
             "line": {
              "color": "white"
             }
            },
            "type": "table"
           }
          ]
         },
         "layout": {
          "annotationdefaults": {
           "arrowcolor": "#2a3f5f",
           "arrowhead": 0,
           "arrowwidth": 1
          },
          "autotypenumbers": "strict",
          "coloraxis": {
           "colorbar": {
            "outlinewidth": 0,
            "ticks": ""
           }
          },
          "colorscale": {
           "diverging": [
            [
             0,
             "#8e0152"
            ],
            [
             0.1,
             "#c51b7d"
            ],
            [
             0.2,
             "#de77ae"
            ],
            [
             0.3,
             "#f1b6da"
            ],
            [
             0.4,
             "#fde0ef"
            ],
            [
             0.5,
             "#f7f7f7"
            ],
            [
             0.6,
             "#e6f5d0"
            ],
            [
             0.7,
             "#b8e186"
            ],
            [
             0.8,
             "#7fbc41"
            ],
            [
             0.9,
             "#4d9221"
            ],
            [
             1,
             "#276419"
            ]
           ],
           "sequential": [
            [
             0,
             "#0d0887"
            ],
            [
             0.1111111111111111,
             "#46039f"
            ],
            [
             0.2222222222222222,
             "#7201a8"
            ],
            [
             0.3333333333333333,
             "#9c179e"
            ],
            [
             0.4444444444444444,
             "#bd3786"
            ],
            [
             0.5555555555555556,
             "#d8576b"
            ],
            [
             0.6666666666666666,
             "#ed7953"
            ],
            [
             0.7777777777777778,
             "#fb9f3a"
            ],
            [
             0.8888888888888888,
             "#fdca26"
            ],
            [
             1,
             "#f0f921"
            ]
           ],
           "sequentialminus": [
            [
             0,
             "#0d0887"
            ],
            [
             0.1111111111111111,
             "#46039f"
            ],
            [
             0.2222222222222222,
             "#7201a8"
            ],
            [
             0.3333333333333333,
             "#9c179e"
            ],
            [
             0.4444444444444444,
             "#bd3786"
            ],
            [
             0.5555555555555556,
             "#d8576b"
            ],
            [
             0.6666666666666666,
             "#ed7953"
            ],
            [
             0.7777777777777778,
             "#fb9f3a"
            ],
            [
             0.8888888888888888,
             "#fdca26"
            ],
            [
             1,
             "#f0f921"
            ]
           ]
          },
          "colorway": [
           "#636efa",
           "#EF553B",
           "#00cc96",
           "#ab63fa",
           "#FFA15A",
           "#19d3f3",
           "#FF6692",
           "#B6E880",
           "#FF97FF",
           "#FECB52"
          ],
          "font": {
           "color": "#2a3f5f"
          },
          "geo": {
           "bgcolor": "white",
           "lakecolor": "white",
           "landcolor": "white",
           "showlakes": true,
           "showland": true,
           "subunitcolor": "#C8D4E3"
          },
          "hoverlabel": {
           "align": "left"
          },
          "hovermode": "closest",
          "mapbox": {
           "style": "light"
          },
          "paper_bgcolor": "white",
          "plot_bgcolor": "white",
          "polar": {
           "angularaxis": {
            "gridcolor": "#EBF0F8",
            "linecolor": "#EBF0F8",
            "ticks": ""
           },
           "bgcolor": "white",
           "radialaxis": {
            "gridcolor": "#EBF0F8",
            "linecolor": "#EBF0F8",
            "ticks": ""
           }
          },
          "scene": {
           "xaxis": {
            "backgroundcolor": "white",
            "gridcolor": "#DFE8F3",
            "gridwidth": 2,
            "linecolor": "#EBF0F8",
            "showbackground": true,
            "ticks": "",
            "zerolinecolor": "#EBF0F8"
           },
           "yaxis": {
            "backgroundcolor": "white",
            "gridcolor": "#DFE8F3",
            "gridwidth": 2,
            "linecolor": "#EBF0F8",
            "showbackground": true,
            "ticks": "",
            "zerolinecolor": "#EBF0F8"
           },
           "zaxis": {
            "backgroundcolor": "white",
            "gridcolor": "#DFE8F3",
            "gridwidth": 2,
            "linecolor": "#EBF0F8",
            "showbackground": true,
            "ticks": "",
            "zerolinecolor": "#EBF0F8"
           }
          },
          "shapedefaults": {
           "line": {
            "color": "#2a3f5f"
           }
          },
          "ternary": {
           "aaxis": {
            "gridcolor": "#DFE8F3",
            "linecolor": "#A2B1C6",
            "ticks": ""
           },
           "baxis": {
            "gridcolor": "#DFE8F3",
            "linecolor": "#A2B1C6",
            "ticks": ""
           },
           "bgcolor": "white",
           "caxis": {
            "gridcolor": "#DFE8F3",
            "linecolor": "#A2B1C6",
            "ticks": ""
           }
          },
          "title": {
           "x": 0.05
          },
          "xaxis": {
           "automargin": true,
           "gridcolor": "#EBF0F8",
           "linecolor": "#EBF0F8",
           "ticks": "",
           "title": {
            "standoff": 15
           },
           "zerolinecolor": "#EBF0F8",
           "zerolinewidth": 2
          },
          "yaxis": {
           "automargin": true,
           "gridcolor": "#EBF0F8",
           "linecolor": "#EBF0F8",
           "ticks": "",
           "title": {
            "standoff": 15
           },
           "zerolinecolor": "#EBF0F8",
           "zerolinewidth": 2
          }
         }
        },
        "title": {
         "text": "Z-Score"
        },
        "width": 1000,
        "xaxis": {
         "anchor": "y",
         "domain": [
          0,
          1
         ],
         "title": {
          "text": "Z-Score"
         }
        },
        "yaxis": {
         "anchor": "x",
         "domain": [
          0,
          1
         ],
         "title": {
          "text": "Date"
         }
        }
       }
      }
     },
     "metadata": {},
     "output_type": "display_data"
    }
   ],
   "source": [
    "plot_score(m_score = True, sectors = False, title = \"M-Score across years\")\n",
    "plot_score(m_score = False, sectors = False, title = \"Z-Score across years\")"
   ]
  },
  {
   "cell_type": "markdown",
   "metadata": {},
   "source": [
    "The median of both scores stays relatively stable over the years considered. The values are calculated below:"
   ]
  },
  {
   "cell_type": "code",
   "execution_count": 29,
   "metadata": {},
   "outputs": [
    {
     "name": "stdout",
     "output_type": "stream",
     "text": [
      "The mean m-score value is : -2.64\n",
      "The mean z-score value is : 3.13\n"
     ]
    }
   ],
   "source": [
    "print(\"The mean m-score value is :\", round(full_df[\"m-score\"].median(),2))\n",
    "print(\"The mean z-score value is :\", round(full_df[\"z-score\"].median(),2))"
   ]
  },
  {
   "cell_type": "markdown",
   "metadata": {},
   "source": [
    "Now we are going to create the screening filters. We create a filter for companies having an m-score lower than -2.22 and a z-score higher than 3. Then, we create another filter for m-scores higher than -1.78 and z-scores lower than 1.81."
   ]
  },
  {
   "cell_type": "code",
   "execution_count": 30,
   "metadata": {},
   "outputs": [],
   "source": [
    "long_z_score =  (full_df[\"z-score\"] > 3)\n",
    "short_z_score = (full_df[\"z-score\"] < 1.81)\n",
    "\n",
    "long_m_score = (full_df[\"m-score\"] < -2.22 )\n",
    "short_m_score = (full_df[\"m-score\"] > -1.78 )\n",
    "\n",
    "long_screening =  long_z_score & long_m_score\n",
    "short_screening = short_z_score & short_m_score"
   ]
  },
  {
   "cell_type": "markdown",
   "metadata": {},
   "source": [
    "We are ready to test the results of our models, first we will create two empty lists to store our results. For each year, we store the a tuple consisting of the year, the number of stocks after applying the screening filters and the average returns of the companies that fulfilled the criteria. Finally we convert the lists to arrays and we create two dataframes to facilitate the analysis. To facilitate further analysis we define a function that accepts the screening filters as parameters."
   ]
  },
  {
   "cell_type": "code",
   "execution_count": 31,
   "metadata": {},
   "outputs": [],
   "source": [
    "def get_df_results(long_filter, short_filter):\n",
    "\n",
    "    long_results = []\n",
    "    short_results = []\n",
    "\n",
    "    for date in full_df[\"date\"].unique(): \n",
    "        date = str(date)\n",
    "        long_universe = long_filter & (full_df[\"date\"] == date)\n",
    "        short_universe = short_filter & (full_df[\"date\"] == date)\n",
    "\n",
    "        long_results.append((\n",
    "            date, \n",
    "            len(full_df[long_universe]),\n",
    "            full_df[\"returns\"][long_universe].astype(np.float64).mean()\n",
    "        ))\n",
    "\n",
    "        short_results.append((\n",
    "            date, \n",
    "            len(full_df[short_universe]),\n",
    "            full_df[\"returns\"][short_universe].astype(np.float64).mean()\n",
    "        ))\n",
    "\n",
    "    long_results = np.array(long_results)\n",
    "    short_results = np.array(short_results)\n",
    "\n",
    "    df_long = pd.DataFrame(long_results[:, 1:], long_results[:, 0], [\"stocks\", \"returns\"], np.float64)\n",
    "    df_short = pd.DataFrame(short_results[:, 1:], short_results[:, 0], [\"stocks\", \"returns\"], np.float64)\n",
    "    \n",
    "    return df_long, df_short"
   ]
  },
  {
   "cell_type": "markdown",
   "metadata": {},
   "source": [
    "Now we will create 6 dataframes, one based on the m-score screening alone, one based on the z-score alone and one combining both screening methods."
   ]
  },
  {
   "cell_type": "code",
   "execution_count": 32,
   "metadata": {},
   "outputs": [],
   "source": [
    "df_m_long, df_m_short = get_df_results(long_m_score, short_m_score)\n",
    "df_z_long, df_z_short = get_df_results(long_z_score, short_z_score)\n",
    "df_long, df_short = get_df_results(long_screening, short_screening)"
   ]
  },
  {
   "cell_type": "markdown",
   "metadata": {},
   "source": [
    "To facilitate visualization we join the long and short dataframes and compute the returns of the companies in the long screening minus the returns of those in the short screening."
   ]
  },
  {
   "cell_type": "code",
   "execution_count": 33,
   "metadata": {},
   "outputs": [],
   "source": [
    "def join_df(df_l, df_s):\n",
    "    df_j = df_l.join(df_s, how = \"inner\", lsuffix = \"_long\", rsuffix = \"_short\")\n",
    "    df_j[\"results\"] = df_j[\"returns_long\"] - df_j[\"returns_short\"]\n",
    "    return df_j\n",
    "\n",
    "df_m_joined = join_df(df_m_long, df_m_short)\n",
    "df_z_joined = join_df(df_z_long, df_z_short)\n",
    "df_joined = join_df(df_long, df_short)"
   ]
  },
  {
   "cell_type": "markdown",
   "metadata": {},
   "source": [
    "Now we are going to define a function to plot the results across the years, we want to visualize the returns of the stocks that passed the long criteria, the short criteria and the difference between them."
   ]
  },
  {
   "cell_type": "code",
   "execution_count": 34,
   "metadata": {},
   "outputs": [],
   "source": [
    "def plot_returns(df, title = \"\"):\n",
    "    \n",
    "    fig = go.Figure()\n",
    "    fig.add_trace(go.Scatter(x = df.index,\n",
    "                             y = df[\"returns_long\"],\n",
    "                             mode ='lines+markers',\n",
    "                             name ='long screening'))\n",
    "    \n",
    "    fig.add_trace(go.Scatter(x = df.index, \n",
    "                             y = df[\"returns_short\"],\n",
    "                             mode ='lines+markers',\n",
    "                             name ='short screening'))\n",
    "\n",
    "    fig.add_trace(go.Scatter(x = df.index, \n",
    "                             y = df[\"results\"],\n",
    "                             mode ='lines+markers',\n",
    "                             name ='results'))\n",
    "\n",
    "    fig.update_layout(\n",
    "        title = title,\n",
    "        xaxis_title = \"Dates\",\n",
    "        yaxis_title = \"Returns\",\n",
    "        template = \"plotly_white\",\n",
    "        font = dict(size = 18),\n",
    "        height = 800, \n",
    "        width = 1000)\n",
    "\n",
    "    fig.show()"
   ]
  },
  {
   "cell_type": "markdown",
   "metadata": {},
   "source": [
    "Before plotting the results we will compute the average performance of our screening method. As we can see below the filters alone perform better than the joined filter which produces worse returns."
   ]
  },
  {
   "cell_type": "code",
   "execution_count": 35,
   "metadata": {},
   "outputs": [
    {
     "name": "stdout",
     "output_type": "stream",
     "text": [
      "The m-score filter alone produces a yearly average of : 77 BPS\n",
      "The z-score filter alone produces a yearly average of : 301 BPS\n",
      "The joined filter produces a yearly average of : 509 BPS\n"
     ]
    }
   ],
   "source": [
    "print(\"The m-score filter alone produces a yearly average of :\", round(100*df_m_joined[\"results\"].mean()), \"BPS\")\n",
    "print(\"The z-score filter alone produces a yearly average of :\", round(100*df_z_joined[\"results\"].mean()), \"BPS\")\n",
    "print(\"The joined filter produces a yearly average of :\", round(100*df_joined[\"results\"].mean()), \"BPS\")"
   ]
  },
  {
   "cell_type": "markdown",
   "metadata": {},
   "source": [
    "However, when we compute the average of companies in our filter it seems that very few companies passed the joined criteria for the short side. On average only 4.32 companies passed the combined short criteria."
   ]
  },
  {
   "cell_type": "code",
   "execution_count": 38,
   "metadata": {},
   "outputs": [
    {
     "name": "stdout",
     "output_type": "stream",
     "text": [
      "231.92307692307693 companies passed the m-score long criteria and 13.615384615384615 companies passed the short\n",
      "140.30769230769232 companies passed the z-score long criteria and 61.84615384615385 companies passed the short\n",
      "122.53846153846153 companies passed the combined long criteria and 3.769230769230769 companies passed the short\n"
     ]
    }
   ],
   "source": [
    "print(f\"{df_m_joined['stocks_long'].mean()} companies passed the m-score long criteria and {df_m_joined['stocks_short'].mean()} companies passed the short\")\n",
    "\n",
    "print(f\"{df_z_joined['stocks_long'].mean()} companies passed the z-score long criteria and {df_z_joined['stocks_short'].mean()} companies passed the short\")\n",
    "\n",
    "print(f\"{df_joined['stocks_long'].mean()} companies passed the combined long criteria and {df_joined['stocks_short'].mean()} companies passed the short\")"
   ]
  },
  {
   "cell_type": "markdown",
   "metadata": {},
   "source": [
    "As we can see below, the results across the years are quite volatile for the m-score, however since 2005 the results become more stable and the companies in the long screening outperform the companies in the short screening in a more consistent way."
   ]
  },
  {
   "cell_type": "code",
   "execution_count": 39,
   "metadata": {},
   "outputs": [
    {
     "data": {
      "application/vnd.plotly.v1+json": {
       "config": {
        "plotlyServerURL": "https://chart-studio.plotly.com"
       },
       "data": [
        {
         "mode": "lines+markers",
         "name": "long screening",
         "type": "scatter",
         "x": [
          "2012",
          "2013",
          "2014",
          "2015",
          "2016",
          "2017",
          "2018",
          "2019",
          "2020",
          "2021",
          "2022",
          "2023",
          "2024"
         ],
         "y": {
          "bdata": "M4udUmrLLkDBhNnOKgpAQAt/schTby5AF772H2G+6r9FMvhOAOQuQBo1XMORcDRA+suaN+GGGcCuvuWX9989QMDifd1AzShAzltJ1qE8O0CaWl84W2QlwF2PS70jazBA/u9KH6XmJkA=",
          "dtype": "f8"
         }
        },
        {
         "mode": "lines+markers",
         "name": "short screening",
         "type": "scatter",
         "x": [
          "2012",
          "2013",
          "2014",
          "2015",
          "2016",
          "2017",
          "2018",
          "2019",
          "2020",
          "2021",
          "2022",
          "2023",
          "2024"
         ],
         "y": {
          "bdata": "O/3zfXLzJEDTKlbdZxs+QJR+upayoTJAoRJzBcD+IcBrwh0z1XwbQEOQBizKDTZAjnfj0A1zL8C4zxLxIENBQHpLQyQKLixAE1US0kGeQkCAH842w8cqwIr6aCD9aDdA3z05iKuZIUA=",
          "dtype": "f8"
         }
        },
        {
         "mode": "lines+markers",
         "name": "results",
         "type": "scatter",
         "x": [
          "2012",
          "2013",
          "2014",
          "2015",
          "2016",
          "2017",
          "2018",
          "2019",
          "2020",
          "2021",
          "2022",
          "2023",
          "2024"
         ],
         "y": {
          "bdata": "8BtTqe+vE0Dw6s0F3I7/P3T4DZNFUAvAwKZz89lSIEAQUWm1lSUhQJCypYqG0/m/kREWNZ2vIkAIg/8oKZkSwNBFKzZKBvu/sJy2m8P/I8CYE7v5n40FQLSsdYxl9xvAfMhGXOYzBUA=",
          "dtype": "f8"
         }
        }
       ],
       "layout": {
        "font": {
         "size": 18
        },
        "height": 800,
        "template": {
         "data": {
          "bar": [
           {
            "error_x": {
             "color": "#2a3f5f"
            },
            "error_y": {
             "color": "#2a3f5f"
            },
            "marker": {
             "line": {
              "color": "white",
              "width": 0.5
             },
             "pattern": {
              "fillmode": "overlay",
              "size": 10,
              "solidity": 0.2
             }
            },
            "type": "bar"
           }
          ],
          "barpolar": [
           {
            "marker": {
             "line": {
              "color": "white",
              "width": 0.5
             },
             "pattern": {
              "fillmode": "overlay",
              "size": 10,
              "solidity": 0.2
             }
            },
            "type": "barpolar"
           }
          ],
          "carpet": [
           {
            "aaxis": {
             "endlinecolor": "#2a3f5f",
             "gridcolor": "#C8D4E3",
             "linecolor": "#C8D4E3",
             "minorgridcolor": "#C8D4E3",
             "startlinecolor": "#2a3f5f"
            },
            "baxis": {
             "endlinecolor": "#2a3f5f",
             "gridcolor": "#C8D4E3",
             "linecolor": "#C8D4E3",
             "minorgridcolor": "#C8D4E3",
             "startlinecolor": "#2a3f5f"
            },
            "type": "carpet"
           }
          ],
          "choropleth": [
           {
            "colorbar": {
             "outlinewidth": 0,
             "ticks": ""
            },
            "type": "choropleth"
           }
          ],
          "contour": [
           {
            "colorbar": {
             "outlinewidth": 0,
             "ticks": ""
            },
            "colorscale": [
             [
              0,
              "#0d0887"
             ],
             [
              0.1111111111111111,
              "#46039f"
             ],
             [
              0.2222222222222222,
              "#7201a8"
             ],
             [
              0.3333333333333333,
              "#9c179e"
             ],
             [
              0.4444444444444444,
              "#bd3786"
             ],
             [
              0.5555555555555556,
              "#d8576b"
             ],
             [
              0.6666666666666666,
              "#ed7953"
             ],
             [
              0.7777777777777778,
              "#fb9f3a"
             ],
             [
              0.8888888888888888,
              "#fdca26"
             ],
             [
              1,
              "#f0f921"
             ]
            ],
            "type": "contour"
           }
          ],
          "contourcarpet": [
           {
            "colorbar": {
             "outlinewidth": 0,
             "ticks": ""
            },
            "type": "contourcarpet"
           }
          ],
          "heatmap": [
           {
            "colorbar": {
             "outlinewidth": 0,
             "ticks": ""
            },
            "colorscale": [
             [
              0,
              "#0d0887"
             ],
             [
              0.1111111111111111,
              "#46039f"
             ],
             [
              0.2222222222222222,
              "#7201a8"
             ],
             [
              0.3333333333333333,
              "#9c179e"
             ],
             [
              0.4444444444444444,
              "#bd3786"
             ],
             [
              0.5555555555555556,
              "#d8576b"
             ],
             [
              0.6666666666666666,
              "#ed7953"
             ],
             [
              0.7777777777777778,
              "#fb9f3a"
             ],
             [
              0.8888888888888888,
              "#fdca26"
             ],
             [
              1,
              "#f0f921"
             ]
            ],
            "type": "heatmap"
           }
          ],
          "histogram": [
           {
            "marker": {
             "pattern": {
              "fillmode": "overlay",
              "size": 10,
              "solidity": 0.2
             }
            },
            "type": "histogram"
           }
          ],
          "histogram2d": [
           {
            "colorbar": {
             "outlinewidth": 0,
             "ticks": ""
            },
            "colorscale": [
             [
              0,
              "#0d0887"
             ],
             [
              0.1111111111111111,
              "#46039f"
             ],
             [
              0.2222222222222222,
              "#7201a8"
             ],
             [
              0.3333333333333333,
              "#9c179e"
             ],
             [
              0.4444444444444444,
              "#bd3786"
             ],
             [
              0.5555555555555556,
              "#d8576b"
             ],
             [
              0.6666666666666666,
              "#ed7953"
             ],
             [
              0.7777777777777778,
              "#fb9f3a"
             ],
             [
              0.8888888888888888,
              "#fdca26"
             ],
             [
              1,
              "#f0f921"
             ]
            ],
            "type": "histogram2d"
           }
          ],
          "histogram2dcontour": [
           {
            "colorbar": {
             "outlinewidth": 0,
             "ticks": ""
            },
            "colorscale": [
             [
              0,
              "#0d0887"
             ],
             [
              0.1111111111111111,
              "#46039f"
             ],
             [
              0.2222222222222222,
              "#7201a8"
             ],
             [
              0.3333333333333333,
              "#9c179e"
             ],
             [
              0.4444444444444444,
              "#bd3786"
             ],
             [
              0.5555555555555556,
              "#d8576b"
             ],
             [
              0.6666666666666666,
              "#ed7953"
             ],
             [
              0.7777777777777778,
              "#fb9f3a"
             ],
             [
              0.8888888888888888,
              "#fdca26"
             ],
             [
              1,
              "#f0f921"
             ]
            ],
            "type": "histogram2dcontour"
           }
          ],
          "mesh3d": [
           {
            "colorbar": {
             "outlinewidth": 0,
             "ticks": ""
            },
            "type": "mesh3d"
           }
          ],
          "parcoords": [
           {
            "line": {
             "colorbar": {
              "outlinewidth": 0,
              "ticks": ""
             }
            },
            "type": "parcoords"
           }
          ],
          "pie": [
           {
            "automargin": true,
            "type": "pie"
           }
          ],
          "scatter": [
           {
            "fillpattern": {
             "fillmode": "overlay",
             "size": 10,
             "solidity": 0.2
            },
            "type": "scatter"
           }
          ],
          "scatter3d": [
           {
            "line": {
             "colorbar": {
              "outlinewidth": 0,
              "ticks": ""
             }
            },
            "marker": {
             "colorbar": {
              "outlinewidth": 0,
              "ticks": ""
             }
            },
            "type": "scatter3d"
           }
          ],
          "scattercarpet": [
           {
            "marker": {
             "colorbar": {
              "outlinewidth": 0,
              "ticks": ""
             }
            },
            "type": "scattercarpet"
           }
          ],
          "scattergeo": [
           {
            "marker": {
             "colorbar": {
              "outlinewidth": 0,
              "ticks": ""
             }
            },
            "type": "scattergeo"
           }
          ],
          "scattergl": [
           {
            "marker": {
             "colorbar": {
              "outlinewidth": 0,
              "ticks": ""
             }
            },
            "type": "scattergl"
           }
          ],
          "scattermap": [
           {
            "marker": {
             "colorbar": {
              "outlinewidth": 0,
              "ticks": ""
             }
            },
            "type": "scattermap"
           }
          ],
          "scattermapbox": [
           {
            "marker": {
             "colorbar": {
              "outlinewidth": 0,
              "ticks": ""
             }
            },
            "type": "scattermapbox"
           }
          ],
          "scatterpolar": [
           {
            "marker": {
             "colorbar": {
              "outlinewidth": 0,
              "ticks": ""
             }
            },
            "type": "scatterpolar"
           }
          ],
          "scatterpolargl": [
           {
            "marker": {
             "colorbar": {
              "outlinewidth": 0,
              "ticks": ""
             }
            },
            "type": "scatterpolargl"
           }
          ],
          "scatterternary": [
           {
            "marker": {
             "colorbar": {
              "outlinewidth": 0,
              "ticks": ""
             }
            },
            "type": "scatterternary"
           }
          ],
          "surface": [
           {
            "colorbar": {
             "outlinewidth": 0,
             "ticks": ""
            },
            "colorscale": [
             [
              0,
              "#0d0887"
             ],
             [
              0.1111111111111111,
              "#46039f"
             ],
             [
              0.2222222222222222,
              "#7201a8"
             ],
             [
              0.3333333333333333,
              "#9c179e"
             ],
             [
              0.4444444444444444,
              "#bd3786"
             ],
             [
              0.5555555555555556,
              "#d8576b"
             ],
             [
              0.6666666666666666,
              "#ed7953"
             ],
             [
              0.7777777777777778,
              "#fb9f3a"
             ],
             [
              0.8888888888888888,
              "#fdca26"
             ],
             [
              1,
              "#f0f921"
             ]
            ],
            "type": "surface"
           }
          ],
          "table": [
           {
            "cells": {
             "fill": {
              "color": "#EBF0F8"
             },
             "line": {
              "color": "white"
             }
            },
            "header": {
             "fill": {
              "color": "#C8D4E3"
             },
             "line": {
              "color": "white"
             }
            },
            "type": "table"
           }
          ]
         },
         "layout": {
          "annotationdefaults": {
           "arrowcolor": "#2a3f5f",
           "arrowhead": 0,
           "arrowwidth": 1
          },
          "autotypenumbers": "strict",
          "coloraxis": {
           "colorbar": {
            "outlinewidth": 0,
            "ticks": ""
           }
          },
          "colorscale": {
           "diverging": [
            [
             0,
             "#8e0152"
            ],
            [
             0.1,
             "#c51b7d"
            ],
            [
             0.2,
             "#de77ae"
            ],
            [
             0.3,
             "#f1b6da"
            ],
            [
             0.4,
             "#fde0ef"
            ],
            [
             0.5,
             "#f7f7f7"
            ],
            [
             0.6,
             "#e6f5d0"
            ],
            [
             0.7,
             "#b8e186"
            ],
            [
             0.8,
             "#7fbc41"
            ],
            [
             0.9,
             "#4d9221"
            ],
            [
             1,
             "#276419"
            ]
           ],
           "sequential": [
            [
             0,
             "#0d0887"
            ],
            [
             0.1111111111111111,
             "#46039f"
            ],
            [
             0.2222222222222222,
             "#7201a8"
            ],
            [
             0.3333333333333333,
             "#9c179e"
            ],
            [
             0.4444444444444444,
             "#bd3786"
            ],
            [
             0.5555555555555556,
             "#d8576b"
            ],
            [
             0.6666666666666666,
             "#ed7953"
            ],
            [
             0.7777777777777778,
             "#fb9f3a"
            ],
            [
             0.8888888888888888,
             "#fdca26"
            ],
            [
             1,
             "#f0f921"
            ]
           ],
           "sequentialminus": [
            [
             0,
             "#0d0887"
            ],
            [
             0.1111111111111111,
             "#46039f"
            ],
            [
             0.2222222222222222,
             "#7201a8"
            ],
            [
             0.3333333333333333,
             "#9c179e"
            ],
            [
             0.4444444444444444,
             "#bd3786"
            ],
            [
             0.5555555555555556,
             "#d8576b"
            ],
            [
             0.6666666666666666,
             "#ed7953"
            ],
            [
             0.7777777777777778,
             "#fb9f3a"
            ],
            [
             0.8888888888888888,
             "#fdca26"
            ],
            [
             1,
             "#f0f921"
            ]
           ]
          },
          "colorway": [
           "#636efa",
           "#EF553B",
           "#00cc96",
           "#ab63fa",
           "#FFA15A",
           "#19d3f3",
           "#FF6692",
           "#B6E880",
           "#FF97FF",
           "#FECB52"
          ],
          "font": {
           "color": "#2a3f5f"
          },
          "geo": {
           "bgcolor": "white",
           "lakecolor": "white",
           "landcolor": "white",
           "showlakes": true,
           "showland": true,
           "subunitcolor": "#C8D4E3"
          },
          "hoverlabel": {
           "align": "left"
          },
          "hovermode": "closest",
          "mapbox": {
           "style": "light"
          },
          "paper_bgcolor": "white",
          "plot_bgcolor": "white",
          "polar": {
           "angularaxis": {
            "gridcolor": "#EBF0F8",
            "linecolor": "#EBF0F8",
            "ticks": ""
           },
           "bgcolor": "white",
           "radialaxis": {
            "gridcolor": "#EBF0F8",
            "linecolor": "#EBF0F8",
            "ticks": ""
           }
          },
          "scene": {
           "xaxis": {
            "backgroundcolor": "white",
            "gridcolor": "#DFE8F3",
            "gridwidth": 2,
            "linecolor": "#EBF0F8",
            "showbackground": true,
            "ticks": "",
            "zerolinecolor": "#EBF0F8"
           },
           "yaxis": {
            "backgroundcolor": "white",
            "gridcolor": "#DFE8F3",
            "gridwidth": 2,
            "linecolor": "#EBF0F8",
            "showbackground": true,
            "ticks": "",
            "zerolinecolor": "#EBF0F8"
           },
           "zaxis": {
            "backgroundcolor": "white",
            "gridcolor": "#DFE8F3",
            "gridwidth": 2,
            "linecolor": "#EBF0F8",
            "showbackground": true,
            "ticks": "",
            "zerolinecolor": "#EBF0F8"
           }
          },
          "shapedefaults": {
           "line": {
            "color": "#2a3f5f"
           }
          },
          "ternary": {
           "aaxis": {
            "gridcolor": "#DFE8F3",
            "linecolor": "#A2B1C6",
            "ticks": ""
           },
           "baxis": {
            "gridcolor": "#DFE8F3",
            "linecolor": "#A2B1C6",
            "ticks": ""
           },
           "bgcolor": "white",
           "caxis": {
            "gridcolor": "#DFE8F3",
            "linecolor": "#A2B1C6",
            "ticks": ""
           }
          },
          "title": {
           "x": 0.05
          },
          "xaxis": {
           "automargin": true,
           "gridcolor": "#EBF0F8",
           "linecolor": "#EBF0F8",
           "ticks": "",
           "title": {
            "standoff": 15
           },
           "zerolinecolor": "#EBF0F8",
           "zerolinewidth": 2
          },
          "yaxis": {
           "automargin": true,
           "gridcolor": "#EBF0F8",
           "linecolor": "#EBF0F8",
           "ticks": "",
           "title": {
            "standoff": 15
           },
           "zerolinecolor": "#EBF0F8",
           "zerolinewidth": 2
          }
         }
        },
        "title": {
         "text": "Performance of the M-Score filter across the years"
        },
        "width": 1000,
        "xaxis": {
         "title": {
          "text": "Dates"
         }
        },
        "yaxis": {
         "title": {
          "text": "Returns"
         }
        }
       }
      }
     },
     "metadata": {},
     "output_type": "display_data"
    }
   ],
   "source": [
    "plot_returns(df_m_joined, \"Performance of the M-Score filter across the years\")"
   ]
  },
  {
   "cell_type": "markdown",
   "metadata": {},
   "source": [
    "The results for the z-score are also volatile across the years."
   ]
  },
  {
   "cell_type": "code",
   "execution_count": 40,
   "metadata": {},
   "outputs": [
    {
     "data": {
      "application/vnd.plotly.v1+json": {
       "config": {
        "plotlyServerURL": "https://chart-studio.plotly.com"
       },
       "data": [
        {
         "mode": "lines+markers",
         "name": "long screening",
         "type": "scatter",
         "x": [
          "2012",
          "2013",
          "2014",
          "2015",
          "2016",
          "2017",
          "2018",
          "2019",
          "2020",
          "2021",
          "2022",
          "2023",
          "2024"
         ],
         "y": {
          "bdata": "qzT6Urf7LkAKDNQia5Q/QOYK1+XN4S9AICt02aTr9z/9Q+1cNUEkQDeibubCwzlAdersDHEVGsAmArlzd78/QKeW1ZE1gzNAySzsCZ6CPEA6k2UiIhgwwPIOxPHwazZAMNo7SL5cJUA=",
          "dtype": "f8"
         }
        },
        {
         "mode": "lines+markers",
         "name": "short screening",
         "type": "scatter",
         "x": [
          "2012",
          "2013",
          "2014",
          "2015",
          "2016",
          "2017",
          "2018",
          "2019",
          "2020",
          "2021",
          "2022",
          "2023",
          "2024"
         ],
         "y": {
          "bdata": "MK1Ncwl1OMDd7IJH25E4QH/csx+LCDNAQzB3pfYpOMCT4Qip0JcmQOEyt0Bdvh5AaVGvsu0WNMDZr2VDsYdJQKWUDjBJrve/1mIsAK5TUkB60ZB86rAKwKguiwgDBTNAD5VLnXD8H8A=",
          "dtype": "f8"
         }
        },
        {
         "mode": "lines+markers",
         "name": "results",
         "type": "scatter",
         "x": [
          "2012",
          "2013",
          "2014",
          "2015",
          "2016",
          "2017",
          "2018",
          "2019",
          "2020",
          "2021",
          "2022",
          "2023",
          "2024"
         ],
         "y": {
          "bdata": "w2NljnL5Q0C0fERtPwocQGC4QmYhvQjA9XIO87CoOUCw7Nxg2rTyv3/VQJYrFDJAmC3o3iIjK0CMXRIT608zwPF/1iQa/jRASK9i+wxmRsAW8qalCYQpwFACx0lvNwtAXNJwS3utMkA=",
          "dtype": "f8"
         }
        }
       ],
       "layout": {
        "font": {
         "size": 18
        },
        "height": 800,
        "template": {
         "data": {
          "bar": [
           {
            "error_x": {
             "color": "#2a3f5f"
            },
            "error_y": {
             "color": "#2a3f5f"
            },
            "marker": {
             "line": {
              "color": "white",
              "width": 0.5
             },
             "pattern": {
              "fillmode": "overlay",
              "size": 10,
              "solidity": 0.2
             }
            },
            "type": "bar"
           }
          ],
          "barpolar": [
           {
            "marker": {
             "line": {
              "color": "white",
              "width": 0.5
             },
             "pattern": {
              "fillmode": "overlay",
              "size": 10,
              "solidity": 0.2
             }
            },
            "type": "barpolar"
           }
          ],
          "carpet": [
           {
            "aaxis": {
             "endlinecolor": "#2a3f5f",
             "gridcolor": "#C8D4E3",
             "linecolor": "#C8D4E3",
             "minorgridcolor": "#C8D4E3",
             "startlinecolor": "#2a3f5f"
            },
            "baxis": {
             "endlinecolor": "#2a3f5f",
             "gridcolor": "#C8D4E3",
             "linecolor": "#C8D4E3",
             "minorgridcolor": "#C8D4E3",
             "startlinecolor": "#2a3f5f"
            },
            "type": "carpet"
           }
          ],
          "choropleth": [
           {
            "colorbar": {
             "outlinewidth": 0,
             "ticks": ""
            },
            "type": "choropleth"
           }
          ],
          "contour": [
           {
            "colorbar": {
             "outlinewidth": 0,
             "ticks": ""
            },
            "colorscale": [
             [
              0,
              "#0d0887"
             ],
             [
              0.1111111111111111,
              "#46039f"
             ],
             [
              0.2222222222222222,
              "#7201a8"
             ],
             [
              0.3333333333333333,
              "#9c179e"
             ],
             [
              0.4444444444444444,
              "#bd3786"
             ],
             [
              0.5555555555555556,
              "#d8576b"
             ],
             [
              0.6666666666666666,
              "#ed7953"
             ],
             [
              0.7777777777777778,
              "#fb9f3a"
             ],
             [
              0.8888888888888888,
              "#fdca26"
             ],
             [
              1,
              "#f0f921"
             ]
            ],
            "type": "contour"
           }
          ],
          "contourcarpet": [
           {
            "colorbar": {
             "outlinewidth": 0,
             "ticks": ""
            },
            "type": "contourcarpet"
           }
          ],
          "heatmap": [
           {
            "colorbar": {
             "outlinewidth": 0,
             "ticks": ""
            },
            "colorscale": [
             [
              0,
              "#0d0887"
             ],
             [
              0.1111111111111111,
              "#46039f"
             ],
             [
              0.2222222222222222,
              "#7201a8"
             ],
             [
              0.3333333333333333,
              "#9c179e"
             ],
             [
              0.4444444444444444,
              "#bd3786"
             ],
             [
              0.5555555555555556,
              "#d8576b"
             ],
             [
              0.6666666666666666,
              "#ed7953"
             ],
             [
              0.7777777777777778,
              "#fb9f3a"
             ],
             [
              0.8888888888888888,
              "#fdca26"
             ],
             [
              1,
              "#f0f921"
             ]
            ],
            "type": "heatmap"
           }
          ],
          "histogram": [
           {
            "marker": {
             "pattern": {
              "fillmode": "overlay",
              "size": 10,
              "solidity": 0.2
             }
            },
            "type": "histogram"
           }
          ],
          "histogram2d": [
           {
            "colorbar": {
             "outlinewidth": 0,
             "ticks": ""
            },
            "colorscale": [
             [
              0,
              "#0d0887"
             ],
             [
              0.1111111111111111,
              "#46039f"
             ],
             [
              0.2222222222222222,
              "#7201a8"
             ],
             [
              0.3333333333333333,
              "#9c179e"
             ],
             [
              0.4444444444444444,
              "#bd3786"
             ],
             [
              0.5555555555555556,
              "#d8576b"
             ],
             [
              0.6666666666666666,
              "#ed7953"
             ],
             [
              0.7777777777777778,
              "#fb9f3a"
             ],
             [
              0.8888888888888888,
              "#fdca26"
             ],
             [
              1,
              "#f0f921"
             ]
            ],
            "type": "histogram2d"
           }
          ],
          "histogram2dcontour": [
           {
            "colorbar": {
             "outlinewidth": 0,
             "ticks": ""
            },
            "colorscale": [
             [
              0,
              "#0d0887"
             ],
             [
              0.1111111111111111,
              "#46039f"
             ],
             [
              0.2222222222222222,
              "#7201a8"
             ],
             [
              0.3333333333333333,
              "#9c179e"
             ],
             [
              0.4444444444444444,
              "#bd3786"
             ],
             [
              0.5555555555555556,
              "#d8576b"
             ],
             [
              0.6666666666666666,
              "#ed7953"
             ],
             [
              0.7777777777777778,
              "#fb9f3a"
             ],
             [
              0.8888888888888888,
              "#fdca26"
             ],
             [
              1,
              "#f0f921"
             ]
            ],
            "type": "histogram2dcontour"
           }
          ],
          "mesh3d": [
           {
            "colorbar": {
             "outlinewidth": 0,
             "ticks": ""
            },
            "type": "mesh3d"
           }
          ],
          "parcoords": [
           {
            "line": {
             "colorbar": {
              "outlinewidth": 0,
              "ticks": ""
             }
            },
            "type": "parcoords"
           }
          ],
          "pie": [
           {
            "automargin": true,
            "type": "pie"
           }
          ],
          "scatter": [
           {
            "fillpattern": {
             "fillmode": "overlay",
             "size": 10,
             "solidity": 0.2
            },
            "type": "scatter"
           }
          ],
          "scatter3d": [
           {
            "line": {
             "colorbar": {
              "outlinewidth": 0,
              "ticks": ""
             }
            },
            "marker": {
             "colorbar": {
              "outlinewidth": 0,
              "ticks": ""
             }
            },
            "type": "scatter3d"
           }
          ],
          "scattercarpet": [
           {
            "marker": {
             "colorbar": {
              "outlinewidth": 0,
              "ticks": ""
             }
            },
            "type": "scattercarpet"
           }
          ],
          "scattergeo": [
           {
            "marker": {
             "colorbar": {
              "outlinewidth": 0,
              "ticks": ""
             }
            },
            "type": "scattergeo"
           }
          ],
          "scattergl": [
           {
            "marker": {
             "colorbar": {
              "outlinewidth": 0,
              "ticks": ""
             }
            },
            "type": "scattergl"
           }
          ],
          "scattermap": [
           {
            "marker": {
             "colorbar": {
              "outlinewidth": 0,
              "ticks": ""
             }
            },
            "type": "scattermap"
           }
          ],
          "scattermapbox": [
           {
            "marker": {
             "colorbar": {
              "outlinewidth": 0,
              "ticks": ""
             }
            },
            "type": "scattermapbox"
           }
          ],
          "scatterpolar": [
           {
            "marker": {
             "colorbar": {
              "outlinewidth": 0,
              "ticks": ""
             }
            },
            "type": "scatterpolar"
           }
          ],
          "scatterpolargl": [
           {
            "marker": {
             "colorbar": {
              "outlinewidth": 0,
              "ticks": ""
             }
            },
            "type": "scatterpolargl"
           }
          ],
          "scatterternary": [
           {
            "marker": {
             "colorbar": {
              "outlinewidth": 0,
              "ticks": ""
             }
            },
            "type": "scatterternary"
           }
          ],
          "surface": [
           {
            "colorbar": {
             "outlinewidth": 0,
             "ticks": ""
            },
            "colorscale": [
             [
              0,
              "#0d0887"
             ],
             [
              0.1111111111111111,
              "#46039f"
             ],
             [
              0.2222222222222222,
              "#7201a8"
             ],
             [
              0.3333333333333333,
              "#9c179e"
             ],
             [
              0.4444444444444444,
              "#bd3786"
             ],
             [
              0.5555555555555556,
              "#d8576b"
             ],
             [
              0.6666666666666666,
              "#ed7953"
             ],
             [
              0.7777777777777778,
              "#fb9f3a"
             ],
             [
              0.8888888888888888,
              "#fdca26"
             ],
             [
              1,
              "#f0f921"
             ]
            ],
            "type": "surface"
           }
          ],
          "table": [
           {
            "cells": {
             "fill": {
              "color": "#EBF0F8"
             },
             "line": {
              "color": "white"
             }
            },
            "header": {
             "fill": {
              "color": "#C8D4E3"
             },
             "line": {
              "color": "white"
             }
            },
            "type": "table"
           }
          ]
         },
         "layout": {
          "annotationdefaults": {
           "arrowcolor": "#2a3f5f",
           "arrowhead": 0,
           "arrowwidth": 1
          },
          "autotypenumbers": "strict",
          "coloraxis": {
           "colorbar": {
            "outlinewidth": 0,
            "ticks": ""
           }
          },
          "colorscale": {
           "diverging": [
            [
             0,
             "#8e0152"
            ],
            [
             0.1,
             "#c51b7d"
            ],
            [
             0.2,
             "#de77ae"
            ],
            [
             0.3,
             "#f1b6da"
            ],
            [
             0.4,
             "#fde0ef"
            ],
            [
             0.5,
             "#f7f7f7"
            ],
            [
             0.6,
             "#e6f5d0"
            ],
            [
             0.7,
             "#b8e186"
            ],
            [
             0.8,
             "#7fbc41"
            ],
            [
             0.9,
             "#4d9221"
            ],
            [
             1,
             "#276419"
            ]
           ],
           "sequential": [
            [
             0,
             "#0d0887"
            ],
            [
             0.1111111111111111,
             "#46039f"
            ],
            [
             0.2222222222222222,
             "#7201a8"
            ],
            [
             0.3333333333333333,
             "#9c179e"
            ],
            [
             0.4444444444444444,
             "#bd3786"
            ],
            [
             0.5555555555555556,
             "#d8576b"
            ],
            [
             0.6666666666666666,
             "#ed7953"
            ],
            [
             0.7777777777777778,
             "#fb9f3a"
            ],
            [
             0.8888888888888888,
             "#fdca26"
            ],
            [
             1,
             "#f0f921"
            ]
           ],
           "sequentialminus": [
            [
             0,
             "#0d0887"
            ],
            [
             0.1111111111111111,
             "#46039f"
            ],
            [
             0.2222222222222222,
             "#7201a8"
            ],
            [
             0.3333333333333333,
             "#9c179e"
            ],
            [
             0.4444444444444444,
             "#bd3786"
            ],
            [
             0.5555555555555556,
             "#d8576b"
            ],
            [
             0.6666666666666666,
             "#ed7953"
            ],
            [
             0.7777777777777778,
             "#fb9f3a"
            ],
            [
             0.8888888888888888,
             "#fdca26"
            ],
            [
             1,
             "#f0f921"
            ]
           ]
          },
          "colorway": [
           "#636efa",
           "#EF553B",
           "#00cc96",
           "#ab63fa",
           "#FFA15A",
           "#19d3f3",
           "#FF6692",
           "#B6E880",
           "#FF97FF",
           "#FECB52"
          ],
          "font": {
           "color": "#2a3f5f"
          },
          "geo": {
           "bgcolor": "white",
           "lakecolor": "white",
           "landcolor": "white",
           "showlakes": true,
           "showland": true,
           "subunitcolor": "#C8D4E3"
          },
          "hoverlabel": {
           "align": "left"
          },
          "hovermode": "closest",
          "mapbox": {
           "style": "light"
          },
          "paper_bgcolor": "white",
          "plot_bgcolor": "white",
          "polar": {
           "angularaxis": {
            "gridcolor": "#EBF0F8",
            "linecolor": "#EBF0F8",
            "ticks": ""
           },
           "bgcolor": "white",
           "radialaxis": {
            "gridcolor": "#EBF0F8",
            "linecolor": "#EBF0F8",
            "ticks": ""
           }
          },
          "scene": {
           "xaxis": {
            "backgroundcolor": "white",
            "gridcolor": "#DFE8F3",
            "gridwidth": 2,
            "linecolor": "#EBF0F8",
            "showbackground": true,
            "ticks": "",
            "zerolinecolor": "#EBF0F8"
           },
           "yaxis": {
            "backgroundcolor": "white",
            "gridcolor": "#DFE8F3",
            "gridwidth": 2,
            "linecolor": "#EBF0F8",
            "showbackground": true,
            "ticks": "",
            "zerolinecolor": "#EBF0F8"
           },
           "zaxis": {
            "backgroundcolor": "white",
            "gridcolor": "#DFE8F3",
            "gridwidth": 2,
            "linecolor": "#EBF0F8",
            "showbackground": true,
            "ticks": "",
            "zerolinecolor": "#EBF0F8"
           }
          },
          "shapedefaults": {
           "line": {
            "color": "#2a3f5f"
           }
          },
          "ternary": {
           "aaxis": {
            "gridcolor": "#DFE8F3",
            "linecolor": "#A2B1C6",
            "ticks": ""
           },
           "baxis": {
            "gridcolor": "#DFE8F3",
            "linecolor": "#A2B1C6",
            "ticks": ""
           },
           "bgcolor": "white",
           "caxis": {
            "gridcolor": "#DFE8F3",
            "linecolor": "#A2B1C6",
            "ticks": ""
           }
          },
          "title": {
           "x": 0.05
          },
          "xaxis": {
           "automargin": true,
           "gridcolor": "#EBF0F8",
           "linecolor": "#EBF0F8",
           "ticks": "",
           "title": {
            "standoff": 15
           },
           "zerolinecolor": "#EBF0F8",
           "zerolinewidth": 2
          },
          "yaxis": {
           "automargin": true,
           "gridcolor": "#EBF0F8",
           "linecolor": "#EBF0F8",
           "ticks": "",
           "title": {
            "standoff": 15
           },
           "zerolinecolor": "#EBF0F8",
           "zerolinewidth": 2
          }
         }
        },
        "title": {
         "text": "Performance of the Z-Score filter across the years"
        },
        "width": 1000,
        "xaxis": {
         "title": {
          "text": "Dates"
         }
        },
        "yaxis": {
         "title": {
          "text": "Returns"
         }
        }
       }
      }
     },
     "metadata": {},
     "output_type": "display_data"
    }
   ],
   "source": [
    "plot_returns(df_joined, \"Performance of the Z-Score filter across the years\")"
   ]
  },
  {
   "cell_type": "markdown",
   "metadata": {},
   "source": [
    "By observing the results of the combined screening method we can notice how 2021 was the worst performing year by far."
   ]
  },
  {
   "cell_type": "code",
   "execution_count": 51,
   "metadata": {},
   "outputs": [
    {
     "data": {
      "application/vnd.plotly.v1+json": {
       "config": {
        "plotlyServerURL": "https://chart-studio.plotly.com"
       },
       "data": [
        {
         "mode": "lines+markers",
         "name": "long screening",
         "type": "scatter",
         "x": [
          "2017",
          "2018",
          "2019",
          "2020",
          "2021",
          "2022",
          "2023",
          "2024"
         ],
         "y": {
          "bdata": "OKJu5sLDOUB16uwMcRUawCYCuXN3vz9Ap5bVkTWDM0DLLOwJnoI8QDqTZSIiGDDA8g7E8fBrNkAw2jtIvlwlQA==",
          "dtype": "f8"
         }
        },
        {
         "mode": "lines+markers",
         "name": "short screening",
         "type": "scatter",
         "x": [
          "2017",
          "2018",
          "2019",
          "2020",
          "2021",
          "2022",
          "2023",
          "2024"
         ],
         "y": {
          "bdata": "4TK3QF2+HkBpUa+y7RY0wNmvZUOxh0lApZQOMEmu97/WYiwArlNSQHrRkHzqsArAqC6LCAMFM0APlUudcPwfwA==",
          "dtype": "f8"
         }
        },
        {
         "mode": "lines+markers",
         "name": "results",
         "type": "scatter",
         "x": [
          "2017",
          "2018",
          "2019",
          "2020",
          "2021",
          "2022",
          "2023",
          "2024"
         ],
         "y": {
          "bdata": "gNVAlisUMkCYLejeIiMrQIxdEhPrTzPA8X/WJBr+NEBGr2L7DGZGwBbypqUJhCnAUALHSW83C0Bc0nBLe60yQA==",
          "dtype": "f8"
         }
        }
       ],
       "layout": {
        "font": {
         "size": 18
        },
        "height": 800,
        "template": {
         "data": {
          "bar": [
           {
            "error_x": {
             "color": "#2a3f5f"
            },
            "error_y": {
             "color": "#2a3f5f"
            },
            "marker": {
             "line": {
              "color": "white",
              "width": 0.5
             },
             "pattern": {
              "fillmode": "overlay",
              "size": 10,
              "solidity": 0.2
             }
            },
            "type": "bar"
           }
          ],
          "barpolar": [
           {
            "marker": {
             "line": {
              "color": "white",
              "width": 0.5
             },
             "pattern": {
              "fillmode": "overlay",
              "size": 10,
              "solidity": 0.2
             }
            },
            "type": "barpolar"
           }
          ],
          "carpet": [
           {
            "aaxis": {
             "endlinecolor": "#2a3f5f",
             "gridcolor": "#C8D4E3",
             "linecolor": "#C8D4E3",
             "minorgridcolor": "#C8D4E3",
             "startlinecolor": "#2a3f5f"
            },
            "baxis": {
             "endlinecolor": "#2a3f5f",
             "gridcolor": "#C8D4E3",
             "linecolor": "#C8D4E3",
             "minorgridcolor": "#C8D4E3",
             "startlinecolor": "#2a3f5f"
            },
            "type": "carpet"
           }
          ],
          "choropleth": [
           {
            "colorbar": {
             "outlinewidth": 0,
             "ticks": ""
            },
            "type": "choropleth"
           }
          ],
          "contour": [
           {
            "colorbar": {
             "outlinewidth": 0,
             "ticks": ""
            },
            "colorscale": [
             [
              0,
              "#0d0887"
             ],
             [
              0.1111111111111111,
              "#46039f"
             ],
             [
              0.2222222222222222,
              "#7201a8"
             ],
             [
              0.3333333333333333,
              "#9c179e"
             ],
             [
              0.4444444444444444,
              "#bd3786"
             ],
             [
              0.5555555555555556,
              "#d8576b"
             ],
             [
              0.6666666666666666,
              "#ed7953"
             ],
             [
              0.7777777777777778,
              "#fb9f3a"
             ],
             [
              0.8888888888888888,
              "#fdca26"
             ],
             [
              1,
              "#f0f921"
             ]
            ],
            "type": "contour"
           }
          ],
          "contourcarpet": [
           {
            "colorbar": {
             "outlinewidth": 0,
             "ticks": ""
            },
            "type": "contourcarpet"
           }
          ],
          "heatmap": [
           {
            "colorbar": {
             "outlinewidth": 0,
             "ticks": ""
            },
            "colorscale": [
             [
              0,
              "#0d0887"
             ],
             [
              0.1111111111111111,
              "#46039f"
             ],
             [
              0.2222222222222222,
              "#7201a8"
             ],
             [
              0.3333333333333333,
              "#9c179e"
             ],
             [
              0.4444444444444444,
              "#bd3786"
             ],
             [
              0.5555555555555556,
              "#d8576b"
             ],
             [
              0.6666666666666666,
              "#ed7953"
             ],
             [
              0.7777777777777778,
              "#fb9f3a"
             ],
             [
              0.8888888888888888,
              "#fdca26"
             ],
             [
              1,
              "#f0f921"
             ]
            ],
            "type": "heatmap"
           }
          ],
          "histogram": [
           {
            "marker": {
             "pattern": {
              "fillmode": "overlay",
              "size": 10,
              "solidity": 0.2
             }
            },
            "type": "histogram"
           }
          ],
          "histogram2d": [
           {
            "colorbar": {
             "outlinewidth": 0,
             "ticks": ""
            },
            "colorscale": [
             [
              0,
              "#0d0887"
             ],
             [
              0.1111111111111111,
              "#46039f"
             ],
             [
              0.2222222222222222,
              "#7201a8"
             ],
             [
              0.3333333333333333,
              "#9c179e"
             ],
             [
              0.4444444444444444,
              "#bd3786"
             ],
             [
              0.5555555555555556,
              "#d8576b"
             ],
             [
              0.6666666666666666,
              "#ed7953"
             ],
             [
              0.7777777777777778,
              "#fb9f3a"
             ],
             [
              0.8888888888888888,
              "#fdca26"
             ],
             [
              1,
              "#f0f921"
             ]
            ],
            "type": "histogram2d"
           }
          ],
          "histogram2dcontour": [
           {
            "colorbar": {
             "outlinewidth": 0,
             "ticks": ""
            },
            "colorscale": [
             [
              0,
              "#0d0887"
             ],
             [
              0.1111111111111111,
              "#46039f"
             ],
             [
              0.2222222222222222,
              "#7201a8"
             ],
             [
              0.3333333333333333,
              "#9c179e"
             ],
             [
              0.4444444444444444,
              "#bd3786"
             ],
             [
              0.5555555555555556,
              "#d8576b"
             ],
             [
              0.6666666666666666,
              "#ed7953"
             ],
             [
              0.7777777777777778,
              "#fb9f3a"
             ],
             [
              0.8888888888888888,
              "#fdca26"
             ],
             [
              1,
              "#f0f921"
             ]
            ],
            "type": "histogram2dcontour"
           }
          ],
          "mesh3d": [
           {
            "colorbar": {
             "outlinewidth": 0,
             "ticks": ""
            },
            "type": "mesh3d"
           }
          ],
          "parcoords": [
           {
            "line": {
             "colorbar": {
              "outlinewidth": 0,
              "ticks": ""
             }
            },
            "type": "parcoords"
           }
          ],
          "pie": [
           {
            "automargin": true,
            "type": "pie"
           }
          ],
          "scatter": [
           {
            "fillpattern": {
             "fillmode": "overlay",
             "size": 10,
             "solidity": 0.2
            },
            "type": "scatter"
           }
          ],
          "scatter3d": [
           {
            "line": {
             "colorbar": {
              "outlinewidth": 0,
              "ticks": ""
             }
            },
            "marker": {
             "colorbar": {
              "outlinewidth": 0,
              "ticks": ""
             }
            },
            "type": "scatter3d"
           }
          ],
          "scattercarpet": [
           {
            "marker": {
             "colorbar": {
              "outlinewidth": 0,
              "ticks": ""
             }
            },
            "type": "scattercarpet"
           }
          ],
          "scattergeo": [
           {
            "marker": {
             "colorbar": {
              "outlinewidth": 0,
              "ticks": ""
             }
            },
            "type": "scattergeo"
           }
          ],
          "scattergl": [
           {
            "marker": {
             "colorbar": {
              "outlinewidth": 0,
              "ticks": ""
             }
            },
            "type": "scattergl"
           }
          ],
          "scattermap": [
           {
            "marker": {
             "colorbar": {
              "outlinewidth": 0,
              "ticks": ""
             }
            },
            "type": "scattermap"
           }
          ],
          "scattermapbox": [
           {
            "marker": {
             "colorbar": {
              "outlinewidth": 0,
              "ticks": ""
             }
            },
            "type": "scattermapbox"
           }
          ],
          "scatterpolar": [
           {
            "marker": {
             "colorbar": {
              "outlinewidth": 0,
              "ticks": ""
             }
            },
            "type": "scatterpolar"
           }
          ],
          "scatterpolargl": [
           {
            "marker": {
             "colorbar": {
              "outlinewidth": 0,
              "ticks": ""
             }
            },
            "type": "scatterpolargl"
           }
          ],
          "scatterternary": [
           {
            "marker": {
             "colorbar": {
              "outlinewidth": 0,
              "ticks": ""
             }
            },
            "type": "scatterternary"
           }
          ],
          "surface": [
           {
            "colorbar": {
             "outlinewidth": 0,
             "ticks": ""
            },
            "colorscale": [
             [
              0,
              "#0d0887"
             ],
             [
              0.1111111111111111,
              "#46039f"
             ],
             [
              0.2222222222222222,
              "#7201a8"
             ],
             [
              0.3333333333333333,
              "#9c179e"
             ],
             [
              0.4444444444444444,
              "#bd3786"
             ],
             [
              0.5555555555555556,
              "#d8576b"
             ],
             [
              0.6666666666666666,
              "#ed7953"
             ],
             [
              0.7777777777777778,
              "#fb9f3a"
             ],
             [
              0.8888888888888888,
              "#fdca26"
             ],
             [
              1,
              "#f0f921"
             ]
            ],
            "type": "surface"
           }
          ],
          "table": [
           {
            "cells": {
             "fill": {
              "color": "#EBF0F8"
             },
             "line": {
              "color": "white"
             }
            },
            "header": {
             "fill": {
              "color": "#C8D4E3"
             },
             "line": {
              "color": "white"
             }
            },
            "type": "table"
           }
          ]
         },
         "layout": {
          "annotationdefaults": {
           "arrowcolor": "#2a3f5f",
           "arrowhead": 0,
           "arrowwidth": 1
          },
          "autotypenumbers": "strict",
          "coloraxis": {
           "colorbar": {
            "outlinewidth": 0,
            "ticks": ""
           }
          },
          "colorscale": {
           "diverging": [
            [
             0,
             "#8e0152"
            ],
            [
             0.1,
             "#c51b7d"
            ],
            [
             0.2,
             "#de77ae"
            ],
            [
             0.3,
             "#f1b6da"
            ],
            [
             0.4,
             "#fde0ef"
            ],
            [
             0.5,
             "#f7f7f7"
            ],
            [
             0.6,
             "#e6f5d0"
            ],
            [
             0.7,
             "#b8e186"
            ],
            [
             0.8,
             "#7fbc41"
            ],
            [
             0.9,
             "#4d9221"
            ],
            [
             1,
             "#276419"
            ]
           ],
           "sequential": [
            [
             0,
             "#0d0887"
            ],
            [
             0.1111111111111111,
             "#46039f"
            ],
            [
             0.2222222222222222,
             "#7201a8"
            ],
            [
             0.3333333333333333,
             "#9c179e"
            ],
            [
             0.4444444444444444,
             "#bd3786"
            ],
            [
             0.5555555555555556,
             "#d8576b"
            ],
            [
             0.6666666666666666,
             "#ed7953"
            ],
            [
             0.7777777777777778,
             "#fb9f3a"
            ],
            [
             0.8888888888888888,
             "#fdca26"
            ],
            [
             1,
             "#f0f921"
            ]
           ],
           "sequentialminus": [
            [
             0,
             "#0d0887"
            ],
            [
             0.1111111111111111,
             "#46039f"
            ],
            [
             0.2222222222222222,
             "#7201a8"
            ],
            [
             0.3333333333333333,
             "#9c179e"
            ],
            [
             0.4444444444444444,
             "#bd3786"
            ],
            [
             0.5555555555555556,
             "#d8576b"
            ],
            [
             0.6666666666666666,
             "#ed7953"
            ],
            [
             0.7777777777777778,
             "#fb9f3a"
            ],
            [
             0.8888888888888888,
             "#fdca26"
            ],
            [
             1,
             "#f0f921"
            ]
           ]
          },
          "colorway": [
           "#636efa",
           "#EF553B",
           "#00cc96",
           "#ab63fa",
           "#FFA15A",
           "#19d3f3",
           "#FF6692",
           "#B6E880",
           "#FF97FF",
           "#FECB52"
          ],
          "font": {
           "color": "#2a3f5f"
          },
          "geo": {
           "bgcolor": "white",
           "lakecolor": "white",
           "landcolor": "white",
           "showlakes": true,
           "showland": true,
           "subunitcolor": "#C8D4E3"
          },
          "hoverlabel": {
           "align": "left"
          },
          "hovermode": "closest",
          "mapbox": {
           "style": "light"
          },
          "paper_bgcolor": "white",
          "plot_bgcolor": "white",
          "polar": {
           "angularaxis": {
            "gridcolor": "#EBF0F8",
            "linecolor": "#EBF0F8",
            "ticks": ""
           },
           "bgcolor": "white",
           "radialaxis": {
            "gridcolor": "#EBF0F8",
            "linecolor": "#EBF0F8",
            "ticks": ""
           }
          },
          "scene": {
           "xaxis": {
            "backgroundcolor": "white",
            "gridcolor": "#DFE8F3",
            "gridwidth": 2,
            "linecolor": "#EBF0F8",
            "showbackground": true,
            "ticks": "",
            "zerolinecolor": "#EBF0F8"
           },
           "yaxis": {
            "backgroundcolor": "white",
            "gridcolor": "#DFE8F3",
            "gridwidth": 2,
            "linecolor": "#EBF0F8",
            "showbackground": true,
            "ticks": "",
            "zerolinecolor": "#EBF0F8"
           },
           "zaxis": {
            "backgroundcolor": "white",
            "gridcolor": "#DFE8F3",
            "gridwidth": 2,
            "linecolor": "#EBF0F8",
            "showbackground": true,
            "ticks": "",
            "zerolinecolor": "#EBF0F8"
           }
          },
          "shapedefaults": {
           "line": {
            "color": "#2a3f5f"
           }
          },
          "ternary": {
           "aaxis": {
            "gridcolor": "#DFE8F3",
            "linecolor": "#A2B1C6",
            "ticks": ""
           },
           "baxis": {
            "gridcolor": "#DFE8F3",
            "linecolor": "#A2B1C6",
            "ticks": ""
           },
           "bgcolor": "white",
           "caxis": {
            "gridcolor": "#DFE8F3",
            "linecolor": "#A2B1C6",
            "ticks": ""
           }
          },
          "title": {
           "x": 0.05
          },
          "xaxis": {
           "automargin": true,
           "gridcolor": "#EBF0F8",
           "linecolor": "#EBF0F8",
           "ticks": "",
           "title": {
            "standoff": 15
           },
           "zerolinecolor": "#EBF0F8",
           "zerolinewidth": 2
          },
          "yaxis": {
           "automargin": true,
           "gridcolor": "#EBF0F8",
           "linecolor": "#EBF0F8",
           "ticks": "",
           "title": {
            "standoff": 15
           },
           "zerolinecolor": "#EBF0F8",
           "zerolinewidth": 2
          }
         }
        },
        "title": {
         "text": "Performance of the combined filter across the years"
        },
        "width": 1000,
        "xaxis": {
         "title": {
          "text": "Dates"
         }
        },
        "yaxis": {
         "title": {
          "text": "Returns"
         }
        }
       }
      }
     },
     "metadata": {},
     "output_type": "display_data"
    }
   ],
   "source": [
    "plot_returns(df_joined, \"Performance of the combined filter across the years\")"
   ]
  },
  {
   "cell_type": "markdown",
   "metadata": {},
   "source": [
    "To test the results of the m-score and the z-score on a more balanced universe of stocks, now we are going to create the screening methods using our previously computed quintiles instead of the fixed values for the m-score and the z-score. In addition, we will separate the results across sectors. First we define a variable to store the sectors."
   ]
  },
  {
   "cell_type": "code",
   "execution_count": 41,
   "metadata": {},
   "outputs": [],
   "source": [
    "sectors = full_df[\"sector\"].unique()"
   ]
  },
  {
   "cell_type": "markdown",
   "metadata": {},
   "source": [
    "Now we are going to compare the results across sectors and instead of screening the stocks using fixed numbers for the z-score and the m-score we use the quintiles across sectors that we stored in dictionaries before. We start with a few modifications to create two dataframes to store the results for each year and each sector using our new screening method. Finally we join the two dataframes using our previously defined function."
   ]
  },
  {
   "cell_type": "code",
   "execution_count": 42,
   "metadata": {},
   "outputs": [],
   "source": [
    "def get_df_modified(z_score = True, m_score = True):\n",
    "    \n",
    "\n",
    "    long_results = []\n",
    "    short_results = []\n",
    "\n",
    "    for date in dates[2:]:\n",
    "        for sector in sectors:\n",
    "\n",
    "            # If there is missing data for a sector on a given year we skip it\n",
    "            if z_score: \n",
    "                if (sector not in long_quantiles[date][\"z-score\"].keys() or\n",
    "                    sector not in short_quantiles[date][\"z-score\"].keys()): continue\n",
    "                    \n",
    "            if m_score: \n",
    "                if (sector not in long_quantiles[date][\"m-score\"].keys() or\n",
    "                    sector not in short_quantiles[date][\"m-score\"].keys()): continue\n",
    "\n",
    "            long_universe = ((full_df[\"date\"] == str(date)) & \n",
    "                             (full_df[\"sector\"] == sector))\n",
    "            \n",
    "            short_universe = ((full_df[\"date\"] == str(date)) & \n",
    "                              (full_df[\"sector\"] == sector))\n",
    "            \n",
    "            if z_score: \n",
    "                long_universe = (long_universe & \n",
    "                                (full_df[\"z-score\"] >= long_quantiles[date][\"z-score\"][sector]))\n",
    "                \n",
    "                short_universe = (short_universe & \n",
    "                                (full_df[\"z-score\"] <= short_quantiles[date][\"z-score\"][sector]))\n",
    "                \n",
    "            \n",
    "            if m_score: \n",
    "                long_universe = (long_universe & \n",
    "                                (full_df[\"m-score\"] <= long_quantiles[date][\"m-score\"][sector]))\n",
    "                    \n",
    "                short_universe = (short_universe & \n",
    "                                (full_df[\"m-score\"] >= short_quantiles[date][\"m-score\"][sector]))\n",
    "\n",
    "            long_results.append((\n",
    "                date,\n",
    "                sector,\n",
    "                len(full_df[long_universe]),\n",
    "                full_df[\"returns\"][long_universe].astype(np.float64).mean()\n",
    "            ))\n",
    "\n",
    "            short_results.append((\n",
    "                date,\n",
    "                sector,\n",
    "                len(full_df[short_universe]),\n",
    "                full_df[\"returns\"][short_universe].astype(np.float64).mean()\n",
    "            ))\n",
    "\n",
    "    long_results = np.array(long_results)\n",
    "    short_results = np.array(short_results)\n",
    "\n",
    "    cols = [\"stocks\", \"returns\"]\n",
    "\n",
    "    # We want to create a multiindex Dataframe containing the year and the sector, thus we first create the multiindex\n",
    "\n",
    "    long_arrays = [long_results[:, 0], long_results[:, 1]]\n",
    "    short_arrays = [short_results[:, 0], short_results[:, 1]]\n",
    "\n",
    "    long_index = pd.MultiIndex.from_arrays(long_arrays, names=[\"date\", \"sector\"])\n",
    "    short_index = pd.MultiIndex.from_arrays(short_arrays, names=[\"date\", \"sector\"])\n",
    "\n",
    "    # Now we create the multiindex Dataframes\n",
    "\n",
    "    df_long_sectors = pd.DataFrame(long_results[:, 2:], long_index, cols, np.float64)\n",
    "    df_short_sectors = pd.DataFrame(short_results[:, 2:], short_index, cols, np.float64)\n",
    "\n",
    "    # Finally, we return the joined Dataframe\n",
    "\n",
    "    return join_df(df_long_sectors, df_short_sectors)"
   ]
  },
  {
   "cell_type": "markdown",
   "metadata": {},
   "source": [
    "We define three dataframes, one for z-score, one for m-score filters alone and one for both filters combined."
   ]
  },
  {
   "cell_type": "code",
   "execution_count": 43,
   "metadata": {},
   "outputs": [],
   "source": [
    "df_m_only = get_df_modified(z_score = False, m_score = True)\n",
    "df_z_only = get_df_modified(z_score = True, m_score = False)\n",
    "df_mix_only = get_df_modified(z_score = True, m_score = True)"
   ]
  },
  {
   "cell_type": "markdown",
   "metadata": {},
   "source": [
    "Now we are going to plot the results across sectors and across years."
   ]
  },
  {
   "cell_type": "code",
   "execution_count": 44,
   "metadata": {},
   "outputs": [
    {
     "data": {
      "application/vnd.plotly.v1+json": {
       "config": {
        "plotlyServerURL": "https://chart-studio.plotly.com"
       },
       "data": [
        {
         "mode": "lines+markers",
         "name": "Industrials",
         "type": "scatter",
         "x": [
          "2012-01-01T00:00:00.000000000",
          "2013-01-01T00:00:00.000000000",
          "2014-01-01T00:00:00.000000000",
          "2015-01-01T00:00:00.000000000",
          "2016-01-01T00:00:00.000000000",
          "2017-01-01T00:00:00.000000000",
          "2018-01-01T00:00:00.000000000",
          "2019-01-01T00:00:00.000000000",
          "2020-01-01T00:00:00.000000000",
          "2021-01-01T00:00:00.000000000",
          "2022-01-01T00:00:00.000000000",
          "2023-01-01T00:00:00.000000000",
          "2024-01-01T00:00:00.000000000"
         ],
         "y": {
          "bdata": "YBly/+qC8T9g8gTv35IWQBQkOpPZhBRAuLcH5vELFEA0th4gxXAUQFDRPez8zwlAeDBJAmbKBkAArofHUsniPwAAAAAAAPh/QIMFKiGO9j+mKUYmPcAFQOgpb3ZDnAFAMDJcYE94CMA=",
          "dtype": "f8"
         }
        },
        {
         "mode": "lines+markers",
         "name": "Health Care",
         "type": "scatter",
         "x": [
          "2012-01-01T00:00:00.000000000",
          "2013-01-01T00:00:00.000000000",
          "2014-01-01T00:00:00.000000000",
          "2015-01-01T00:00:00.000000000",
          "2016-01-01T00:00:00.000000000",
          "2017-01-01T00:00:00.000000000",
          "2018-01-01T00:00:00.000000000",
          "2019-01-01T00:00:00.000000000",
          "2020-01-01T00:00:00.000000000",
          "2021-01-01T00:00:00.000000000",
          "2022-01-01T00:00:00.000000000",
          "2023-01-01T00:00:00.000000000",
          "2024-01-01T00:00:00.000000000"
         ],
         "y": {
          "bdata": "MKxYe2wO8z/g3BK9zAkLQPDm47HWeP2/aJ55EujwBkC29Yx8wUESQLxZ2NI90RxAnBC2m7cDFECEh9tGnUYTQIDyvksB5O0/AAAAAAAA+H/ZvJC2BnYOwAAAAAAAAPh/AAAAAAAA+H8=",
          "dtype": "f8"
         }
        },
        {
         "mode": "lines+markers",
         "name": "Consumer Discretionary",
         "type": "scatter",
         "x": [
          "2012-01-01T00:00:00.000000000",
          "2013-01-01T00:00:00.000000000",
          "2014-01-01T00:00:00.000000000",
          "2015-01-01T00:00:00.000000000",
          "2016-01-01T00:00:00.000000000",
          "2017-01-01T00:00:00.000000000",
          "2018-01-01T00:00:00.000000000",
          "2019-01-01T00:00:00.000000000",
          "2020-01-01T00:00:00.000000000",
          "2021-01-01T00:00:00.000000000",
          "2022-01-01T00:00:00.000000000",
          "2023-01-01T00:00:00.000000000",
          "2024-01-01T00:00:00.000000000"
         ],
         "y": {
          "bdata": "MN3awK5i+D/QHwNxo04KQEAnOcoZgwFAF0jXOOWRF0CIXw+/gU75vxDRhcYhQQxAiEqk9UEc9r8AAAAAAAD4fwAAAAAAAPh/AAAAAAAA+H8AAAAAAAD4fwAAAAAAAPh/AAAAAAAA+H8=",
          "dtype": "f8"
         }
        },
        {
         "mode": "lines+markers",
         "name": "Information Technology",
         "type": "scatter",
         "x": [
          "2012-01-01T00:00:00.000000000",
          "2013-01-01T00:00:00.000000000",
          "2014-01-01T00:00:00.000000000",
          "2015-01-01T00:00:00.000000000",
          "2016-01-01T00:00:00.000000000",
          "2017-01-01T00:00:00.000000000",
          "2018-01-01T00:00:00.000000000",
          "2019-01-01T00:00:00.000000000",
          "2020-01-01T00:00:00.000000000",
          "2021-01-01T00:00:00.000000000",
          "2022-01-01T00:00:00.000000000",
          "2023-01-01T00:00:00.000000000",
          "2024-01-01T00:00:00.000000000"
         ],
         "y": {
          "bdata": "LAJXMTH9AECgdVTuVIMkQAAAAAAAAPh/AAAAAAAA+H8AAAAAAAD4fwAAAAAAAPh/AAAAAAAA+H8AAAAAAAD4fwAAAAAAAPh/AAAAAAAA+H8AAAAAAAD4fwAAAAAAAPh/qPevprUOC8A=",
          "dtype": "f8"
         }
        },
        {
         "mode": "lines+markers",
         "name": "Utilities",
         "type": "scatter",
         "x": [
          "2012-01-01T00:00:00.000000000",
          "2013-01-01T00:00:00.000000000",
          "2014-01-01T00:00:00.000000000",
          "2015-01-01T00:00:00.000000000",
          "2016-01-01T00:00:00.000000000",
          "2017-01-01T00:00:00.000000000",
          "2018-01-01T00:00:00.000000000",
          "2019-01-01T00:00:00.000000000",
          "2020-01-01T00:00:00.000000000",
          "2021-01-01T00:00:00.000000000",
          "2022-01-01T00:00:00.000000000",
          "2023-01-01T00:00:00.000000000",
          "2024-01-01T00:00:00.000000000"
         ],
         "y": {
          "bdata": "UD/oLcqeD0Dgj8pJDAfpP7AM44oa8QBAJaIVXBqkBMDYVyv+u/4AwOBBf7VfHuu/YAJpa6aS2T9UJzvtGdgQQG6VhbT4+gfAAOh7EIsDkL+aZR9RJIUDQOXe+xxmFyHAeDpphR7+E8A=",
          "dtype": "f8"
         }
        },
        {
         "mode": "lines+markers",
         "name": "Materials",
         "type": "scatter",
         "x": [
          "2012-01-01T00:00:00.000000000",
          "2013-01-01T00:00:00.000000000",
          "2014-01-01T00:00:00.000000000",
          "2015-01-01T00:00:00.000000000",
          "2016-01-01T00:00:00.000000000",
          "2017-01-01T00:00:00.000000000",
          "2018-01-01T00:00:00.000000000",
          "2019-01-01T00:00:00.000000000",
          "2020-01-01T00:00:00.000000000",
          "2021-01-01T00:00:00.000000000",
          "2022-01-01T00:00:00.000000000",
          "2023-01-01T00:00:00.000000000",
          "2024-01-01T00:00:00.000000000"
         ],
         "y": {
          "bdata": "WCsVM4riEEDD+d5ZETMowJxmCTAp2wLArFHN4ayX8T8gLsJrTJLhv4B1pdZ8RPC/3g0rI3vWF8DAWLZ5wKPdP9CSWXQgPwbApOQDqCR+FsAko/vhAQ8OQFUfwm+nURxAWnVuXWtlFEA=",
          "dtype": "f8"
         }
        },
        {
         "mode": "lines+markers",
         "name": "Consumer Staples",
         "type": "scatter",
         "x": [
          "2012-01-01T00:00:00.000000000",
          "2013-01-01T00:00:00.000000000",
          "2014-01-01T00:00:00.000000000",
          "2015-01-01T00:00:00.000000000",
          "2016-01-01T00:00:00.000000000",
          "2017-01-01T00:00:00.000000000",
          "2018-01-01T00:00:00.000000000",
          "2019-01-01T00:00:00.000000000",
          "2020-01-01T00:00:00.000000000",
          "2021-01-01T00:00:00.000000000",
          "2022-01-01T00:00:00.000000000",
          "2023-01-01T00:00:00.000000000",
          "2024-01-01T00:00:00.000000000"
         ],
         "y": {
          "bdata": "GOzyNQcAEEC42ncCjD4GQICH6z5+xf4/KOYnaxzFHMClkUmM3AcEwHgT3hXC/hDAOprfJhbnDkBoN9z+PwUKQCCkN7KXKO8/oFDKE/6m2T94rKsCoi/sv2Bml//E7/Y/gDlb72488j8=",
          "dtype": "f8"
         }
        },
        {
         "mode": "lines+markers",
         "name": "Real Estate",
         "type": "scatter",
         "x": [
          "2012-01-01T00:00:00.000000000",
          "2013-01-01T00:00:00.000000000",
          "2014-01-01T00:00:00.000000000",
          "2015-01-01T00:00:00.000000000",
          "2016-01-01T00:00:00.000000000",
          "2017-01-01T00:00:00.000000000",
          "2018-01-01T00:00:00.000000000",
          "2019-01-01T00:00:00.000000000",
          "2020-01-01T00:00:00.000000000",
          "2021-01-01T00:00:00.000000000",
          "2022-01-01T00:00:00.000000000",
          "2023-01-01T00:00:00.000000000",
          "2024-01-01T00:00:00.000000000"
         ],
         "y": {
          "bdata": "rLJLx9GMFEB40ZpNQPsfwNzWjJ/2YiFAmMdqPk/IH8BohCWT8Fb+v8BVuIAHjgnAwLe9mGWBAsBgTh9ZPoD+P4AQLOEjhAjAYBrW9pXUFECA0mc2LrIGQFSMyrSE3wHAyl/Egy+lGcA=",
          "dtype": "f8"
         }
        },
        {
         "mode": "lines+markers",
         "name": "Financials",
         "type": "scatter",
         "x": [
          "2012-01-01T00:00:00.000000000",
          "2013-01-01T00:00:00.000000000",
          "2014-01-01T00:00:00.000000000",
          "2015-01-01T00:00:00.000000000",
          "2016-01-01T00:00:00.000000000",
          "2017-01-01T00:00:00.000000000",
          "2018-01-01T00:00:00.000000000",
          "2019-01-01T00:00:00.000000000",
          "2020-01-01T00:00:00.000000000",
          "2021-01-01T00:00:00.000000000",
          "2022-01-01T00:00:00.000000000",
          "2023-01-01T00:00:00.000000000",
          "2024-01-01T00:00:00.000000000"
         ],
         "y": {
          "bdata": "bPFMTWGEF8Agb29naXHxv1DZT92PU/q/THaSh2i6IMDAvQ1iX1D5P4A+af4a++C/8Pyk9kPc8L8wHHpKbgwFQAAAAAAAAPh/1kX0nOojIUAQnO3W4jv3vyCqMA9nm+O/+O661ZP2EUA=",
          "dtype": "f8"
         }
        },
        {
         "mode": "lines+markers",
         "name": "Energy",
         "type": "scatter",
         "x": [
          "2012-01-01T00:00:00.000000000",
          "2013-01-01T00:00:00.000000000",
          "2014-01-01T00:00:00.000000000",
          "2015-01-01T00:00:00.000000000",
          "2016-01-01T00:00:00.000000000",
          "2017-01-01T00:00:00.000000000",
          "2018-01-01T00:00:00.000000000",
          "2019-01-01T00:00:00.000000000",
          "2020-01-01T00:00:00.000000000",
          "2021-01-01T00:00:00.000000000",
          "2022-01-01T00:00:00.000000000",
          "2023-01-01T00:00:00.000000000",
          "2024-01-01T00:00:00.000000000"
         ],
         "y": {
          "bdata": "aJ5SUtnYA0CAAxuHeFEVwPgT0ES5DgrAgHoqM0ygxT/AwotlQ2f+P8j1EUEqkyHAkCMc9CMx+z8Ie9S4KfMFQOAMKMXld/6/4BXHjm3o+b+YTVdXgMsVwGSp7lfHcgHAyC3bfOPf9L8=",
          "dtype": "f8"
         }
        },
        {
         "mode": "lines+markers",
         "name": "Communication Services",
         "type": "scatter",
         "x": [
          "2012-01-01T00:00:00.000000000",
          "2013-01-01T00:00:00.000000000",
          "2014-01-01T00:00:00.000000000",
          "2015-01-01T00:00:00.000000000",
          "2016-01-01T00:00:00.000000000",
          "2017-01-01T00:00:00.000000000",
          "2018-01-01T00:00:00.000000000",
          "2019-01-01T00:00:00.000000000",
          "2020-01-01T00:00:00.000000000",
          "2021-01-01T00:00:00.000000000",
          "2022-01-01T00:00:00.000000000",
          "2023-01-01T00:00:00.000000000",
          "2024-01-01T00:00:00.000000000"
         ],
         "y": {
          "bdata": "DMc2jzetGMBAWYZ8/3npP0AqI+yeHxNAEi1GKWf0FkDFDh92NNYGQKiovcHrB/U/QAt6F9oq8z+UIm64Tm4WQHCn4emRO/8/AAAAAAAA+H9AF00gbUoPwPBCm+zASvq/oMMiCIT95z8=",
          "dtype": "f8"
         }
        }
       ],
       "layout": {
        "font": {
         "size": 18
        },
        "height": 800,
        "template": {
         "data": {
          "bar": [
           {
            "error_x": {
             "color": "#2a3f5f"
            },
            "error_y": {
             "color": "#2a3f5f"
            },
            "marker": {
             "line": {
              "color": "white",
              "width": 0.5
             },
             "pattern": {
              "fillmode": "overlay",
              "size": 10,
              "solidity": 0.2
             }
            },
            "type": "bar"
           }
          ],
          "barpolar": [
           {
            "marker": {
             "line": {
              "color": "white",
              "width": 0.5
             },
             "pattern": {
              "fillmode": "overlay",
              "size": 10,
              "solidity": 0.2
             }
            },
            "type": "barpolar"
           }
          ],
          "carpet": [
           {
            "aaxis": {
             "endlinecolor": "#2a3f5f",
             "gridcolor": "#C8D4E3",
             "linecolor": "#C8D4E3",
             "minorgridcolor": "#C8D4E3",
             "startlinecolor": "#2a3f5f"
            },
            "baxis": {
             "endlinecolor": "#2a3f5f",
             "gridcolor": "#C8D4E3",
             "linecolor": "#C8D4E3",
             "minorgridcolor": "#C8D4E3",
             "startlinecolor": "#2a3f5f"
            },
            "type": "carpet"
           }
          ],
          "choropleth": [
           {
            "colorbar": {
             "outlinewidth": 0,
             "ticks": ""
            },
            "type": "choropleth"
           }
          ],
          "contour": [
           {
            "colorbar": {
             "outlinewidth": 0,
             "ticks": ""
            },
            "colorscale": [
             [
              0,
              "#0d0887"
             ],
             [
              0.1111111111111111,
              "#46039f"
             ],
             [
              0.2222222222222222,
              "#7201a8"
             ],
             [
              0.3333333333333333,
              "#9c179e"
             ],
             [
              0.4444444444444444,
              "#bd3786"
             ],
             [
              0.5555555555555556,
              "#d8576b"
             ],
             [
              0.6666666666666666,
              "#ed7953"
             ],
             [
              0.7777777777777778,
              "#fb9f3a"
             ],
             [
              0.8888888888888888,
              "#fdca26"
             ],
             [
              1,
              "#f0f921"
             ]
            ],
            "type": "contour"
           }
          ],
          "contourcarpet": [
           {
            "colorbar": {
             "outlinewidth": 0,
             "ticks": ""
            },
            "type": "contourcarpet"
           }
          ],
          "heatmap": [
           {
            "colorbar": {
             "outlinewidth": 0,
             "ticks": ""
            },
            "colorscale": [
             [
              0,
              "#0d0887"
             ],
             [
              0.1111111111111111,
              "#46039f"
             ],
             [
              0.2222222222222222,
              "#7201a8"
             ],
             [
              0.3333333333333333,
              "#9c179e"
             ],
             [
              0.4444444444444444,
              "#bd3786"
             ],
             [
              0.5555555555555556,
              "#d8576b"
             ],
             [
              0.6666666666666666,
              "#ed7953"
             ],
             [
              0.7777777777777778,
              "#fb9f3a"
             ],
             [
              0.8888888888888888,
              "#fdca26"
             ],
             [
              1,
              "#f0f921"
             ]
            ],
            "type": "heatmap"
           }
          ],
          "histogram": [
           {
            "marker": {
             "pattern": {
              "fillmode": "overlay",
              "size": 10,
              "solidity": 0.2
             }
            },
            "type": "histogram"
           }
          ],
          "histogram2d": [
           {
            "colorbar": {
             "outlinewidth": 0,
             "ticks": ""
            },
            "colorscale": [
             [
              0,
              "#0d0887"
             ],
             [
              0.1111111111111111,
              "#46039f"
             ],
             [
              0.2222222222222222,
              "#7201a8"
             ],
             [
              0.3333333333333333,
              "#9c179e"
             ],
             [
              0.4444444444444444,
              "#bd3786"
             ],
             [
              0.5555555555555556,
              "#d8576b"
             ],
             [
              0.6666666666666666,
              "#ed7953"
             ],
             [
              0.7777777777777778,
              "#fb9f3a"
             ],
             [
              0.8888888888888888,
              "#fdca26"
             ],
             [
              1,
              "#f0f921"
             ]
            ],
            "type": "histogram2d"
           }
          ],
          "histogram2dcontour": [
           {
            "colorbar": {
             "outlinewidth": 0,
             "ticks": ""
            },
            "colorscale": [
             [
              0,
              "#0d0887"
             ],
             [
              0.1111111111111111,
              "#46039f"
             ],
             [
              0.2222222222222222,
              "#7201a8"
             ],
             [
              0.3333333333333333,
              "#9c179e"
             ],
             [
              0.4444444444444444,
              "#bd3786"
             ],
             [
              0.5555555555555556,
              "#d8576b"
             ],
             [
              0.6666666666666666,
              "#ed7953"
             ],
             [
              0.7777777777777778,
              "#fb9f3a"
             ],
             [
              0.8888888888888888,
              "#fdca26"
             ],
             [
              1,
              "#f0f921"
             ]
            ],
            "type": "histogram2dcontour"
           }
          ],
          "mesh3d": [
           {
            "colorbar": {
             "outlinewidth": 0,
             "ticks": ""
            },
            "type": "mesh3d"
           }
          ],
          "parcoords": [
           {
            "line": {
             "colorbar": {
              "outlinewidth": 0,
              "ticks": ""
             }
            },
            "type": "parcoords"
           }
          ],
          "pie": [
           {
            "automargin": true,
            "type": "pie"
           }
          ],
          "scatter": [
           {
            "fillpattern": {
             "fillmode": "overlay",
             "size": 10,
             "solidity": 0.2
            },
            "type": "scatter"
           }
          ],
          "scatter3d": [
           {
            "line": {
             "colorbar": {
              "outlinewidth": 0,
              "ticks": ""
             }
            },
            "marker": {
             "colorbar": {
              "outlinewidth": 0,
              "ticks": ""
             }
            },
            "type": "scatter3d"
           }
          ],
          "scattercarpet": [
           {
            "marker": {
             "colorbar": {
              "outlinewidth": 0,
              "ticks": ""
             }
            },
            "type": "scattercarpet"
           }
          ],
          "scattergeo": [
           {
            "marker": {
             "colorbar": {
              "outlinewidth": 0,
              "ticks": ""
             }
            },
            "type": "scattergeo"
           }
          ],
          "scattergl": [
           {
            "marker": {
             "colorbar": {
              "outlinewidth": 0,
              "ticks": ""
             }
            },
            "type": "scattergl"
           }
          ],
          "scattermap": [
           {
            "marker": {
             "colorbar": {
              "outlinewidth": 0,
              "ticks": ""
             }
            },
            "type": "scattermap"
           }
          ],
          "scattermapbox": [
           {
            "marker": {
             "colorbar": {
              "outlinewidth": 0,
              "ticks": ""
             }
            },
            "type": "scattermapbox"
           }
          ],
          "scatterpolar": [
           {
            "marker": {
             "colorbar": {
              "outlinewidth": 0,
              "ticks": ""
             }
            },
            "type": "scatterpolar"
           }
          ],
          "scatterpolargl": [
           {
            "marker": {
             "colorbar": {
              "outlinewidth": 0,
              "ticks": ""
             }
            },
            "type": "scatterpolargl"
           }
          ],
          "scatterternary": [
           {
            "marker": {
             "colorbar": {
              "outlinewidth": 0,
              "ticks": ""
             }
            },
            "type": "scatterternary"
           }
          ],
          "surface": [
           {
            "colorbar": {
             "outlinewidth": 0,
             "ticks": ""
            },
            "colorscale": [
             [
              0,
              "#0d0887"
             ],
             [
              0.1111111111111111,
              "#46039f"
             ],
             [
              0.2222222222222222,
              "#7201a8"
             ],
             [
              0.3333333333333333,
              "#9c179e"
             ],
             [
              0.4444444444444444,
              "#bd3786"
             ],
             [
              0.5555555555555556,
              "#d8576b"
             ],
             [
              0.6666666666666666,
              "#ed7953"
             ],
             [
              0.7777777777777778,
              "#fb9f3a"
             ],
             [
              0.8888888888888888,
              "#fdca26"
             ],
             [
              1,
              "#f0f921"
             ]
            ],
            "type": "surface"
           }
          ],
          "table": [
           {
            "cells": {
             "fill": {
              "color": "#EBF0F8"
             },
             "line": {
              "color": "white"
             }
            },
            "header": {
             "fill": {
              "color": "#C8D4E3"
             },
             "line": {
              "color": "white"
             }
            },
            "type": "table"
           }
          ]
         },
         "layout": {
          "annotationdefaults": {
           "arrowcolor": "#2a3f5f",
           "arrowhead": 0,
           "arrowwidth": 1
          },
          "autotypenumbers": "strict",
          "coloraxis": {
           "colorbar": {
            "outlinewidth": 0,
            "ticks": ""
           }
          },
          "colorscale": {
           "diverging": [
            [
             0,
             "#8e0152"
            ],
            [
             0.1,
             "#c51b7d"
            ],
            [
             0.2,
             "#de77ae"
            ],
            [
             0.3,
             "#f1b6da"
            ],
            [
             0.4,
             "#fde0ef"
            ],
            [
             0.5,
             "#f7f7f7"
            ],
            [
             0.6,
             "#e6f5d0"
            ],
            [
             0.7,
             "#b8e186"
            ],
            [
             0.8,
             "#7fbc41"
            ],
            [
             0.9,
             "#4d9221"
            ],
            [
             1,
             "#276419"
            ]
           ],
           "sequential": [
            [
             0,
             "#0d0887"
            ],
            [
             0.1111111111111111,
             "#46039f"
            ],
            [
             0.2222222222222222,
             "#7201a8"
            ],
            [
             0.3333333333333333,
             "#9c179e"
            ],
            [
             0.4444444444444444,
             "#bd3786"
            ],
            [
             0.5555555555555556,
             "#d8576b"
            ],
            [
             0.6666666666666666,
             "#ed7953"
            ],
            [
             0.7777777777777778,
             "#fb9f3a"
            ],
            [
             0.8888888888888888,
             "#fdca26"
            ],
            [
             1,
             "#f0f921"
            ]
           ],
           "sequentialminus": [
            [
             0,
             "#0d0887"
            ],
            [
             0.1111111111111111,
             "#46039f"
            ],
            [
             0.2222222222222222,
             "#7201a8"
            ],
            [
             0.3333333333333333,
             "#9c179e"
            ],
            [
             0.4444444444444444,
             "#bd3786"
            ],
            [
             0.5555555555555556,
             "#d8576b"
            ],
            [
             0.6666666666666666,
             "#ed7953"
            ],
            [
             0.7777777777777778,
             "#fb9f3a"
            ],
            [
             0.8888888888888888,
             "#fdca26"
            ],
            [
             1,
             "#f0f921"
            ]
           ]
          },
          "colorway": [
           "#636efa",
           "#EF553B",
           "#00cc96",
           "#ab63fa",
           "#FFA15A",
           "#19d3f3",
           "#FF6692",
           "#B6E880",
           "#FF97FF",
           "#FECB52"
          ],
          "font": {
           "color": "#2a3f5f"
          },
          "geo": {
           "bgcolor": "white",
           "lakecolor": "white",
           "landcolor": "white",
           "showlakes": true,
           "showland": true,
           "subunitcolor": "#C8D4E3"
          },
          "hoverlabel": {
           "align": "left"
          },
          "hovermode": "closest",
          "mapbox": {
           "style": "light"
          },
          "paper_bgcolor": "white",
          "plot_bgcolor": "white",
          "polar": {
           "angularaxis": {
            "gridcolor": "#EBF0F8",
            "linecolor": "#EBF0F8",
            "ticks": ""
           },
           "bgcolor": "white",
           "radialaxis": {
            "gridcolor": "#EBF0F8",
            "linecolor": "#EBF0F8",
            "ticks": ""
           }
          },
          "scene": {
           "xaxis": {
            "backgroundcolor": "white",
            "gridcolor": "#DFE8F3",
            "gridwidth": 2,
            "linecolor": "#EBF0F8",
            "showbackground": true,
            "ticks": "",
            "zerolinecolor": "#EBF0F8"
           },
           "yaxis": {
            "backgroundcolor": "white",
            "gridcolor": "#DFE8F3",
            "gridwidth": 2,
            "linecolor": "#EBF0F8",
            "showbackground": true,
            "ticks": "",
            "zerolinecolor": "#EBF0F8"
           },
           "zaxis": {
            "backgroundcolor": "white",
            "gridcolor": "#DFE8F3",
            "gridwidth": 2,
            "linecolor": "#EBF0F8",
            "showbackground": true,
            "ticks": "",
            "zerolinecolor": "#EBF0F8"
           }
          },
          "shapedefaults": {
           "line": {
            "color": "#2a3f5f"
           }
          },
          "ternary": {
           "aaxis": {
            "gridcolor": "#DFE8F3",
            "linecolor": "#A2B1C6",
            "ticks": ""
           },
           "baxis": {
            "gridcolor": "#DFE8F3",
            "linecolor": "#A2B1C6",
            "ticks": ""
           },
           "bgcolor": "white",
           "caxis": {
            "gridcolor": "#DFE8F3",
            "linecolor": "#A2B1C6",
            "ticks": ""
           }
          },
          "title": {
           "x": 0.05
          },
          "xaxis": {
           "automargin": true,
           "gridcolor": "#EBF0F8",
           "linecolor": "#EBF0F8",
           "ticks": "",
           "title": {
            "standoff": 15
           },
           "zerolinecolor": "#EBF0F8",
           "zerolinewidth": 2
          },
          "yaxis": {
           "automargin": true,
           "gridcolor": "#EBF0F8",
           "linecolor": "#EBF0F8",
           "ticks": "",
           "title": {
            "standoff": 15
           },
           "zerolinecolor": "#EBF0F8",
           "zerolinewidth": 2
          }
         }
        },
        "title": {
         "text": "Performance of the m-score only across years and sectors"
        },
        "width": 1000,
        "xaxis": {
         "title": {
          "text": "Dates"
         }
        },
        "yaxis": {
         "title": {
          "text": "Returns"
         }
        }
       }
      }
     },
     "metadata": {},
     "output_type": "display_data"
    },
    {
     "data": {
      "application/vnd.plotly.v1+json": {
       "config": {
        "plotlyServerURL": "https://chart-studio.plotly.com"
       },
       "data": [
        {
         "mode": "lines+markers",
         "name": "Industrials",
         "type": "scatter",
         "x": [
          "2012-01-01T00:00:00.000000000",
          "2013-01-01T00:00:00.000000000",
          "2014-01-01T00:00:00.000000000",
          "2015-01-01T00:00:00.000000000",
          "2016-01-01T00:00:00.000000000",
          "2017-01-01T00:00:00.000000000",
          "2018-01-01T00:00:00.000000000",
          "2019-01-01T00:00:00.000000000",
          "2020-01-01T00:00:00.000000000",
          "2021-01-01T00:00:00.000000000",
          "2022-01-01T00:00:00.000000000",
          "2023-01-01T00:00:00.000000000",
          "2024-01-01T00:00:00.000000000"
         ],
         "y": {
          "bdata": "DGF6Fs2XFcBAf8Dr33cCwOZt3pDMFBbAQAYdw70j1b/Y1bU5IEocwHpBWgxUXSPA8Ebu2FQkGUDAsV3ZHcoJQOF6hIN4UDtAXO5n6F01LED0bvoElRQmwGyY9Fl1ShzANKFDxnhjCcA=",
          "dtype": "f8"
         }
        },
        {
         "mode": "lines+markers",
         "name": "Health Care",
         "type": "scatter",
         "x": [
          "2012-01-01T00:00:00.000000000",
          "2013-01-01T00:00:00.000000000",
          "2014-01-01T00:00:00.000000000",
          "2015-01-01T00:00:00.000000000",
          "2016-01-01T00:00:00.000000000",
          "2017-01-01T00:00:00.000000000",
          "2018-01-01T00:00:00.000000000",
          "2019-01-01T00:00:00.000000000",
          "2020-01-01T00:00:00.000000000",
          "2021-01-01T00:00:00.000000000",
          "2022-01-01T00:00:00.000000000",
          "2023-01-01T00:00:00.000000000",
          "2024-01-01T00:00:00.000000000"
         ],
         "y": {
          "bdata": "gGQKPSHu17/MuCPnnFYhwChktVfT9DNAQM5bii0I8z8gHWQRVqMHQPYG/FFgbzlAgLR5pM8Q7r8FSIEpZ0cqwOOuOOT34DFAcLGq0YJbLED8ggR0TjU0wJm5VA1tRSdA6MtvCvQi778=",
          "dtype": "f8"
         }
        },
        {
         "mode": "lines+markers",
         "name": "Consumer Discretionary",
         "type": "scatter",
         "x": [
          "2012-01-01T00:00:00.000000000",
          "2013-01-01T00:00:00.000000000",
          "2014-01-01T00:00:00.000000000",
          "2015-01-01T00:00:00.000000000",
          "2016-01-01T00:00:00.000000000",
          "2017-01-01T00:00:00.000000000",
          "2018-01-01T00:00:00.000000000",
          "2019-01-01T00:00:00.000000000",
          "2020-01-01T00:00:00.000000000",
          "2021-01-01T00:00:00.000000000",
          "2022-01-01T00:00:00.000000000",
          "2023-01-01T00:00:00.000000000",
          "2024-01-01T00:00:00.000000000"
         ],
         "y": {
          "bdata": "M48uSF5TRMDaquRG6WMwQECFA94DlgrAatNJ/8EzIcCbialwZtIUwLLlQuRyeyvAgZMbGnftNUAw5z1Cb4IAQP4IXMC2fjZAlrzMpEn1OsDAa2acnyTov2SKgi09DyBAOPjPuqONE0A=",
          "dtype": "f8"
         }
        },
        {
         "mode": "lines+markers",
         "name": "Information Technology",
         "type": "scatter",
         "x": [
          "2012-01-01T00:00:00.000000000",
          "2013-01-01T00:00:00.000000000",
          "2014-01-01T00:00:00.000000000",
          "2015-01-01T00:00:00.000000000",
          "2016-01-01T00:00:00.000000000",
          "2017-01-01T00:00:00.000000000",
          "2018-01-01T00:00:00.000000000",
          "2019-01-01T00:00:00.000000000",
          "2020-01-01T00:00:00.000000000",
          "2021-01-01T00:00:00.000000000",
          "2022-01-01T00:00:00.000000000",
          "2023-01-01T00:00:00.000000000",
          "2024-01-01T00:00:00.000000000"
         ],
         "y": {
          "bdata": "9q9BWta5F0AO7bsmzYtCwMZtJXhsrBlAxc0YxqSNG8DIJoOWv6wHQBj2hdQgng7A1bt2V9FZH8D6ivBSkxYqwHbFkvJrlk1A4Cc6FxiWF0COipK6il0rwIoK52rPAURAHJ91mJN9FEA=",
          "dtype": "f8"
         }
        },
        {
         "mode": "lines+markers",
         "name": "Utilities",
         "type": "scatter",
         "x": [
          "2012-01-01T00:00:00.000000000",
          "2013-01-01T00:00:00.000000000",
          "2014-01-01T00:00:00.000000000",
          "2015-01-01T00:00:00.000000000",
          "2016-01-01T00:00:00.000000000",
          "2017-01-01T00:00:00.000000000",
          "2018-01-01T00:00:00.000000000",
          "2019-01-01T00:00:00.000000000",
          "2020-01-01T00:00:00.000000000",
          "2021-01-01T00:00:00.000000000",
          "2022-01-01T00:00:00.000000000",
          "2023-01-01T00:00:00.000000000",
          "2024-01-01T00:00:00.000000000"
         ],
         "y": {
          "bdata": "+qyyQ4XpKsB0k3cWnSUMwOgAyE3TVATAfRqAC1eWIMDIFdLDSEMUwGBh/Nwz2SFAY5ic6SSeNsCc1xcnP08kQCxJiy7i/ylAOk+LT5gzLcAiDRQL3jwjwPlo5BX55TBArns3CElRLUA=",
          "dtype": "f8"
         }
        },
        {
         "mode": "lines+markers",
         "name": "Materials",
         "type": "scatter",
         "x": [
          "2012-01-01T00:00:00.000000000",
          "2013-01-01T00:00:00.000000000",
          "2014-01-01T00:00:00.000000000",
          "2015-01-01T00:00:00.000000000",
          "2016-01-01T00:00:00.000000000",
          "2017-01-01T00:00:00.000000000",
          "2018-01-01T00:00:00.000000000",
          "2019-01-01T00:00:00.000000000",
          "2020-01-01T00:00:00.000000000",
          "2021-01-01T00:00:00.000000000",
          "2022-01-01T00:00:00.000000000",
          "2023-01-01T00:00:00.000000000",
          "2024-01-01T00:00:00.000000000"
         ],
         "y": {
          "bdata": "7zEnak3NMUC4v+nZbxVBwN73I0zWcD1A7n3cvU3RLsAHZucR+hY8wK5ktY8Y4yRAcMKfgy+f4b+ZstyS+Qo2QCSlhpRNeBnA/zTK6AgIMUAQsbr4zD4wwCa04LjcpEJAzal0X3IoEkA=",
          "dtype": "f8"
         }
        },
        {
         "mode": "lines+markers",
         "name": "Consumer Staples",
         "type": "scatter",
         "x": [
          "2012-01-01T00:00:00.000000000",
          "2013-01-01T00:00:00.000000000",
          "2014-01-01T00:00:00.000000000",
          "2015-01-01T00:00:00.000000000",
          "2016-01-01T00:00:00.000000000",
          "2017-01-01T00:00:00.000000000",
          "2018-01-01T00:00:00.000000000",
          "2019-01-01T00:00:00.000000000",
          "2020-01-01T00:00:00.000000000",
          "2021-01-01T00:00:00.000000000",
          "2022-01-01T00:00:00.000000000",
          "2023-01-01T00:00:00.000000000",
          "2024-01-01T00:00:00.000000000"
         ],
         "y": {
          "bdata": "sbqOh+IeIcB0BLGGi68mwCDPVfZWnxrAUBPkf9R5KMCWugeS71YfwCb7PEsZJTlAQfDCyhvIOUAgVfF/4KcDwMIDatyMZ0BAaNgMmfSQFUA2EcJ6o88zwPUtqSHNjBvAPGPIIcz7JUA=",
          "dtype": "f8"
         }
        },
        {
         "mode": "lines+markers",
         "name": "Real Estate",
         "type": "scatter",
         "x": [
          "2012-01-01T00:00:00.000000000",
          "2013-01-01T00:00:00.000000000",
          "2014-01-01T00:00:00.000000000",
          "2015-01-01T00:00:00.000000000",
          "2016-01-01T00:00:00.000000000",
          "2017-01-01T00:00:00.000000000",
          "2018-01-01T00:00:00.000000000",
          "2019-01-01T00:00:00.000000000",
          "2020-01-01T00:00:00.000000000",
          "2021-01-01T00:00:00.000000000",
          "2022-01-01T00:00:00.000000000",
          "2023-01-01T00:00:00.000000000",
          "2024-01-01T00:00:00.000000000"
         ],
         "y": {
          "bdata": "sPFEAgDQGsCcS+NWK3wsQMDgG/D9/hhAWbFzP14AOkDx68iXAlIiwGDEYls/w/C/IPcYzf8NLMDA/qamcHsdQPUvY97YljLAaNB6dablRcC22XZmo4gcwNbhnkHlgBdADsvmTHhdQEA=",
          "dtype": "f8"
         }
        },
        {
         "mode": "lines+markers",
         "name": "Financials",
         "type": "scatter",
         "x": [
          "2012-01-01T00:00:00.000000000",
          "2013-01-01T00:00:00.000000000",
          "2014-01-01T00:00:00.000000000",
          "2015-01-01T00:00:00.000000000",
          "2016-01-01T00:00:00.000000000",
          "2017-01-01T00:00:00.000000000",
          "2018-01-01T00:00:00.000000000",
          "2019-01-01T00:00:00.000000000",
          "2020-01-01T00:00:00.000000000",
          "2021-01-01T00:00:00.000000000",
          "2022-01-01T00:00:00.000000000",
          "2023-01-01T00:00:00.000000000",
          "2024-01-01T00:00:00.000000000"
         ],
         "y": {
          "bdata": "mOopqxXpOUCwMJgTtzAXwBxDXKyHfhTAgPUD7tj5CUBgJRK5FwIxwFeNrg2Zk0FAcGZZyt1H57+0UosQsJEtQB4cGHIneTFAeHH5i+jGQkA8poCdI1ggQFC1tbhMuABAAqnKYh7JKsA=",
          "dtype": "f8"
         }
        },
        {
         "mode": "lines+markers",
         "name": "Energy",
         "type": "scatter",
         "x": [
          "2012-01-01T00:00:00.000000000",
          "2013-01-01T00:00:00.000000000",
          "2014-01-01T00:00:00.000000000",
          "2015-01-01T00:00:00.000000000",
          "2016-01-01T00:00:00.000000000",
          "2017-01-01T00:00:00.000000000",
          "2018-01-01T00:00:00.000000000",
          "2019-01-01T00:00:00.000000000",
          "2020-01-01T00:00:00.000000000",
          "2021-01-01T00:00:00.000000000",
          "2022-01-01T00:00:00.000000000",
          "2023-01-01T00:00:00.000000000",
          "2024-01-01T00:00:00.000000000"
         ],
         "y": {
          "bdata": "fnDaB43l8r+kLBz77OgmQPLecaPVRSBAbK02C6tWQUCoVe65cB5CwLG94LzVgUNAlNeHUgKhE0AclcaJlx47wGiEI6ACRhNA6EJeKtaKEEBoVHS6Kp8gwPo0NYr9rwdA5bMEMIpDPsA=",
          "dtype": "f8"
         }
        },
        {
         "mode": "lines+markers",
         "name": "Communication Services",
         "type": "scatter",
         "x": [
          "2012-01-01T00:00:00.000000000",
          "2013-01-01T00:00:00.000000000",
          "2014-01-01T00:00:00.000000000",
          "2015-01-01T00:00:00.000000000",
          "2016-01-01T00:00:00.000000000",
          "2017-01-01T00:00:00.000000000",
          "2018-01-01T00:00:00.000000000",
          "2019-01-01T00:00:00.000000000",
          "2020-01-01T00:00:00.000000000",
          "2021-01-01T00:00:00.000000000",
          "2022-01-01T00:00:00.000000000",
          "2023-01-01T00:00:00.000000000",
          "2024-01-01T00:00:00.000000000"
         ],
         "y": {
          "bdata": "6Kciy1vvAUAExgsYS0IxQKIALRQyJSXAot5uSIiAO0CBpxVMBYk7wOnyeUU+3jtA8F7DwyJK+T+ChDG+5QI2wMoSNA5ExUVAqi1j0DhBJUBgF02ywv8XwOE2eH2FPlRA30eQs/PfRUA=",
          "dtype": "f8"
         }
        }
       ],
       "layout": {
        "font": {
         "size": 18
        },
        "height": 800,
        "template": {
         "data": {
          "bar": [
           {
            "error_x": {
             "color": "#2a3f5f"
            },
            "error_y": {
             "color": "#2a3f5f"
            },
            "marker": {
             "line": {
              "color": "white",
              "width": 0.5
             },
             "pattern": {
              "fillmode": "overlay",
              "size": 10,
              "solidity": 0.2
             }
            },
            "type": "bar"
           }
          ],
          "barpolar": [
           {
            "marker": {
             "line": {
              "color": "white",
              "width": 0.5
             },
             "pattern": {
              "fillmode": "overlay",
              "size": 10,
              "solidity": 0.2
             }
            },
            "type": "barpolar"
           }
          ],
          "carpet": [
           {
            "aaxis": {
             "endlinecolor": "#2a3f5f",
             "gridcolor": "#C8D4E3",
             "linecolor": "#C8D4E3",
             "minorgridcolor": "#C8D4E3",
             "startlinecolor": "#2a3f5f"
            },
            "baxis": {
             "endlinecolor": "#2a3f5f",
             "gridcolor": "#C8D4E3",
             "linecolor": "#C8D4E3",
             "minorgridcolor": "#C8D4E3",
             "startlinecolor": "#2a3f5f"
            },
            "type": "carpet"
           }
          ],
          "choropleth": [
           {
            "colorbar": {
             "outlinewidth": 0,
             "ticks": ""
            },
            "type": "choropleth"
           }
          ],
          "contour": [
           {
            "colorbar": {
             "outlinewidth": 0,
             "ticks": ""
            },
            "colorscale": [
             [
              0,
              "#0d0887"
             ],
             [
              0.1111111111111111,
              "#46039f"
             ],
             [
              0.2222222222222222,
              "#7201a8"
             ],
             [
              0.3333333333333333,
              "#9c179e"
             ],
             [
              0.4444444444444444,
              "#bd3786"
             ],
             [
              0.5555555555555556,
              "#d8576b"
             ],
             [
              0.6666666666666666,
              "#ed7953"
             ],
             [
              0.7777777777777778,
              "#fb9f3a"
             ],
             [
              0.8888888888888888,
              "#fdca26"
             ],
             [
              1,
              "#f0f921"
             ]
            ],
            "type": "contour"
           }
          ],
          "contourcarpet": [
           {
            "colorbar": {
             "outlinewidth": 0,
             "ticks": ""
            },
            "type": "contourcarpet"
           }
          ],
          "heatmap": [
           {
            "colorbar": {
             "outlinewidth": 0,
             "ticks": ""
            },
            "colorscale": [
             [
              0,
              "#0d0887"
             ],
             [
              0.1111111111111111,
              "#46039f"
             ],
             [
              0.2222222222222222,
              "#7201a8"
             ],
             [
              0.3333333333333333,
              "#9c179e"
             ],
             [
              0.4444444444444444,
              "#bd3786"
             ],
             [
              0.5555555555555556,
              "#d8576b"
             ],
             [
              0.6666666666666666,
              "#ed7953"
             ],
             [
              0.7777777777777778,
              "#fb9f3a"
             ],
             [
              0.8888888888888888,
              "#fdca26"
             ],
             [
              1,
              "#f0f921"
             ]
            ],
            "type": "heatmap"
           }
          ],
          "histogram": [
           {
            "marker": {
             "pattern": {
              "fillmode": "overlay",
              "size": 10,
              "solidity": 0.2
             }
            },
            "type": "histogram"
           }
          ],
          "histogram2d": [
           {
            "colorbar": {
             "outlinewidth": 0,
             "ticks": ""
            },
            "colorscale": [
             [
              0,
              "#0d0887"
             ],
             [
              0.1111111111111111,
              "#46039f"
             ],
             [
              0.2222222222222222,
              "#7201a8"
             ],
             [
              0.3333333333333333,
              "#9c179e"
             ],
             [
              0.4444444444444444,
              "#bd3786"
             ],
             [
              0.5555555555555556,
              "#d8576b"
             ],
             [
              0.6666666666666666,
              "#ed7953"
             ],
             [
              0.7777777777777778,
              "#fb9f3a"
             ],
             [
              0.8888888888888888,
              "#fdca26"
             ],
             [
              1,
              "#f0f921"
             ]
            ],
            "type": "histogram2d"
           }
          ],
          "histogram2dcontour": [
           {
            "colorbar": {
             "outlinewidth": 0,
             "ticks": ""
            },
            "colorscale": [
             [
              0,
              "#0d0887"
             ],
             [
              0.1111111111111111,
              "#46039f"
             ],
             [
              0.2222222222222222,
              "#7201a8"
             ],
             [
              0.3333333333333333,
              "#9c179e"
             ],
             [
              0.4444444444444444,
              "#bd3786"
             ],
             [
              0.5555555555555556,
              "#d8576b"
             ],
             [
              0.6666666666666666,
              "#ed7953"
             ],
             [
              0.7777777777777778,
              "#fb9f3a"
             ],
             [
              0.8888888888888888,
              "#fdca26"
             ],
             [
              1,
              "#f0f921"
             ]
            ],
            "type": "histogram2dcontour"
           }
          ],
          "mesh3d": [
           {
            "colorbar": {
             "outlinewidth": 0,
             "ticks": ""
            },
            "type": "mesh3d"
           }
          ],
          "parcoords": [
           {
            "line": {
             "colorbar": {
              "outlinewidth": 0,
              "ticks": ""
             }
            },
            "type": "parcoords"
           }
          ],
          "pie": [
           {
            "automargin": true,
            "type": "pie"
           }
          ],
          "scatter": [
           {
            "fillpattern": {
             "fillmode": "overlay",
             "size": 10,
             "solidity": 0.2
            },
            "type": "scatter"
           }
          ],
          "scatter3d": [
           {
            "line": {
             "colorbar": {
              "outlinewidth": 0,
              "ticks": ""
             }
            },
            "marker": {
             "colorbar": {
              "outlinewidth": 0,
              "ticks": ""
             }
            },
            "type": "scatter3d"
           }
          ],
          "scattercarpet": [
           {
            "marker": {
             "colorbar": {
              "outlinewidth": 0,
              "ticks": ""
             }
            },
            "type": "scattercarpet"
           }
          ],
          "scattergeo": [
           {
            "marker": {
             "colorbar": {
              "outlinewidth": 0,
              "ticks": ""
             }
            },
            "type": "scattergeo"
           }
          ],
          "scattergl": [
           {
            "marker": {
             "colorbar": {
              "outlinewidth": 0,
              "ticks": ""
             }
            },
            "type": "scattergl"
           }
          ],
          "scattermap": [
           {
            "marker": {
             "colorbar": {
              "outlinewidth": 0,
              "ticks": ""
             }
            },
            "type": "scattermap"
           }
          ],
          "scattermapbox": [
           {
            "marker": {
             "colorbar": {
              "outlinewidth": 0,
              "ticks": ""
             }
            },
            "type": "scattermapbox"
           }
          ],
          "scatterpolar": [
           {
            "marker": {
             "colorbar": {
              "outlinewidth": 0,
              "ticks": ""
             }
            },
            "type": "scatterpolar"
           }
          ],
          "scatterpolargl": [
           {
            "marker": {
             "colorbar": {
              "outlinewidth": 0,
              "ticks": ""
             }
            },
            "type": "scatterpolargl"
           }
          ],
          "scatterternary": [
           {
            "marker": {
             "colorbar": {
              "outlinewidth": 0,
              "ticks": ""
             }
            },
            "type": "scatterternary"
           }
          ],
          "surface": [
           {
            "colorbar": {
             "outlinewidth": 0,
             "ticks": ""
            },
            "colorscale": [
             [
              0,
              "#0d0887"
             ],
             [
              0.1111111111111111,
              "#46039f"
             ],
             [
              0.2222222222222222,
              "#7201a8"
             ],
             [
              0.3333333333333333,
              "#9c179e"
             ],
             [
              0.4444444444444444,
              "#bd3786"
             ],
             [
              0.5555555555555556,
              "#d8576b"
             ],
             [
              0.6666666666666666,
              "#ed7953"
             ],
             [
              0.7777777777777778,
              "#fb9f3a"
             ],
             [
              0.8888888888888888,
              "#fdca26"
             ],
             [
              1,
              "#f0f921"
             ]
            ],
            "type": "surface"
           }
          ],
          "table": [
           {
            "cells": {
             "fill": {
              "color": "#EBF0F8"
             },
             "line": {
              "color": "white"
             }
            },
            "header": {
             "fill": {
              "color": "#C8D4E3"
             },
             "line": {
              "color": "white"
             }
            },
            "type": "table"
           }
          ]
         },
         "layout": {
          "annotationdefaults": {
           "arrowcolor": "#2a3f5f",
           "arrowhead": 0,
           "arrowwidth": 1
          },
          "autotypenumbers": "strict",
          "coloraxis": {
           "colorbar": {
            "outlinewidth": 0,
            "ticks": ""
           }
          },
          "colorscale": {
           "diverging": [
            [
             0,
             "#8e0152"
            ],
            [
             0.1,
             "#c51b7d"
            ],
            [
             0.2,
             "#de77ae"
            ],
            [
             0.3,
             "#f1b6da"
            ],
            [
             0.4,
             "#fde0ef"
            ],
            [
             0.5,
             "#f7f7f7"
            ],
            [
             0.6,
             "#e6f5d0"
            ],
            [
             0.7,
             "#b8e186"
            ],
            [
             0.8,
             "#7fbc41"
            ],
            [
             0.9,
             "#4d9221"
            ],
            [
             1,
             "#276419"
            ]
           ],
           "sequential": [
            [
             0,
             "#0d0887"
            ],
            [
             0.1111111111111111,
             "#46039f"
            ],
            [
             0.2222222222222222,
             "#7201a8"
            ],
            [
             0.3333333333333333,
             "#9c179e"
            ],
            [
             0.4444444444444444,
             "#bd3786"
            ],
            [
             0.5555555555555556,
             "#d8576b"
            ],
            [
             0.6666666666666666,
             "#ed7953"
            ],
            [
             0.7777777777777778,
             "#fb9f3a"
            ],
            [
             0.8888888888888888,
             "#fdca26"
            ],
            [
             1,
             "#f0f921"
            ]
           ],
           "sequentialminus": [
            [
             0,
             "#0d0887"
            ],
            [
             0.1111111111111111,
             "#46039f"
            ],
            [
             0.2222222222222222,
             "#7201a8"
            ],
            [
             0.3333333333333333,
             "#9c179e"
            ],
            [
             0.4444444444444444,
             "#bd3786"
            ],
            [
             0.5555555555555556,
             "#d8576b"
            ],
            [
             0.6666666666666666,
             "#ed7953"
            ],
            [
             0.7777777777777778,
             "#fb9f3a"
            ],
            [
             0.8888888888888888,
             "#fdca26"
            ],
            [
             1,
             "#f0f921"
            ]
           ]
          },
          "colorway": [
           "#636efa",
           "#EF553B",
           "#00cc96",
           "#ab63fa",
           "#FFA15A",
           "#19d3f3",
           "#FF6692",
           "#B6E880",
           "#FF97FF",
           "#FECB52"
          ],
          "font": {
           "color": "#2a3f5f"
          },
          "geo": {
           "bgcolor": "white",
           "lakecolor": "white",
           "landcolor": "white",
           "showlakes": true,
           "showland": true,
           "subunitcolor": "#C8D4E3"
          },
          "hoverlabel": {
           "align": "left"
          },
          "hovermode": "closest",
          "mapbox": {
           "style": "light"
          },
          "paper_bgcolor": "white",
          "plot_bgcolor": "white",
          "polar": {
           "angularaxis": {
            "gridcolor": "#EBF0F8",
            "linecolor": "#EBF0F8",
            "ticks": ""
           },
           "bgcolor": "white",
           "radialaxis": {
            "gridcolor": "#EBF0F8",
            "linecolor": "#EBF0F8",
            "ticks": ""
           }
          },
          "scene": {
           "xaxis": {
            "backgroundcolor": "white",
            "gridcolor": "#DFE8F3",
            "gridwidth": 2,
            "linecolor": "#EBF0F8",
            "showbackground": true,
            "ticks": "",
            "zerolinecolor": "#EBF0F8"
           },
           "yaxis": {
            "backgroundcolor": "white",
            "gridcolor": "#DFE8F3",
            "gridwidth": 2,
            "linecolor": "#EBF0F8",
            "showbackground": true,
            "ticks": "",
            "zerolinecolor": "#EBF0F8"
           },
           "zaxis": {
            "backgroundcolor": "white",
            "gridcolor": "#DFE8F3",
            "gridwidth": 2,
            "linecolor": "#EBF0F8",
            "showbackground": true,
            "ticks": "",
            "zerolinecolor": "#EBF0F8"
           }
          },
          "shapedefaults": {
           "line": {
            "color": "#2a3f5f"
           }
          },
          "ternary": {
           "aaxis": {
            "gridcolor": "#DFE8F3",
            "linecolor": "#A2B1C6",
            "ticks": ""
           },
           "baxis": {
            "gridcolor": "#DFE8F3",
            "linecolor": "#A2B1C6",
            "ticks": ""
           },
           "bgcolor": "white",
           "caxis": {
            "gridcolor": "#DFE8F3",
            "linecolor": "#A2B1C6",
            "ticks": ""
           }
          },
          "title": {
           "x": 0.05
          },
          "xaxis": {
           "automargin": true,
           "gridcolor": "#EBF0F8",
           "linecolor": "#EBF0F8",
           "ticks": "",
           "title": {
            "standoff": 15
           },
           "zerolinecolor": "#EBF0F8",
           "zerolinewidth": 2
          },
          "yaxis": {
           "automargin": true,
           "gridcolor": "#EBF0F8",
           "linecolor": "#EBF0F8",
           "ticks": "",
           "title": {
            "standoff": 15
           },
           "zerolinecolor": "#EBF0F8",
           "zerolinewidth": 2
          }
         }
        },
        "title": {
         "text": "Performance of the z-score only across years and sectors"
        },
        "width": 1000,
        "xaxis": {
         "title": {
          "text": "Dates"
         }
        },
        "yaxis": {
         "title": {
          "text": "Returns"
         }
        }
       }
      }
     },
     "metadata": {},
     "output_type": "display_data"
    },
    {
     "data": {
      "application/vnd.plotly.v1+json": {
       "config": {
        "plotlyServerURL": "https://chart-studio.plotly.com"
       },
       "data": [
        {
         "mode": "lines+markers",
         "name": "Industrials",
         "type": "scatter",
         "x": [
          "2012-01-01T00:00:00.000000000",
          "2013-01-01T00:00:00.000000000",
          "2014-01-01T00:00:00.000000000",
          "2015-01-01T00:00:00.000000000",
          "2016-01-01T00:00:00.000000000",
          "2017-01-01T00:00:00.000000000",
          "2018-01-01T00:00:00.000000000",
          "2019-01-01T00:00:00.000000000",
          "2020-01-01T00:00:00.000000000",
          "2021-01-01T00:00:00.000000000",
          "2022-01-01T00:00:00.000000000",
          "2023-01-01T00:00:00.000000000",
          "2024-01-01T00:00:00.000000000"
         ],
         "y": {
          "bdata": "FzZGHJ6eIMDc3ZgJGr0hQIZe7xALEhDAbMkHW1mDB0DAJCJrje/nP1jCl318BgdAhINBEAueFUBAzJuB9kcHwAAAAAAAAPh/VWkz5ZTbMEC0IBgvf2MRwFTlRmCThSLA2CtjcQhx9L8=",
          "dtype": "f8"
         }
        },
        {
         "mode": "lines+markers",
         "name": "Health Care",
         "type": "scatter",
         "x": [
          "2012-01-01T00:00:00.000000000",
          "2013-01-01T00:00:00.000000000",
          "2014-01-01T00:00:00.000000000",
          "2015-01-01T00:00:00.000000000",
          "2016-01-01T00:00:00.000000000",
          "2017-01-01T00:00:00.000000000",
          "2018-01-01T00:00:00.000000000",
          "2019-01-01T00:00:00.000000000",
          "2020-01-01T00:00:00.000000000",
          "2021-01-01T00:00:00.000000000",
          "2022-01-01T00:00:00.000000000",
          "2023-01-01T00:00:00.000000000",
          "2024-01-01T00:00:00.000000000"
         ],
         "y": {
          "bdata": "uCMfwCrFHEDU1IyVVskqwE6sNfeaHENAoPGPM1b5D0AfZ7ncu7EqQFC8VGIiS0FATziLPh1CBUAO0NKQh6wmQFbYOXn89TJAAAAAAAAA+H9Oyj5qAfg+wAAAAAAAAPh/AAAAAAAA+H8=",
          "dtype": "f8"
         }
        },
        {
         "mode": "lines+markers",
         "name": "Consumer Discretionary",
         "type": "scatter",
         "x": [
          "2012-01-01T00:00:00.000000000",
          "2013-01-01T00:00:00.000000000",
          "2014-01-01T00:00:00.000000000",
          "2015-01-01T00:00:00.000000000",
          "2016-01-01T00:00:00.000000000",
          "2017-01-01T00:00:00.000000000",
          "2018-01-01T00:00:00.000000000",
          "2019-01-01T00:00:00.000000000",
          "2020-01-01T00:00:00.000000000",
          "2021-01-01T00:00:00.000000000",
          "2022-01-01T00:00:00.000000000",
          "2023-01-01T00:00:00.000000000",
          "2024-01-01T00:00:00.000000000"
         ],
         "y": {
          "bdata": "wt3V6EUhOsDsJlAb2RAsQOPXA/GmlhzAFMqf9hO3HsCAxQNfpcgOwGBpCuSXgilA4llklaXvLEAAAAAAAAD4fwAAAAAAAPh/AAAAAAAA+H8AAAAAAAD4fwAAAAAAAPh/AAAAAAAA+H8=",
          "dtype": "f8"
         }
        },
        {
         "mode": "lines+markers",
         "name": "Information Technology",
         "type": "scatter",
         "x": [
          "2012-01-01T00:00:00.000000000",
          "2013-01-01T00:00:00.000000000",
          "2014-01-01T00:00:00.000000000",
          "2015-01-01T00:00:00.000000000",
          "2016-01-01T00:00:00.000000000",
          "2017-01-01T00:00:00.000000000",
          "2018-01-01T00:00:00.000000000",
          "2019-01-01T00:00:00.000000000",
          "2020-01-01T00:00:00.000000000",
          "2021-01-01T00:00:00.000000000",
          "2022-01-01T00:00:00.000000000",
          "2023-01-01T00:00:00.000000000",
          "2024-01-01T00:00:00.000000000"
         ],
         "y": {
          "bdata": "9OmSydVBLkAokTWceJsCwAAAAAAAAPh/AAAAAAAA+H8AAAAAAAD4fwAAAAAAAPh/AAAAAAAA+H8AAAAAAAD4fwAAAAAAAPh/AAAAAAAA+H8AAAAAAAD4fwAAAAAAAPh/4NBQO2oX/78=",
          "dtype": "f8"
         }
        },
        {
         "mode": "lines+markers",
         "name": "Utilities",
         "type": "scatter",
         "x": [
          "2012-01-01T00:00:00.000000000",
          "2013-01-01T00:00:00.000000000",
          "2014-01-01T00:00:00.000000000",
          "2015-01-01T00:00:00.000000000",
          "2016-01-01T00:00:00.000000000",
          "2017-01-01T00:00:00.000000000",
          "2018-01-01T00:00:00.000000000",
          "2019-01-01T00:00:00.000000000",
          "2020-01-01T00:00:00.000000000",
          "2021-01-01T00:00:00.000000000",
          "2022-01-01T00:00:00.000000000",
          "2023-01-01T00:00:00.000000000",
          "2024-01-01T00:00:00.000000000"
         ],
         "y": {
          "bdata": "u0HoRN9uFcCd7Qh7JIYgwADQmm/L5Kw/vkrvTi8YMsAYLIRjt+ETwGqh4LUtOC9Apvo0xiazMMDfI+HkmDIwQOCzBNM2CxVAJGYwf+xGMMB6k/HpBKkawMMZ++vtZCvA3tknTjq0I8A=",
          "dtype": "f8"
         }
        },
        {
         "mode": "lines+markers",
         "name": "Materials",
         "type": "scatter",
         "x": [
          "2012-01-01T00:00:00.000000000",
          "2013-01-01T00:00:00.000000000",
          "2014-01-01T00:00:00.000000000",
          "2015-01-01T00:00:00.000000000",
          "2016-01-01T00:00:00.000000000",
          "2017-01-01T00:00:00.000000000",
          "2018-01-01T00:00:00.000000000",
          "2019-01-01T00:00:00.000000000",
          "2020-01-01T00:00:00.000000000",
          "2021-01-01T00:00:00.000000000",
          "2022-01-01T00:00:00.000000000",
          "2023-01-01T00:00:00.000000000",
          "2024-01-01T00:00:00.000000000"
         ],
         "y": {
          "bdata": "nvsOVmO7NUC4v+nZbxVBwEOQVVz7siNAY4gBztp6K8Dwd1Df5yJJwGpxzoDCOyVAQm19C7yFHMCZstyS+Qo2QIbE/h/M5TDAfMKJ1b0/KUC2tx4OWJwpwItyoDnlxkNAQQHsXc3qL0A=",
          "dtype": "f8"
         }
        },
        {
         "mode": "lines+markers",
         "name": "Consumer Staples",
         "type": "scatter",
         "x": [
          "2012-01-01T00:00:00.000000000",
          "2013-01-01T00:00:00.000000000",
          "2014-01-01T00:00:00.000000000",
          "2015-01-01T00:00:00.000000000",
          "2016-01-01T00:00:00.000000000",
          "2017-01-01T00:00:00.000000000",
          "2018-01-01T00:00:00.000000000",
          "2019-01-01T00:00:00.000000000",
          "2020-01-01T00:00:00.000000000",
          "2021-01-01T00:00:00.000000000",
          "2022-01-01T00:00:00.000000000",
          "2023-01-01T00:00:00.000000000",
          "2024-01-01T00:00:00.000000000"
         ],
         "y": {
          "bdata": "0HqNjOj4H8CYivIHDX4JwBDnjZ/Off6/0CFeOWzTN8CWugeS71YfwN83J3dS9y1AQfDCyhvIOUCIvCyXjDgeQHtD59Q+Mz5AaNgMmfSQFUDtPdWkGPopwAkgubgDVRTAoKbCg2f5M0A=",
          "dtype": "f8"
         }
        },
        {
         "mode": "lines+markers",
         "name": "Real Estate",
         "type": "scatter",
         "x": [
          "2012-01-01T00:00:00.000000000",
          "2013-01-01T00:00:00.000000000",
          "2014-01-01T00:00:00.000000000",
          "2015-01-01T00:00:00.000000000",
          "2016-01-01T00:00:00.000000000",
          "2017-01-01T00:00:00.000000000",
          "2018-01-01T00:00:00.000000000",
          "2019-01-01T00:00:00.000000000",
          "2020-01-01T00:00:00.000000000",
          "2021-01-01T00:00:00.000000000",
          "2022-01-01T00:00:00.000000000",
          "2023-01-01T00:00:00.000000000",
          "2024-01-01T00:00:00.000000000"
         ],
         "y": {
          "bdata": "sPFEAgDQGsAC0+WqTNnrPysKqj3tJi9AWbFzP14AOkCGINEeCkcxwCaO35ssESLAIPcYzf8NLMAChdfzPURHQPUvY97YljLA4UyINXHgUMCag02UXR41wJH5ksoI7SfA59u4QyOuQEA=",
          "dtype": "f8"
         }
        },
        {
         "mode": "lines+markers",
         "name": "Financials",
         "type": "scatter",
         "x": [
          "2012-01-01T00:00:00.000000000",
          "2013-01-01T00:00:00.000000000",
          "2014-01-01T00:00:00.000000000",
          "2015-01-01T00:00:00.000000000",
          "2016-01-01T00:00:00.000000000",
          "2017-01-01T00:00:00.000000000",
          "2018-01-01T00:00:00.000000000",
          "2019-01-01T00:00:00.000000000",
          "2020-01-01T00:00:00.000000000",
          "2021-01-01T00:00:00.000000000",
          "2022-01-01T00:00:00.000000000",
          "2023-01-01T00:00:00.000000000",
          "2024-01-01T00:00:00.000000000"
         ],
         "y": {
          "bdata": "ZNnAliomMUCwMJgTtzAXwEDnYh1Sptu/LpW2i8epMcDKOy5uk+AiwFeNrg2Zk0FAcGZZyt1H579C4GmHgkQ+QAAAAAAAAPh/eHH5i+jGQkAegovz4S8eQFC1tbhMuABAngij0kuxIcA=",
          "dtype": "f8"
         }
        },
        {
         "mode": "lines+markers",
         "name": "Energy",
         "type": "scatter",
         "x": [
          "2012-01-01T00:00:00.000000000",
          "2013-01-01T00:00:00.000000000",
          "2014-01-01T00:00:00.000000000",
          "2015-01-01T00:00:00.000000000",
          "2016-01-01T00:00:00.000000000",
          "2017-01-01T00:00:00.000000000",
          "2018-01-01T00:00:00.000000000",
          "2019-01-01T00:00:00.000000000",
          "2020-01-01T00:00:00.000000000",
          "2021-01-01T00:00:00.000000000",
          "2022-01-01T00:00:00.000000000",
          "2023-01-01T00:00:00.000000000",
          "2024-01-01T00:00:00.000000000"
         ],
         "y": {
          "bdata": "g5wfDmrhAcDwgC6caJABwPwQy1JnrQPAbK02C6tWQUDUXMqyyedHwGe6U0vW5j5AUAXrZNh89z9Hl+ezL4kxwJR4Dkn67h7AbhU4RguFOkBoVHS6Kp8gwI3wDBtfEuq/R2aX5rNDQMA=",
          "dtype": "f8"
         }
        },
        {
         "mode": "lines+markers",
         "name": "Communication Services",
         "type": "scatter",
         "x": [
          "2012-01-01T00:00:00.000000000",
          "2013-01-01T00:00:00.000000000",
          "2014-01-01T00:00:00.000000000",
          "2015-01-01T00:00:00.000000000",
          "2016-01-01T00:00:00.000000000",
          "2017-01-01T00:00:00.000000000",
          "2018-01-01T00:00:00.000000000",
          "2019-01-01T00:00:00.000000000",
          "2020-01-01T00:00:00.000000000",
          "2021-01-01T00:00:00.000000000",
          "2022-01-01T00:00:00.000000000",
          "2023-01-01T00:00:00.000000000",
          "2024-01-01T00:00:00.000000000"
         ],
         "y": {
          "bdata": "sMvhgdi2DsCQ8SbpZdIKwLZ14h5aX0JAtZEtXyxNQEA8v187rk9JwPWqF2D8yjJAtoqG8BD3MkCChDG+5QI2wPCZ9Kn1AUxAAAAAAAAA+H+A71OEHl5AwOIak9B+Wk9AMnrBdR0yRUA=",
          "dtype": "f8"
         }
        }
       ],
       "layout": {
        "font": {
         "size": 18
        },
        "height": 800,
        "template": {
         "data": {
          "bar": [
           {
            "error_x": {
             "color": "#2a3f5f"
            },
            "error_y": {
             "color": "#2a3f5f"
            },
            "marker": {
             "line": {
              "color": "white",
              "width": 0.5
             },
             "pattern": {
              "fillmode": "overlay",
              "size": 10,
              "solidity": 0.2
             }
            },
            "type": "bar"
           }
          ],
          "barpolar": [
           {
            "marker": {
             "line": {
              "color": "white",
              "width": 0.5
             },
             "pattern": {
              "fillmode": "overlay",
              "size": 10,
              "solidity": 0.2
             }
            },
            "type": "barpolar"
           }
          ],
          "carpet": [
           {
            "aaxis": {
             "endlinecolor": "#2a3f5f",
             "gridcolor": "#C8D4E3",
             "linecolor": "#C8D4E3",
             "minorgridcolor": "#C8D4E3",
             "startlinecolor": "#2a3f5f"
            },
            "baxis": {
             "endlinecolor": "#2a3f5f",
             "gridcolor": "#C8D4E3",
             "linecolor": "#C8D4E3",
             "minorgridcolor": "#C8D4E3",
             "startlinecolor": "#2a3f5f"
            },
            "type": "carpet"
           }
          ],
          "choropleth": [
           {
            "colorbar": {
             "outlinewidth": 0,
             "ticks": ""
            },
            "type": "choropleth"
           }
          ],
          "contour": [
           {
            "colorbar": {
             "outlinewidth": 0,
             "ticks": ""
            },
            "colorscale": [
             [
              0,
              "#0d0887"
             ],
             [
              0.1111111111111111,
              "#46039f"
             ],
             [
              0.2222222222222222,
              "#7201a8"
             ],
             [
              0.3333333333333333,
              "#9c179e"
             ],
             [
              0.4444444444444444,
              "#bd3786"
             ],
             [
              0.5555555555555556,
              "#d8576b"
             ],
             [
              0.6666666666666666,
              "#ed7953"
             ],
             [
              0.7777777777777778,
              "#fb9f3a"
             ],
             [
              0.8888888888888888,
              "#fdca26"
             ],
             [
              1,
              "#f0f921"
             ]
            ],
            "type": "contour"
           }
          ],
          "contourcarpet": [
           {
            "colorbar": {
             "outlinewidth": 0,
             "ticks": ""
            },
            "type": "contourcarpet"
           }
          ],
          "heatmap": [
           {
            "colorbar": {
             "outlinewidth": 0,
             "ticks": ""
            },
            "colorscale": [
             [
              0,
              "#0d0887"
             ],
             [
              0.1111111111111111,
              "#46039f"
             ],
             [
              0.2222222222222222,
              "#7201a8"
             ],
             [
              0.3333333333333333,
              "#9c179e"
             ],
             [
              0.4444444444444444,
              "#bd3786"
             ],
             [
              0.5555555555555556,
              "#d8576b"
             ],
             [
              0.6666666666666666,
              "#ed7953"
             ],
             [
              0.7777777777777778,
              "#fb9f3a"
             ],
             [
              0.8888888888888888,
              "#fdca26"
             ],
             [
              1,
              "#f0f921"
             ]
            ],
            "type": "heatmap"
           }
          ],
          "histogram": [
           {
            "marker": {
             "pattern": {
              "fillmode": "overlay",
              "size": 10,
              "solidity": 0.2
             }
            },
            "type": "histogram"
           }
          ],
          "histogram2d": [
           {
            "colorbar": {
             "outlinewidth": 0,
             "ticks": ""
            },
            "colorscale": [
             [
              0,
              "#0d0887"
             ],
             [
              0.1111111111111111,
              "#46039f"
             ],
             [
              0.2222222222222222,
              "#7201a8"
             ],
             [
              0.3333333333333333,
              "#9c179e"
             ],
             [
              0.4444444444444444,
              "#bd3786"
             ],
             [
              0.5555555555555556,
              "#d8576b"
             ],
             [
              0.6666666666666666,
              "#ed7953"
             ],
             [
              0.7777777777777778,
              "#fb9f3a"
             ],
             [
              0.8888888888888888,
              "#fdca26"
             ],
             [
              1,
              "#f0f921"
             ]
            ],
            "type": "histogram2d"
           }
          ],
          "histogram2dcontour": [
           {
            "colorbar": {
             "outlinewidth": 0,
             "ticks": ""
            },
            "colorscale": [
             [
              0,
              "#0d0887"
             ],
             [
              0.1111111111111111,
              "#46039f"
             ],
             [
              0.2222222222222222,
              "#7201a8"
             ],
             [
              0.3333333333333333,
              "#9c179e"
             ],
             [
              0.4444444444444444,
              "#bd3786"
             ],
             [
              0.5555555555555556,
              "#d8576b"
             ],
             [
              0.6666666666666666,
              "#ed7953"
             ],
             [
              0.7777777777777778,
              "#fb9f3a"
             ],
             [
              0.8888888888888888,
              "#fdca26"
             ],
             [
              1,
              "#f0f921"
             ]
            ],
            "type": "histogram2dcontour"
           }
          ],
          "mesh3d": [
           {
            "colorbar": {
             "outlinewidth": 0,
             "ticks": ""
            },
            "type": "mesh3d"
           }
          ],
          "parcoords": [
           {
            "line": {
             "colorbar": {
              "outlinewidth": 0,
              "ticks": ""
             }
            },
            "type": "parcoords"
           }
          ],
          "pie": [
           {
            "automargin": true,
            "type": "pie"
           }
          ],
          "scatter": [
           {
            "fillpattern": {
             "fillmode": "overlay",
             "size": 10,
             "solidity": 0.2
            },
            "type": "scatter"
           }
          ],
          "scatter3d": [
           {
            "line": {
             "colorbar": {
              "outlinewidth": 0,
              "ticks": ""
             }
            },
            "marker": {
             "colorbar": {
              "outlinewidth": 0,
              "ticks": ""
             }
            },
            "type": "scatter3d"
           }
          ],
          "scattercarpet": [
           {
            "marker": {
             "colorbar": {
              "outlinewidth": 0,
              "ticks": ""
             }
            },
            "type": "scattercarpet"
           }
          ],
          "scattergeo": [
           {
            "marker": {
             "colorbar": {
              "outlinewidth": 0,
              "ticks": ""
             }
            },
            "type": "scattergeo"
           }
          ],
          "scattergl": [
           {
            "marker": {
             "colorbar": {
              "outlinewidth": 0,
              "ticks": ""
             }
            },
            "type": "scattergl"
           }
          ],
          "scattermap": [
           {
            "marker": {
             "colorbar": {
              "outlinewidth": 0,
              "ticks": ""
             }
            },
            "type": "scattermap"
           }
          ],
          "scattermapbox": [
           {
            "marker": {
             "colorbar": {
              "outlinewidth": 0,
              "ticks": ""
             }
            },
            "type": "scattermapbox"
           }
          ],
          "scatterpolar": [
           {
            "marker": {
             "colorbar": {
              "outlinewidth": 0,
              "ticks": ""
             }
            },
            "type": "scatterpolar"
           }
          ],
          "scatterpolargl": [
           {
            "marker": {
             "colorbar": {
              "outlinewidth": 0,
              "ticks": ""
             }
            },
            "type": "scatterpolargl"
           }
          ],
          "scatterternary": [
           {
            "marker": {
             "colorbar": {
              "outlinewidth": 0,
              "ticks": ""
             }
            },
            "type": "scatterternary"
           }
          ],
          "surface": [
           {
            "colorbar": {
             "outlinewidth": 0,
             "ticks": ""
            },
            "colorscale": [
             [
              0,
              "#0d0887"
             ],
             [
              0.1111111111111111,
              "#46039f"
             ],
             [
              0.2222222222222222,
              "#7201a8"
             ],
             [
              0.3333333333333333,
              "#9c179e"
             ],
             [
              0.4444444444444444,
              "#bd3786"
             ],
             [
              0.5555555555555556,
              "#d8576b"
             ],
             [
              0.6666666666666666,
              "#ed7953"
             ],
             [
              0.7777777777777778,
              "#fb9f3a"
             ],
             [
              0.8888888888888888,
              "#fdca26"
             ],
             [
              1,
              "#f0f921"
             ]
            ],
            "type": "surface"
           }
          ],
          "table": [
           {
            "cells": {
             "fill": {
              "color": "#EBF0F8"
             },
             "line": {
              "color": "white"
             }
            },
            "header": {
             "fill": {
              "color": "#C8D4E3"
             },
             "line": {
              "color": "white"
             }
            },
            "type": "table"
           }
          ]
         },
         "layout": {
          "annotationdefaults": {
           "arrowcolor": "#2a3f5f",
           "arrowhead": 0,
           "arrowwidth": 1
          },
          "autotypenumbers": "strict",
          "coloraxis": {
           "colorbar": {
            "outlinewidth": 0,
            "ticks": ""
           }
          },
          "colorscale": {
           "diverging": [
            [
             0,
             "#8e0152"
            ],
            [
             0.1,
             "#c51b7d"
            ],
            [
             0.2,
             "#de77ae"
            ],
            [
             0.3,
             "#f1b6da"
            ],
            [
             0.4,
             "#fde0ef"
            ],
            [
             0.5,
             "#f7f7f7"
            ],
            [
             0.6,
             "#e6f5d0"
            ],
            [
             0.7,
             "#b8e186"
            ],
            [
             0.8,
             "#7fbc41"
            ],
            [
             0.9,
             "#4d9221"
            ],
            [
             1,
             "#276419"
            ]
           ],
           "sequential": [
            [
             0,
             "#0d0887"
            ],
            [
             0.1111111111111111,
             "#46039f"
            ],
            [
             0.2222222222222222,
             "#7201a8"
            ],
            [
             0.3333333333333333,
             "#9c179e"
            ],
            [
             0.4444444444444444,
             "#bd3786"
            ],
            [
             0.5555555555555556,
             "#d8576b"
            ],
            [
             0.6666666666666666,
             "#ed7953"
            ],
            [
             0.7777777777777778,
             "#fb9f3a"
            ],
            [
             0.8888888888888888,
             "#fdca26"
            ],
            [
             1,
             "#f0f921"
            ]
           ],
           "sequentialminus": [
            [
             0,
             "#0d0887"
            ],
            [
             0.1111111111111111,
             "#46039f"
            ],
            [
             0.2222222222222222,
             "#7201a8"
            ],
            [
             0.3333333333333333,
             "#9c179e"
            ],
            [
             0.4444444444444444,
             "#bd3786"
            ],
            [
             0.5555555555555556,
             "#d8576b"
            ],
            [
             0.6666666666666666,
             "#ed7953"
            ],
            [
             0.7777777777777778,
             "#fb9f3a"
            ],
            [
             0.8888888888888888,
             "#fdca26"
            ],
            [
             1,
             "#f0f921"
            ]
           ]
          },
          "colorway": [
           "#636efa",
           "#EF553B",
           "#00cc96",
           "#ab63fa",
           "#FFA15A",
           "#19d3f3",
           "#FF6692",
           "#B6E880",
           "#FF97FF",
           "#FECB52"
          ],
          "font": {
           "color": "#2a3f5f"
          },
          "geo": {
           "bgcolor": "white",
           "lakecolor": "white",
           "landcolor": "white",
           "showlakes": true,
           "showland": true,
           "subunitcolor": "#C8D4E3"
          },
          "hoverlabel": {
           "align": "left"
          },
          "hovermode": "closest",
          "mapbox": {
           "style": "light"
          },
          "paper_bgcolor": "white",
          "plot_bgcolor": "white",
          "polar": {
           "angularaxis": {
            "gridcolor": "#EBF0F8",
            "linecolor": "#EBF0F8",
            "ticks": ""
           },
           "bgcolor": "white",
           "radialaxis": {
            "gridcolor": "#EBF0F8",
            "linecolor": "#EBF0F8",
            "ticks": ""
           }
          },
          "scene": {
           "xaxis": {
            "backgroundcolor": "white",
            "gridcolor": "#DFE8F3",
            "gridwidth": 2,
            "linecolor": "#EBF0F8",
            "showbackground": true,
            "ticks": "",
            "zerolinecolor": "#EBF0F8"
           },
           "yaxis": {
            "backgroundcolor": "white",
            "gridcolor": "#DFE8F3",
            "gridwidth": 2,
            "linecolor": "#EBF0F8",
            "showbackground": true,
            "ticks": "",
            "zerolinecolor": "#EBF0F8"
           },
           "zaxis": {
            "backgroundcolor": "white",
            "gridcolor": "#DFE8F3",
            "gridwidth": 2,
            "linecolor": "#EBF0F8",
            "showbackground": true,
            "ticks": "",
            "zerolinecolor": "#EBF0F8"
           }
          },
          "shapedefaults": {
           "line": {
            "color": "#2a3f5f"
           }
          },
          "ternary": {
           "aaxis": {
            "gridcolor": "#DFE8F3",
            "linecolor": "#A2B1C6",
            "ticks": ""
           },
           "baxis": {
            "gridcolor": "#DFE8F3",
            "linecolor": "#A2B1C6",
            "ticks": ""
           },
           "bgcolor": "white",
           "caxis": {
            "gridcolor": "#DFE8F3",
            "linecolor": "#A2B1C6",
            "ticks": ""
           }
          },
          "title": {
           "x": 0.05
          },
          "xaxis": {
           "automargin": true,
           "gridcolor": "#EBF0F8",
           "linecolor": "#EBF0F8",
           "ticks": "",
           "title": {
            "standoff": 15
           },
           "zerolinecolor": "#EBF0F8",
           "zerolinewidth": 2
          },
          "yaxis": {
           "automargin": true,
           "gridcolor": "#EBF0F8",
           "linecolor": "#EBF0F8",
           "ticks": "",
           "title": {
            "standoff": 15
           },
           "zerolinecolor": "#EBF0F8",
           "zerolinewidth": 2
          }
         }
        },
        "title": {
         "text": "Performance of the combined screening method across years and sectors"
        },
        "width": 1000,
        "xaxis": {
         "title": {
          "text": "Dates"
         }
        },
        "yaxis": {
         "title": {
          "text": "Returns"
         }
        }
       }
      }
     },
     "metadata": {},
     "output_type": "display_data"
    }
   ],
   "source": [
    "def plot_new_models(df_joined_sectors, title):\n",
    "    fig = go.Figure()\n",
    "    \n",
    "    for sector in sectors:\n",
    "\n",
    "        fig.add_trace(go.Scatter(x=df_joined_sectors.xs(sector, level=\"sector\").index, \n",
    "                                 y=df_joined_sectors.xs(sector, level=\"sector\")[\"results\"],\n",
    "                                 mode = 'lines+markers',\n",
    "                                 name = sector))\n",
    "\n",
    "    fig.update_layout(\n",
    "        title = title,\n",
    "        xaxis_title = \"Dates\",\n",
    "        yaxis_title = \"Returns\",\n",
    "        template = \"plotly_white\",\n",
    "        font = dict(size = 18),\n",
    "        height = 800,\n",
    "        width = 1000)\n",
    "\n",
    "    fig.show()\n",
    "    \n",
    "plot_new_models(df_m_only, \"Performance of the m-score only across years and sectors\")\n",
    "plot_new_models(df_z_only, \"Performance of the z-score only across years and sectors\")\n",
    "plot_new_models(df_mix_only, \"Performance of the combined screening method across years and sectors\")"
   ]
  },
  {
   "cell_type": "markdown",
   "metadata": {},
   "source": [
    "There is a lot of information that we can analyze, so it is better to summarize it, we are first going to compute the results across sectors and store the results."
   ]
  },
  {
   "cell_type": "code",
   "execution_count": 45,
   "metadata": {},
   "outputs": [],
   "source": [
    "sectors_m_score_results = []    \n",
    "sectors_z_score_results = [] \n",
    "sectors_mix_score_results = [] \n",
    "\n",
    "for sector in sectors:\n",
    "    sectors_m_score_results.append(df_m_only.xs(sector, level = \"sector\")[\"results\"].mean())\n",
    "    sectors_z_score_results.append(df_z_only.xs(sector, level = \"sector\")[\"results\"].mean())\n",
    "    sectors_mix_score_results.append(df_mix_only.xs(sector, level = \"sector\")[\"results\"].mean())"
   ]
  },
  {
   "cell_type": "markdown",
   "metadata": {},
   "source": [
    "Now we are going to do the same but across the years."
   ]
  },
  {
   "cell_type": "code",
   "execution_count": 46,
   "metadata": {},
   "outputs": [],
   "source": [
    "dates_m_score_results = []  \n",
    "dates_z_score_results = [] \n",
    "dates_mix_score_results = [] \n",
    "\n",
    "for date in df_mix_only.xs(slice(None), level = \"sector\").index.unique():\n",
    "    dates_m_score_results.append(df_m_only.xs(date, level = \"date\")[\"results\"].mean())\n",
    "    dates_z_score_results.append(df_z_only.xs(date, level = \"date\")[\"results\"].mean())\n",
    "    dates_mix_score_results.append(df_mix_only.xs(date, level = \"date\")[\"results\"].mean())"
   ]
  },
  {
   "cell_type": "markdown",
   "metadata": {},
   "source": [
    "Let's now plot the results first across sectors and then across years for better visualization."
   ]
  },
  {
   "cell_type": "code",
   "execution_count": 47,
   "metadata": {},
   "outputs": [
    {
     "data": {
      "application/vnd.plotly.v1+json": {
       "config": {
        "plotlyServerURL": "https://chart-studio.plotly.com"
       },
       "data": [
        {
         "hovertemplate": "x=%{x}<br>y=%{y}<extra></extra>",
         "legendgroup": "",
         "marker": {
          "color": "#636efa",
          "pattern": {
           "shape": ""
          }
         },
         "name": "",
         "orientation": "v",
         "showlegend": false,
         "textposition": "auto",
         "type": "bar",
         "x": [
          "2012-01-01T00:00:00.000000000",
          "2013-01-01T00:00:00.000000000",
          "2014-01-01T00:00:00.000000000",
          "2015-01-01T00:00:00.000000000",
          "2016-01-01T00:00:00.000000000",
          "2017-01-01T00:00:00.000000000",
          "2018-01-01T00:00:00.000000000",
          "2019-01-01T00:00:00.000000000",
          "2020-01-01T00:00:00.000000000",
          "2021-01-01T00:00:00.000000000",
          "2022-01-01T00:00:00.000000000",
          "2023-01-01T00:00:00.000000000",
          "2024-01-01T00:00:00.000000000"
         ],
         "xaxis": "x",
         "y": {
          "bdata": "pCYY583k8z+j08jt+S2jP2q3NaTuK/k/qwVD/If44L8ls+eBEornPzCdkQzObdW/uFbdfrOL2z95M8My3k4HQJuVifskfO+/gUxoTFsK8z9EypI6/aXav8WwgfJUAuK/3tTo36hK678=",
          "dtype": "f8"
         },
         "yaxis": "y"
        }
       ],
       "layout": {
        "barmode": "relative",
        "font": {
         "size": 18
        },
        "height": 800,
        "legend": {
         "tracegroupgap": 0
        },
        "margin": {
         "t": 60
        },
        "template": {
         "data": {
          "bar": [
           {
            "error_x": {
             "color": "#2a3f5f"
            },
            "error_y": {
             "color": "#2a3f5f"
            },
            "marker": {
             "line": {
              "color": "white",
              "width": 0.5
             },
             "pattern": {
              "fillmode": "overlay",
              "size": 10,
              "solidity": 0.2
             }
            },
            "type": "bar"
           }
          ],
          "barpolar": [
           {
            "marker": {
             "line": {
              "color": "white",
              "width": 0.5
             },
             "pattern": {
              "fillmode": "overlay",
              "size": 10,
              "solidity": 0.2
             }
            },
            "type": "barpolar"
           }
          ],
          "carpet": [
           {
            "aaxis": {
             "endlinecolor": "#2a3f5f",
             "gridcolor": "#C8D4E3",
             "linecolor": "#C8D4E3",
             "minorgridcolor": "#C8D4E3",
             "startlinecolor": "#2a3f5f"
            },
            "baxis": {
             "endlinecolor": "#2a3f5f",
             "gridcolor": "#C8D4E3",
             "linecolor": "#C8D4E3",
             "minorgridcolor": "#C8D4E3",
             "startlinecolor": "#2a3f5f"
            },
            "type": "carpet"
           }
          ],
          "choropleth": [
           {
            "colorbar": {
             "outlinewidth": 0,
             "ticks": ""
            },
            "type": "choropleth"
           }
          ],
          "contour": [
           {
            "colorbar": {
             "outlinewidth": 0,
             "ticks": ""
            },
            "colorscale": [
             [
              0,
              "#0d0887"
             ],
             [
              0.1111111111111111,
              "#46039f"
             ],
             [
              0.2222222222222222,
              "#7201a8"
             ],
             [
              0.3333333333333333,
              "#9c179e"
             ],
             [
              0.4444444444444444,
              "#bd3786"
             ],
             [
              0.5555555555555556,
              "#d8576b"
             ],
             [
              0.6666666666666666,
              "#ed7953"
             ],
             [
              0.7777777777777778,
              "#fb9f3a"
             ],
             [
              0.8888888888888888,
              "#fdca26"
             ],
             [
              1,
              "#f0f921"
             ]
            ],
            "type": "contour"
           }
          ],
          "contourcarpet": [
           {
            "colorbar": {
             "outlinewidth": 0,
             "ticks": ""
            },
            "type": "contourcarpet"
           }
          ],
          "heatmap": [
           {
            "colorbar": {
             "outlinewidth": 0,
             "ticks": ""
            },
            "colorscale": [
             [
              0,
              "#0d0887"
             ],
             [
              0.1111111111111111,
              "#46039f"
             ],
             [
              0.2222222222222222,
              "#7201a8"
             ],
             [
              0.3333333333333333,
              "#9c179e"
             ],
             [
              0.4444444444444444,
              "#bd3786"
             ],
             [
              0.5555555555555556,
              "#d8576b"
             ],
             [
              0.6666666666666666,
              "#ed7953"
             ],
             [
              0.7777777777777778,
              "#fb9f3a"
             ],
             [
              0.8888888888888888,
              "#fdca26"
             ],
             [
              1,
              "#f0f921"
             ]
            ],
            "type": "heatmap"
           }
          ],
          "histogram": [
           {
            "marker": {
             "pattern": {
              "fillmode": "overlay",
              "size": 10,
              "solidity": 0.2
             }
            },
            "type": "histogram"
           }
          ],
          "histogram2d": [
           {
            "colorbar": {
             "outlinewidth": 0,
             "ticks": ""
            },
            "colorscale": [
             [
              0,
              "#0d0887"
             ],
             [
              0.1111111111111111,
              "#46039f"
             ],
             [
              0.2222222222222222,
              "#7201a8"
             ],
             [
              0.3333333333333333,
              "#9c179e"
             ],
             [
              0.4444444444444444,
              "#bd3786"
             ],
             [
              0.5555555555555556,
              "#d8576b"
             ],
             [
              0.6666666666666666,
              "#ed7953"
             ],
             [
              0.7777777777777778,
              "#fb9f3a"
             ],
             [
              0.8888888888888888,
              "#fdca26"
             ],
             [
              1,
              "#f0f921"
             ]
            ],
            "type": "histogram2d"
           }
          ],
          "histogram2dcontour": [
           {
            "colorbar": {
             "outlinewidth": 0,
             "ticks": ""
            },
            "colorscale": [
             [
              0,
              "#0d0887"
             ],
             [
              0.1111111111111111,
              "#46039f"
             ],
             [
              0.2222222222222222,
              "#7201a8"
             ],
             [
              0.3333333333333333,
              "#9c179e"
             ],
             [
              0.4444444444444444,
              "#bd3786"
             ],
             [
              0.5555555555555556,
              "#d8576b"
             ],
             [
              0.6666666666666666,
              "#ed7953"
             ],
             [
              0.7777777777777778,
              "#fb9f3a"
             ],
             [
              0.8888888888888888,
              "#fdca26"
             ],
             [
              1,
              "#f0f921"
             ]
            ],
            "type": "histogram2dcontour"
           }
          ],
          "mesh3d": [
           {
            "colorbar": {
             "outlinewidth": 0,
             "ticks": ""
            },
            "type": "mesh3d"
           }
          ],
          "parcoords": [
           {
            "line": {
             "colorbar": {
              "outlinewidth": 0,
              "ticks": ""
             }
            },
            "type": "parcoords"
           }
          ],
          "pie": [
           {
            "automargin": true,
            "type": "pie"
           }
          ],
          "scatter": [
           {
            "fillpattern": {
             "fillmode": "overlay",
             "size": 10,
             "solidity": 0.2
            },
            "type": "scatter"
           }
          ],
          "scatter3d": [
           {
            "line": {
             "colorbar": {
              "outlinewidth": 0,
              "ticks": ""
             }
            },
            "marker": {
             "colorbar": {
              "outlinewidth": 0,
              "ticks": ""
             }
            },
            "type": "scatter3d"
           }
          ],
          "scattercarpet": [
           {
            "marker": {
             "colorbar": {
              "outlinewidth": 0,
              "ticks": ""
             }
            },
            "type": "scattercarpet"
           }
          ],
          "scattergeo": [
           {
            "marker": {
             "colorbar": {
              "outlinewidth": 0,
              "ticks": ""
             }
            },
            "type": "scattergeo"
           }
          ],
          "scattergl": [
           {
            "marker": {
             "colorbar": {
              "outlinewidth": 0,
              "ticks": ""
             }
            },
            "type": "scattergl"
           }
          ],
          "scattermap": [
           {
            "marker": {
             "colorbar": {
              "outlinewidth": 0,
              "ticks": ""
             }
            },
            "type": "scattermap"
           }
          ],
          "scattermapbox": [
           {
            "marker": {
             "colorbar": {
              "outlinewidth": 0,
              "ticks": ""
             }
            },
            "type": "scattermapbox"
           }
          ],
          "scatterpolar": [
           {
            "marker": {
             "colorbar": {
              "outlinewidth": 0,
              "ticks": ""
             }
            },
            "type": "scatterpolar"
           }
          ],
          "scatterpolargl": [
           {
            "marker": {
             "colorbar": {
              "outlinewidth": 0,
              "ticks": ""
             }
            },
            "type": "scatterpolargl"
           }
          ],
          "scatterternary": [
           {
            "marker": {
             "colorbar": {
              "outlinewidth": 0,
              "ticks": ""
             }
            },
            "type": "scatterternary"
           }
          ],
          "surface": [
           {
            "colorbar": {
             "outlinewidth": 0,
             "ticks": ""
            },
            "colorscale": [
             [
              0,
              "#0d0887"
             ],
             [
              0.1111111111111111,
              "#46039f"
             ],
             [
              0.2222222222222222,
              "#7201a8"
             ],
             [
              0.3333333333333333,
              "#9c179e"
             ],
             [
              0.4444444444444444,
              "#bd3786"
             ],
             [
              0.5555555555555556,
              "#d8576b"
             ],
             [
              0.6666666666666666,
              "#ed7953"
             ],
             [
              0.7777777777777778,
              "#fb9f3a"
             ],
             [
              0.8888888888888888,
              "#fdca26"
             ],
             [
              1,
              "#f0f921"
             ]
            ],
            "type": "surface"
           }
          ],
          "table": [
           {
            "cells": {
             "fill": {
              "color": "#EBF0F8"
             },
             "line": {
              "color": "white"
             }
            },
            "header": {
             "fill": {
              "color": "#C8D4E3"
             },
             "line": {
              "color": "white"
             }
            },
            "type": "table"
           }
          ]
         },
         "layout": {
          "annotationdefaults": {
           "arrowcolor": "#2a3f5f",
           "arrowhead": 0,
           "arrowwidth": 1
          },
          "autotypenumbers": "strict",
          "coloraxis": {
           "colorbar": {
            "outlinewidth": 0,
            "ticks": ""
           }
          },
          "colorscale": {
           "diverging": [
            [
             0,
             "#8e0152"
            ],
            [
             0.1,
             "#c51b7d"
            ],
            [
             0.2,
             "#de77ae"
            ],
            [
             0.3,
             "#f1b6da"
            ],
            [
             0.4,
             "#fde0ef"
            ],
            [
             0.5,
             "#f7f7f7"
            ],
            [
             0.6,
             "#e6f5d0"
            ],
            [
             0.7,
             "#b8e186"
            ],
            [
             0.8,
             "#7fbc41"
            ],
            [
             0.9,
             "#4d9221"
            ],
            [
             1,
             "#276419"
            ]
           ],
           "sequential": [
            [
             0,
             "#0d0887"
            ],
            [
             0.1111111111111111,
             "#46039f"
            ],
            [
             0.2222222222222222,
             "#7201a8"
            ],
            [
             0.3333333333333333,
             "#9c179e"
            ],
            [
             0.4444444444444444,
             "#bd3786"
            ],
            [
             0.5555555555555556,
             "#d8576b"
            ],
            [
             0.6666666666666666,
             "#ed7953"
            ],
            [
             0.7777777777777778,
             "#fb9f3a"
            ],
            [
             0.8888888888888888,
             "#fdca26"
            ],
            [
             1,
             "#f0f921"
            ]
           ],
           "sequentialminus": [
            [
             0,
             "#0d0887"
            ],
            [
             0.1111111111111111,
             "#46039f"
            ],
            [
             0.2222222222222222,
             "#7201a8"
            ],
            [
             0.3333333333333333,
             "#9c179e"
            ],
            [
             0.4444444444444444,
             "#bd3786"
            ],
            [
             0.5555555555555556,
             "#d8576b"
            ],
            [
             0.6666666666666666,
             "#ed7953"
            ],
            [
             0.7777777777777778,
             "#fb9f3a"
            ],
            [
             0.8888888888888888,
             "#fdca26"
            ],
            [
             1,
             "#f0f921"
            ]
           ]
          },
          "colorway": [
           "#636efa",
           "#EF553B",
           "#00cc96",
           "#ab63fa",
           "#FFA15A",
           "#19d3f3",
           "#FF6692",
           "#B6E880",
           "#FF97FF",
           "#FECB52"
          ],
          "font": {
           "color": "#2a3f5f"
          },
          "geo": {
           "bgcolor": "white",
           "lakecolor": "white",
           "landcolor": "white",
           "showlakes": true,
           "showland": true,
           "subunitcolor": "#C8D4E3"
          },
          "hoverlabel": {
           "align": "left"
          },
          "hovermode": "closest",
          "mapbox": {
           "style": "light"
          },
          "paper_bgcolor": "white",
          "plot_bgcolor": "white",
          "polar": {
           "angularaxis": {
            "gridcolor": "#EBF0F8",
            "linecolor": "#EBF0F8",
            "ticks": ""
           },
           "bgcolor": "white",
           "radialaxis": {
            "gridcolor": "#EBF0F8",
            "linecolor": "#EBF0F8",
            "ticks": ""
           }
          },
          "scene": {
           "xaxis": {
            "backgroundcolor": "white",
            "gridcolor": "#DFE8F3",
            "gridwidth": 2,
            "linecolor": "#EBF0F8",
            "showbackground": true,
            "ticks": "",
            "zerolinecolor": "#EBF0F8"
           },
           "yaxis": {
            "backgroundcolor": "white",
            "gridcolor": "#DFE8F3",
            "gridwidth": 2,
            "linecolor": "#EBF0F8",
            "showbackground": true,
            "ticks": "",
            "zerolinecolor": "#EBF0F8"
           },
           "zaxis": {
            "backgroundcolor": "white",
            "gridcolor": "#DFE8F3",
            "gridwidth": 2,
            "linecolor": "#EBF0F8",
            "showbackground": true,
            "ticks": "",
            "zerolinecolor": "#EBF0F8"
           }
          },
          "shapedefaults": {
           "line": {
            "color": "#2a3f5f"
           }
          },
          "ternary": {
           "aaxis": {
            "gridcolor": "#DFE8F3",
            "linecolor": "#A2B1C6",
            "ticks": ""
           },
           "baxis": {
            "gridcolor": "#DFE8F3",
            "linecolor": "#A2B1C6",
            "ticks": ""
           },
           "bgcolor": "white",
           "caxis": {
            "gridcolor": "#DFE8F3",
            "linecolor": "#A2B1C6",
            "ticks": ""
           }
          },
          "title": {
           "x": 0.05
          },
          "xaxis": {
           "automargin": true,
           "gridcolor": "#EBF0F8",
           "linecolor": "#EBF0F8",
           "ticks": "",
           "title": {
            "standoff": 15
           },
           "zerolinecolor": "#EBF0F8",
           "zerolinewidth": 2
          },
          "yaxis": {
           "automargin": true,
           "gridcolor": "#EBF0F8",
           "linecolor": "#EBF0F8",
           "ticks": "",
           "title": {
            "standoff": 15
           },
           "zerolinecolor": "#EBF0F8",
           "zerolinewidth": 2
          }
         }
        },
        "title": {
         "text": "Performance across Dates for the m-score using quintiles"
        },
        "width": 1000,
        "xaxis": {
         "anchor": "y",
         "domain": [
          0,
          1
         ],
         "title": {
          "text": "Dates"
         }
        },
        "yaxis": {
         "anchor": "x",
         "domain": [
          0,
          1
         ],
         "title": {
          "text": "Returns"
         }
        }
       }
      }
     },
     "metadata": {},
     "output_type": "display_data"
    },
    {
     "data": {
      "application/vnd.plotly.v1+json": {
       "config": {
        "plotlyServerURL": "https://chart-studio.plotly.com"
       },
       "data": [
        {
         "hovertemplate": "x=%{x}<br>y=%{y}<extra></extra>",
         "legendgroup": "",
         "marker": {
          "color": "#636efa",
          "pattern": {
           "shape": ""
          }
         },
         "name": "",
         "orientation": "v",
         "showlegend": false,
         "textposition": "auto",
         "type": "bar",
         "x": [
          "Industrials",
          "Health Care",
          "Consumer Discretionary",
          "Information Technology",
          "Utilities",
          "Materials",
          "Consumer Staples",
          "Real Estate",
          "Financials",
          "Energy",
          "Communication Services"
         ],
         "xaxis": "x",
         "y": {
          "bdata": "JBOGVTFIBUBIkdteg3MDQK7JJf5Rxf4/V6D9a5r+B0DUFGVmDjPkv/dezQHzVOW/0RDiQUNT2D88XQuct7/rv2Akchxu49G/zLcs5Nel+b8cyJRa8rDxPw==",
          "dtype": "f8"
         },
         "yaxis": "y"
        }
       ],
       "layout": {
        "barmode": "relative",
        "font": {
         "size": 18
        },
        "height": 800,
        "legend": {
         "tracegroupgap": 0
        },
        "margin": {
         "t": 60
        },
        "template": {
         "data": {
          "bar": [
           {
            "error_x": {
             "color": "#2a3f5f"
            },
            "error_y": {
             "color": "#2a3f5f"
            },
            "marker": {
             "line": {
              "color": "white",
              "width": 0.5
             },
             "pattern": {
              "fillmode": "overlay",
              "size": 10,
              "solidity": 0.2
             }
            },
            "type": "bar"
           }
          ],
          "barpolar": [
           {
            "marker": {
             "line": {
              "color": "white",
              "width": 0.5
             },
             "pattern": {
              "fillmode": "overlay",
              "size": 10,
              "solidity": 0.2
             }
            },
            "type": "barpolar"
           }
          ],
          "carpet": [
           {
            "aaxis": {
             "endlinecolor": "#2a3f5f",
             "gridcolor": "#C8D4E3",
             "linecolor": "#C8D4E3",
             "minorgridcolor": "#C8D4E3",
             "startlinecolor": "#2a3f5f"
            },
            "baxis": {
             "endlinecolor": "#2a3f5f",
             "gridcolor": "#C8D4E3",
             "linecolor": "#C8D4E3",
             "minorgridcolor": "#C8D4E3",
             "startlinecolor": "#2a3f5f"
            },
            "type": "carpet"
           }
          ],
          "choropleth": [
           {
            "colorbar": {
             "outlinewidth": 0,
             "ticks": ""
            },
            "type": "choropleth"
           }
          ],
          "contour": [
           {
            "colorbar": {
             "outlinewidth": 0,
             "ticks": ""
            },
            "colorscale": [
             [
              0,
              "#0d0887"
             ],
             [
              0.1111111111111111,
              "#46039f"
             ],
             [
              0.2222222222222222,
              "#7201a8"
             ],
             [
              0.3333333333333333,
              "#9c179e"
             ],
             [
              0.4444444444444444,
              "#bd3786"
             ],
             [
              0.5555555555555556,
              "#d8576b"
             ],
             [
              0.6666666666666666,
              "#ed7953"
             ],
             [
              0.7777777777777778,
              "#fb9f3a"
             ],
             [
              0.8888888888888888,
              "#fdca26"
             ],
             [
              1,
              "#f0f921"
             ]
            ],
            "type": "contour"
           }
          ],
          "contourcarpet": [
           {
            "colorbar": {
             "outlinewidth": 0,
             "ticks": ""
            },
            "type": "contourcarpet"
           }
          ],
          "heatmap": [
           {
            "colorbar": {
             "outlinewidth": 0,
             "ticks": ""
            },
            "colorscale": [
             [
              0,
              "#0d0887"
             ],
             [
              0.1111111111111111,
              "#46039f"
             ],
             [
              0.2222222222222222,
              "#7201a8"
             ],
             [
              0.3333333333333333,
              "#9c179e"
             ],
             [
              0.4444444444444444,
              "#bd3786"
             ],
             [
              0.5555555555555556,
              "#d8576b"
             ],
             [
              0.6666666666666666,
              "#ed7953"
             ],
             [
              0.7777777777777778,
              "#fb9f3a"
             ],
             [
              0.8888888888888888,
              "#fdca26"
             ],
             [
              1,
              "#f0f921"
             ]
            ],
            "type": "heatmap"
           }
          ],
          "histogram": [
           {
            "marker": {
             "pattern": {
              "fillmode": "overlay",
              "size": 10,
              "solidity": 0.2
             }
            },
            "type": "histogram"
           }
          ],
          "histogram2d": [
           {
            "colorbar": {
             "outlinewidth": 0,
             "ticks": ""
            },
            "colorscale": [
             [
              0,
              "#0d0887"
             ],
             [
              0.1111111111111111,
              "#46039f"
             ],
             [
              0.2222222222222222,
              "#7201a8"
             ],
             [
              0.3333333333333333,
              "#9c179e"
             ],
             [
              0.4444444444444444,
              "#bd3786"
             ],
             [
              0.5555555555555556,
              "#d8576b"
             ],
             [
              0.6666666666666666,
              "#ed7953"
             ],
             [
              0.7777777777777778,
              "#fb9f3a"
             ],
             [
              0.8888888888888888,
              "#fdca26"
             ],
             [
              1,
              "#f0f921"
             ]
            ],
            "type": "histogram2d"
           }
          ],
          "histogram2dcontour": [
           {
            "colorbar": {
             "outlinewidth": 0,
             "ticks": ""
            },
            "colorscale": [
             [
              0,
              "#0d0887"
             ],
             [
              0.1111111111111111,
              "#46039f"
             ],
             [
              0.2222222222222222,
              "#7201a8"
             ],
             [
              0.3333333333333333,
              "#9c179e"
             ],
             [
              0.4444444444444444,
              "#bd3786"
             ],
             [
              0.5555555555555556,
              "#d8576b"
             ],
             [
              0.6666666666666666,
              "#ed7953"
             ],
             [
              0.7777777777777778,
              "#fb9f3a"
             ],
             [
              0.8888888888888888,
              "#fdca26"
             ],
             [
              1,
              "#f0f921"
             ]
            ],
            "type": "histogram2dcontour"
           }
          ],
          "mesh3d": [
           {
            "colorbar": {
             "outlinewidth": 0,
             "ticks": ""
            },
            "type": "mesh3d"
           }
          ],
          "parcoords": [
           {
            "line": {
             "colorbar": {
              "outlinewidth": 0,
              "ticks": ""
             }
            },
            "type": "parcoords"
           }
          ],
          "pie": [
           {
            "automargin": true,
            "type": "pie"
           }
          ],
          "scatter": [
           {
            "fillpattern": {
             "fillmode": "overlay",
             "size": 10,
             "solidity": 0.2
            },
            "type": "scatter"
           }
          ],
          "scatter3d": [
           {
            "line": {
             "colorbar": {
              "outlinewidth": 0,
              "ticks": ""
             }
            },
            "marker": {
             "colorbar": {
              "outlinewidth": 0,
              "ticks": ""
             }
            },
            "type": "scatter3d"
           }
          ],
          "scattercarpet": [
           {
            "marker": {
             "colorbar": {
              "outlinewidth": 0,
              "ticks": ""
             }
            },
            "type": "scattercarpet"
           }
          ],
          "scattergeo": [
           {
            "marker": {
             "colorbar": {
              "outlinewidth": 0,
              "ticks": ""
             }
            },
            "type": "scattergeo"
           }
          ],
          "scattergl": [
           {
            "marker": {
             "colorbar": {
              "outlinewidth": 0,
              "ticks": ""
             }
            },
            "type": "scattergl"
           }
          ],
          "scattermap": [
           {
            "marker": {
             "colorbar": {
              "outlinewidth": 0,
              "ticks": ""
             }
            },
            "type": "scattermap"
           }
          ],
          "scattermapbox": [
           {
            "marker": {
             "colorbar": {
              "outlinewidth": 0,
              "ticks": ""
             }
            },
            "type": "scattermapbox"
           }
          ],
          "scatterpolar": [
           {
            "marker": {
             "colorbar": {
              "outlinewidth": 0,
              "ticks": ""
             }
            },
            "type": "scatterpolar"
           }
          ],
          "scatterpolargl": [
           {
            "marker": {
             "colorbar": {
              "outlinewidth": 0,
              "ticks": ""
             }
            },
            "type": "scatterpolargl"
           }
          ],
          "scatterternary": [
           {
            "marker": {
             "colorbar": {
              "outlinewidth": 0,
              "ticks": ""
             }
            },
            "type": "scatterternary"
           }
          ],
          "surface": [
           {
            "colorbar": {
             "outlinewidth": 0,
             "ticks": ""
            },
            "colorscale": [
             [
              0,
              "#0d0887"
             ],
             [
              0.1111111111111111,
              "#46039f"
             ],
             [
              0.2222222222222222,
              "#7201a8"
             ],
             [
              0.3333333333333333,
              "#9c179e"
             ],
             [
              0.4444444444444444,
              "#bd3786"
             ],
             [
              0.5555555555555556,
              "#d8576b"
             ],
             [
              0.6666666666666666,
              "#ed7953"
             ],
             [
              0.7777777777777778,
              "#fb9f3a"
             ],
             [
              0.8888888888888888,
              "#fdca26"
             ],
             [
              1,
              "#f0f921"
             ]
            ],
            "type": "surface"
           }
          ],
          "table": [
           {
            "cells": {
             "fill": {
              "color": "#EBF0F8"
             },
             "line": {
              "color": "white"
             }
            },
            "header": {
             "fill": {
              "color": "#C8D4E3"
             },
             "line": {
              "color": "white"
             }
            },
            "type": "table"
           }
          ]
         },
         "layout": {
          "annotationdefaults": {
           "arrowcolor": "#2a3f5f",
           "arrowhead": 0,
           "arrowwidth": 1
          },
          "autotypenumbers": "strict",
          "coloraxis": {
           "colorbar": {
            "outlinewidth": 0,
            "ticks": ""
           }
          },
          "colorscale": {
           "diverging": [
            [
             0,
             "#8e0152"
            ],
            [
             0.1,
             "#c51b7d"
            ],
            [
             0.2,
             "#de77ae"
            ],
            [
             0.3,
             "#f1b6da"
            ],
            [
             0.4,
             "#fde0ef"
            ],
            [
             0.5,
             "#f7f7f7"
            ],
            [
             0.6,
             "#e6f5d0"
            ],
            [
             0.7,
             "#b8e186"
            ],
            [
             0.8,
             "#7fbc41"
            ],
            [
             0.9,
             "#4d9221"
            ],
            [
             1,
             "#276419"
            ]
           ],
           "sequential": [
            [
             0,
             "#0d0887"
            ],
            [
             0.1111111111111111,
             "#46039f"
            ],
            [
             0.2222222222222222,
             "#7201a8"
            ],
            [
             0.3333333333333333,
             "#9c179e"
            ],
            [
             0.4444444444444444,
             "#bd3786"
            ],
            [
             0.5555555555555556,
             "#d8576b"
            ],
            [
             0.6666666666666666,
             "#ed7953"
            ],
            [
             0.7777777777777778,
             "#fb9f3a"
            ],
            [
             0.8888888888888888,
             "#fdca26"
            ],
            [
             1,
             "#f0f921"
            ]
           ],
           "sequentialminus": [
            [
             0,
             "#0d0887"
            ],
            [
             0.1111111111111111,
             "#46039f"
            ],
            [
             0.2222222222222222,
             "#7201a8"
            ],
            [
             0.3333333333333333,
             "#9c179e"
            ],
            [
             0.4444444444444444,
             "#bd3786"
            ],
            [
             0.5555555555555556,
             "#d8576b"
            ],
            [
             0.6666666666666666,
             "#ed7953"
            ],
            [
             0.7777777777777778,
             "#fb9f3a"
            ],
            [
             0.8888888888888888,
             "#fdca26"
            ],
            [
             1,
             "#f0f921"
            ]
           ]
          },
          "colorway": [
           "#636efa",
           "#EF553B",
           "#00cc96",
           "#ab63fa",
           "#FFA15A",
           "#19d3f3",
           "#FF6692",
           "#B6E880",
           "#FF97FF",
           "#FECB52"
          ],
          "font": {
           "color": "#2a3f5f"
          },
          "geo": {
           "bgcolor": "white",
           "lakecolor": "white",
           "landcolor": "white",
           "showlakes": true,
           "showland": true,
           "subunitcolor": "#C8D4E3"
          },
          "hoverlabel": {
           "align": "left"
          },
          "hovermode": "closest",
          "mapbox": {
           "style": "light"
          },
          "paper_bgcolor": "white",
          "plot_bgcolor": "white",
          "polar": {
           "angularaxis": {
            "gridcolor": "#EBF0F8",
            "linecolor": "#EBF0F8",
            "ticks": ""
           },
           "bgcolor": "white",
           "radialaxis": {
            "gridcolor": "#EBF0F8",
            "linecolor": "#EBF0F8",
            "ticks": ""
           }
          },
          "scene": {
           "xaxis": {
            "backgroundcolor": "white",
            "gridcolor": "#DFE8F3",
            "gridwidth": 2,
            "linecolor": "#EBF0F8",
            "showbackground": true,
            "ticks": "",
            "zerolinecolor": "#EBF0F8"
           },
           "yaxis": {
            "backgroundcolor": "white",
            "gridcolor": "#DFE8F3",
            "gridwidth": 2,
            "linecolor": "#EBF0F8",
            "showbackground": true,
            "ticks": "",
            "zerolinecolor": "#EBF0F8"
           },
           "zaxis": {
            "backgroundcolor": "white",
            "gridcolor": "#DFE8F3",
            "gridwidth": 2,
            "linecolor": "#EBF0F8",
            "showbackground": true,
            "ticks": "",
            "zerolinecolor": "#EBF0F8"
           }
          },
          "shapedefaults": {
           "line": {
            "color": "#2a3f5f"
           }
          },
          "ternary": {
           "aaxis": {
            "gridcolor": "#DFE8F3",
            "linecolor": "#A2B1C6",
            "ticks": ""
           },
           "baxis": {
            "gridcolor": "#DFE8F3",
            "linecolor": "#A2B1C6",
            "ticks": ""
           },
           "bgcolor": "white",
           "caxis": {
            "gridcolor": "#DFE8F3",
            "linecolor": "#A2B1C6",
            "ticks": ""
           }
          },
          "title": {
           "x": 0.05
          },
          "xaxis": {
           "automargin": true,
           "gridcolor": "#EBF0F8",
           "linecolor": "#EBF0F8",
           "ticks": "",
           "title": {
            "standoff": 15
           },
           "zerolinecolor": "#EBF0F8",
           "zerolinewidth": 2
          },
          "yaxis": {
           "automargin": true,
           "gridcolor": "#EBF0F8",
           "linecolor": "#EBF0F8",
           "ticks": "",
           "title": {
            "standoff": 15
           },
           "zerolinecolor": "#EBF0F8",
           "zerolinewidth": 2
          }
         }
        },
        "title": {
         "text": "Performance across Sectors for the m-score using quintiles"
        },
        "width": 1000,
        "xaxis": {
         "anchor": "y",
         "domain": [
          0,
          1
         ],
         "title": {
          "text": "Sectors"
         }
        },
        "yaxis": {
         "anchor": "x",
         "domain": [
          0,
          1
         ],
         "title": {
          "text": "Returns"
         }
        }
       }
      }
     },
     "metadata": {},
     "output_type": "display_data"
    },
    {
     "data": {
      "application/vnd.plotly.v1+json": {
       "config": {
        "plotlyServerURL": "https://chart-studio.plotly.com"
       },
       "data": [
        {
         "hovertemplate": "x=%{x}<br>y=%{y}<extra></extra>",
         "legendgroup": "",
         "marker": {
          "color": "#636efa",
          "pattern": {
           "shape": ""
          }
         },
         "name": "",
         "orientation": "v",
         "showlegend": false,
         "textposition": "auto",
         "type": "bar",
         "x": [
          "2012-01-01T00:00:00.000000000",
          "2013-01-01T00:00:00.000000000",
          "2014-01-01T00:00:00.000000000",
          "2015-01-01T00:00:00.000000000",
          "2016-01-01T00:00:00.000000000",
          "2017-01-01T00:00:00.000000000",
          "2018-01-01T00:00:00.000000000",
          "2019-01-01T00:00:00.000000000",
          "2020-01-01T00:00:00.000000000",
          "2021-01-01T00:00:00.000000000",
          "2022-01-01T00:00:00.000000000",
          "2023-01-01T00:00:00.000000000",
          "2024-01-01T00:00:00.000000000"
         ],
         "xaxis": "x",
         "y": {
          "bdata": "u1j7CPXFAcBQnmpVH6wPwLo4lpn0hApAwRZz7tS2DUCqOONue/YowFxxj+/iHypAdDkUz+wL9D8DeWImaF/6v9k+TofYaTNAJTZYj6AjAUCZyIWFLgYjwBd1a/LsbzFAnGzCyOELGUA=",
          "dtype": "f8"
         },
         "yaxis": "y"
        }
       ],
       "layout": {
        "barmode": "relative",
        "font": {
         "size": 18
        },
        "height": 800,
        "legend": {
         "tracegroupgap": 0
        },
        "margin": {
         "t": 60
        },
        "template": {
         "data": {
          "bar": [
           {
            "error_x": {
             "color": "#2a3f5f"
            },
            "error_y": {
             "color": "#2a3f5f"
            },
            "marker": {
             "line": {
              "color": "white",
              "width": 0.5
             },
             "pattern": {
              "fillmode": "overlay",
              "size": 10,
              "solidity": 0.2
             }
            },
            "type": "bar"
           }
          ],
          "barpolar": [
           {
            "marker": {
             "line": {
              "color": "white",
              "width": 0.5
             },
             "pattern": {
              "fillmode": "overlay",
              "size": 10,
              "solidity": 0.2
             }
            },
            "type": "barpolar"
           }
          ],
          "carpet": [
           {
            "aaxis": {
             "endlinecolor": "#2a3f5f",
             "gridcolor": "#C8D4E3",
             "linecolor": "#C8D4E3",
             "minorgridcolor": "#C8D4E3",
             "startlinecolor": "#2a3f5f"
            },
            "baxis": {
             "endlinecolor": "#2a3f5f",
             "gridcolor": "#C8D4E3",
             "linecolor": "#C8D4E3",
             "minorgridcolor": "#C8D4E3",
             "startlinecolor": "#2a3f5f"
            },
            "type": "carpet"
           }
          ],
          "choropleth": [
           {
            "colorbar": {
             "outlinewidth": 0,
             "ticks": ""
            },
            "type": "choropleth"
           }
          ],
          "contour": [
           {
            "colorbar": {
             "outlinewidth": 0,
             "ticks": ""
            },
            "colorscale": [
             [
              0,
              "#0d0887"
             ],
             [
              0.1111111111111111,
              "#46039f"
             ],
             [
              0.2222222222222222,
              "#7201a8"
             ],
             [
              0.3333333333333333,
              "#9c179e"
             ],
             [
              0.4444444444444444,
              "#bd3786"
             ],
             [
              0.5555555555555556,
              "#d8576b"
             ],
             [
              0.6666666666666666,
              "#ed7953"
             ],
             [
              0.7777777777777778,
              "#fb9f3a"
             ],
             [
              0.8888888888888888,
              "#fdca26"
             ],
             [
              1,
              "#f0f921"
             ]
            ],
            "type": "contour"
           }
          ],
          "contourcarpet": [
           {
            "colorbar": {
             "outlinewidth": 0,
             "ticks": ""
            },
            "type": "contourcarpet"
           }
          ],
          "heatmap": [
           {
            "colorbar": {
             "outlinewidth": 0,
             "ticks": ""
            },
            "colorscale": [
             [
              0,
              "#0d0887"
             ],
             [
              0.1111111111111111,
              "#46039f"
             ],
             [
              0.2222222222222222,
              "#7201a8"
             ],
             [
              0.3333333333333333,
              "#9c179e"
             ],
             [
              0.4444444444444444,
              "#bd3786"
             ],
             [
              0.5555555555555556,
              "#d8576b"
             ],
             [
              0.6666666666666666,
              "#ed7953"
             ],
             [
              0.7777777777777778,
              "#fb9f3a"
             ],
             [
              0.8888888888888888,
              "#fdca26"
             ],
             [
              1,
              "#f0f921"
             ]
            ],
            "type": "heatmap"
           }
          ],
          "histogram": [
           {
            "marker": {
             "pattern": {
              "fillmode": "overlay",
              "size": 10,
              "solidity": 0.2
             }
            },
            "type": "histogram"
           }
          ],
          "histogram2d": [
           {
            "colorbar": {
             "outlinewidth": 0,
             "ticks": ""
            },
            "colorscale": [
             [
              0,
              "#0d0887"
             ],
             [
              0.1111111111111111,
              "#46039f"
             ],
             [
              0.2222222222222222,
              "#7201a8"
             ],
             [
              0.3333333333333333,
              "#9c179e"
             ],
             [
              0.4444444444444444,
              "#bd3786"
             ],
             [
              0.5555555555555556,
              "#d8576b"
             ],
             [
              0.6666666666666666,
              "#ed7953"
             ],
             [
              0.7777777777777778,
              "#fb9f3a"
             ],
             [
              0.8888888888888888,
              "#fdca26"
             ],
             [
              1,
              "#f0f921"
             ]
            ],
            "type": "histogram2d"
           }
          ],
          "histogram2dcontour": [
           {
            "colorbar": {
             "outlinewidth": 0,
             "ticks": ""
            },
            "colorscale": [
             [
              0,
              "#0d0887"
             ],
             [
              0.1111111111111111,
              "#46039f"
             ],
             [
              0.2222222222222222,
              "#7201a8"
             ],
             [
              0.3333333333333333,
              "#9c179e"
             ],
             [
              0.4444444444444444,
              "#bd3786"
             ],
             [
              0.5555555555555556,
              "#d8576b"
             ],
             [
              0.6666666666666666,
              "#ed7953"
             ],
             [
              0.7777777777777778,
              "#fb9f3a"
             ],
             [
              0.8888888888888888,
              "#fdca26"
             ],
             [
              1,
              "#f0f921"
             ]
            ],
            "type": "histogram2dcontour"
           }
          ],
          "mesh3d": [
           {
            "colorbar": {
             "outlinewidth": 0,
             "ticks": ""
            },
            "type": "mesh3d"
           }
          ],
          "parcoords": [
           {
            "line": {
             "colorbar": {
              "outlinewidth": 0,
              "ticks": ""
             }
            },
            "type": "parcoords"
           }
          ],
          "pie": [
           {
            "automargin": true,
            "type": "pie"
           }
          ],
          "scatter": [
           {
            "fillpattern": {
             "fillmode": "overlay",
             "size": 10,
             "solidity": 0.2
            },
            "type": "scatter"
           }
          ],
          "scatter3d": [
           {
            "line": {
             "colorbar": {
              "outlinewidth": 0,
              "ticks": ""
             }
            },
            "marker": {
             "colorbar": {
              "outlinewidth": 0,
              "ticks": ""
             }
            },
            "type": "scatter3d"
           }
          ],
          "scattercarpet": [
           {
            "marker": {
             "colorbar": {
              "outlinewidth": 0,
              "ticks": ""
             }
            },
            "type": "scattercarpet"
           }
          ],
          "scattergeo": [
           {
            "marker": {
             "colorbar": {
              "outlinewidth": 0,
              "ticks": ""
             }
            },
            "type": "scattergeo"
           }
          ],
          "scattergl": [
           {
            "marker": {
             "colorbar": {
              "outlinewidth": 0,
              "ticks": ""
             }
            },
            "type": "scattergl"
           }
          ],
          "scattermap": [
           {
            "marker": {
             "colorbar": {
              "outlinewidth": 0,
              "ticks": ""
             }
            },
            "type": "scattermap"
           }
          ],
          "scattermapbox": [
           {
            "marker": {
             "colorbar": {
              "outlinewidth": 0,
              "ticks": ""
             }
            },
            "type": "scattermapbox"
           }
          ],
          "scatterpolar": [
           {
            "marker": {
             "colorbar": {
              "outlinewidth": 0,
              "ticks": ""
             }
            },
            "type": "scatterpolar"
           }
          ],
          "scatterpolargl": [
           {
            "marker": {
             "colorbar": {
              "outlinewidth": 0,
              "ticks": ""
             }
            },
            "type": "scatterpolargl"
           }
          ],
          "scatterternary": [
           {
            "marker": {
             "colorbar": {
              "outlinewidth": 0,
              "ticks": ""
             }
            },
            "type": "scatterternary"
           }
          ],
          "surface": [
           {
            "colorbar": {
             "outlinewidth": 0,
             "ticks": ""
            },
            "colorscale": [
             [
              0,
              "#0d0887"
             ],
             [
              0.1111111111111111,
              "#46039f"
             ],
             [
              0.2222222222222222,
              "#7201a8"
             ],
             [
              0.3333333333333333,
              "#9c179e"
             ],
             [
              0.4444444444444444,
              "#bd3786"
             ],
             [
              0.5555555555555556,
              "#d8576b"
             ],
             [
              0.6666666666666666,
              "#ed7953"
             ],
             [
              0.7777777777777778,
              "#fb9f3a"
             ],
             [
              0.8888888888888888,
              "#fdca26"
             ],
             [
              1,
              "#f0f921"
             ]
            ],
            "type": "surface"
           }
          ],
          "table": [
           {
            "cells": {
             "fill": {
              "color": "#EBF0F8"
             },
             "line": {
              "color": "white"
             }
            },
            "header": {
             "fill": {
              "color": "#C8D4E3"
             },
             "line": {
              "color": "white"
             }
            },
            "type": "table"
           }
          ]
         },
         "layout": {
          "annotationdefaults": {
           "arrowcolor": "#2a3f5f",
           "arrowhead": 0,
           "arrowwidth": 1
          },
          "autotypenumbers": "strict",
          "coloraxis": {
           "colorbar": {
            "outlinewidth": 0,
            "ticks": ""
           }
          },
          "colorscale": {
           "diverging": [
            [
             0,
             "#8e0152"
            ],
            [
             0.1,
             "#c51b7d"
            ],
            [
             0.2,
             "#de77ae"
            ],
            [
             0.3,
             "#f1b6da"
            ],
            [
             0.4,
             "#fde0ef"
            ],
            [
             0.5,
             "#f7f7f7"
            ],
            [
             0.6,
             "#e6f5d0"
            ],
            [
             0.7,
             "#b8e186"
            ],
            [
             0.8,
             "#7fbc41"
            ],
            [
             0.9,
             "#4d9221"
            ],
            [
             1,
             "#276419"
            ]
           ],
           "sequential": [
            [
             0,
             "#0d0887"
            ],
            [
             0.1111111111111111,
             "#46039f"
            ],
            [
             0.2222222222222222,
             "#7201a8"
            ],
            [
             0.3333333333333333,
             "#9c179e"
            ],
            [
             0.4444444444444444,
             "#bd3786"
            ],
            [
             0.5555555555555556,
             "#d8576b"
            ],
            [
             0.6666666666666666,
             "#ed7953"
            ],
            [
             0.7777777777777778,
             "#fb9f3a"
            ],
            [
             0.8888888888888888,
             "#fdca26"
            ],
            [
             1,
             "#f0f921"
            ]
           ],
           "sequentialminus": [
            [
             0,
             "#0d0887"
            ],
            [
             0.1111111111111111,
             "#46039f"
            ],
            [
             0.2222222222222222,
             "#7201a8"
            ],
            [
             0.3333333333333333,
             "#9c179e"
            ],
            [
             0.4444444444444444,
             "#bd3786"
            ],
            [
             0.5555555555555556,
             "#d8576b"
            ],
            [
             0.6666666666666666,
             "#ed7953"
            ],
            [
             0.7777777777777778,
             "#fb9f3a"
            ],
            [
             0.8888888888888888,
             "#fdca26"
            ],
            [
             1,
             "#f0f921"
            ]
           ]
          },
          "colorway": [
           "#636efa",
           "#EF553B",
           "#00cc96",
           "#ab63fa",
           "#FFA15A",
           "#19d3f3",
           "#FF6692",
           "#B6E880",
           "#FF97FF",
           "#FECB52"
          ],
          "font": {
           "color": "#2a3f5f"
          },
          "geo": {
           "bgcolor": "white",
           "lakecolor": "white",
           "landcolor": "white",
           "showlakes": true,
           "showland": true,
           "subunitcolor": "#C8D4E3"
          },
          "hoverlabel": {
           "align": "left"
          },
          "hovermode": "closest",
          "mapbox": {
           "style": "light"
          },
          "paper_bgcolor": "white",
          "plot_bgcolor": "white",
          "polar": {
           "angularaxis": {
            "gridcolor": "#EBF0F8",
            "linecolor": "#EBF0F8",
            "ticks": ""
           },
           "bgcolor": "white",
           "radialaxis": {
            "gridcolor": "#EBF0F8",
            "linecolor": "#EBF0F8",
            "ticks": ""
           }
          },
          "scene": {
           "xaxis": {
            "backgroundcolor": "white",
            "gridcolor": "#DFE8F3",
            "gridwidth": 2,
            "linecolor": "#EBF0F8",
            "showbackground": true,
            "ticks": "",
            "zerolinecolor": "#EBF0F8"
           },
           "yaxis": {
            "backgroundcolor": "white",
            "gridcolor": "#DFE8F3",
            "gridwidth": 2,
            "linecolor": "#EBF0F8",
            "showbackground": true,
            "ticks": "",
            "zerolinecolor": "#EBF0F8"
           },
           "zaxis": {
            "backgroundcolor": "white",
            "gridcolor": "#DFE8F3",
            "gridwidth": 2,
            "linecolor": "#EBF0F8",
            "showbackground": true,
            "ticks": "",
            "zerolinecolor": "#EBF0F8"
           }
          },
          "shapedefaults": {
           "line": {
            "color": "#2a3f5f"
           }
          },
          "ternary": {
           "aaxis": {
            "gridcolor": "#DFE8F3",
            "linecolor": "#A2B1C6",
            "ticks": ""
           },
           "baxis": {
            "gridcolor": "#DFE8F3",
            "linecolor": "#A2B1C6",
            "ticks": ""
           },
           "bgcolor": "white",
           "caxis": {
            "gridcolor": "#DFE8F3",
            "linecolor": "#A2B1C6",
            "ticks": ""
           }
          },
          "title": {
           "x": 0.05
          },
          "xaxis": {
           "automargin": true,
           "gridcolor": "#EBF0F8",
           "linecolor": "#EBF0F8",
           "ticks": "",
           "title": {
            "standoff": 15
           },
           "zerolinecolor": "#EBF0F8",
           "zerolinewidth": 2
          },
          "yaxis": {
           "automargin": true,
           "gridcolor": "#EBF0F8",
           "linecolor": "#EBF0F8",
           "ticks": "",
           "title": {
            "standoff": 15
           },
           "zerolinecolor": "#EBF0F8",
           "zerolinewidth": 2
          }
         }
        },
        "title": {
         "text": "Performance across Dates for the z-score using quintiles"
        },
        "width": 1000,
        "xaxis": {
         "anchor": "y",
         "domain": [
          0,
          1
         ],
         "title": {
          "text": "Dates"
         }
        },
        "yaxis": {
         "anchor": "x",
         "domain": [
          0,
          1
         ],
         "title": {
          "text": "Returns"
         }
        }
       }
      }
     },
     "metadata": {},
     "output_type": "display_data"
    },
    {
     "data": {
      "application/vnd.plotly.v1+json": {
       "config": {
        "plotlyServerURL": "https://chart-studio.plotly.com"
       },
       "data": [
        {
         "hovertemplate": "x=%{x}<br>y=%{y}<extra></extra>",
         "legendgroup": "",
         "marker": {
          "color": "#636efa",
          "pattern": {
           "shape": ""
          }
         },
         "name": "",
         "orientation": "v",
         "showlegend": false,
         "textposition": "auto",
         "type": "bar",
         "x": [
          "Industrials",
          "Health Care",
          "Consumer Discretionary",
          "Information Technology",
          "Utilities",
          "Materials",
          "Consumer Staples",
          "Real Estate",
          "Financials",
          "Energy",
          "Communication Services"
         ],
         "xaxis": "x",
         "y": {
          "bdata": "ni2tyGFrqr/lITetoxsOQEL0jw962fy/T6zpSRONCkBFbxYyasnzvxX8ohZrPAdA3Gt/5F3y/T/PMKZkGajjv8/e5I/WfB9A1gt0Ruw14T/Z+bpLqRwtQA==",
          "dtype": "f8"
         },
         "yaxis": "y"
        }
       ],
       "layout": {
        "barmode": "relative",
        "font": {
         "size": 18
        },
        "height": 800,
        "legend": {
         "tracegroupgap": 0
        },
        "margin": {
         "t": 60
        },
        "template": {
         "data": {
          "bar": [
           {
            "error_x": {
             "color": "#2a3f5f"
            },
            "error_y": {
             "color": "#2a3f5f"
            },
            "marker": {
             "line": {
              "color": "white",
              "width": 0.5
             },
             "pattern": {
              "fillmode": "overlay",
              "size": 10,
              "solidity": 0.2
             }
            },
            "type": "bar"
           }
          ],
          "barpolar": [
           {
            "marker": {
             "line": {
              "color": "white",
              "width": 0.5
             },
             "pattern": {
              "fillmode": "overlay",
              "size": 10,
              "solidity": 0.2
             }
            },
            "type": "barpolar"
           }
          ],
          "carpet": [
           {
            "aaxis": {
             "endlinecolor": "#2a3f5f",
             "gridcolor": "#C8D4E3",
             "linecolor": "#C8D4E3",
             "minorgridcolor": "#C8D4E3",
             "startlinecolor": "#2a3f5f"
            },
            "baxis": {
             "endlinecolor": "#2a3f5f",
             "gridcolor": "#C8D4E3",
             "linecolor": "#C8D4E3",
             "minorgridcolor": "#C8D4E3",
             "startlinecolor": "#2a3f5f"
            },
            "type": "carpet"
           }
          ],
          "choropleth": [
           {
            "colorbar": {
             "outlinewidth": 0,
             "ticks": ""
            },
            "type": "choropleth"
           }
          ],
          "contour": [
           {
            "colorbar": {
             "outlinewidth": 0,
             "ticks": ""
            },
            "colorscale": [
             [
              0,
              "#0d0887"
             ],
             [
              0.1111111111111111,
              "#46039f"
             ],
             [
              0.2222222222222222,
              "#7201a8"
             ],
             [
              0.3333333333333333,
              "#9c179e"
             ],
             [
              0.4444444444444444,
              "#bd3786"
             ],
             [
              0.5555555555555556,
              "#d8576b"
             ],
             [
              0.6666666666666666,
              "#ed7953"
             ],
             [
              0.7777777777777778,
              "#fb9f3a"
             ],
             [
              0.8888888888888888,
              "#fdca26"
             ],
             [
              1,
              "#f0f921"
             ]
            ],
            "type": "contour"
           }
          ],
          "contourcarpet": [
           {
            "colorbar": {
             "outlinewidth": 0,
             "ticks": ""
            },
            "type": "contourcarpet"
           }
          ],
          "heatmap": [
           {
            "colorbar": {
             "outlinewidth": 0,
             "ticks": ""
            },
            "colorscale": [
             [
              0,
              "#0d0887"
             ],
             [
              0.1111111111111111,
              "#46039f"
             ],
             [
              0.2222222222222222,
              "#7201a8"
             ],
             [
              0.3333333333333333,
              "#9c179e"
             ],
             [
              0.4444444444444444,
              "#bd3786"
             ],
             [
              0.5555555555555556,
              "#d8576b"
             ],
             [
              0.6666666666666666,
              "#ed7953"
             ],
             [
              0.7777777777777778,
              "#fb9f3a"
             ],
             [
              0.8888888888888888,
              "#fdca26"
             ],
             [
              1,
              "#f0f921"
             ]
            ],
            "type": "heatmap"
           }
          ],
          "histogram": [
           {
            "marker": {
             "pattern": {
              "fillmode": "overlay",
              "size": 10,
              "solidity": 0.2
             }
            },
            "type": "histogram"
           }
          ],
          "histogram2d": [
           {
            "colorbar": {
             "outlinewidth": 0,
             "ticks": ""
            },
            "colorscale": [
             [
              0,
              "#0d0887"
             ],
             [
              0.1111111111111111,
              "#46039f"
             ],
             [
              0.2222222222222222,
              "#7201a8"
             ],
             [
              0.3333333333333333,
              "#9c179e"
             ],
             [
              0.4444444444444444,
              "#bd3786"
             ],
             [
              0.5555555555555556,
              "#d8576b"
             ],
             [
              0.6666666666666666,
              "#ed7953"
             ],
             [
              0.7777777777777778,
              "#fb9f3a"
             ],
             [
              0.8888888888888888,
              "#fdca26"
             ],
             [
              1,
              "#f0f921"
             ]
            ],
            "type": "histogram2d"
           }
          ],
          "histogram2dcontour": [
           {
            "colorbar": {
             "outlinewidth": 0,
             "ticks": ""
            },
            "colorscale": [
             [
              0,
              "#0d0887"
             ],
             [
              0.1111111111111111,
              "#46039f"
             ],
             [
              0.2222222222222222,
              "#7201a8"
             ],
             [
              0.3333333333333333,
              "#9c179e"
             ],
             [
              0.4444444444444444,
              "#bd3786"
             ],
             [
              0.5555555555555556,
              "#d8576b"
             ],
             [
              0.6666666666666666,
              "#ed7953"
             ],
             [
              0.7777777777777778,
              "#fb9f3a"
             ],
             [
              0.8888888888888888,
              "#fdca26"
             ],
             [
              1,
              "#f0f921"
             ]
            ],
            "type": "histogram2dcontour"
           }
          ],
          "mesh3d": [
           {
            "colorbar": {
             "outlinewidth": 0,
             "ticks": ""
            },
            "type": "mesh3d"
           }
          ],
          "parcoords": [
           {
            "line": {
             "colorbar": {
              "outlinewidth": 0,
              "ticks": ""
             }
            },
            "type": "parcoords"
           }
          ],
          "pie": [
           {
            "automargin": true,
            "type": "pie"
           }
          ],
          "scatter": [
           {
            "fillpattern": {
             "fillmode": "overlay",
             "size": 10,
             "solidity": 0.2
            },
            "type": "scatter"
           }
          ],
          "scatter3d": [
           {
            "line": {
             "colorbar": {
              "outlinewidth": 0,
              "ticks": ""
             }
            },
            "marker": {
             "colorbar": {
              "outlinewidth": 0,
              "ticks": ""
             }
            },
            "type": "scatter3d"
           }
          ],
          "scattercarpet": [
           {
            "marker": {
             "colorbar": {
              "outlinewidth": 0,
              "ticks": ""
             }
            },
            "type": "scattercarpet"
           }
          ],
          "scattergeo": [
           {
            "marker": {
             "colorbar": {
              "outlinewidth": 0,
              "ticks": ""
             }
            },
            "type": "scattergeo"
           }
          ],
          "scattergl": [
           {
            "marker": {
             "colorbar": {
              "outlinewidth": 0,
              "ticks": ""
             }
            },
            "type": "scattergl"
           }
          ],
          "scattermap": [
           {
            "marker": {
             "colorbar": {
              "outlinewidth": 0,
              "ticks": ""
             }
            },
            "type": "scattermap"
           }
          ],
          "scattermapbox": [
           {
            "marker": {
             "colorbar": {
              "outlinewidth": 0,
              "ticks": ""
             }
            },
            "type": "scattermapbox"
           }
          ],
          "scatterpolar": [
           {
            "marker": {
             "colorbar": {
              "outlinewidth": 0,
              "ticks": ""
             }
            },
            "type": "scatterpolar"
           }
          ],
          "scatterpolargl": [
           {
            "marker": {
             "colorbar": {
              "outlinewidth": 0,
              "ticks": ""
             }
            },
            "type": "scatterpolargl"
           }
          ],
          "scatterternary": [
           {
            "marker": {
             "colorbar": {
              "outlinewidth": 0,
              "ticks": ""
             }
            },
            "type": "scatterternary"
           }
          ],
          "surface": [
           {
            "colorbar": {
             "outlinewidth": 0,
             "ticks": ""
            },
            "colorscale": [
             [
              0,
              "#0d0887"
             ],
             [
              0.1111111111111111,
              "#46039f"
             ],
             [
              0.2222222222222222,
              "#7201a8"
             ],
             [
              0.3333333333333333,
              "#9c179e"
             ],
             [
              0.4444444444444444,
              "#bd3786"
             ],
             [
              0.5555555555555556,
              "#d8576b"
             ],
             [
              0.6666666666666666,
              "#ed7953"
             ],
             [
              0.7777777777777778,
              "#fb9f3a"
             ],
             [
              0.8888888888888888,
              "#fdca26"
             ],
             [
              1,
              "#f0f921"
             ]
            ],
            "type": "surface"
           }
          ],
          "table": [
           {
            "cells": {
             "fill": {
              "color": "#EBF0F8"
             },
             "line": {
              "color": "white"
             }
            },
            "header": {
             "fill": {
              "color": "#C8D4E3"
             },
             "line": {
              "color": "white"
             }
            },
            "type": "table"
           }
          ]
         },
         "layout": {
          "annotationdefaults": {
           "arrowcolor": "#2a3f5f",
           "arrowhead": 0,
           "arrowwidth": 1
          },
          "autotypenumbers": "strict",
          "coloraxis": {
           "colorbar": {
            "outlinewidth": 0,
            "ticks": ""
           }
          },
          "colorscale": {
           "diverging": [
            [
             0,
             "#8e0152"
            ],
            [
             0.1,
             "#c51b7d"
            ],
            [
             0.2,
             "#de77ae"
            ],
            [
             0.3,
             "#f1b6da"
            ],
            [
             0.4,
             "#fde0ef"
            ],
            [
             0.5,
             "#f7f7f7"
            ],
            [
             0.6,
             "#e6f5d0"
            ],
            [
             0.7,
             "#b8e186"
            ],
            [
             0.8,
             "#7fbc41"
            ],
            [
             0.9,
             "#4d9221"
            ],
            [
             1,
             "#276419"
            ]
           ],
           "sequential": [
            [
             0,
             "#0d0887"
            ],
            [
             0.1111111111111111,
             "#46039f"
            ],
            [
             0.2222222222222222,
             "#7201a8"
            ],
            [
             0.3333333333333333,
             "#9c179e"
            ],
            [
             0.4444444444444444,
             "#bd3786"
            ],
            [
             0.5555555555555556,
             "#d8576b"
            ],
            [
             0.6666666666666666,
             "#ed7953"
            ],
            [
             0.7777777777777778,
             "#fb9f3a"
            ],
            [
             0.8888888888888888,
             "#fdca26"
            ],
            [
             1,
             "#f0f921"
            ]
           ],
           "sequentialminus": [
            [
             0,
             "#0d0887"
            ],
            [
             0.1111111111111111,
             "#46039f"
            ],
            [
             0.2222222222222222,
             "#7201a8"
            ],
            [
             0.3333333333333333,
             "#9c179e"
            ],
            [
             0.4444444444444444,
             "#bd3786"
            ],
            [
             0.5555555555555556,
             "#d8576b"
            ],
            [
             0.6666666666666666,
             "#ed7953"
            ],
            [
             0.7777777777777778,
             "#fb9f3a"
            ],
            [
             0.8888888888888888,
             "#fdca26"
            ],
            [
             1,
             "#f0f921"
            ]
           ]
          },
          "colorway": [
           "#636efa",
           "#EF553B",
           "#00cc96",
           "#ab63fa",
           "#FFA15A",
           "#19d3f3",
           "#FF6692",
           "#B6E880",
           "#FF97FF",
           "#FECB52"
          ],
          "font": {
           "color": "#2a3f5f"
          },
          "geo": {
           "bgcolor": "white",
           "lakecolor": "white",
           "landcolor": "white",
           "showlakes": true,
           "showland": true,
           "subunitcolor": "#C8D4E3"
          },
          "hoverlabel": {
           "align": "left"
          },
          "hovermode": "closest",
          "mapbox": {
           "style": "light"
          },
          "paper_bgcolor": "white",
          "plot_bgcolor": "white",
          "polar": {
           "angularaxis": {
            "gridcolor": "#EBF0F8",
            "linecolor": "#EBF0F8",
            "ticks": ""
           },
           "bgcolor": "white",
           "radialaxis": {
            "gridcolor": "#EBF0F8",
            "linecolor": "#EBF0F8",
            "ticks": ""
           }
          },
          "scene": {
           "xaxis": {
            "backgroundcolor": "white",
            "gridcolor": "#DFE8F3",
            "gridwidth": 2,
            "linecolor": "#EBF0F8",
            "showbackground": true,
            "ticks": "",
            "zerolinecolor": "#EBF0F8"
           },
           "yaxis": {
            "backgroundcolor": "white",
            "gridcolor": "#DFE8F3",
            "gridwidth": 2,
            "linecolor": "#EBF0F8",
            "showbackground": true,
            "ticks": "",
            "zerolinecolor": "#EBF0F8"
           },
           "zaxis": {
            "backgroundcolor": "white",
            "gridcolor": "#DFE8F3",
            "gridwidth": 2,
            "linecolor": "#EBF0F8",
            "showbackground": true,
            "ticks": "",
            "zerolinecolor": "#EBF0F8"
           }
          },
          "shapedefaults": {
           "line": {
            "color": "#2a3f5f"
           }
          },
          "ternary": {
           "aaxis": {
            "gridcolor": "#DFE8F3",
            "linecolor": "#A2B1C6",
            "ticks": ""
           },
           "baxis": {
            "gridcolor": "#DFE8F3",
            "linecolor": "#A2B1C6",
            "ticks": ""
           },
           "bgcolor": "white",
           "caxis": {
            "gridcolor": "#DFE8F3",
            "linecolor": "#A2B1C6",
            "ticks": ""
           }
          },
          "title": {
           "x": 0.05
          },
          "xaxis": {
           "automargin": true,
           "gridcolor": "#EBF0F8",
           "linecolor": "#EBF0F8",
           "ticks": "",
           "title": {
            "standoff": 15
           },
           "zerolinecolor": "#EBF0F8",
           "zerolinewidth": 2
          },
          "yaxis": {
           "automargin": true,
           "gridcolor": "#EBF0F8",
           "linecolor": "#EBF0F8",
           "ticks": "",
           "title": {
            "standoff": 15
           },
           "zerolinecolor": "#EBF0F8",
           "zerolinewidth": 2
          }
         }
        },
        "title": {
         "text": "Performance across Sectors for the z-score using quintiles"
        },
        "width": 1000,
        "xaxis": {
         "anchor": "y",
         "domain": [
          0,
          1
         ],
         "title": {
          "text": "Sectors"
         }
        },
        "yaxis": {
         "anchor": "x",
         "domain": [
          0,
          1
         ],
         "title": {
          "text": "Returns"
         }
        }
       }
      }
     },
     "metadata": {},
     "output_type": "display_data"
    },
    {
     "data": {
      "application/vnd.plotly.v1+json": {
       "config": {
        "plotlyServerURL": "https://chart-studio.plotly.com"
       },
       "data": [
        {
         "hovertemplate": "x=%{x}<br>y=%{y}<extra></extra>",
         "legendgroup": "",
         "marker": {
          "color": "#636efa",
          "pattern": {
           "shape": ""
          }
         },
         "name": "",
         "orientation": "v",
         "showlegend": false,
         "textposition": "auto",
         "type": "bar",
         "x": [
          "2012-01-01T00:00:00.000000000",
          "2013-01-01T00:00:00.000000000",
          "2014-01-01T00:00:00.000000000",
          "2015-01-01T00:00:00.000000000",
          "2016-01-01T00:00:00.000000000",
          "2017-01-01T00:00:00.000000000",
          "2018-01-01T00:00:00.000000000",
          "2019-01-01T00:00:00.000000000",
          "2020-01-01T00:00:00.000000000",
          "2021-01-01T00:00:00.000000000",
          "2022-01-01T00:00:00.000000000",
          "2023-01-01T00:00:00.000000000",
          "2024-01-01T00:00:00.000000000"
         ],
         "xaxis": "x",
         "y": {
          "bdata": "6YyXxN19rT+XEIMc78gRwGCnIA3N5SBAdkpqFXy+/j9o6D3zS8wxwDKN0JtxuTBAWJyTrpggCEDMDtWu+VMkQJWwwYFyNCNAlZGFI2lUAUAa3EgsyzIrwNRShlwcxB9AKCYGDUZwGUA=",
          "dtype": "f8"
         },
         "yaxis": "y"
        }
       ],
       "layout": {
        "barmode": "relative",
        "font": {
         "size": 18
        },
        "height": 800,
        "legend": {
         "tracegroupgap": 0
        },
        "margin": {
         "t": 60
        },
        "template": {
         "data": {
          "bar": [
           {
            "error_x": {
             "color": "#2a3f5f"
            },
            "error_y": {
             "color": "#2a3f5f"
            },
            "marker": {
             "line": {
              "color": "white",
              "width": 0.5
             },
             "pattern": {
              "fillmode": "overlay",
              "size": 10,
              "solidity": 0.2
             }
            },
            "type": "bar"
           }
          ],
          "barpolar": [
           {
            "marker": {
             "line": {
              "color": "white",
              "width": 0.5
             },
             "pattern": {
              "fillmode": "overlay",
              "size": 10,
              "solidity": 0.2
             }
            },
            "type": "barpolar"
           }
          ],
          "carpet": [
           {
            "aaxis": {
             "endlinecolor": "#2a3f5f",
             "gridcolor": "#C8D4E3",
             "linecolor": "#C8D4E3",
             "minorgridcolor": "#C8D4E3",
             "startlinecolor": "#2a3f5f"
            },
            "baxis": {
             "endlinecolor": "#2a3f5f",
             "gridcolor": "#C8D4E3",
             "linecolor": "#C8D4E3",
             "minorgridcolor": "#C8D4E3",
             "startlinecolor": "#2a3f5f"
            },
            "type": "carpet"
           }
          ],
          "choropleth": [
           {
            "colorbar": {
             "outlinewidth": 0,
             "ticks": ""
            },
            "type": "choropleth"
           }
          ],
          "contour": [
           {
            "colorbar": {
             "outlinewidth": 0,
             "ticks": ""
            },
            "colorscale": [
             [
              0,
              "#0d0887"
             ],
             [
              0.1111111111111111,
              "#46039f"
             ],
             [
              0.2222222222222222,
              "#7201a8"
             ],
             [
              0.3333333333333333,
              "#9c179e"
             ],
             [
              0.4444444444444444,
              "#bd3786"
             ],
             [
              0.5555555555555556,
              "#d8576b"
             ],
             [
              0.6666666666666666,
              "#ed7953"
             ],
             [
              0.7777777777777778,
              "#fb9f3a"
             ],
             [
              0.8888888888888888,
              "#fdca26"
             ],
             [
              1,
              "#f0f921"
             ]
            ],
            "type": "contour"
           }
          ],
          "contourcarpet": [
           {
            "colorbar": {
             "outlinewidth": 0,
             "ticks": ""
            },
            "type": "contourcarpet"
           }
          ],
          "heatmap": [
           {
            "colorbar": {
             "outlinewidth": 0,
             "ticks": ""
            },
            "colorscale": [
             [
              0,
              "#0d0887"
             ],
             [
              0.1111111111111111,
              "#46039f"
             ],
             [
              0.2222222222222222,
              "#7201a8"
             ],
             [
              0.3333333333333333,
              "#9c179e"
             ],
             [
              0.4444444444444444,
              "#bd3786"
             ],
             [
              0.5555555555555556,
              "#d8576b"
             ],
             [
              0.6666666666666666,
              "#ed7953"
             ],
             [
              0.7777777777777778,
              "#fb9f3a"
             ],
             [
              0.8888888888888888,
              "#fdca26"
             ],
             [
              1,
              "#f0f921"
             ]
            ],
            "type": "heatmap"
           }
          ],
          "histogram": [
           {
            "marker": {
             "pattern": {
              "fillmode": "overlay",
              "size": 10,
              "solidity": 0.2
             }
            },
            "type": "histogram"
           }
          ],
          "histogram2d": [
           {
            "colorbar": {
             "outlinewidth": 0,
             "ticks": ""
            },
            "colorscale": [
             [
              0,
              "#0d0887"
             ],
             [
              0.1111111111111111,
              "#46039f"
             ],
             [
              0.2222222222222222,
              "#7201a8"
             ],
             [
              0.3333333333333333,
              "#9c179e"
             ],
             [
              0.4444444444444444,
              "#bd3786"
             ],
             [
              0.5555555555555556,
              "#d8576b"
             ],
             [
              0.6666666666666666,
              "#ed7953"
             ],
             [
              0.7777777777777778,
              "#fb9f3a"
             ],
             [
              0.8888888888888888,
              "#fdca26"
             ],
             [
              1,
              "#f0f921"
             ]
            ],
            "type": "histogram2d"
           }
          ],
          "histogram2dcontour": [
           {
            "colorbar": {
             "outlinewidth": 0,
             "ticks": ""
            },
            "colorscale": [
             [
              0,
              "#0d0887"
             ],
             [
              0.1111111111111111,
              "#46039f"
             ],
             [
              0.2222222222222222,
              "#7201a8"
             ],
             [
              0.3333333333333333,
              "#9c179e"
             ],
             [
              0.4444444444444444,
              "#bd3786"
             ],
             [
              0.5555555555555556,
              "#d8576b"
             ],
             [
              0.6666666666666666,
              "#ed7953"
             ],
             [
              0.7777777777777778,
              "#fb9f3a"
             ],
             [
              0.8888888888888888,
              "#fdca26"
             ],
             [
              1,
              "#f0f921"
             ]
            ],
            "type": "histogram2dcontour"
           }
          ],
          "mesh3d": [
           {
            "colorbar": {
             "outlinewidth": 0,
             "ticks": ""
            },
            "type": "mesh3d"
           }
          ],
          "parcoords": [
           {
            "line": {
             "colorbar": {
              "outlinewidth": 0,
              "ticks": ""
             }
            },
            "type": "parcoords"
           }
          ],
          "pie": [
           {
            "automargin": true,
            "type": "pie"
           }
          ],
          "scatter": [
           {
            "fillpattern": {
             "fillmode": "overlay",
             "size": 10,
             "solidity": 0.2
            },
            "type": "scatter"
           }
          ],
          "scatter3d": [
           {
            "line": {
             "colorbar": {
              "outlinewidth": 0,
              "ticks": ""
             }
            },
            "marker": {
             "colorbar": {
              "outlinewidth": 0,
              "ticks": ""
             }
            },
            "type": "scatter3d"
           }
          ],
          "scattercarpet": [
           {
            "marker": {
             "colorbar": {
              "outlinewidth": 0,
              "ticks": ""
             }
            },
            "type": "scattercarpet"
           }
          ],
          "scattergeo": [
           {
            "marker": {
             "colorbar": {
              "outlinewidth": 0,
              "ticks": ""
             }
            },
            "type": "scattergeo"
           }
          ],
          "scattergl": [
           {
            "marker": {
             "colorbar": {
              "outlinewidth": 0,
              "ticks": ""
             }
            },
            "type": "scattergl"
           }
          ],
          "scattermap": [
           {
            "marker": {
             "colorbar": {
              "outlinewidth": 0,
              "ticks": ""
             }
            },
            "type": "scattermap"
           }
          ],
          "scattermapbox": [
           {
            "marker": {
             "colorbar": {
              "outlinewidth": 0,
              "ticks": ""
             }
            },
            "type": "scattermapbox"
           }
          ],
          "scatterpolar": [
           {
            "marker": {
             "colorbar": {
              "outlinewidth": 0,
              "ticks": ""
             }
            },
            "type": "scatterpolar"
           }
          ],
          "scatterpolargl": [
           {
            "marker": {
             "colorbar": {
              "outlinewidth": 0,
              "ticks": ""
             }
            },
            "type": "scatterpolargl"
           }
          ],
          "scatterternary": [
           {
            "marker": {
             "colorbar": {
              "outlinewidth": 0,
              "ticks": ""
             }
            },
            "type": "scatterternary"
           }
          ],
          "surface": [
           {
            "colorbar": {
             "outlinewidth": 0,
             "ticks": ""
            },
            "colorscale": [
             [
              0,
              "#0d0887"
             ],
             [
              0.1111111111111111,
              "#46039f"
             ],
             [
              0.2222222222222222,
              "#7201a8"
             ],
             [
              0.3333333333333333,
              "#9c179e"
             ],
             [
              0.4444444444444444,
              "#bd3786"
             ],
             [
              0.5555555555555556,
              "#d8576b"
             ],
             [
              0.6666666666666666,
              "#ed7953"
             ],
             [
              0.7777777777777778,
              "#fb9f3a"
             ],
             [
              0.8888888888888888,
              "#fdca26"
             ],
             [
              1,
              "#f0f921"
             ]
            ],
            "type": "surface"
           }
          ],
          "table": [
           {
            "cells": {
             "fill": {
              "color": "#EBF0F8"
             },
             "line": {
              "color": "white"
             }
            },
            "header": {
             "fill": {
              "color": "#C8D4E3"
             },
             "line": {
              "color": "white"
             }
            },
            "type": "table"
           }
          ]
         },
         "layout": {
          "annotationdefaults": {
           "arrowcolor": "#2a3f5f",
           "arrowhead": 0,
           "arrowwidth": 1
          },
          "autotypenumbers": "strict",
          "coloraxis": {
           "colorbar": {
            "outlinewidth": 0,
            "ticks": ""
           }
          },
          "colorscale": {
           "diverging": [
            [
             0,
             "#8e0152"
            ],
            [
             0.1,
             "#c51b7d"
            ],
            [
             0.2,
             "#de77ae"
            ],
            [
             0.3,
             "#f1b6da"
            ],
            [
             0.4,
             "#fde0ef"
            ],
            [
             0.5,
             "#f7f7f7"
            ],
            [
             0.6,
             "#e6f5d0"
            ],
            [
             0.7,
             "#b8e186"
            ],
            [
             0.8,
             "#7fbc41"
            ],
            [
             0.9,
             "#4d9221"
            ],
            [
             1,
             "#276419"
            ]
           ],
           "sequential": [
            [
             0,
             "#0d0887"
            ],
            [
             0.1111111111111111,
             "#46039f"
            ],
            [
             0.2222222222222222,
             "#7201a8"
            ],
            [
             0.3333333333333333,
             "#9c179e"
            ],
            [
             0.4444444444444444,
             "#bd3786"
            ],
            [
             0.5555555555555556,
             "#d8576b"
            ],
            [
             0.6666666666666666,
             "#ed7953"
            ],
            [
             0.7777777777777778,
             "#fb9f3a"
            ],
            [
             0.8888888888888888,
             "#fdca26"
            ],
            [
             1,
             "#f0f921"
            ]
           ],
           "sequentialminus": [
            [
             0,
             "#0d0887"
            ],
            [
             0.1111111111111111,
             "#46039f"
            ],
            [
             0.2222222222222222,
             "#7201a8"
            ],
            [
             0.3333333333333333,
             "#9c179e"
            ],
            [
             0.4444444444444444,
             "#bd3786"
            ],
            [
             0.5555555555555556,
             "#d8576b"
            ],
            [
             0.6666666666666666,
             "#ed7953"
            ],
            [
             0.7777777777777778,
             "#fb9f3a"
            ],
            [
             0.8888888888888888,
             "#fdca26"
            ],
            [
             1,
             "#f0f921"
            ]
           ]
          },
          "colorway": [
           "#636efa",
           "#EF553B",
           "#00cc96",
           "#ab63fa",
           "#FFA15A",
           "#19d3f3",
           "#FF6692",
           "#B6E880",
           "#FF97FF",
           "#FECB52"
          ],
          "font": {
           "color": "#2a3f5f"
          },
          "geo": {
           "bgcolor": "white",
           "lakecolor": "white",
           "landcolor": "white",
           "showlakes": true,
           "showland": true,
           "subunitcolor": "#C8D4E3"
          },
          "hoverlabel": {
           "align": "left"
          },
          "hovermode": "closest",
          "mapbox": {
           "style": "light"
          },
          "paper_bgcolor": "white",
          "plot_bgcolor": "white",
          "polar": {
           "angularaxis": {
            "gridcolor": "#EBF0F8",
            "linecolor": "#EBF0F8",
            "ticks": ""
           },
           "bgcolor": "white",
           "radialaxis": {
            "gridcolor": "#EBF0F8",
            "linecolor": "#EBF0F8",
            "ticks": ""
           }
          },
          "scene": {
           "xaxis": {
            "backgroundcolor": "white",
            "gridcolor": "#DFE8F3",
            "gridwidth": 2,
            "linecolor": "#EBF0F8",
            "showbackground": true,
            "ticks": "",
            "zerolinecolor": "#EBF0F8"
           },
           "yaxis": {
            "backgroundcolor": "white",
            "gridcolor": "#DFE8F3",
            "gridwidth": 2,
            "linecolor": "#EBF0F8",
            "showbackground": true,
            "ticks": "",
            "zerolinecolor": "#EBF0F8"
           },
           "zaxis": {
            "backgroundcolor": "white",
            "gridcolor": "#DFE8F3",
            "gridwidth": 2,
            "linecolor": "#EBF0F8",
            "showbackground": true,
            "ticks": "",
            "zerolinecolor": "#EBF0F8"
           }
          },
          "shapedefaults": {
           "line": {
            "color": "#2a3f5f"
           }
          },
          "ternary": {
           "aaxis": {
            "gridcolor": "#DFE8F3",
            "linecolor": "#A2B1C6",
            "ticks": ""
           },
           "baxis": {
            "gridcolor": "#DFE8F3",
            "linecolor": "#A2B1C6",
            "ticks": ""
           },
           "bgcolor": "white",
           "caxis": {
            "gridcolor": "#DFE8F3",
            "linecolor": "#A2B1C6",
            "ticks": ""
           }
          },
          "title": {
           "x": 0.05
          },
          "xaxis": {
           "automargin": true,
           "gridcolor": "#EBF0F8",
           "linecolor": "#EBF0F8",
           "ticks": "",
           "title": {
            "standoff": 15
           },
           "zerolinecolor": "#EBF0F8",
           "zerolinewidth": 2
          },
          "yaxis": {
           "automargin": true,
           "gridcolor": "#EBF0F8",
           "linecolor": "#EBF0F8",
           "ticks": "",
           "title": {
            "standoff": 15
           },
           "zerolinecolor": "#EBF0F8",
           "zerolinewidth": 2
          }
         }
        },
        "title": {
         "text": "Performance across Dates for the combined filter using quintiles"
        },
        "width": 1000,
        "xaxis": {
         "anchor": "y",
         "domain": [
          0,
          1
         ],
         "title": {
          "text": "Dates"
         }
        },
        "yaxis": {
         "anchor": "x",
         "domain": [
          0,
          1
         ],
         "title": {
          "text": "Returns"
         }
        }
       }
      }
     },
     "metadata": {},
     "output_type": "display_data"
    },
    {
     "data": {
      "application/vnd.plotly.v1+json": {
       "config": {
        "plotlyServerURL": "https://chart-studio.plotly.com"
       },
       "data": [
        {
         "hovertemplate": "x=%{x}<br>y=%{y}<extra></extra>",
         "legendgroup": "",
         "marker": {
          "color": "#636efa",
          "pattern": {
           "shape": ""
          }
         },
         "name": "",
         "orientation": "v",
         "showlegend": false,
         "textposition": "auto",
         "type": "bar",
         "x": [
          "Industrials",
          "Health Care",
          "Consumer Discretionary",
          "Information Technology",
          "Utilities",
          "Materials",
          "Consumer Staples",
          "Real Estate",
          "Financials",
          "Energy",
          "Communication Services"
         ],
         "xaxis": "x",
         "y": {
          "bdata": "RAVz0i0y5D9SWUUPITAhQCl22u72N+C/aI8kJGP1DEC0IRF04k4TwCIzgqZj88m/ZEhzJtdFCUBymw8ddQALwLPmjBSn8xxAe+f9TkdEAcAnHLmFbvEpQA==",
          "dtype": "f8"
         },
         "yaxis": "y"
        }
       ],
       "layout": {
        "barmode": "relative",
        "font": {
         "size": 18
        },
        "height": 800,
        "legend": {
         "tracegroupgap": 0
        },
        "margin": {
         "t": 60
        },
        "template": {
         "data": {
          "bar": [
           {
            "error_x": {
             "color": "#2a3f5f"
            },
            "error_y": {
             "color": "#2a3f5f"
            },
            "marker": {
             "line": {
              "color": "white",
              "width": 0.5
             },
             "pattern": {
              "fillmode": "overlay",
              "size": 10,
              "solidity": 0.2
             }
            },
            "type": "bar"
           }
          ],
          "barpolar": [
           {
            "marker": {
             "line": {
              "color": "white",
              "width": 0.5
             },
             "pattern": {
              "fillmode": "overlay",
              "size": 10,
              "solidity": 0.2
             }
            },
            "type": "barpolar"
           }
          ],
          "carpet": [
           {
            "aaxis": {
             "endlinecolor": "#2a3f5f",
             "gridcolor": "#C8D4E3",
             "linecolor": "#C8D4E3",
             "minorgridcolor": "#C8D4E3",
             "startlinecolor": "#2a3f5f"
            },
            "baxis": {
             "endlinecolor": "#2a3f5f",
             "gridcolor": "#C8D4E3",
             "linecolor": "#C8D4E3",
             "minorgridcolor": "#C8D4E3",
             "startlinecolor": "#2a3f5f"
            },
            "type": "carpet"
           }
          ],
          "choropleth": [
           {
            "colorbar": {
             "outlinewidth": 0,
             "ticks": ""
            },
            "type": "choropleth"
           }
          ],
          "contour": [
           {
            "colorbar": {
             "outlinewidth": 0,
             "ticks": ""
            },
            "colorscale": [
             [
              0,
              "#0d0887"
             ],
             [
              0.1111111111111111,
              "#46039f"
             ],
             [
              0.2222222222222222,
              "#7201a8"
             ],
             [
              0.3333333333333333,
              "#9c179e"
             ],
             [
              0.4444444444444444,
              "#bd3786"
             ],
             [
              0.5555555555555556,
              "#d8576b"
             ],
             [
              0.6666666666666666,
              "#ed7953"
             ],
             [
              0.7777777777777778,
              "#fb9f3a"
             ],
             [
              0.8888888888888888,
              "#fdca26"
             ],
             [
              1,
              "#f0f921"
             ]
            ],
            "type": "contour"
           }
          ],
          "contourcarpet": [
           {
            "colorbar": {
             "outlinewidth": 0,
             "ticks": ""
            },
            "type": "contourcarpet"
           }
          ],
          "heatmap": [
           {
            "colorbar": {
             "outlinewidth": 0,
             "ticks": ""
            },
            "colorscale": [
             [
              0,
              "#0d0887"
             ],
             [
              0.1111111111111111,
              "#46039f"
             ],
             [
              0.2222222222222222,
              "#7201a8"
             ],
             [
              0.3333333333333333,
              "#9c179e"
             ],
             [
              0.4444444444444444,
              "#bd3786"
             ],
             [
              0.5555555555555556,
              "#d8576b"
             ],
             [
              0.6666666666666666,
              "#ed7953"
             ],
             [
              0.7777777777777778,
              "#fb9f3a"
             ],
             [
              0.8888888888888888,
              "#fdca26"
             ],
             [
              1,
              "#f0f921"
             ]
            ],
            "type": "heatmap"
           }
          ],
          "histogram": [
           {
            "marker": {
             "pattern": {
              "fillmode": "overlay",
              "size": 10,
              "solidity": 0.2
             }
            },
            "type": "histogram"
           }
          ],
          "histogram2d": [
           {
            "colorbar": {
             "outlinewidth": 0,
             "ticks": ""
            },
            "colorscale": [
             [
              0,
              "#0d0887"
             ],
             [
              0.1111111111111111,
              "#46039f"
             ],
             [
              0.2222222222222222,
              "#7201a8"
             ],
             [
              0.3333333333333333,
              "#9c179e"
             ],
             [
              0.4444444444444444,
              "#bd3786"
             ],
             [
              0.5555555555555556,
              "#d8576b"
             ],
             [
              0.6666666666666666,
              "#ed7953"
             ],
             [
              0.7777777777777778,
              "#fb9f3a"
             ],
             [
              0.8888888888888888,
              "#fdca26"
             ],
             [
              1,
              "#f0f921"
             ]
            ],
            "type": "histogram2d"
           }
          ],
          "histogram2dcontour": [
           {
            "colorbar": {
             "outlinewidth": 0,
             "ticks": ""
            },
            "colorscale": [
             [
              0,
              "#0d0887"
             ],
             [
              0.1111111111111111,
              "#46039f"
             ],
             [
              0.2222222222222222,
              "#7201a8"
             ],
             [
              0.3333333333333333,
              "#9c179e"
             ],
             [
              0.4444444444444444,
              "#bd3786"
             ],
             [
              0.5555555555555556,
              "#d8576b"
             ],
             [
              0.6666666666666666,
              "#ed7953"
             ],
             [
              0.7777777777777778,
              "#fb9f3a"
             ],
             [
              0.8888888888888888,
              "#fdca26"
             ],
             [
              1,
              "#f0f921"
             ]
            ],
            "type": "histogram2dcontour"
           }
          ],
          "mesh3d": [
           {
            "colorbar": {
             "outlinewidth": 0,
             "ticks": ""
            },
            "type": "mesh3d"
           }
          ],
          "parcoords": [
           {
            "line": {
             "colorbar": {
              "outlinewidth": 0,
              "ticks": ""
             }
            },
            "type": "parcoords"
           }
          ],
          "pie": [
           {
            "automargin": true,
            "type": "pie"
           }
          ],
          "scatter": [
           {
            "fillpattern": {
             "fillmode": "overlay",
             "size": 10,
             "solidity": 0.2
            },
            "type": "scatter"
           }
          ],
          "scatter3d": [
           {
            "line": {
             "colorbar": {
              "outlinewidth": 0,
              "ticks": ""
             }
            },
            "marker": {
             "colorbar": {
              "outlinewidth": 0,
              "ticks": ""
             }
            },
            "type": "scatter3d"
           }
          ],
          "scattercarpet": [
           {
            "marker": {
             "colorbar": {
              "outlinewidth": 0,
              "ticks": ""
             }
            },
            "type": "scattercarpet"
           }
          ],
          "scattergeo": [
           {
            "marker": {
             "colorbar": {
              "outlinewidth": 0,
              "ticks": ""
             }
            },
            "type": "scattergeo"
           }
          ],
          "scattergl": [
           {
            "marker": {
             "colorbar": {
              "outlinewidth": 0,
              "ticks": ""
             }
            },
            "type": "scattergl"
           }
          ],
          "scattermap": [
           {
            "marker": {
             "colorbar": {
              "outlinewidth": 0,
              "ticks": ""
             }
            },
            "type": "scattermap"
           }
          ],
          "scattermapbox": [
           {
            "marker": {
             "colorbar": {
              "outlinewidth": 0,
              "ticks": ""
             }
            },
            "type": "scattermapbox"
           }
          ],
          "scatterpolar": [
           {
            "marker": {
             "colorbar": {
              "outlinewidth": 0,
              "ticks": ""
             }
            },
            "type": "scatterpolar"
           }
          ],
          "scatterpolargl": [
           {
            "marker": {
             "colorbar": {
              "outlinewidth": 0,
              "ticks": ""
             }
            },
            "type": "scatterpolargl"
           }
          ],
          "scatterternary": [
           {
            "marker": {
             "colorbar": {
              "outlinewidth": 0,
              "ticks": ""
             }
            },
            "type": "scatterternary"
           }
          ],
          "surface": [
           {
            "colorbar": {
             "outlinewidth": 0,
             "ticks": ""
            },
            "colorscale": [
             [
              0,
              "#0d0887"
             ],
             [
              0.1111111111111111,
              "#46039f"
             ],
             [
              0.2222222222222222,
              "#7201a8"
             ],
             [
              0.3333333333333333,
              "#9c179e"
             ],
             [
              0.4444444444444444,
              "#bd3786"
             ],
             [
              0.5555555555555556,
              "#d8576b"
             ],
             [
              0.6666666666666666,
              "#ed7953"
             ],
             [
              0.7777777777777778,
              "#fb9f3a"
             ],
             [
              0.8888888888888888,
              "#fdca26"
             ],
             [
              1,
              "#f0f921"
             ]
            ],
            "type": "surface"
           }
          ],
          "table": [
           {
            "cells": {
             "fill": {
              "color": "#EBF0F8"
             },
             "line": {
              "color": "white"
             }
            },
            "header": {
             "fill": {
              "color": "#C8D4E3"
             },
             "line": {
              "color": "white"
             }
            },
            "type": "table"
           }
          ]
         },
         "layout": {
          "annotationdefaults": {
           "arrowcolor": "#2a3f5f",
           "arrowhead": 0,
           "arrowwidth": 1
          },
          "autotypenumbers": "strict",
          "coloraxis": {
           "colorbar": {
            "outlinewidth": 0,
            "ticks": ""
           }
          },
          "colorscale": {
           "diverging": [
            [
             0,
             "#8e0152"
            ],
            [
             0.1,
             "#c51b7d"
            ],
            [
             0.2,
             "#de77ae"
            ],
            [
             0.3,
             "#f1b6da"
            ],
            [
             0.4,
             "#fde0ef"
            ],
            [
             0.5,
             "#f7f7f7"
            ],
            [
             0.6,
             "#e6f5d0"
            ],
            [
             0.7,
             "#b8e186"
            ],
            [
             0.8,
             "#7fbc41"
            ],
            [
             0.9,
             "#4d9221"
            ],
            [
             1,
             "#276419"
            ]
           ],
           "sequential": [
            [
             0,
             "#0d0887"
            ],
            [
             0.1111111111111111,
             "#46039f"
            ],
            [
             0.2222222222222222,
             "#7201a8"
            ],
            [
             0.3333333333333333,
             "#9c179e"
            ],
            [
             0.4444444444444444,
             "#bd3786"
            ],
            [
             0.5555555555555556,
             "#d8576b"
            ],
            [
             0.6666666666666666,
             "#ed7953"
            ],
            [
             0.7777777777777778,
             "#fb9f3a"
            ],
            [
             0.8888888888888888,
             "#fdca26"
            ],
            [
             1,
             "#f0f921"
            ]
           ],
           "sequentialminus": [
            [
             0,
             "#0d0887"
            ],
            [
             0.1111111111111111,
             "#46039f"
            ],
            [
             0.2222222222222222,
             "#7201a8"
            ],
            [
             0.3333333333333333,
             "#9c179e"
            ],
            [
             0.4444444444444444,
             "#bd3786"
            ],
            [
             0.5555555555555556,
             "#d8576b"
            ],
            [
             0.6666666666666666,
             "#ed7953"
            ],
            [
             0.7777777777777778,
             "#fb9f3a"
            ],
            [
             0.8888888888888888,
             "#fdca26"
            ],
            [
             1,
             "#f0f921"
            ]
           ]
          },
          "colorway": [
           "#636efa",
           "#EF553B",
           "#00cc96",
           "#ab63fa",
           "#FFA15A",
           "#19d3f3",
           "#FF6692",
           "#B6E880",
           "#FF97FF",
           "#FECB52"
          ],
          "font": {
           "color": "#2a3f5f"
          },
          "geo": {
           "bgcolor": "white",
           "lakecolor": "white",
           "landcolor": "white",
           "showlakes": true,
           "showland": true,
           "subunitcolor": "#C8D4E3"
          },
          "hoverlabel": {
           "align": "left"
          },
          "hovermode": "closest",
          "mapbox": {
           "style": "light"
          },
          "paper_bgcolor": "white",
          "plot_bgcolor": "white",
          "polar": {
           "angularaxis": {
            "gridcolor": "#EBF0F8",
            "linecolor": "#EBF0F8",
            "ticks": ""
           },
           "bgcolor": "white",
           "radialaxis": {
            "gridcolor": "#EBF0F8",
            "linecolor": "#EBF0F8",
            "ticks": ""
           }
          },
          "scene": {
           "xaxis": {
            "backgroundcolor": "white",
            "gridcolor": "#DFE8F3",
            "gridwidth": 2,
            "linecolor": "#EBF0F8",
            "showbackground": true,
            "ticks": "",
            "zerolinecolor": "#EBF0F8"
           },
           "yaxis": {
            "backgroundcolor": "white",
            "gridcolor": "#DFE8F3",
            "gridwidth": 2,
            "linecolor": "#EBF0F8",
            "showbackground": true,
            "ticks": "",
            "zerolinecolor": "#EBF0F8"
           },
           "zaxis": {
            "backgroundcolor": "white",
            "gridcolor": "#DFE8F3",
            "gridwidth": 2,
            "linecolor": "#EBF0F8",
            "showbackground": true,
            "ticks": "",
            "zerolinecolor": "#EBF0F8"
           }
          },
          "shapedefaults": {
           "line": {
            "color": "#2a3f5f"
           }
          },
          "ternary": {
           "aaxis": {
            "gridcolor": "#DFE8F3",
            "linecolor": "#A2B1C6",
            "ticks": ""
           },
           "baxis": {
            "gridcolor": "#DFE8F3",
            "linecolor": "#A2B1C6",
            "ticks": ""
           },
           "bgcolor": "white",
           "caxis": {
            "gridcolor": "#DFE8F3",
            "linecolor": "#A2B1C6",
            "ticks": ""
           }
          },
          "title": {
           "x": 0.05
          },
          "xaxis": {
           "automargin": true,
           "gridcolor": "#EBF0F8",
           "linecolor": "#EBF0F8",
           "ticks": "",
           "title": {
            "standoff": 15
           },
           "zerolinecolor": "#EBF0F8",
           "zerolinewidth": 2
          },
          "yaxis": {
           "automargin": true,
           "gridcolor": "#EBF0F8",
           "linecolor": "#EBF0F8",
           "ticks": "",
           "title": {
            "standoff": 15
           },
           "zerolinecolor": "#EBF0F8",
           "zerolinewidth": 2
          }
         }
        },
        "title": {
         "text": "Performance across Sectors for the combined filter using quintiles"
        },
        "width": 1000,
        "xaxis": {
         "anchor": "y",
         "domain": [
          0,
          1
         ],
         "title": {
          "text": "Sectors"
         }
        },
        "yaxis": {
         "anchor": "x",
         "domain": [
          0,
          1
         ],
         "title": {
          "text": "Returns"
         }
        }
       }
      }
     },
     "metadata": {},
     "output_type": "display_data"
    }
   ],
   "source": [
    "def plot_results_across(df, across_dates = None, across_sectors = None, on = \"\"):\n",
    "\n",
    "    across_x = sectors if across_sectors else df.xs(slice(None), level = \"sector\").index.unique()\n",
    "    across_y = across_sectors if across_sectors else across_dates\n",
    "    subtitle = \"Sectors\" if across_sectors else \"Dates\"\n",
    "    title = f\"Performance across {subtitle} for the {on} using quintiles\"\n",
    "     \n",
    "    fig = px.bar(x = across_x, y = across_y)\n",
    "\n",
    "    fig.update_layout(\n",
    "        title = title,\n",
    "        xaxis_title = subtitle,\n",
    "        yaxis_title = \"Returns\",\n",
    "        template = \"plotly_white\",\n",
    "        font = dict(size = 18),\n",
    "        height = 800,\n",
    "        width = 1000)\n",
    "\n",
    "    fig.show()\n",
    "    \n",
    "plot_results_across(df_m_only, across_dates = dates_m_score_results, on = \"m-score\")\n",
    "plot_results_across(df_m_only, across_sectors = sectors_m_score_results, on = \"m-score\")\n",
    "plot_results_across(df_z_only, across_dates = dates_z_score_results, on = \"z-score\")\n",
    "plot_results_across(df_z_only, across_sectors = sectors_z_score_results, on = \"z-score\")\n",
    "plot_results_across(df_mix_only, across_dates = dates_mix_score_results, on = \"combined filter\")\n",
    "plot_results_across(df_mix_only, across_sectors = sectors_mix_score_results, on = \"combined filter\")"
   ]
  },
  {
   "cell_type": "markdown",
   "metadata": {},
   "source": [
    "The results vary a lot across sectors and across years however our new filter performed slightly better than the previous combined filter. Nevertheless, the individual filters still perform much better."
   ]
  },
  {
   "cell_type": "code",
   "execution_count": 50,
   "metadata": {},
   "outputs": [
    {
     "name": "stdout",
     "output_type": "stream",
     "text": [
      "The average yearly result of the m-score is 37 BPS\n",
      "The average yearly result of the z-score is 283 BPS\n",
      "The average yearly result of the combined filter is 204 BPS\n"
     ]
    }
   ],
   "source": [
    "print(f\"The average yearly result of the m-score is {round(100*df_m_only['results'].mean())} BPS\")\n",
    "print(f\"The average yearly result of the z-score is {round(100*df_z_only['results'].mean())} BPS\")\n",
    "print(f\"The average yearly result of the combined filter is {round(100*df_mix_only['results'].mean())} BPS\")"
   ]
  },
  {
   "cell_type": "markdown",
   "metadata": {},
   "source": [
    "Using this new screening method, the results obtained are an average of 3.6 stocks for each sector for long screening as well as for short screening. Nevertheless, the companies in the long screening outperformed the companies in the short screening by 308 BPS more each year. Although, the filter is wrose than the previously defined screening method.\n",
    "\n",
    "However, when we filter the stocks based on the quintiles for the m-score and the z-score alone, the results obtained are 24 and 1866 BPS more each year respectively.\n",
    "\n",
    "The results across sectors using the new defined filter show that for the financial sector, which is most of the time excluded for studies based on the m-score and the z-score, the obtained results are over 500 BPS more return yearly for those banks fulfilling the criteria of the quintiles.\n",
    "\n",
    "It is important to note, that the z-score was originally created for manufacturing companies. Altman later created a modified version of the z-score for companies that are not manufacturing and for emerging markets. However, the m-score obtained a much more stable performance across the years and across the sectors, only having a negative performance for the financial and the health care sector. This result is more consistent with part of the literature reviewed which excluded the financial sector to test the Beneish model, due to the differences on the financial ratios and the items off balance. "
   ]
  },
  {
   "cell_type": "markdown",
   "metadata": {},
   "source": [
    "### Closing the Session"
   ]
  },
  {
   "cell_type": "code",
   "execution_count": 51,
   "metadata": {},
   "outputs": [],
   "source": [
    "ld.close_session()"
   ]
  },
  {
   "cell_type": "markdown",
   "metadata": {},
   "source": [
    "## 4. Conclusions\n",
    "The analysis performed for the constituents of the S&P500 from 1995 to 2020 exhibits positive results for both the m-score and the z-score as screening methods for the companies analyses. The combined model using the original cut-offs produces very few companies in the short screening. However, these companies are blue chips whose market capitalization is enormous, and their financial statements are constantly reviewed, thus it is not expected that many of them would be considered manipulators employing well knowns models such as the Beneish’s m-score. Still, both models are capable of selecting better performing stocks in the S&P500.\n",
    "\n",
    "By screening the companies based on their relative m-score and z-score across sectors, the results of the screening method still perform well, producing better returns in the long screening than in the short screening. However, these results are worse than using the original numbers suggested by the authors for their models. It could be useful to add a measure of performance, instead of only looking at the probability of earnings manipulation and the probability of bankruptcy. Therefor, the companies could be filtered using a screening method and then ranked based on the performance. Nevertheless, this method could be more useful for companies in the long screening of the m-score model, as those in the short screening are more likely to have manipulated their earning and thus their reported performance would not be comparable across other companies.\n",
    "\n",
    "Finally, the usefulness of the m-score and the z-score for investors are still relevant and they have produced positive results even years after their publication. Still, it is crucial to remember that this analysis made some assumptions explained in 3 Model definition, data and analysis. \n",
    "\n",
    "### Future lines of work \n",
    "\n",
    "The imbalanced number of stocks after the screening method using the original cut-offs for the constituents of the S&P500 could be further expanded to smaller companies which might result in a more balanced dataset. \n",
    "\n",
    "Moreover, the financial statements could be adjusted to improve comparability across companies, given the flexibility of accounting choices. In addition, when comparing companies reporting under different standards such as the IFRS and the US GAAP there are multiple differences that could be taken into consideration before computing the z-score and the m-score.\n",
    "\n",
    "Another approach for detecting financial fraud was carried out with support vector machines and ensemble methods for US companies from 1991 to 2005 obtaining better performance than the Beneish model, using 24 raw financial variables instead of ratios (Li et al., 2015). This result is very promising, and the use of machine learning could be implemented to carry out the analysis as a method for screening stocks. However, more data would be needed as the dataset for that study contained more than 100.000 data points for different firms.\n",
    "\n",
    "Finally, previous financial statements could be employed to carry out the analysis, the m-score included the previous year financial statements, nevertheless another approach for screening could include previous m-scores in the calculation or even a feature containing the historical highest probability of earnings manipulation of a company. \n"
   ]
  },
  {
   "cell_type": "markdown",
   "metadata": {},
   "source": [
    "### Bibliography \n",
    "\n",
    "- Adu-Gyamfi, M., 2020. Investigating Financial Statement Fraud in Ghana using Beneish M-Score: A Case of Listed Companies on the Ghana Stock Exchange (GSE). [SSRN Scholarly Paper] Rochester, NY: Social Science Research Network. Available at: <https://papers.ssrn.com/abstract=3627689> [Accessed 31 Dec. 2020].\n",
    "\n",
    "- Akra, R.M. and Chaya, J.K., 2020. Testing the Effectiveness of Altman and Beneish Models in Detecting Financial Fraud and Financial Manipulation: Case Study Kuwaiti Stock. International Journal of Business and Management, 15(10), p.70.\n",
    "Alfian, F. and Triani, N.N.A., 2018. FRAUDULENT FINANCIAL REPORTING DETECTION USING BENEISH M-SCORE MODEL IN PUBLIC COMPANIES IN 2012-2016. p.16.\n",
    "\n",
    "- Altman, E.I., 1968. FINANCIAL RATIOS, DISCRIMINANT ANALYSIS AND THE PREDICTION OF CORPORATE BANKRUPTCY. The Journal of Finance, 23(4), pp.589–609.\n",
    "\n",
    "- Anning, A.A. and Adusei, M., 2020. An Analysis of Financial Statement Manipulation among Listed Manufacturing and Trading Firms in Ghana. Journal of African Business, 0(0), pp.1–15.\n",
    "Beneish, M.D., Lee, C., Press, E., Whaley, B., Zmijewski, M. and Cisilino, P., 1999. The detection of earnings manipulation. Financial Analysts’ Journal, pp.24–36.\n",
    "\n",
    "- Dreyer CFA, C., 2020. The End of Accounting? Sustaining Financial Reporting. [online] CFA Institute Enterprising Investor. Available at: <https://blogs.cfainstitute.org/investor/2020/12/30/the-end-of-accounting-sustaining-financial-reporting/> [Accessed 1 Jan. 2021].\n",
    "\n",
    "- Hakami, T., Rahmat, M.M., Yaacob, M.H. and Saleh, N.M., 2020. Fraud Detection Gap between Auditor and Fraud Detection Models: Evidence from Gulf Cooperation Council. Asian Journal of Accounting and Governance, 13(0), pp.1–13.\n",
    "\n",
    "- Hołda, A., 2020. Using the Beneish M-score model: Evidence from non-financial companies listed on the Warsaw Stock Exchange. Investment Management and Financial Innovations, 17(4), pp.389–401.\n",
    "\n",
    "- Kamal, M.E.M., Salleh, M.F.M. and Ahmad, A., 2016. Detecting Financial Statement Fraud by Malaysian Public Listed Companies: The Reliability of the Beneish M-Score Model. Jurnal Pengurusan (UKM Journal of Management), [online] 46(0). Available at: <https://ejournal.ukm.my/pengurusan/article/view/8601> [Accessed 31 Dec. 2020].\n",
    "\n",
    "- Li, B., Yu, J., Zhang, J. and Ke, B., 2015. Detecting Accounting Frauds in Publicly Traded U.S. Firms: A Machine Learning Approach. p.16.\n",
    "\n",
    "- Mihalcea, M.-M., 2020. Detecting the Risk of Manipulation of Financial Statements for Companies on the Bucharest Stock Exchange Applying the Beneish Model. LUMEN Proceedings, 13, pp.182–193.\n",
    "\n",
    "- Özcan, A., 2018. The Use of Beneish Model in Forensic Accounting: Evidence from Turkey. p.11.\n",
    "\n",
    "- Papa CFA, V.P.P., CPA, FSA, 2018. The End of Accounting? Not So Sure. [online] CFA Institute Market Integrity Insights. Available at: <https://blogs.cfainstitute.org/marketintegrity/2018/02/01/the-end-of-accounting-not-so-sure/> [Accessed 1 Jan. 2021].\n",
    "\n",
    "- Taherinia, M. and Talebi, R., 2019. ABILITY OF FRAUD TRIANGLE, FRAUD DIAMOND, BENEISH M SCORE, AND ALTMAN Z SCORE TO PREDICT FINANCIAL STATEMENTS FRAUD. p.14."
   ]
  },
  {
   "cell_type": "code",
   "execution_count": null,
   "metadata": {},
   "outputs": [],
   "source": []
  }
 ],
 "metadata": {
  "kernelspec": {
   "display_name": "Python 3 (ipykernel)",
   "language": "python",
   "name": "python3"
  },
  "language_info": {
   "codemirror_mode": {
    "name": "ipython",
    "version": 3
   },
   "file_extension": ".py",
   "mimetype": "text/x-python",
   "name": "python",
   "nbconvert_exporter": "python",
   "pygments_lexer": "ipython3",
   "version": "3.11.5"
  }
 },
 "nbformat": 4,
 "nbformat_minor": 4
}
